{
 "cells": [
  {
   "cell_type": "code",
   "execution_count": 59,
   "metadata": {},
   "outputs": [],
   "source": [
    "def Create_Matrix_element(rows,cols):\n",
    "    New_Matrix = []\n",
    "    for row in range(rows):\n",
    "        new_row = []\n",
    "        for col in range(cols):\n",
    "            col = int(input(f\"{row} and {col}\"))\n",
    "            new_row.append(col)\n",
    "        New_Matrix.append(new_row)\n",
    "    return New_Matrix"
   ]
  },
  {
   "cell_type": "code",
   "execution_count": 60,
   "metadata": {},
   "outputs": [],
   "source": [
    "root = Create_Matrix_element(4,4)"
   ]
  },
  {
   "cell_type": "code",
   "execution_count": 69,
   "metadata": {},
   "outputs": [],
   "source": [
    "def Traverser_row_Matrix(root):\n",
    "    rows = len(root)\n",
    "    cols = len(root[0])\n",
    "    Result = []\n",
    "    for row in range(rows):\n",
    "        for col in range(cols):\n",
    "            Result.append(root[row][col])\n",
    "    return Result"
   ]
  },
  {
   "cell_type": "code",
   "execution_count": 70,
   "metadata": {},
   "outputs": [
    {
     "data": {
      "text/plain": [
       "[1, 2, 3, 4, 5, 6, 7, 8, 9, 10, 11, 12, 13, 14, 15, 16]"
      ]
     },
     "execution_count": 70,
     "metadata": {},
     "output_type": "execute_result"
    }
   ],
   "source": [
    "Traverser_row_Matrix(root)"
   ]
  },
  {
   "cell_type": "code",
   "execution_count": 71,
   "metadata": {},
   "outputs": [],
   "source": [
    "def Traverser_col_Matrix(root):\n",
    "    rows = len(root)\n",
    "    cols = len(root[0])\n",
    "    Result = []\n",
    "    for col in range(cols):\n",
    "        for row in range(rows):\n",
    "            Result.append(root[row][col])\n",
    "    return Result"
   ]
  },
  {
   "cell_type": "code",
   "execution_count": 72,
   "metadata": {},
   "outputs": [
    {
     "data": {
      "text/plain": [
       "[1, 5, 9, 13, 2, 6, 10, 14, 3, 7, 11, 15, 4, 8, 12, 16]"
      ]
     },
     "execution_count": 72,
     "metadata": {},
     "output_type": "execute_result"
    }
   ],
   "source": [
    "Traverser_col_Matrix(root)"
   ]
  },
  {
   "cell_type": "code",
   "execution_count": 73,
   "metadata": {},
   "outputs": [],
   "source": [
    "def Brute_for_search(root,Target):\n",
    "    rows = len(root)\n",
    "    cols = len(root[0])\n",
    "    for row in range(rows):\n",
    "        for col in range(cols):\n",
    "            if root[row][col] == Target:\n",
    "                return True\n",
    "    return False"
   ]
  },
  {
   "cell_type": "code",
   "execution_count": 75,
   "metadata": {},
   "outputs": [
    {
     "data": {
      "text/plain": [
       "True"
      ]
     },
     "execution_count": 75,
     "metadata": {},
     "output_type": "execute_result"
    }
   ],
   "source": [
    "Brute_for_search(root,15)"
   ]
  },
  {
   "cell_type": "code",
   "execution_count": 79,
   "metadata": {},
   "outputs": [],
   "source": [
    "def Binary_search_Matrix(root,Target):\n",
    "    rows = len(root)\n",
    "    cols = len(root[0])\n",
    "    Left,right = 0,rows * cols -1\n",
    "    while Left <= right:\n",
    "        mid = (Left + right) // 2\n",
    "        mid_point = root[mid // cols][mid % cols]\n",
    "        if mid_point == Target:\n",
    "            return True\n",
    "        elif mid_point < Target:\n",
    "            Left = mid + 1\n",
    "        else:\n",
    "            right = mid - 1\n",
    "    return False\n",
    "    "
   ]
  },
  {
   "cell_type": "code",
   "execution_count": 82,
   "metadata": {},
   "outputs": [
    {
     "data": {
      "text/plain": [
       "False"
      ]
     },
     "execution_count": 82,
     "metadata": {},
     "output_type": "execute_result"
    }
   ],
   "source": [
    "Binary_search_Matrix(root,18)"
   ]
  },
  {
   "cell_type": "code",
   "execution_count": 87,
   "metadata": {},
   "outputs": [],
   "source": [
    "def Rotate_Matrix_by_180_degree(root):\n",
    "    rows = len(root)\n",
    "    cols = len(root[0])\n",
    "    Result = [[0] * cols for _ in range(rows)]\n",
    "    for row in range(rows):\n",
    "        for col in range(cols):\n",
    "            Result[cols-col-1][rows-row-1] = root[col][row]\n",
    "    return Result"
   ]
  },
  {
   "cell_type": "code",
   "execution_count": 88,
   "metadata": {},
   "outputs": [
    {
     "data": {
      "text/plain": [
       "[[16, 15, 14, 13], [12, 11, 10, 9], [8, 7, 6, 5], [4, 3, 2, 1]]"
      ]
     },
     "execution_count": 88,
     "metadata": {},
     "output_type": "execute_result"
    }
   ],
   "source": [
    "Rotate_Matrix_by_180_degree(root)"
   ]
  },
  {
   "cell_type": "code",
   "execution_count": 105,
   "metadata": {},
   "outputs": [],
   "source": [
    "matrix = [\n",
    "    [1, 2, 3],\n",
    "    [4, 0, 6],\n",
    "    [7, 8, 9]\n",
    "]"
   ]
  },
  {
   "cell_type": "code",
   "execution_count": 111,
   "metadata": {},
   "outputs": [],
   "source": [
    "def Set_Matrix_Zeroes(root):\n",
    "    rows = len(root)\n",
    "    cols = len(root[0])\n",
    "    zero_rows ,zero_cols = set(),set()\n",
    "    for row in range(rows):\n",
    "        for col in range(cols):\n",
    "            if root[row][col] == 0:\n",
    "                zero_rows.add(row)\n",
    "                zero_cols.add(col)\n",
    "    \n",
    "    for i in zero_rows:\n",
    "        for j in range(cols):\n",
    "            root[i][j] = 0\n",
    "    \n",
    "    for j in zero_cols:\n",
    "        for i in range(rows):\n",
    "            root[i][j] = 0\n"
   ]
  },
  {
   "cell_type": "code",
   "execution_count": 114,
   "metadata": {},
   "outputs": [],
   "source": [
    "Set_Matrix_Zeroes(matrix)"
   ]
  },
  {
   "cell_type": "code",
   "execution_count": 116,
   "metadata": {},
   "outputs": [],
   "source": [
    "matrix = [\n",
    "    [1, 0, 0, 1],\n",
    "    [0, 1, 0, 0],\n",
    "    [1, 0, 0, 1],\n",
    "    [0, 1, 0, 0],\n",
    "    [1, 0, 0, 1]\n",
    "]"
   ]
  },
  {
   "cell_type": "code",
   "execution_count": 117,
   "metadata": {},
   "outputs": [],
   "source": [
    "def Remove_Duplicate_value_Matrix(root):\n",
    "    Duplicate_matrix = []\n",
    "    Store_set = set()\n",
    "    for row in root:\n",
    "        row_str = \"\".join(map(str,row))\n",
    "        if row_str in Store_set:\n",
    "            Duplicate_matrix.append(row)\n",
    "        else:\n",
    "            Store_set.add(row_str)\n",
    "    return Duplicate_matrix"
   ]
  },
  {
   "cell_type": "code",
   "execution_count": 118,
   "metadata": {},
   "outputs": [
    {
     "data": {
      "text/plain": [
       "[[1, 0, 0, 1], [0, 1, 0, 0], [1, 0, 0, 1]]"
      ]
     },
     "execution_count": 118,
     "metadata": {},
     "output_type": "execute_result"
    }
   ],
   "source": [
    "Remove_Duplicate_value_Matrix(matrix)"
   ]
  },
  {
   "cell_type": "code",
   "execution_count": 131,
   "metadata": {},
   "outputs": [],
   "source": [
    "def rotation_by_90_degrees_anticlockwise(root):\n",
    "    rows = len(root)\n",
    "    cols = len(root[0])\n",
    "    Result = [[0] * cols for _ in range(rows)]\n",
    "    for row in range(rows):\n",
    "        for col in range(cols):\n",
    "            Result[col][row] = root[row][col]\n",
    "    for row in range(rows):\n",
    "        for col in range(cols):\n",
    "            Result[cols-col-1][rows-row-1] = root[row][col]\n",
    "    return Result"
   ]
  },
  {
   "cell_type": "code",
   "execution_count": 132,
   "metadata": {},
   "outputs": [
    {
     "data": {
      "text/plain": [
       "[[16, 12, 8, 4], [15, 11, 7, 3], [14, 10, 6, 2], [13, 9, 5, 1]]"
      ]
     },
     "execution_count": 132,
     "metadata": {},
     "output_type": "execute_result"
    }
   ],
   "source": [
    "rotation_by_90_degrees_anticlockwise(root)"
   ]
  },
  {
   "cell_type": "code",
   "execution_count": 139,
   "metadata": {},
   "outputs": [],
   "source": [
    "def rotation_by_90_degrees_clockwise(root):\n",
    "    rows = len(root)\n",
    "    cols = len(root[0])\n",
    "    Result = [[0] * cols for _ in range(rows)]\n",
    "    for row in range(rows):\n",
    "        for col in range(cols):\n",
    "            Result[col][row] = root[row][col]\n",
    "    \n",
    "    for col in range(cols):\n",
    "        Result[col].reverse()\n",
    "    return Result"
   ]
  },
  {
   "cell_type": "code",
   "execution_count": 140,
   "metadata": {},
   "outputs": [
    {
     "data": {
      "text/plain": [
       "[[13, 9, 5, 1], [14, 10, 6, 2], [15, 11, 7, 3], [16, 12, 8, 4]]"
      ]
     },
     "execution_count": 140,
     "metadata": {},
     "output_type": "execute_result"
    }
   ],
   "source": [
    "rotation_by_90_degrees_clockwise(root)"
   ]
  },
  {
   "cell_type": "code",
   "execution_count": 147,
   "metadata": {},
   "outputs": [],
   "source": [
    "def Print_a_matrix_in_alternate_manner(root):\n",
    "    for i ,row in enumerate(root):\n",
    "        if i % 2 == 0:\n",
    "            print(\"\".join(map(str,row)))\n",
    "        else:\n",
    "            print(\"\".join(map(str,reversed(row))))\n",
    "\n"
   ]
  },
  {
   "cell_type": "code",
   "execution_count": 148,
   "metadata": {},
   "outputs": [
    {
     "name": "stdout",
     "output_type": "stream",
     "text": [
      "1234\n",
      "8765\n",
      "9101112\n",
      "16151413\n"
     ]
    }
   ],
   "source": [
    "Print_a_matrix_in_alternate_manner(root)"
   ]
  },
  {
   "cell_type": "code",
   "execution_count": 151,
   "metadata": {},
   "outputs": [],
   "source": [
    "def zigZag_Traverse_Matrix(root):\n",
    "    rows = len(root)\n",
    "    cols = len(root[0])\n",
    "    Result = []\n",
    "    for row in range(rows):\n",
    "        if row % 2 == 0:\n",
    "            for col in range(cols):\n",
    "                Result.append(root[row][col])\n",
    "        else:\n",
    "            for col in range(cols-1,-1,-1):\n",
    "                Result.append(root[row][col])\n",
    "    return Result\n"
   ]
  },
  {
   "cell_type": "code",
   "execution_count": 152,
   "metadata": {},
   "outputs": [
    {
     "data": {
      "text/plain": [
       "[1, 2, 3, 4, 8, 7, 6, 5, 9, 10, 11, 12, 16, 15, 14, 13]"
      ]
     },
     "execution_count": 152,
     "metadata": {},
     "output_type": "execute_result"
    }
   ],
   "source": [
    "zigZag_Traverse_Matrix(root)"
   ]
  },
  {
   "cell_type": "code",
   "execution_count": 157,
   "metadata": {},
   "outputs": [],
   "source": [
    "def copy_upper_to_lower(root):\n",
    "    rows = len(root)\n",
    "    cols = len(root[0])\n",
    "    Result = [[0]*cols for _ in range(rows)]\n",
    "    for row in range(rows):\n",
    "        for col in range(row + 1,rows):\n",
    "            Result[row][col] = root[col][row]\n",
    "    return Result\n"
   ]
  },
  {
   "cell_type": "code",
   "execution_count": 158,
   "metadata": {},
   "outputs": [
    {
     "data": {
      "text/plain": [
       "[[0, 5, 9, 13], [0, 0, 10, 14], [0, 0, 0, 15], [0, 0, 0, 0]]"
      ]
     },
     "execution_count": 158,
     "metadata": {},
     "output_type": "execute_result"
    }
   ],
   "source": [
    "copy_upper_to_lower(root)"
   ]
  },
  {
   "cell_type": "code",
   "execution_count": 3,
   "metadata": {},
   "outputs": [],
   "source": [
    "def Create_Nw_Matrix(rows,cols):\n",
    "    Result = []\n",
    "    for row in range(rows):\n",
    "        new_row = []\n",
    "        for col in range(cols):\n",
    "            col = int(input(f\"{row} and {col}\"))\n",
    "            new_row.append(col)\n",
    "        Result.append(new_row)\n",
    "    return Result"
   ]
  },
  {
   "cell_type": "code",
   "execution_count": 34,
   "metadata": {},
   "outputs": [],
   "source": [
    "root = Create_Nw_Matrix(4,4)"
   ]
  },
  {
   "cell_type": "code",
   "execution_count": 3,
   "metadata": {},
   "outputs": [
    {
     "data": {
      "text/plain": [
       "[[1, 2, 3, 4], [5, 6, 7, 8], [9, 10, 11, 12], [13, 14, 15, 16]]"
      ]
     },
     "execution_count": 3,
     "metadata": {},
     "output_type": "execute_result"
    }
   ],
   "source": [
    "root"
   ]
  },
  {
   "cell_type": "code",
   "execution_count": 56,
   "metadata": {},
   "outputs": [],
   "source": [
    "def Daigonal_Matrix(root):\n",
    "    if not root:\n",
    "        return root\n",
    "    \n",
    "    rows = len(root)\n",
    "    cols = len(root[0])\n",
    "    Result = []\n",
    "    for d in range(rows + cols - 1):\n",
    "        if d % 2 == 0:\n",
    "            row = max(0,d - cols + 1)\n",
    "            col = min(d , cols - 1)\n",
    "            while row < rows and col >= 0:\n",
    "                Result.append(root[row][col])\n",
    "                row += 1\n",
    "                col -= 1\n",
    "        else:\n",
    "            col = max(0,d - rows + 1)\n",
    "            row = min (d , rows - 1)\n",
    "            while col < cols and row >= 0:\n",
    "                Result.append(root[row][col])\n",
    "                col += 1\n",
    "                row -= 1\n",
    "    return Result"
   ]
  },
  {
   "cell_type": "code",
   "execution_count": 57,
   "metadata": {},
   "outputs": [
    {
     "data": {
      "text/plain": [
       "[1, 5, 2, 3, 6, 9, 13, 10, 7, 4, 8, 11, 14, 15, 12, 16]"
      ]
     },
     "execution_count": 57,
     "metadata": {},
     "output_type": "execute_result"
    }
   ],
   "source": [
    "Daigonal_Matrix(root)"
   ]
  },
  {
   "cell_type": "code",
   "execution_count": 66,
   "metadata": {},
   "outputs": [],
   "source": [
    "def Daigonal_Matrix_Traverse(root):\n",
    "    if not root:\n",
    "        return root\n",
    "    rows = len(root)\n",
    "    cols = len(root[0])\n",
    "    Result = []\n",
    "    for d in range(rows + cols - 1):\n",
    "        for i in range(max(0,d - cols + 1) ,min(d , rows - 1) + 1):\n",
    "            j = d - i\n",
    "            if d % 2 == 0:\n",
    "                Result.append(root[i][j])\n",
    "            else:\n",
    "                Result.append(root[j][i])\n",
    "    return Result"
   ]
  },
  {
   "cell_type": "code",
   "execution_count": 67,
   "metadata": {},
   "outputs": [
    {
     "data": {
      "text/plain": [
       "[1, 5, 2, 3, 6, 9, 13, 10, 7, 4, 8, 11, 14, 15, 12, 16]"
      ]
     },
     "execution_count": 67,
     "metadata": {},
     "output_type": "execute_result"
    }
   ],
   "source": [
    "Daigonal_Matrix_Traverse(root)"
   ]
  },
  {
   "cell_type": "code",
   "execution_count": 78,
   "metadata": {},
   "outputs": [],
   "source": [
    "def Primary_secondary_Daigonal(root):\n",
    "    rows = len(root)\n",
    "    cols = len(root[0])\n",
    "    Result = []\n",
    "    for row in range(rows):\n",
    "        for col in range(cols):\n",
    "            if row == col:\n",
    "                Result.append(root[row][col])\n",
    "    for row in range(rows):\n",
    "        for col in range(cols):\n",
    "            if (row + col) == 1:\n",
    "                Result.append(root[row][col])\n",
    "    return Result"
   ]
  },
  {
   "cell_type": "code",
   "execution_count": 79,
   "metadata": {},
   "outputs": [
    {
     "data": {
      "text/plain": [
       "[1, 6, 11, 16, 2, 5]"
      ]
     },
     "execution_count": 79,
     "metadata": {},
     "output_type": "execute_result"
    }
   ],
   "source": [
    "Primary_secondary_Daigonal(root)"
   ]
  },
  {
   "cell_type": "code",
   "execution_count": 114,
   "metadata": {},
   "outputs": [],
   "source": [
    "def Daigonal_Matrix_Traverse1(root):\n",
    "    rows = len(root)\n",
    "    cols = len(root[0])\n",
    "    Result = []\n",
    "    for d in range(rows + cols - 1):\n",
    "        if d % 2 != 0:\n",
    "            row = max(0 , d - cols + 1)\n",
    "            col = min(d , rows - 1)\n",
    "            while row < rows and col >= 0:\n",
    "                Result.append(root[row][col])\n",
    "                row += 1\n",
    "                col -= 1\n",
    "        else:\n",
    "            col = max (0 , d - rows + 1)\n",
    "            row = min (d , rows - 1)\n",
    "            while col < cols and row >= 0:\n",
    "                Result.append(root[row][col])\n",
    "                col += 1\n",
    "                row -= 1\n",
    "                \n",
    "    return Result\n"
   ]
  },
  {
   "cell_type": "code",
   "execution_count": 115,
   "metadata": {},
   "outputs": [
    {
     "data": {
      "text/plain": [
       "[1, 2, 5, 9, 6, 3, 4, 7, 10, 13, 14, 11, 8, 12, 15, 16]"
      ]
     },
     "execution_count": 115,
     "metadata": {},
     "output_type": "execute_result"
    }
   ],
   "source": [
    "Daigonal_Matrix_Traverse1(root)"
   ]
  },
  {
   "cell_type": "code",
   "execution_count": 101,
   "metadata": {},
   "outputs": [],
   "source": [
    "def ZigZag_Traverser_Matrix(root):\n",
    "    rows = len(root)\n",
    "    cols = len(root[0])\n",
    "    Result = []\n",
    "    for row in range(rows):\n",
    "        if row % 2 == 0:\n",
    "            for col in range(cols):\n",
    "                Result.append(root[row][col])\n",
    "        else:\n",
    "            for col in range(cols - 1,-1,-1):\n",
    "                Result.append(root[row][col])\n",
    "    return Result\n"
   ]
  },
  {
   "cell_type": "code",
   "execution_count": 102,
   "metadata": {},
   "outputs": [
    {
     "data": {
      "text/plain": [
       "[1, 2, 3, 4, 8, 7, 6, 5, 9, 10, 11, 12, 16, 15, 14, 13]"
      ]
     },
     "execution_count": 102,
     "metadata": {},
     "output_type": "execute_result"
    }
   ],
   "source": [
    "ZigZag_Traverser_Matrix(root)"
   ]
  },
  {
   "cell_type": "code",
   "execution_count": 133,
   "metadata": {},
   "outputs": [],
   "source": [
    "def Daigonal_Matrix_Traverse2(root):\n",
    "    rows = len(root)\n",
    "    cols = len(root[0])\n",
    "    Result = []\n",
    "    r ,c = 0,0\n",
    "    for _ in range(rows * cols):\n",
    "        Result.append(root[r][c])\n",
    "        if (r + c) % 2 == 0:\n",
    "            if c == cols - 1:\n",
    "                r += 1\n",
    "            elif r == 0:\n",
    "                c += 1\n",
    "            else:\n",
    "                r -= 1\n",
    "                c += 1\n",
    "        else:\n",
    "            if r == rows - 1:\n",
    "                c += 1\n",
    "            elif c == 0:\n",
    "                r += 1\n",
    "            else:\n",
    "                c -= 1\n",
    "                r += 1\n",
    "    return Result"
   ]
  },
  {
   "cell_type": "code",
   "execution_count": 134,
   "metadata": {},
   "outputs": [
    {
     "data": {
      "text/plain": [
       "[1, 2, 5, 9, 6, 3, 4, 7, 10, 13, 14, 11, 8, 12, 15, 16]"
      ]
     },
     "execution_count": 134,
     "metadata": {},
     "output_type": "execute_result"
    }
   ],
   "source": [
    "Daigonal_Matrix_Traverse2(root)"
   ]
  },
  {
   "cell_type": "code",
   "execution_count": 138,
   "metadata": {},
   "outputs": [],
   "source": [
    "def Daigonal_Matrix_Traverse3(root):\n",
    "    rows = len(root)\n",
    "    cols = len(root[0])\n",
    "    Result = []\n",
    "    for d in range(rows + cols - 1):\n",
    "        for i in range(rows):\n",
    "            for j in range(cols):\n",
    "                if i+j == d:\n",
    "                    Result.append(root[i][j])\n",
    "    return Result"
   ]
  },
  {
   "cell_type": "code",
   "execution_count": 139,
   "metadata": {},
   "outputs": [
    {
     "data": {
      "text/plain": [
       "[1, 2, 5, 3, 6, 9, 4, 7, 10, 13, 8, 11, 14, 12, 15, 16]"
      ]
     },
     "execution_count": 139,
     "metadata": {},
     "output_type": "execute_result"
    }
   ],
   "source": [
    "Daigonal_Matrix_Traverse3(root)"
   ]
  },
  {
   "cell_type": "code",
   "execution_count": 142,
   "metadata": {},
   "outputs": [],
   "source": [
    "def antiDaigonal_Traverse_matrix(root):\n",
    "    rows = len(root)\n",
    "    cols = len(root[0])\n",
    "    Result = []\n",
    "    for d in range(rows * 2 -1):\n",
    "        for i in range(rows):\n",
    "            for j in range(cols):\n",
    "                if i + j == d:\n",
    "                    Result.append(root[i][j])\n",
    "    return Result"
   ]
  },
  {
   "cell_type": "code",
   "execution_count": 143,
   "metadata": {},
   "outputs": [
    {
     "data": {
      "text/plain": [
       "[1, 2, 5, 3, 6, 9, 4, 7, 10, 13, 8, 11, 14, 12, 15, 16]"
      ]
     },
     "execution_count": 143,
     "metadata": {},
     "output_type": "execute_result"
    }
   ],
   "source": [
    "antiDaigonal_Traverse_matrix(root)"
   ]
  },
  {
   "cell_type": "code",
   "execution_count": 154,
   "metadata": {},
   "outputs": [],
   "source": [
    "def Multply_Two_Number(root1,root2):\n",
    "    rows = len(root1)\n",
    "    cols = len(root1[0])\n",
    "    Result = [[0 for _ in range(cols)] for _ in range(rows)]\n",
    "    for row in range(rows):\n",
    "        for col in range(cols):\n",
    "            Result[row][col] = root1[row][col] * root2[row][col]\n",
    "    return Result"
   ]
  },
  {
   "cell_type": "code",
   "execution_count": 155,
   "metadata": {},
   "outputs": [],
   "source": [
    "root1 = [\n",
    "    [1,2,3,4],\n",
    "    [5,6,7,8]\n",
    "]\n",
    "root2 = [\n",
    "    [9,10,11,12],\n",
    "    [13,14,15,16]\n",
    "]"
   ]
  },
  {
   "cell_type": "code",
   "execution_count": 156,
   "metadata": {},
   "outputs": [
    {
     "data": {
      "text/plain": [
       "[[9, 20, 33, 48], [65, 84, 105, 128]]"
      ]
     },
     "execution_count": 156,
     "metadata": {},
     "output_type": "execute_result"
    }
   ],
   "source": [
    "Multply_Two_Number(root1,root2)"
   ]
  },
  {
   "cell_type": "code",
   "execution_count": 161,
   "metadata": {},
   "outputs": [],
   "source": [
    "def find_Max_Min_Matrix(root):\n",
    "    maxi = root[0][0]\n",
    "    mini = root[0][0]\n",
    "    rows = len(root)\n",
    "    cols = len(root[0])\n",
    "    for row in range(rows):\n",
    "        for col in range(cols):\n",
    "            if root[row][col] > maxi:\n",
    "                maxi = root[row][col]\n",
    "            elif root[row][col] < mini:\n",
    "                mini = root[row][col]\n",
    "    return maxi"
   ]
  },
  {
   "cell_type": "code",
   "execution_count": 162,
   "metadata": {},
   "outputs": [
    {
     "data": {
      "text/plain": [
       "16"
      ]
     },
     "execution_count": 162,
     "metadata": {},
     "output_type": "execute_result"
    }
   ],
   "source": [
    "find_Max_Min_Matrix(root)"
   ]
  },
  {
   "cell_type": "code",
   "execution_count": 168,
   "metadata": {},
   "outputs": [],
   "source": [
    "def Scalar_Matrix(root):\n",
    "    rows = len(root)\n",
    "    cols = len(root[0])\n",
    "    f = 0\n",
    "    diago = root[0][0]\n",
    "    for row in range(rows):\n",
    "        for col in range(cols):\n",
    "            if row == col and root[row][col] != diago:\n",
    "                f = 1\n",
    "                break\n",
    "            elif row != col and root[row][col] != diago:\n",
    "                f = 1\n",
    "                break\n",
    "    \n",
    "    if f == 0:\n",
    "        print(\"given matrix is scalar\")\n",
    "    else:\n",
    "        print(\"not given matrix\")\n"
   ]
  },
  {
   "cell_type": "code",
   "execution_count": 169,
   "metadata": {},
   "outputs": [],
   "source": [
    "scalar = [\n",
    "    [4,0,0],\n",
    "    [0,4,0],\n",
    "    [0,0,4]\n",
    "]"
   ]
  },
  {
   "cell_type": "code",
   "execution_count": 170,
   "metadata": {},
   "outputs": [
    {
     "name": "stdout",
     "output_type": "stream",
     "text": [
      "not given matrix\n"
     ]
    }
   ],
   "source": [
    "Scalar_Matrix(scalar)"
   ]
  },
  {
   "cell_type": "code",
   "execution_count": 30,
   "metadata": {},
   "outputs": [],
   "source": [
    "def interchange_columns(root):\n",
    "    if not root:\n",
    "        return root\n",
    "    rows = len(root)\n",
    "    cols = len(root[0])\n",
    "    Result = [[0] * cols for _ in range(rows)]\n",
    "    for row in range(rows):\n",
    "        root[row][0],root[row][cols-1] = root[row][cols-1],root[row][0]\n",
    "    return root"
   ]
  },
  {
   "cell_type": "code",
   "execution_count": 31,
   "metadata": {},
   "outputs": [
    {
     "data": {
      "text/plain": [
       "[[0, 2, 3, 0], [0, 6, 7, 8], [0, 10, 11, 12], [0, 14, 15, 16]]"
      ]
     },
     "execution_count": 31,
     "metadata": {},
     "output_type": "execute_result"
    }
   ],
   "source": [
    "interchange_columns(root)"
   ]
  },
  {
   "cell_type": "code",
   "execution_count": 32,
   "metadata": {},
   "outputs": [],
   "source": [
    "def image_Matrix(root):\n",
    "    rows = len(root)\n",
    "    cols = len(root[0])\n",
    "\n",
    "    for i in range(rows):\n",
    "        n = rows - 1\n",
    "        for j in range(cols):\n",
    "            root[i][j] = root[i][j] + root[i][n]\n",
    "            n = n - 1\n",
    "    return root\n",
    "    "
   ]
  },
  {
   "cell_type": "code",
   "execution_count": 33,
   "metadata": {},
   "outputs": [
    {
     "data": {
      "text/plain": [
       "[[0, 5, 8, 0], [8, 13, 20, 16], [12, 21, 32, 24], [16, 29, 44, 32]]"
      ]
     },
     "execution_count": 33,
     "metadata": {},
     "output_type": "execute_result"
    }
   ],
   "source": [
    "image_Matrix(root)"
   ]
  },
  {
   "cell_type": "code",
   "execution_count": 42,
   "metadata": {},
   "outputs": [],
   "source": [
    "def Solve_the_Magic_Squares_Matrix(root):\n",
    "    rows = len(root)\n",
    "    cols = len(root[0])\n",
    "    sumd1 = 0\n",
    "    sum2 = 0\n",
    "    for i in range(rows):\n",
    "        for j in range(cols):\n",
    "            if (i == j):\n",
    "                sumd1 = sumd1 + root[i][j]\n",
    "                sum2 = sum2 + root[i][j]\n",
    "    if sumd1 != sum2:\n",
    "        f = 1\n",
    "    else:\n",
    "        for i in range(rows):\n",
    "            sumr = 0\n",
    "            cumc = 0\n",
    "            for j in range(cols):\n",
    "                sumr = sumr + root[i][j]\n",
    "                cumc = cumc + root[i][j]\n",
    "            if sumr != sumd1:\n",
    "                f = 1\n",
    "            elif cumc != sum2:\n",
    "                f = 1\n",
    "            else:\n",
    "                f = 0\n",
    "    if f == 0:\n",
    "        print(\"Sqaure magic numer\")\n",
    "    else:\n",
    "        print(\"not magic number\")"
   ]
  },
  {
   "cell_type": "code",
   "execution_count": 44,
   "metadata": {},
   "outputs": [],
   "source": [
    "Solve_the_Magic_Squares_Matrix(root)"
   ]
  },
  {
   "cell_type": "code",
   "execution_count": 73,
   "metadata": {},
   "outputs": [],
   "source": [
    "def sum_of_row_col(root):\n",
    "    rows = len(root)\n",
    "    cols = len(root[0])\n",
    "    sum_row = [0] * rows\n",
    "    sum_col = [0] * cols\n",
    "    \n",
    "    for i in range(rows):\n",
    "        for j in range(cols):\n",
    "            sum_row[i] += root[i][j]\n",
    "    \n",
    "    for j in range(cols):\n",
    "        for i in range(rows):\n",
    "            sum_col[j] += root[i][j]\n",
    "    return sum_col\n",
    "            "
   ]
  },
  {
   "cell_type": "code",
   "execution_count": 74,
   "metadata": {},
   "outputs": [
    {
     "data": {
      "text/plain": [
       "[28, 32, 36, 40]"
      ]
     },
     "execution_count": 74,
     "metadata": {},
     "output_type": "execute_result"
    }
   ],
   "source": [
    "sum_of_row_col(root)"
   ]
  },
  {
   "cell_type": "code",
   "execution_count": 56,
   "metadata": {},
   "outputs": [
    {
     "data": {
      "text/plain": [
       "[[1, 2, 3, 4], [5, 6, 7, 8], [9, 10, 11, 12], [13, 14, 15, 16]]"
      ]
     },
     "execution_count": 56,
     "metadata": {},
     "output_type": "execute_result"
    }
   ],
   "source": [
    "root"
   ]
  },
  {
   "cell_type": "code",
   "execution_count": 75,
   "metadata": {},
   "outputs": [],
   "source": [
    "def Main_daigonal(root):\n",
    "    rows = len(root)\n",
    "    cols = len(root[0])\n",
    "    Result = []\n",
    "    for i in range(rows):\n",
    "        for j in range(cols):\n",
    "            if i == j:\n",
    "                Result.append(root[i][j])\n",
    "    return Result\n"
   ]
  },
  {
   "cell_type": "code",
   "execution_count": 76,
   "metadata": {},
   "outputs": [
    {
     "data": {
      "text/plain": [
       "[1, 6, 11, 16]"
      ]
     },
     "execution_count": 76,
     "metadata": {},
     "output_type": "execute_result"
    }
   ],
   "source": [
    "Main_daigonal(root)"
   ]
  },
  {
   "cell_type": "code",
   "execution_count": 83,
   "metadata": {},
   "outputs": [],
   "source": [
    "def Main_antidaigonal(root):\n",
    "    rows = len(root)\n",
    "    cols = len(root[0])\n",
    "    Result = []\n",
    "    for i in range(rows):\n",
    "        for j in range(cols):\n",
    "            if i + j == cols -1:\n",
    "                Result.append(root[i][j])\n",
    "    return Result"
   ]
  },
  {
   "cell_type": "code",
   "execution_count": 84,
   "metadata": {},
   "outputs": [
    {
     "data": {
      "text/plain": [
       "[4, 7, 10, 13]"
      ]
     },
     "execution_count": 84,
     "metadata": {},
     "output_type": "execute_result"
    }
   ],
   "source": [
    "Main_antidaigonal(root)"
   ]
  },
  {
   "cell_type": "code",
   "execution_count": 92,
   "metadata": {},
   "outputs": [],
   "source": [
    "def Daigonal_sum(root):\n",
    "    rows = len(root)\n",
    "    cols = len(root[0])\n",
    "    sumd_1 = 0\n",
    "    sumd_2 = 0\n",
    "    for i in range(rows):\n",
    "        for j in range(cols):\n",
    "            if (i == j):\n",
    "                sumd_1 = sumd_1 + root[i][j]\n",
    "            elif (i + j) == cols -1:\n",
    "                sumd_2 = sumd_2 + root[i][j]\n",
    "    return sumd_1,sumd_2"
   ]
  },
  {
   "cell_type": "code",
   "execution_count": 93,
   "metadata": {},
   "outputs": [
    {
     "data": {
      "text/plain": [
       "(34, 34)"
      ]
     },
     "execution_count": 93,
     "metadata": {},
     "output_type": "execute_result"
    }
   ],
   "source": [
    "Daigonal_sum(root)"
   ]
  },
  {
   "cell_type": "code",
   "execution_count": 95,
   "metadata": {},
   "outputs": [],
   "source": [
    "def Daigonal_Interchange(root):\n",
    "    rows = len(root)\n",
    "    cols = len(root[0])\n",
    "    n = cols - 1\n",
    "    for i in range(rows):\n",
    "        for j in range(cols):\n",
    "            if (i == j):\n",
    "                temp = root[i][j]\n",
    "                root[i][j] = root[i][n]\n",
    "                root[i][n] = temp\n",
    "    return root"
   ]
  },
  {
   "cell_type": "code",
   "execution_count": 96,
   "metadata": {},
   "outputs": [
    {
     "data": {
      "text/plain": [
       "[[4, 2, 3, 1], [5, 8, 7, 6], [9, 10, 12, 11], [13, 14, 15, 16]]"
      ]
     },
     "execution_count": 96,
     "metadata": {},
     "output_type": "execute_result"
    }
   ],
   "source": [
    "Daigonal_Interchange(root)"
   ]
  },
  {
   "cell_type": "code",
   "execution_count": 1,
   "metadata": {},
   "outputs": [],
   "source": [
    "root = [\n",
    "    [1,2,3,4],\n",
    "    [5,6,7,8],\n",
    "    [9,10,11,12],\n",
    "    [13,14,15,16]\n",
    "]"
   ]
  },
  {
   "cell_type": "code",
   "execution_count": 2,
   "metadata": {},
   "outputs": [
    {
     "data": {
      "text/plain": [
       "[[1, 2, 3, 4], [5, 6, 7, 8], [9, 10, 11, 12], [13, 14, 15, 16]]"
      ]
     },
     "execution_count": 2,
     "metadata": {},
     "output_type": "execute_result"
    }
   ],
   "source": [
    "root"
   ]
  },
  {
   "cell_type": "code",
   "execution_count": 15,
   "metadata": {},
   "outputs": [],
   "source": [
    "def Lower_Upper_triangular_matrix(root):\n",
    "    n = len(root)\n",
    "    lower = [[0] * n for _ in range(n)]\n",
    "    upper = [[0] * n for _ in range(n)]\n",
    "    for row in range(n):\n",
    "        for col in range(n):\n",
    "            if row <= col :\n",
    "                upper[row][col] = root[row][col]\n",
    "            if row >= col:\n",
    "                lower[row][col] = root[row][col]\n",
    "    return upper,lower"
   ]
  },
  {
   "cell_type": "code",
   "execution_count": 16,
   "metadata": {},
   "outputs": [
    {
     "data": {
      "text/plain": [
       "([[1, 2, 3, 4], [0, 6, 7, 8], [0, 0, 11, 12], [0, 0, 0, 16]],\n",
       " [[1, 0, 0, 0], [5, 6, 0, 0], [9, 10, 11, 0], [13, 14, 15, 16]])"
      ]
     },
     "execution_count": 16,
     "metadata": {},
     "output_type": "execute_result"
    }
   ],
   "source": [
    "Lower_Upper_triangular_matrix(root)"
   ]
  },
  {
   "cell_type": "code",
   "execution_count": 18,
   "metadata": {},
   "outputs": [],
   "source": [
    "def sum_upper_triangular(root):\n",
    "    rows = len(root)\n",
    "    cols = len(root[0])\n",
    "    sum_upper = 0\n",
    "    for row in range(rows):\n",
    "        for col in range(cols):\n",
    "            if row <= col:\n",
    "                sum_upper = sum_upper + root[row][col]\n",
    "    return sum_upper"
   ]
  },
  {
   "cell_type": "code",
   "execution_count": 19,
   "metadata": {},
   "outputs": [
    {
     "data": {
      "text/plain": [
       "70"
      ]
     },
     "execution_count": 19,
     "metadata": {},
     "output_type": "execute_result"
    }
   ],
   "source": [
    "sum_upper_triangular(root)"
   ]
  },
  {
   "cell_type": "code",
   "execution_count": 21,
   "metadata": {},
   "outputs": [],
   "source": [
    "def sum_lower_triangular(root):\n",
    "    rows = len(root)\n",
    "    cols = len(root[0])\n",
    "    lower_sum = 0\n",
    "    for row in range(rows):\n",
    "        for col in range(cols):\n",
    "            if row >= col:\n",
    "                lower_sum = lower_sum + root[row][col]\n",
    "    return lower_sum"
   ]
  },
  {
   "cell_type": "code",
   "execution_count": 23,
   "metadata": {},
   "outputs": [
    {
     "data": {
      "text/plain": [
       "100"
      ]
     },
     "execution_count": 23,
     "metadata": {},
     "output_type": "execute_result"
    }
   ],
   "source": [
    "sum_lower_triangular(root)"
   ]
  },
  {
   "cell_type": "code",
   "execution_count": 25,
   "metadata": {},
   "outputs": [],
   "source": [
    "def is_identity_matrix(root):\n",
    "    rows = len(root)\n",
    "    cols = len(root[0])\n",
    "    for row in range(rows):\n",
    "        for col in range(cols):\n",
    "            if row == col and root[row][col] != 1:\n",
    "                return False\n",
    "            elif row != col and root[row][col] != 0:\n",
    "                return False\n",
    "    return True"
   ]
  },
  {
   "cell_type": "code",
   "execution_count": 26,
   "metadata": {},
   "outputs": [
    {
     "data": {
      "text/plain": [
       "False"
      ]
     },
     "execution_count": 26,
     "metadata": {},
     "output_type": "execute_result"
    }
   ],
   "source": [
    "is_identity_matrix(root)"
   ]
  },
  {
   "cell_type": "code",
   "execution_count": null,
   "metadata": {},
   "outputs": [],
   "source": []
  }
 ],
 "metadata": {
  "kernelspec": {
   "display_name": "Python 3",
   "language": "python",
   "name": "python3"
  },
  "language_info": {
   "codemirror_mode": {
    "name": "ipython",
    "version": 3
   },
   "file_extension": ".py",
   "mimetype": "text/x-python",
   "name": "python",
   "nbconvert_exporter": "python",
   "pygments_lexer": "ipython3",
   "version": "3.11.5"
  },
  "orig_nbformat": 4
 },
 "nbformat": 4,
 "nbformat_minor": 2
}
