{
 "cells": [
  {
   "cell_type": "code",
   "execution_count": 5,
   "metadata": {},
   "outputs": [],
   "source": [
    "def seggration0and1(root):\n",
    "    left,right = 0 ,len(root) - 1\n",
    "    while left < right:\n",
    "        if root[left] == 0 and left < right:\n",
    "            left += 1\n",
    "        elif root[right] == 1 and left < right:\n",
    "            right -= 1\n",
    "        else:\n",
    "            root[left],root[right] = root[right],root[left]\n",
    "            left += 1\n",
    "            right -= 1\n",
    "    return root"
   ]
  },
  {
   "cell_type": "code",
   "execution_count": 6,
   "metadata": {},
   "outputs": [
    {
     "data": {
      "text/plain": [
       "[0, 0, 0, 0, 1, 1, 1, 1, 1]"
      ]
     },
     "execution_count": 6,
     "metadata": {},
     "output_type": "execute_result"
    }
   ],
   "source": [
    "root =[1, 0, 1, 0, 0, 1, 1, 0, 1]\n",
    "seggration0and1(root)"
   ]
  },
  {
   "cell_type": "code",
   "execution_count": 7,
   "metadata": {},
   "outputs": [],
   "source": [
    "import random\n",
    "def shufflle(root):\n",
    "    left,right = 0,len(root) - 1\n",
    "    for i in range(left,right):\n",
    "        j = random.randint(0,i)\n",
    "        root[i],root[j] = root[j],root[i]\n",
    "    return root"
   ]
  },
  {
   "cell_type": "code",
   "execution_count": 9,
   "metadata": {},
   "outputs": [
    {
     "data": {
      "text/plain": [
       "[1, 0, 1, 1, 1, 0, 0, 0, 1]"
      ]
     },
     "execution_count": 9,
     "metadata": {},
     "output_type": "execute_result"
    }
   ],
   "source": [
    "shufflle(root)"
   ]
  },
  {
   "cell_type": "code",
   "execution_count": 18,
   "metadata": {},
   "outputs": [],
   "source": [
    "root = [0, 1, 0, 2, 2, 1, 2, 0, 0, 2, 0, 1, 1, 0, 2]\n",
    "def sort_colors(root):\n",
    "    left,mid,right = 0,0,len(root) - 1\n",
    "    while mid <= right:\n",
    "        if root[mid] == 0 and left < right:\n",
    "            root[left],root[mid] = root[mid],root[left]\n",
    "            left += 1\n",
    "            mid += 1\n",
    "        elif root[mid] == 1 and left < right:\n",
    "            mid += 1\n",
    "        else:\n",
    "            root[mid],root[right] = root[right],root[mid]\n",
    "            right -= 1\n",
    "    return root"
   ]
  },
  {
   "cell_type": "code",
   "execution_count": 19,
   "metadata": {},
   "outputs": [
    {
     "data": {
      "text/plain": [
       "[0, 0, 0, 0, 0, 0, 1, 1, 1, 1, 2, 2, 2, 2, 2]"
      ]
     },
     "execution_count": 19,
     "metadata": {},
     "output_type": "execute_result"
    }
   ],
   "source": [
    "sort_colors(root)"
   ]
  },
  {
   "cell_type": "code",
   "execution_count": 60,
   "metadata": {},
   "outputs": [],
   "source": [
    "root = [1, -1, 3, 2, -7, -5, 11, 6]\n",
    "def move_negative_to_end(root):\n",
    "    left , right = 0 , len(root) - 1\n",
    "    while left <= right:\n",
    "        if root[left] < 0 and root[right] >= 0:\n",
    "            root[left],root[right] = root[right],root[left]\n",
    "            left += 1\n",
    "        elif root[left] >= 0:\n",
    "            left += 1\n",
    "        else:\n",
    "            # root[right],root[left] = root[left],root[right]\n",
    "            # left += 1\n",
    "            right -= 1\n",
    "    return root"
   ]
  },
  {
   "cell_type": "code",
   "execution_count": 61,
   "metadata": {},
   "outputs": [
    {
     "data": {
      "text/plain": [
       "[1, 6, 3, 2, 11, -5, -7, -1]"
      ]
     },
     "execution_count": 61,
     "metadata": {},
     "output_type": "execute_result"
    }
   ],
   "source": [
    "move_negative_to_end(root)"
   ]
  },
  {
   "cell_type": "code",
   "execution_count": 62,
   "metadata": {},
   "outputs": [],
   "source": [
    "def printInversionPairs(root):\n",
    "    left , right = 0,len(root) - 1\n",
    "    for i in range(left,right):\n",
    "        for j in range(i+1,right):\n",
    "            if root[i] < root[j]:\n",
    "                print(root[i],root[j])"
   ]
  },
  {
   "cell_type": "code",
   "execution_count": 63,
   "metadata": {},
   "outputs": [
    {
     "name": "stdout",
     "output_type": "stream",
     "text": [
      "1 6\n",
      "1 3\n",
      "1 2\n",
      "1 11\n",
      "6 11\n",
      "3 11\n",
      "2 11\n"
     ]
    }
   ],
   "source": [
    "printInversionPairs(root)"
   ]
  },
  {
   "cell_type": "code",
   "execution_count": 66,
   "metadata": {},
   "outputs": [],
   "source": [
    "root = [1, 8, 7, 3, 9, 4, 2, 5, 10]\n",
    "def segregateEvenAndOdd(root):\n",
    "    left , right = 0 , len(root) - 1\n",
    "    while left < right:\n",
    "        if root[left] % 2 == 0 and left < right:\n",
    "            # root[left],root[right] = root[right],root[left]\n",
    "            left += 1\n",
    "        elif root[right] % 2 != 0 and left < right:\n",
    "            right -= 1\n",
    "        else:\n",
    "            root[right],root[left] = root[left],root[right]\n",
    "            left += 1\n",
    "            right -= 1\n",
    "    return root\n"
   ]
  },
  {
   "cell_type": "code",
   "execution_count": 67,
   "metadata": {},
   "outputs": [
    {
     "data": {
      "text/plain": [
       "[10, 8, 2, 4, 9, 3, 7, 5, 1]"
      ]
     },
     "execution_count": 67,
     "metadata": {},
     "output_type": "execute_result"
    }
   ],
   "source": [
    "segregateEvenAndOdd(root)"
   ]
  },
  {
   "cell_type": "code",
   "execution_count": 68,
   "metadata": {},
   "outputs": [],
   "source": [
    "root = [0, 1, 4, 7, 2, 2, 1, 2, 0, 0, 6, 0, 1, 1, 0]\n",
    "def moveZeroToEnd(root):\n",
    "    left,right = 0 , len(root) - 1\n",
    "    while left <= right:\n",
    "        if root[right] == 0 and left < right:\n",
    "            root[left],root[right] = root[right],root[left]\n",
    "            right -= 1\n",
    "        elif root[left] != 0 and left < right:\n",
    "            left += 1\n",
    "        else:\n",
    "            root[right],root[left] = root[left],root[right]\n",
    "            left += 1\n",
    "            right -= 1\n",
    "    return root "
   ]
  },
  {
   "cell_type": "code",
   "execution_count": 69,
   "metadata": {},
   "outputs": [
    {
     "data": {
      "text/plain": [
       "[1, 1, 4, 7, 2, 2, 1, 2, 1, 6, 0, 0, 0, 0, 0]"
      ]
     },
     "execution_count": 69,
     "metadata": {},
     "output_type": "execute_result"
    }
   ],
   "source": [
    "moveZeroToEnd(root)"
   ]
  },
  {
   "cell_type": "code",
   "execution_count": 76,
   "metadata": {},
   "outputs": [],
   "source": [
    "root = [0, 1, 4, 4, 7, 8, 10]\n",
    "root1 = [-1, 1, 2, 3, 9, 11]\n",
    "def mergeArrays(root,root1):\n",
    "    n = len(root) - 1\n",
    "    m = len(root) - 1\n",
    "    resultx , resulty = [],[]\n",
    "    for i in range(n):\n",
    "        if resulty[0] < resultx[i]:\n",
    "            resulty[0],resultx[i] = resultx[i],resulty[0]\n",
    "            for j in range(m):\n",
    "                if resulty[j] > resulty[j+1]:\n",
    "                    resulty[j] ,resulty[j+1] = resulty[j+1],resulty[j]\n",
    "                j += 1"
   ]
  },
  {
   "cell_type": "code",
   "execution_count": 78,
   "metadata": {},
   "outputs": [],
   "source": [
    "# mergeArrays(root,root1)"
   ]
  },
  {
   "cell_type": "code",
   "execution_count": 107,
   "metadata": {},
   "outputs": [],
   "source": [
    "root = [1, 6, 9, 4, 3, 7, 8, 2, 10]\n",
    "def alternative_sort(root):\n",
    "    root.sort()\n",
    "    n = len(root)\n",
    "    result = [0] * n\n",
    "    left,right = 0 , n - 1\n",
    "    for i in range(n):\n",
    "        if i % 2 == 0:\n",
    "            result[i] = root[left]\n",
    "            left += 1\n",
    "        else:\n",
    "            result[i] = root[right]\n",
    "            right -= 1\n",
    "    return result"
   ]
  },
  {
   "cell_type": "code",
   "execution_count": 109,
   "metadata": {},
   "outputs": [
    {
     "data": {
      "text/plain": [
       "[1, 10, 2, 9, 3, 8, 4, 7, 6]"
      ]
     },
     "execution_count": 109,
     "metadata": {},
     "output_type": "execute_result"
    }
   ],
   "source": [
    "alternative_sort(root)"
   ]
  },
  {
   "cell_type": "code",
   "execution_count": 118,
   "metadata": {},
   "outputs": [],
   "source": [
    "def reorder_array(root,index):\n",
    "    n = len(root)\n",
    "    Result = [None] * n\n",
    "    for i in range(n):\n",
    "        Result[index[i]] = root[i]\n",
    "    return Result\n",
    "root = [1,2, 3, 4, 5, 6, 7, 8, 9, 10]\n",
    "index = [5,2,0,7 ,9 ,1 ,6 ,3 ,8 ,4]"
   ]
  },
  {
   "cell_type": "code",
   "execution_count": 119,
   "metadata": {},
   "outputs": [
    {
     "data": {
      "text/plain": [
       "[3, 6, 2, 8, 10, 1, 7, 4, 9, 5]"
      ]
     },
     "execution_count": 119,
     "metadata": {},
     "output_type": "execute_result"
    }
   ],
   "source": [
    "reorder_array(root,index)"
   ]
  },
  {
   "cell_type": "code",
   "execution_count": 126,
   "metadata": {},
   "outputs": [],
   "source": [
    "def split_and_add_to_end(root,split_index):\n",
    "    first_order = root[:split_index]\n",
    "    Last_order = root[split_index:]\n",
    "    result = Last_order +first_order\n",
    "    return result"
   ]
  },
  {
   "cell_type": "code",
   "execution_count": 127,
   "metadata": {},
   "outputs": [
    {
     "data": {
      "text/plain": [
       "[3, 4, 5, 6, 7, 8, 9, 10, 1, 2]"
      ]
     },
     "execution_count": 127,
     "metadata": {},
     "output_type": "execute_result"
    }
   ],
   "source": [
    "split_and_add_to_end(root,2)"
   ]
  },
  {
   "cell_type": "code",
   "execution_count": 137,
   "metadata": {},
   "outputs": [],
   "source": [
    "def find_pairs_with_difference(root,k):\n",
    "    Result = []\n",
    "    distict_pair = set()\n",
    "    for num in root:\n",
    "        complaint_pair = num - k\n",
    "        if complaint_pair in distict_pair:\n",
    "            Result.append((complaint_pair,num))\n",
    "        else:\n",
    "            distict_pair.add(num)\n",
    "    return Result\n",
    "root = [1, 4, 5, 2, 2, 2, 5, 5, 4, 2, 8, 4]"
   ]
  },
  {
   "cell_type": "code",
   "execution_count": 138,
   "metadata": {},
   "outputs": [
    {
     "data": {
      "text/plain": [
       "[(1, 4), (2, 5), (2, 5), (1, 4), (5, 8), (1, 4)]"
      ]
     },
     "execution_count": 138,
     "metadata": {},
     "output_type": "execute_result"
    }
   ],
   "source": [
    "find_pairs_with_difference(root,3)"
   ]
  },
  {
   "cell_type": "code",
   "execution_count": 157,
   "metadata": {},
   "outputs": [],
   "source": [
    "root = [4, 5, 6, 7, 0, 1, 2]\n",
    "def find_smallest_element(root):\n",
    "    left , right = 0 , len(root) - 1\n",
    "    while left < right:\n",
    "        mid = (left + right) // 2\n",
    "        \n",
    "        if root[mid] > root[right]:\n",
    "            left = mid + 1\n",
    "        else:\n",
    "            right = mid\n",
    "    return root[left]"
   ]
  },
  {
   "cell_type": "code",
   "execution_count": 158,
   "metadata": {},
   "outputs": [
    {
     "data": {
      "text/plain": [
       "0"
      ]
     },
     "execution_count": 158,
     "metadata": {},
     "output_type": "execute_result"
    }
   ],
   "source": [
    "find_smallest_element(root)"
   ]
  },
  {
   "cell_type": "code",
   "execution_count": 188,
   "metadata": {},
   "outputs": [],
   "source": [
    "def find_largest_pair_sum(root):\n",
    "    largest = max(root[0],root[1])\n",
    "    second_largest = min(root[0],root[1])\n",
    "    for i in range(2,len(root)):\n",
    "        if root[i] > largest:\n",
    "            second_largest = largest\n",
    "            largest = root[i]\n",
    "        elif root[i] > second_largest:\n",
    "            second_largest = root[i]\n",
    "    result = largest + second_largest\n",
    "    return result"
   ]
  },
  {
   "cell_type": "code",
   "execution_count": 189,
   "metadata": {},
   "outputs": [
    {
     "data": {
      "text/plain": [
       "18"
      ]
     },
     "execution_count": 189,
     "metadata": {},
     "output_type": "execute_result"
    }
   ],
   "source": [
    "root = [4, 2, 10, 8, 7]\n",
    "find_largest_pair_sum(root)"
   ]
  },
  {
   "cell_type": "code",
   "execution_count": 202,
   "metadata": {},
   "outputs": [],
   "source": [
    "def find_smallest_pair_sum(root):\n",
    "    smallest = min(root[0],root[1])\n",
    "    second_smallest = max(root[0],root[1])\n",
    "    for i in range(2,len(root)):\n",
    "        if root[i] < smallest:\n",
    "            second_smallest = smallest\n",
    "            smallest = root[i]\n",
    "        elif root[i] < second_smallest:\n",
    "            second_smallest = root[i]\n",
    "    result = smallest + second_smallest\n",
    "    return result"
   ]
  },
  {
   "cell_type": "code",
   "execution_count": 203,
   "metadata": {},
   "outputs": [
    {
     "data": {
      "text/plain": [
       "6"
      ]
     },
     "execution_count": 203,
     "metadata": {},
     "output_type": "execute_result"
    }
   ],
   "source": [
    "find_smallest_pair_sum(root)"
   ]
  },
  {
   "cell_type": "code",
   "execution_count": 210,
   "metadata": {},
   "outputs": [],
   "source": [
    "def twoLargest(root):\n",
    "    first_largest = max(root[0],root[1])\n",
    "    second_largest = min(root[0],root[1])\n",
    "    for i in range(2,len(root)):\n",
    "        if first_largest < root[i]:\n",
    "            second_largest = first_largest\n",
    "            first_largest = root[i]\n",
    "        elif second_largest < root[i]:\n",
    "            second_largest = root[i]\n",
    "    return first_largest , second_largest"
   ]
  },
  {
   "cell_type": "code",
   "execution_count": 211,
   "metadata": {},
   "outputs": [
    {
     "data": {
      "text/plain": [
       "(10, 8)"
      ]
     },
     "execution_count": 211,
     "metadata": {},
     "output_type": "execute_result"
    }
   ],
   "source": [
    "twoLargest(root)"
   ]
  },
  {
   "cell_type": "code",
   "execution_count": 214,
   "metadata": {},
   "outputs": [],
   "source": [
    "def find_largest_and_smallest(root):\n",
    "    smallest = root[0]\n",
    "    largest = root[0]\n",
    "\n",
    "    for i in root:\n",
    "        if largest < i:\n",
    "            largest = i\n",
    "        \n",
    "        if smallest > i:\n",
    "            smallest = i\n",
    "    return smallest,largest"
   ]
  },
  {
   "cell_type": "code",
   "execution_count": 215,
   "metadata": {},
   "outputs": [
    {
     "data": {
      "text/plain": [
       "(2, 10)"
      ]
     },
     "execution_count": 215,
     "metadata": {},
     "output_type": "execute_result"
    }
   ],
   "source": [
    "find_largest_and_smallest(root)"
   ]
  },
  {
   "cell_type": "code",
   "execution_count": 223,
   "metadata": {},
   "outputs": [],
   "source": [
    "def find_smallest_and_second_smallest(root):\n",
    "    smallest = min(root[0],root[1])\n",
    "    second_smallest = max(root[0],root[1])\n",
    "    for i in range(2,len(root)):\n",
    "        if smallest > root[i]:\n",
    "            second_smallest = smallest\n",
    "            smallest = root[i]\n",
    "        elif second_smallest > root[i]:\n",
    "            second_smallest = root[i]\n",
    "    return smallest,second_smallest"
   ]
  },
  {
   "cell_type": "code",
   "execution_count": 224,
   "metadata": {},
   "outputs": [
    {
     "data": {
      "text/plain": [
       "(3, 4)"
      ]
     },
     "execution_count": 224,
     "metadata": {},
     "output_type": "execute_result"
    }
   ],
   "source": [
    "root = [10, 3, 44, 86, 8, 9, 4, 5, 7]\n",
    "find_smallest_and_second_smallest(root)"
   ]
  },
  {
   "cell_type": "code",
   "execution_count": 240,
   "metadata": {},
   "outputs": [],
   "source": [
    "def clostVal(root,k):\n",
    "    result = root[0]\n",
    "    for i in range(1,len(root),1):\n",
    "        if abs(k - result) > abs(k - root[i]):\n",
    "            result = root[i]\n",
    "    return result"
   ]
  },
  {
   "cell_type": "code",
   "execution_count": 241,
   "metadata": {},
   "outputs": [
    {
     "data": {
      "text/plain": [
       "7"
      ]
     },
     "execution_count": 241,
     "metadata": {},
     "output_type": "execute_result"
    }
   ],
   "source": [
    "root = [4, 2, 8, 11, 7]\n",
    "clostVal(root,6)"
   ]
  },
  {
   "cell_type": "code",
   "execution_count": 254,
   "metadata": {},
   "outputs": [],
   "source": [
    "root = [1, 3, 5, 7, 9]\n",
    "def find_missing(root):\n",
    "    i = 0\n",
    "    while i < len(root) - 1:\n",
    "        j = root[i] + 1\n",
    "        while j < root[i+ 1]:\n",
    "            print(\"\",j,end = '')\n",
    "            j += 1\n",
    "        i += 1"
   ]
  },
  {
   "cell_type": "code",
   "execution_count": 255,
   "metadata": {},
   "outputs": [
    {
     "name": "stdout",
     "output_type": "stream",
     "text": [
      " 2 4 6 8"
     ]
    }
   ],
   "source": [
    "find_missing(root)"
   ]
  },
  {
   "cell_type": "code",
   "execution_count": 256,
   "metadata": {},
   "outputs": [],
   "source": [
    "def segregate_positives_and_negatives(root):\n",
    "    left , right = 0 , len(root) - 1\n",
    "    while left < right:\n",
    "        if root[left] < 0 and left < right:\n",
    "            left += 1\n",
    "        elif root[right] >= 0 and left < right:\n",
    "            right -= 1\n",
    "        else:\n",
    "            root[left] ,root[right] = root[right],root[left]\n",
    "            left += 1\n",
    "            right -= 1\n",
    "    return root"
   ]
  },
  {
   "cell_type": "code",
   "execution_count": 258,
   "metadata": {},
   "outputs": [
    {
     "data": {
      "text/plain": [
       "[-1, -3, -6, -8, -2, -7, 8, 1, 2, 5, 1, 3, 6]"
      ]
     },
     "execution_count": 258,
     "metadata": {},
     "output_type": "execute_result"
    }
   ],
   "source": [
    "root = [6, -3, 5, 2, 1, 8, -7, -2, -8, -6, 1, 3, -1]\n",
    "segregate_positives_and_negatives(root)"
   ]
  },
  {
   "cell_type": "code",
   "execution_count": 3,
   "metadata": {},
   "outputs": [],
   "source": [
    "def count_divisible_pairs(root,div):\n",
    "    count = 0\n",
    "    n = len(root)\n",
    "    for i in range(n):\n",
    "        for j in range(i + 1,n):\n",
    "            if root[i] % div == 0 and root[j] % div != 0:\n",
    "                count += 1\n",
    "    return count"
   ]
  },
  {
   "cell_type": "code",
   "execution_count": 4,
   "metadata": {},
   "outputs": [
    {
     "data": {
      "text/plain": [
       "5"
      ]
     },
     "execution_count": 4,
     "metadata": {},
     "output_type": "execute_result"
    }
   ],
   "source": [
    "root = [4, 8, 12, 6, 10, 5]\n",
    "count_divisible_pairs(root,2)"
   ]
  },
  {
   "cell_type": "code",
   "execution_count": 5,
   "metadata": {},
   "outputs": [],
   "source": [
    "def count_subarrays_with_sum(root):\n",
    "    pass"
   ]
  },
  {
   "cell_type": "code",
   "execution_count": null,
   "metadata": {},
   "outputs": [],
   "source": []
  }
 ],
 "metadata": {
  "kernelspec": {
   "display_name": "base",
   "language": "python",
   "name": "python3"
  },
  "language_info": {
   "codemirror_mode": {
    "name": "ipython",
    "version": 3
   },
   "file_extension": ".py",
   "mimetype": "text/x-python",
   "name": "python",
   "nbconvert_exporter": "python",
   "pygments_lexer": "ipython3",
   "version": "3.10.9"
  }
 },
 "nbformat": 4,
 "nbformat_minor": 2
}
