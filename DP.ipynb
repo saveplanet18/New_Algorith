{
 "cells": [
  {
   "cell_type": "code",
   "execution_count": 5,
   "metadata": {},
   "outputs": [
    {
     "data": {
      "text/plain": [
       "(6, [1, 3, 2, 5, 1, 2, 0, -1, 4])"
      ]
     },
     "execution_count": 5,
     "metadata": {},
     "output_type": "execute_result"
    }
   ],
   "source": [
    "def Maximum_Sum_Subarray(root):\n",
    "    Max_sum = 0\n",
    "    Result = []\n",
    "    for i in range(len(root)):\n",
    "        current_sum = 0\n",
    "        for j in range(i,len(root)):\n",
    "            current_sum += root[j]\n",
    "            if current_sum > Max_sum:\n",
    "                Max_sum = current_sum\n",
    "        Result.append(current_sum)\n",
    "    return Max_sum,Result\n",
    "root = [-2, 1, -3, 4, -1, 2, 1, -5, 4]\n",
    "Maximum_Sum_Subarray(root)\n",
    "    "
   ]
  },
  {
   "cell_type": "code",
   "execution_count": 7,
   "metadata": {},
   "outputs": [
    {
     "data": {
      "text/plain": [
       "(6, [1, -2, 4, 3, 5, 6, 1, 5])"
      ]
     },
     "execution_count": 7,
     "metadata": {},
     "output_type": "execute_result"
    }
   ],
   "source": [
    "def Kadane_Algorithm(root):\n",
    "    current_sum = root[0]\n",
    "    Max_sum = root[0]\n",
    "    Result = []\n",
    "    for i in range(1,len(root)):\n",
    "        current_sum = max(root[i],current_sum+root[i])\n",
    "        Max_sum = max(current_sum,Max_sum)\n",
    "        Result.append(current_sum)\n",
    "    return Max_sum,Result\n",
    "Kadane_Algorithm(root)"
   ]
  },
  {
   "cell_type": "code",
   "execution_count": 8,
   "metadata": {},
   "outputs": [
    {
     "data": {
      "text/plain": [
       "-5"
      ]
     },
     "execution_count": 8,
     "metadata": {},
     "output_type": "execute_result"
    }
   ],
   "source": [
    "def Minimum_Sum_Subarray(root):\n",
    "    Minimum_sum = 0\n",
    "    for i in range(len(root)):\n",
    "        current_sum = 0\n",
    "        for j in range(i,len(root)):\n",
    "            current_sum += root[j]\n",
    "            if current_sum < Minimum_sum:\n",
    "                Minimum_sum = current_sum\n",
    "    return Minimum_sum\n",
    "Minimum_Sum_Subarray(root)"
   ]
  },
  {
   "cell_type": "code",
   "execution_count": 9,
   "metadata": {},
   "outputs": [
    {
     "data": {
      "text/plain": [
       "-5"
      ]
     },
     "execution_count": 9,
     "metadata": {},
     "output_type": "execute_result"
    }
   ],
   "source": [
    "def Kadane_Algorithm_Minimum(root):\n",
    "    current_sum = root[0]\n",
    "    minimum = root[0]\n",
    "    for i in range(1,len(root)):\n",
    "        current_sum = min(root[i],current_sum+root[i])\n",
    "        minimum = min(current_sum,minimum)\n",
    "    return minimum\n",
    "Kadane_Algorithm_Minimum(root)"
   ]
  },
  {
   "cell_type": "code",
   "execution_count": 20,
   "metadata": {},
   "outputs": [
    {
     "data": {
      "text/plain": [
       "(3, [1, 3, 5])"
      ]
     },
     "execution_count": 20,
     "metadata": {},
     "output_type": "execute_result"
    }
   ],
   "source": [
    "def Longest_Increasing_Subarray(root):\n",
    "    longest_Incr = 1\n",
    "    Max_Incr = 1\n",
    "    start,end = 0,0\n",
    "    for i in range(1,len(root)):\n",
    "        if root[i] > root[i-1]:\n",
    "            longest_Incr += 1\n",
    "        else:\n",
    "            if longest_Incr > Max_Incr:\n",
    "                Max_Incr = longest_Incr\n",
    "            longest_Incr = 1\n",
    "            end = start\n",
    "    LL = root[end:end + Max_Incr]\n",
    "    return Max_Incr,LL\n",
    "root = [1,3,5,4,7]\n",
    "Longest_Increasing_Subarray(root)"
   ]
  },
  {
   "cell_type": "code",
   "execution_count": 34,
   "metadata": {},
   "outputs": [
    {
     "data": {
      "text/plain": [
       "(8, [8, 7, 6, 5, 4, 3, 2, 1])"
      ]
     },
     "execution_count": 34,
     "metadata": {},
     "output_type": "execute_result"
    }
   ],
   "source": [
    "def Longest_Decreasing_Subarray(root):\n",
    "    Longest_Decr = 1\n",
    "    Max_Decr = 1\n",
    "    start = 0\n",
    "    for i in range(len(root)):\n",
    "        if root[i] < root[i-1]:\n",
    "            Longest_Decr += 1\n",
    "            if Longest_Decr > Max_Decr:\n",
    "                Max_Decr = Longest_Decr\n",
    "        else:\n",
    "            Longest_Decr = 1\n",
    "            start = i\n",
    "    LL = root[start:start+Max_Decr]\n",
    "    return Max_Decr,LL\n",
    "root = [5, 4, 3, 2, 8, 7, 6, 5, 4, 3, 2, 1]\n",
    "Longest_Decreasing_Subarray(root)"
   ]
  },
  {
   "cell_type": "code",
   "execution_count": 55,
   "metadata": {},
   "outputs": [
    {
     "data": {
      "text/plain": [
       "4"
      ]
     },
     "execution_count": 55,
     "metadata": {},
     "output_type": "execute_result"
    }
   ],
   "source": [
    "def Longest_Bitonic_Subarray(root):\n",
    "    Longest_Incr = 1\n",
    "    Max_Incr = 1\n",
    "    for i in range(len(root)):\n",
    "        if root[i] > root[i-1]:\n",
    "            Longest_Incr += 1\n",
    "        else:\n",
    "            if Longest_Incr > Max_Incr:\n",
    "                Max_Incr = Longest_Incr\n",
    "            Longest_Incr = 1\n",
    "    Longest_Decr = 1\n",
    "    Min_Dncr = 1\n",
    "    for i in range(len(root)):\n",
    "        if root[i] < root[i-1]:\n",
    "            Longest_Decr += 1\n",
    "        else:\n",
    "            if Longest_Decr > Min_Dncr:\n",
    "                Max_Incr = Longest_Decr\n",
    "            Longest_Decr = 1\n",
    "    Longest_Bitonic = Max_Incr+Min_Dncr\n",
    "    return Longest_Bitonic\n",
    "    # n=len(root)\n",
    "    # dp2=[1]*(n)\n",
    "    # for i in range (n-1,-1,-1):\n",
    "    #     for j in range(n-1,i,-1):\n",
    "    #         if root[j]<root[i] and dp2[i]<dp2[j]+1:\n",
    "    #             dp2[i]=dp2[j]+1 \n",
    "    # return dp2\n",
    "root = [12, 4, 78, 90, 45, 23]\n",
    "Longest_Bitonic_Subarray(root)"
   ]
  },
  {
   "cell_type": "code",
   "execution_count": 83,
   "metadata": {},
   "outputs": [
    {
     "data": {
      "text/plain": [
       "(2, [3, 7, 0, 3, 4, 7, 8, 4, 2, 0])"
      ]
     },
     "execution_count": 83,
     "metadata": {},
     "output_type": "execute_result"
    }
   ],
   "source": [
    "def Zero_Sum_Subarray(root):\n",
    "    current_sum = 0\n",
    "    Result = []\n",
    "    count = 0\n",
    "    for i in range(len(root)):\n",
    "        current_sum += root[i]\n",
    "        Result.append(current_sum)\n",
    "        if current_sum == 0:\n",
    "            count += 1\n",
    "    return count,Result\n",
    "root = [3, 4, -7, 3, 1, 3, 1, -4, -2, -2]\n",
    "Zero_Sum_Subarray(root)"
   ]
  },
  {
   "cell_type": "code",
   "execution_count": 102,
   "metadata": {},
   "outputs": [
    {
     "data": {
      "text/plain": [
       "2"
      ]
     },
     "execution_count": 102,
     "metadata": {},
     "output_type": "execute_result"
    }
   ],
   "source": [
    "def Smallest_Positive_Subarray_Sum(root,target):\n",
    "    Minimum = len(root) + 1\n",
    "    for i in range(len(root)):\n",
    "        current_sum = 0\n",
    "        for j in range(i,len(root)):\n",
    "            current_sum += root[j]\n",
    "            if current_sum >= target:\n",
    "                Minimum = min(Minimum,j-i+1)\n",
    "    if Minimum == len(root) + 1:\n",
    "        return 0\n",
    "    return Minimum\n",
    "                \n",
    "    \n",
    "root = [2,3,1,2,4,3]\n",
    "Smallest_Positive_Subarray_Sum(root,7)\n"
   ]
  },
  {
   "cell_type": "code",
   "execution_count": 105,
   "metadata": {},
   "outputs": [
    {
     "data": {
      "text/plain": [
       "72"
      ]
     },
     "execution_count": 105,
     "metadata": {},
     "output_type": "execute_result"
    }
   ],
   "source": [
    "def Maximum_Product_Subarray(root):\n",
    "    Result = root[0]\n",
    "    for i in range(1,len(root)):\n",
    "        Multi = root[i]\n",
    "        for j in range(i+1,len(root)):\n",
    "            Result = max(Result,Multi)\n",
    "            Multi *= root[j]\n",
    "        Result = max(Result,Multi)\n",
    "    return Result\n",
    "Maximum_Product_Subarray(root)"
   ]
  },
  {
   "cell_type": "code",
   "execution_count": 107,
   "metadata": {},
   "outputs": [
    {
     "name": "stdout",
     "output_type": "stream",
     "text": [
      "found 0 1\n"
     ]
    }
   ],
   "source": [
    "def Non_negative_Sum_Subarray(root):\n",
    "    for i in range(len(root)):\n",
    "        current_sum = root[i]\n",
    "        if current_sum == sum:\n",
    "            print(\"found\",i)\n",
    "            return\n",
    "        else:\n",
    "            for j in range(i+1,len(root)):\n",
    "                current_sum += root[j]\n",
    "                print(\"found\",i,j)\n",
    "                return\n",
    "\n",
    "Non_negative_Sum_Subarray(root)"
   ]
  },
  {
   "cell_type": "code",
   "execution_count": 114,
   "metadata": {},
   "outputs": [
    {
     "data": {
      "text/plain": [
       "2"
      ]
     },
     "execution_count": 114,
     "metadata": {},
     "output_type": "execute_result"
    }
   ],
   "source": [
    "def  findAllSubarraysWithGivenSum(root,k):\n",
    "    current_sum = 0\n",
    "    count = 0\n",
    "    for i in range(len(root)):\n",
    "        for j in range(i,len(root)):\n",
    "            current_sum = sum(root[i:j+1])\n",
    "            if current_sum == k:\n",
    "                count += 1\n",
    "    return count\n",
    "root = [1,2,3]\n",
    "findAllSubarraysWithGivenSum(root,3)\n",
    "\n"
   ]
  },
  {
   "cell_type": "code",
   "execution_count": 116,
   "metadata": {},
   "outputs": [
    {
     "data": {
      "text/plain": [
       "0"
      ]
     },
     "execution_count": 116,
     "metadata": {},
     "output_type": "execute_result"
    }
   ],
   "source": [
    "def find_sum(root):\n",
    "    current_sum = 0\n",
    "    sum_map = {}\n",
    "    count = 0\n",
    "    for i in range(len(root)):\n",
    "        current_sum += root[i]\n",
    "        if current_sum in sum_map:\n",
    "            count += sum_map[current_sum]\n",
    "        else:\n",
    "            sum_map[current_sum] = 1\n",
    "    return count\n",
    "find_sum(root)\n",
    "    \n",
    "            "
   ]
  },
  {
   "cell_type": "code",
   "execution_count": 122,
   "metadata": {},
   "outputs": [
    {
     "data": {
      "text/plain": [
       "5"
      ]
     },
     "execution_count": 122,
     "metadata": {},
     "output_type": "execute_result"
    }
   ],
   "source": [
    "def  Longest_Alternating_Subarray(root):\n",
    "    current_sum = 1\n",
    "    Max_sum = 1\n",
    "    for i in range(1,len(root)):\n",
    "        if (root[i] % 2 == 0 and root[i-1] %2 != 0) or (root[i] % 2 != 0 and root[i-1] %2  == 0):\n",
    "            current_sum += 1\n",
    "            Max_sum = max(Max_sum,current_sum)\n",
    "        else:\n",
    "            current_sum = 1\n",
    "    return Max_sum\n",
    "root = [2,3,4,3,4]\n",
    "Longest_Alternating_Subarray(root)"
   ]
  },
  {
   "cell_type": "code",
   "execution_count": 4,
   "metadata": {},
   "outputs": [
    {
     "data": {
      "text/plain": [
       "6"
      ]
     },
     "execution_count": 4,
     "metadata": {},
     "output_type": "execute_result"
    }
   ],
   "source": [
    "def Maximum_Product_subarray(root):\n",
    "    Result = root[0]\n",
    "    for i in range(len(root)):\n",
    "        Mul = root[i]\n",
    "        for j in range(i+1,len(root)):\n",
    "            Result = max(Result,Mul)\n",
    "            Mul *= root[j]\n",
    "        Result = max(Result,Mul)\n",
    "    return Result\n",
    "Maximum_Product_subarray(root)\n"
   ]
  },
  {
   "cell_type": "code",
   "execution_count": 15,
   "metadata": {},
   "outputs": [
    {
     "data": {
      "text/plain": [
       "6"
      ]
     },
     "execution_count": 15,
     "metadata": {},
     "output_type": "execute_result"
    }
   ],
   "source": [
    "def longest_non_negative_subarray(root):\n",
    "    current_sum = 0\n",
    "    Max_lenght = 0\n",
    "    current_lenght = 0\n",
    "    for num in root:\n",
    "        current_sum += num\n",
    "        if current_sum >= 0:\n",
    "            current_lenght += 1\n",
    "            Max_lenght = max(Max_lenght,current_lenght)\n",
    "    return Max_lenght\n",
    "root = [1, 2, -3, 4, 5, -2]\n",
    "longest_non_negative_subarray(root)"
   ]
  },
  {
   "cell_type": "code",
   "execution_count": 17,
   "metadata": {},
   "outputs": [
    {
     "data": {
      "text/plain": [
       "2"
      ]
     },
     "execution_count": 17,
     "metadata": {},
     "output_type": "execute_result"
    }
   ],
   "source": [
    "def max_length_even_odd_subarray(root):\n",
    "    current_lenght = 1\n",
    "    Max_lenght = 1\n",
    "    for i in range(1,len(root)):\n",
    "        if (root[i] % 2 == 0 and root[i-1] % 2 !=0 ) or (root[i] % 2 != 0 and root[i-1] % 2 != 0):\n",
    "            current_lenght += 1\n",
    "            Max_lenght = max(current_lenght,Max_lenght)\n",
    "        else:\n",
    "            current_lenght = 1\n",
    "    return Max_lenght\n",
    "root = [2, 6, 4, 1, 8, 3]\n",
    "max_length_even_odd_subarray(root)"
   ]
  },
  {
   "cell_type": "code",
   "execution_count": null,
   "metadata": {},
   "outputs": [],
   "source": []
  }
 ],
 "metadata": {
  "kernelspec": {
   "display_name": "Python 3",
   "language": "python",
   "name": "python3"
  },
  "language_info": {
   "codemirror_mode": {
    "name": "ipython",
    "version": 3
   },
   "file_extension": ".py",
   "mimetype": "text/x-python",
   "name": "python",
   "nbconvert_exporter": "python",
   "pygments_lexer": "ipython3",
   "version": "3.11.6"
  }
 },
 "nbformat": 4,
 "nbformat_minor": 2
}
