{
 "cells": [
  {
   "cell_type": "code",
   "execution_count": 6,
   "metadata": {},
   "outputs": [
    {
     "data": {
      "text/plain": [
       "[1, 2, 3, 4, 5, 6, 7, 8, 9]"
      ]
     },
     "execution_count": 6,
     "metadata": {},
     "output_type": "execute_result"
    }
   ],
   "source": [
    "def Row_wise_Traversal(matrix):\n",
    "    rows,cols = len(matrix),len(matrix[0])\n",
    "    Result = []\n",
    "    for row in range(rows):\n",
    "        for col in range(cols):\n",
    "            Result.append(matrix[row][col])\n",
    "    return Result\n",
    "matrix = [\n",
    "    [1, 2, 3],\n",
    "    [4, 5, 6],\n",
    "    [7, 8, 9]\n",
    "]\n",
    "Row_wise_Traversal(matrix)\n",
    "\n",
    "def Row_wise_Traversal_1(matrix):\n",
    "    rows,cols = len(matrix),len(matrix[0])\n",
    "    left,right,top,down = 0,rows - 1,0,cols - 1\n",
    "    Result = []\n",
    "    while left <= right and top <= down:\n",
    "        for col in range(top,down + 1):\n",
    "            Result.append(matrix[left][col])\n",
    "        left += 1\n",
    "    return Result\n",
    "Row_wise_Traversal_1(matrix)\n",
    "\n",
    "        \n"
   ]
  },
  {
   "cell_type": "code",
   "execution_count": 7,
   "metadata": {},
   "outputs": [
    {
     "data": {
      "text/plain": [
       "[1, 4, 7, 2, 5, 8, 3, 6, 9]"
      ]
     },
     "execution_count": 7,
     "metadata": {},
     "output_type": "execute_result"
    }
   ],
   "source": [
    "def Column_wise_Traversal(matrix):\n",
    "    rows,cols = len(matrix),len(matrix[0])\n",
    "    Result = []\n",
    "    for row in range(rows):\n",
    "        for col in range(cols):\n",
    "            Result.append(matrix[col][row])\n",
    "    return Result\n",
    "Column_wise_Traversal(matrix)\n",
    "\n",
    "def Column_wise_Traversal_1(matrix):\n",
    "    rows,cols = len(matrix),len(matrix[0])\n",
    "    left,right,top,bottom = 0 , cols - 1,0,rows - 1\n",
    "    Result = []\n",
    "    while left <= right and top <= bottom:\n",
    "        for i in range(top,bottom + 1):\n",
    "            Result.append(matrix[i][left])\n",
    "        left += 1\n",
    "    return Result\n",
    "Column_wise_Traversal_1(matrix)\n",
    "\n"
   ]
  },
  {
   "cell_type": "code",
   "execution_count": 29,
   "metadata": {},
   "outputs": [
    {
     "data": {
      "text/plain": [
       "[1, 2, 3, 6, 9, 8, 7, 4, 5]"
      ]
     },
     "execution_count": 29,
     "metadata": {},
     "output_type": "execute_result"
    }
   ],
   "source": [
    "def Spiral_Traversa(matrix):\n",
    "    rows,cols = len(matrix),len(matrix[0])\n",
    "    left,right,top,down = 0,cols - 1,0,rows - 1\n",
    "    result = []\n",
    "    while left <= right and top <= down:\n",
    "        for i in range(left,right + 1):\n",
    "            result.append(matrix[top][i])\n",
    "        top += 1\n",
    "        for i in range(top,down + 1):\n",
    "            result.append(matrix[i][right])\n",
    "        right -= 1\n",
    "        if top <= down:\n",
    "            for i in range(right,left-1,-1):\n",
    "                result.append(matrix[down][i])\n",
    "            down -= 1\n",
    "        if left <= right:\n",
    "            for i in range(down,top - 1,-1):\n",
    "                result.append(matrix[i][left])\n",
    "            left += 1\n",
    "    return result\n",
    "Spiral_Traversa(matrix)"
   ]
  },
  {
   "cell_type": "code",
   "execution_count": 45,
   "metadata": {},
   "outputs": [
    {
     "data": {
      "text/plain": [
       "[5, 8, 9, 6, 3, 2, 1, 4, 7]"
      ]
     },
     "execution_count": 45,
     "metadata": {},
     "output_type": "execute_result"
    }
   ],
   "source": [
    "def Spiral_Traversa_Reverse(matrix):\n",
    "    rows,cols = len(matrix),len(matrix[0])\n",
    "    left,right,top,down = 0,cols - 1,0,rows - 1\n",
    "    result = []\n",
    "    while left <= right and top <= down:\n",
    "        for i in range(down,top - 1,-1):\n",
    "            result.append(matrix[i][left])\n",
    "        left += 1\n",
    "        for i in range(left,right + 1):\n",
    "            result.append(matrix[top][i])\n",
    "        top += 1\n",
    "        if left <= right:\n",
    "            for i in range(top,down + 1):\n",
    "                result.append(matrix[i][right])\n",
    "            right -= 1\n",
    "        if top <= down:\n",
    "            for i in range(right,left - 1,-1):\n",
    "                result.append(matrix[down][i])\n",
    "            down -= 1\n",
    "    return result[:: -1]\n",
    "matrix = [\n",
    "    [1, 2, 3],\n",
    "    [4, 5, 6],\n",
    "    [7, 8, 9]\n",
    "]\n",
    "Spiral_Traversa_Reverse(matrix)"
   ]
  },
  {
   "cell_type": "code",
   "execution_count": 50,
   "metadata": {},
   "outputs": [
    {
     "data": {
      "text/plain": [
       "[[4, 3, 7], [-5, 8, 5], [7, 6, 5]]"
      ]
     },
     "execution_count": 50,
     "metadata": {},
     "output_type": "execute_result"
    }
   ],
   "source": [
    "def Two_Matrix(matrix1,matrix2):\n",
    "    rows,cols = len(matrix1),len(matrix1[0])\n",
    "    Result = [[0 for _ in range(cols)]for _ in range(rows)]\n",
    "    for i in range(rows):\n",
    "        for j in range(cols):\n",
    "            Result[i][j] = matrix1[i][j] + matrix2[i][j]\n",
    "    return Result\n",
    "matrix1 = [\n",
    "    [1, 2, 3],\n",
    "    [-6, 1, 2],\n",
    "    [5, 4, 3]\n",
    "  ]\n",
    "matrix2 = [\n",
    "    [3, 1, 4],\n",
    "    [1, 7, 3],\n",
    "    [2, 2, 2]\n",
    "  ]\n",
    "Two_Matrix(matrix1,matrix2)\n",
    "\n",
    "    "
   ]
  },
  {
   "cell_type": "code",
   "execution_count": 55,
   "metadata": {},
   "outputs": [
    {
     "data": {
      "text/plain": [
       "[1, 2, 4, 3, 5, 7, 6, 8, 9]"
      ]
     },
     "execution_count": 55,
     "metadata": {},
     "output_type": "execute_result"
    }
   ],
   "source": [
    "def diagonal_traversal_top_left(matrix):\n",
    "    rows,cols = len(matrix),len(matrix[0])\n",
    "    Result = []\n",
    "    for d in range(rows + cols -1):\n",
    "        for i in range(max(0,d - cols + 1),min(d,rows - 1) + 1):\n",
    "            Result.append(matrix[i][d - i])\n",
    "    return Result\n",
    "matrix = [\n",
    "    [1, 2, 3],\n",
    "    [4, 5, 6],\n",
    "    [7, 8, 9]\n",
    "]\n",
    "diagonal_traversal_top_left(matrix)\n",
    "            \n"
   ]
  },
  {
   "cell_type": "code",
   "execution_count": 59,
   "metadata": {},
   "outputs": [
    {
     "data": {
      "text/plain": [
       "[3, 2, 6, 1, 5, 9, 4, 8, 7]"
      ]
     },
     "execution_count": 59,
     "metadata": {},
     "output_type": "execute_result"
    }
   ],
   "source": [
    "def diagonal_traversal_top_right(matrix):\n",
    "    rows,cols = len(matrix),len(matrix[0])\n",
    "    Result = []\n",
    "    for d in range(rows + cols -1):\n",
    "        for i in range(max(0,d - cols + 1),min(d,rows - 1) + 1):\n",
    "            Result.append(matrix[i][cols - 1-(d -i)])\n",
    "    return Result\n",
    "diagonal_traversal_top_right(matrix)"
   ]
  },
  {
   "cell_type": "code",
   "execution_count": 67,
   "metadata": {},
   "outputs": [
    {
     "name": "stdout",
     "output_type": "stream",
     "text": [
      "[1, 2, 4, 7, 5, 3, 6, 8, 9]\n"
     ]
    }
   ],
   "source": [
    "def zigzag_diagonal_traversal(matrix):\n",
    "    if not matrix or not matrix[0]:\n",
    "        return []\n",
    "\n",
    "    rows, cols = len(matrix), len(matrix[0])\n",
    "    result = []\n",
    "\n",
    "    for d in range(rows + cols - 1):\n",
    "        if d % 2 == 0:\n",
    "            # Traverse upwards for even-indexed diagonals\n",
    "            row = min(d, rows - 1)\n",
    "            col = max(0, d - rows + 1)\n",
    "            while row >= 0 and col < cols:\n",
    "                result.append(matrix[row][col])\n",
    "                row -= 1\n",
    "                col += 1\n",
    "        else:\n",
    "            # Traverse downwards for odd-indexed diagonals\n",
    "            col = min(d, cols - 1)\n",
    "            row = max(0, d - cols + 1)\n",
    "            while col >= 0 and row < rows:\n",
    "                result.append(matrix[row][col])\n",
    "                row += 1\n",
    "                col -= 1\n",
    "\n",
    "    return result\n",
    "\n",
    "# Example matrix\n",
    "matrix_example = [\n",
    "    [1, 2, 3],\n",
    "    [4, 5, 6],\n",
    "    [7, 8, 9]\n",
    "]\n",
    "\n",
    "# Get the specific zigzag diagonal traversal\n",
    "result_specific_zigzag_diagonal = zigzag_diagonal_traversal(matrix_example)\n",
    "\n",
    "# Print the specific zigzag diagonal traversal\n",
    "print(result_specific_zigzag_diagonal)\n"
   ]
  },
  {
   "cell_type": "code",
   "execution_count": 72,
   "metadata": {},
   "outputs": [
    {
     "data": {
      "text/plain": [
       "[[7, 4, 1], [8, 5, 2], [9, 6, 3]]"
      ]
     },
     "execution_count": 72,
     "metadata": {},
     "output_type": "execute_result"
    }
   ],
   "source": [
    "def rotate_90_clockwise(matrix):\n",
    "    rows,cols = len(matrix),len(matrix[0])\n",
    "    for i in range(rows):\n",
    "        for j in range(i,cols):\n",
    "            matrix[i][j],matrix[j][i] = matrix[j][i],matrix[i][j]\n",
    "    for i in range(rows):\n",
    "        matrix[i].reverse()\n",
    "    return matrix\n",
    "matrix =  [[1,2,3],[4,5,6],[7,8,9]]\n",
    "rotate_90_clockwise(matrix)"
   ]
  },
  {
   "cell_type": "code",
   "execution_count": 77,
   "metadata": {},
   "outputs": [
    {
     "data": {
      "text/plain": [
       "[[7, 8, 9], [8, 5, 6], [9, 6, 3]]"
      ]
     },
     "execution_count": 77,
     "metadata": {},
     "output_type": "execute_result"
    }
   ],
   "source": [
    "def Rotate_matrix_size(matrix,size):\n",
    "    rows,cols = len(matrix),len(matrix[0])\n",
    "    for i in range(rows):\n",
    "        for j in range(cols):\n",
    "            matrix[i][j],matrix[j][i] = matrix[j][i],matrix[j][i]\n",
    "    if size == 90:\n",
    "        for i in range(rows):\n",
    "            matrix[i].reverse()\n",
    "    elif size == 180:\n",
    "        for i in range(rows):\n",
    "            matrix[i].reverse()\n",
    "    elif size == 270:\n",
    "        for i in range(rows):\n",
    "            matrix[i].reverse()\n",
    "    return matrix\n",
    "Rotate_matrix_size(matrix,2)"
   ]
  },
  {
   "cell_type": "code",
   "execution_count": 79,
   "metadata": {},
   "outputs": [
    {
     "data": {
      "text/plain": [
       "[[6, 1, 5, 3], [0, 3, 2, 6], [4, 0, 4, 7], [1, 2, 9, 1]]"
      ]
     },
     "execution_count": 79,
     "metadata": {},
     "output_type": "execute_result"
    }
   ],
   "source": [
    "def Swap_the_elements(matrix):\n",
    "    rows,cols = len(matrix),len(matrix[0])\n",
    "    for i in range(rows):\n",
    "        for j in range(cols):\n",
    "            matrix[i][j],matrix[j][i] = matrix[j][i],matrix[i][j]\n",
    "    return matrix\n",
    "matrix = [\n",
    "        [6, 1, 5, 3], \n",
    "        [0, 3, 2, 6], \n",
    "        [4, 0, 4, 7], \n",
    "        [1, 2, 9, 1]\n",
    "    ]\n",
    "Swap_the_elements(matrix)"
   ]
  },
  {
   "cell_type": "code",
   "execution_count": 81,
   "metadata": {},
   "outputs": [
    {
     "data": {
      "text/plain": [
       "1"
      ]
     },
     "execution_count": 81,
     "metadata": {},
     "output_type": "execute_result"
    }
   ],
   "source": [
    "def Find_minimum_element_row(matrix):\n",
    "    rows,cols = len(matrix),len(matrix[0])\n",
    "    for i in range(rows):\n",
    "        min_element = matrix[i][0]\n",
    "        for j in range(cols):\n",
    "            if matrix[i][j] < min_element:\n",
    "                min_element = matrix[i][j]\n",
    "    return min_element\n",
    "Find_minimum_element_row(matrix)"
   ]
  },
  {
   "cell_type": "code",
   "execution_count": 86,
   "metadata": {},
   "outputs": [
    {
     "data": {
      "text/plain": [
       "(1, [0, 0, 2, 1])"
      ]
     },
     "execution_count": 86,
     "metadata": {},
     "output_type": "execute_result"
    }
   ],
   "source": [
    "def Find_minimum_element_col(matrix):\n",
    "    rows,cols = len(matrix),len(matrix)\n",
    "    Result = []\n",
    "    for i in range(rows):\n",
    "        min_element = matrix[i][0]\n",
    "        for j in range(cols):\n",
    "            if matrix[j][i] < min_element:\n",
    "                min_element = matrix[j][i]\n",
    "        Result.append(min_element)\n",
    "    return min_element,Result\n",
    "Find_minimum_element_col(matrix)"
   ]
  },
  {
   "cell_type": "code",
   "execution_count": 90,
   "metadata": {},
   "outputs": [
    {
     "data": {
      "text/plain": [
       "(9, [6, 6, 7, 9])"
      ]
     },
     "execution_count": 90,
     "metadata": {},
     "output_type": "execute_result"
    }
   ],
   "source": [
    "def colMaxElement(matrix):\n",
    "    rows,cols = len(matrix),len(matrix[0])\n",
    "    Result = []\n",
    "    for i in range(rows):\n",
    "        max_element = matrix[i][0]\n",
    "        for j in range(cols):\n",
    "            if matrix[i][j] > max_element:\n",
    "                max_element = matrix[i][j]\n",
    "        Result.append(max_element)\n",
    "    return max_element,Result\n",
    "colMaxElement(matrix)"
   ]
  },
  {
   "cell_type": "code",
   "execution_count": 91,
   "metadata": {},
   "outputs": [
    {
     "data": {
      "text/plain": [
       "7"
      ]
     },
     "execution_count": 91,
     "metadata": {},
     "output_type": "execute_result"
    }
   ],
   "source": [
    "def row_max_element(matrix):\n",
    "    rows,cols = len(matrix),len(matrix[0])\n",
    "    for i in range(rows):\n",
    "        max_element = matrix[i][0]\n",
    "        for j in range(cols):\n",
    "            if matrix[j][i] > max_element:\n",
    "                max_element = matrix[j][i]\n",
    "    return max_element\n",
    "row_max_element(matrix)\n",
    "            "
   ]
  },
  {
   "cell_type": "code",
   "execution_count": 2,
   "metadata": {},
   "outputs": [
    {
     "data": {
      "text/plain": [
       "8"
      ]
     },
     "execution_count": 2,
     "metadata": {},
     "output_type": "execute_result"
    }
   ],
   "source": [
    "def count_negative_elements(matrix):\n",
    "    count = 0\n",
    "    for row in matrix:\n",
    "        for col in row:\n",
    "            if col < 0:\n",
    "                count += 1\n",
    "    return count\n",
    "matrix = [[4,3,2,-1],[3,2,1,-1],[1,1,-1,-2],[-1,-1,-2,-3]]\n",
    "count_negative_elements(matrix)"
   ]
  },
  {
   "cell_type": "code",
   "execution_count": 17,
   "metadata": {},
   "outputs": [
    {
     "data": {
      "text/plain": [
       "[1, 2, 4, 3, 5, 7, 6, 8, 9]"
      ]
     },
     "execution_count": 17,
     "metadata": {},
     "output_type": "execute_result"
    }
   ],
   "source": [
    "def diagonal_top_up_traversal(matrix):\n",
    "    rows,cols = len(matrix),len(matrix[0])\n",
    "    Result = []\n",
    "    for d in range(rows + cols - 1):\n",
    "        for i in range(max(0,d - rows + 1),min(d,cols - 1)+ 1):\n",
    "            Result.append(matrix[i][d - i])\n",
    "    return Result\n",
    "matrix = [\n",
    "    [1, 2, 3],\n",
    "    [4, 5, 6],\n",
    "    [7, 8, 9]\n",
    "]\n",
    "diagonal_top_up_traversal(matrix)"
   ]
  },
  {
   "cell_type": "code",
   "execution_count": 20,
   "metadata": {},
   "outputs": [
    {
     "data": {
      "text/plain": [
       "[1, 4, 2, 7, 5, 3, 8, 6, 9]"
      ]
     },
     "execution_count": 20,
     "metadata": {},
     "output_type": "execute_result"
    }
   ],
   "source": [
    "def diagonal_bottom_up_traversal(matrix):\n",
    "    rows , cols = len(matrix),len(matrix[0])\n",
    "    Result = []\n",
    "    for d in range(rows + cols - 1):\n",
    "        for i in range(max(0,d - cols + 1),min(d,rows - 1) + 1):\n",
    "            Result.append(matrix[d -i][i])\n",
    "    return Result\n",
    "matrix = [\n",
    "    [1, 2, 3],\n",
    "    [4, 5, 6],\n",
    "    [7, 8, 9]\n",
    "]\n",
    "diagonal_bottom_up_traversal(matrix)"
   ]
  },
  {
   "cell_type": "code",
   "execution_count": 23,
   "metadata": {},
   "outputs": [
    {
     "data": {
      "text/plain": [
       "(9, 1)"
      ]
     },
     "execution_count": 23,
     "metadata": {},
     "output_type": "execute_result"
    }
   ],
   "source": [
    "def findMinMax(matrix):\n",
    "    max_element = float('-inf')\n",
    "    min_element = float('inf')\n",
    "    rows,cols = len(matrix),len(matrix[0])\n",
    "    for i in range(rows):\n",
    "        for j in range(cols):\n",
    "            if matrix[i][j] < min_element:\n",
    "                min_element = matrix[i][j]\n",
    "            if matrix[i][j] > max_element:\n",
    "                max_element = matrix[i][j]\n",
    "    return max_element,min_element\n",
    "\n",
    "findMinMax(matrix)\n"
   ]
  },
  {
   "cell_type": "code",
   "execution_count": 26,
   "metadata": {},
   "outputs": [
    {
     "name": "stdout",
     "output_type": "stream",
     "text": [
      "0\n",
      "1\n",
      "2\n"
     ]
    }
   ],
   "source": [
    "def find(matrix):\n",
    "    rows,cols = len(matrix),len(matrix[0])\n",
    "    for i in range(cols):\n",
    "        status = 1\n",
    "        for j in range(rows):\n",
    "            if i not in matrix[j]:\n",
    "                status == 0\n",
    "                break\n",
    "        if status == 1:\n",
    "            print(i)\n",
    "find(matrix)\n"
   ]
  },
  {
   "cell_type": "code",
   "execution_count": 27,
   "metadata": {},
   "outputs": [],
   "source": [
    "def kth_element_spiral(matrix,k):\n",
    "    rows,cols = len(matrix),len(matrix[0])\n",
    "    Result = []\n",
    "    left,right,top,bottom = 0,cols - 1,0,rows - 1\n",
    "    while left <= right and top <= bottom:\n",
    "        pass"
   ]
  },
  {
   "cell_type": "code",
   "execution_count": null,
   "metadata": {},
   "outputs": [],
   "source": []
  },
  {
   "cell_type": "code",
   "execution_count": null,
   "metadata": {},
   "outputs": [],
   "source": []
  }
 ],
 "metadata": {
  "kernelspec": {
   "display_name": "Python 3",
   "language": "python",
   "name": "python3"
  },
  "language_info": {
   "codemirror_mode": {
    "name": "ipython",
    "version": 3
   },
   "file_extension": ".py",
   "mimetype": "text/x-python",
   "name": "python",
   "nbconvert_exporter": "python",
   "pygments_lexer": "ipython3",
   "version": "3.11.7"
  }
 },
 "nbformat": 4,
 "nbformat_minor": 2
}
