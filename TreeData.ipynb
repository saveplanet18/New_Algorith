{
 "cells": [
  {
   "cell_type": "code",
   "execution_count": 2,
   "metadata": {},
   "outputs": [],
   "source": [
    "class TreeObject(object):\n",
    "    def __init__(self,elements):\n",
    "        self.elements = elements\n",
    "        self.Left = None\n",
    "        self.Right = None"
   ]
  },
  {
   "cell_type": "code",
   "execution_count": 50,
   "metadata": {},
   "outputs": [],
   "source": [
    "if __name__ == \"__main__\":\n",
    "    root = TreeObject(1)\n",
    "    root.Left = TreeObject(12)\n",
    "    root.Right = TreeObject(9)\n",
    "    root.Left.Left = TreeObject(5)\n",
    "    root.Left.Right = TreeObject(6)\n",
    "\n",
    "    def In_Order(root):\n",
    "        if root:\n",
    "            In_Order(root.Left)\n",
    "            print(root.elements,end = '->')\n",
    "            In_Order(root.Right)\n",
    "    \n",
    "    # print(In_Order(root))\n",
    "    def In_Order_Stack(root):\n",
    "        if not root:\n",
    "            return []\n",
    "        Result = []\n",
    "        Result += In_Order_Stack(root.Left)\n",
    "        Result.append(root.elements)\n",
    "        Result += In_Order_Stack(root.Right)\n",
    "        return Result\n",
    "    # print(In_Order_loop(root))\n",
    "    def In_Order_loop(root):\n",
    "        Current = root\n",
    "        Stack = []\n",
    "        Result = []\n",
    "        while (Stack or Current):\n",
    "            while Current:\n",
    "                Stack.append(Current)\n",
    "                Current = Current.Left\n",
    "            Current = Stack.pop()\n",
    "            Result.append(Current.elements)\n",
    "            Current = Current.Right\n",
    "        return Result\n",
    "    # print(In_Order_loop(root))\n",
    "    def Pre_order(root):\n",
    "        if root:\n",
    "            print(root.elements, end = '->')\n",
    "            Pre_order(root.Left)\n",
    "            Pre_order(root.Right)\n",
    "        \n",
    "    # print(Pre_order(root))\n",
    "    def Pre_order_Stack(root):\n",
    "        if not root:\n",
    "            return []\n",
    "        Result = []\n",
    "        Result.append(root.elements)\n",
    "        Result += Pre_order_Stack(root.Left)\n",
    "        Result += Pre_order_Stack(root.Right)\n",
    "        return Result\n",
    "    # print(Pre_order_Stack(root))\n",
    "\n",
    "    def Pre_order_loop(root):\n",
    "        if not root:\n",
    "            return []\n",
    "        \n",
    "        Result = []\n",
    "        Stack = []\n",
    "        current = root\n",
    "        while (current or Stack):\n",
    "            while current:\n",
    "                Result.append(current.elements)\n",
    "                Stack.append(current)\n",
    "                current = current.Left\n",
    "            \n",
    "            current = Stack.pop()\n",
    "            current = current.Right\n",
    "        return Result\n",
    "\n",
    "    # print(Pre_order_loop(root)) \n",
    "    def Post_order(root):\n",
    "        if root:\n",
    "            Post_order(root.Left)\n",
    "            Post_order(root.Right)\n",
    "            print(root.elements,end = '->')\n",
    "\n",
    "    # print(Post_order(root))\n",
    "    def Post_order_Stack(root):\n",
    "        if not root:\n",
    "            return []\n",
    "        \n",
    "        Result = []\n",
    "        Result += Post_order_Stack(root.Left)\n",
    "        Result += Post_order_Stack(root.Right)\n",
    "        Result.append(root.elements)\n",
    "        return Result\n",
    "    \n",
    "    # print(Post_order_Stack(root))\n",
    "    def Post_order_loop(root):\n",
    "        if not root:\n",
    "            return []\n",
    "        \n",
    "        stack = []\n",
    "        Result = []\n",
    "        current = root\n",
    "        while current or stack:\n",
    "            if current.Left:\n",
    "                stack.append(current.Left)\n",
    "            if current.Right:\n",
    "                stack.append(current.Right)\n",
    "            \n",
    "            current = stack.pop()\n",
    "            Result.append(current.elements)\n",
    "        return Result\n",
    "            \n",
    "    # print(Post_order_loop(root))\n"
   ]
  },
  {
   "cell_type": "code",
   "execution_count": 73,
   "metadata": {},
   "outputs": [],
   "source": [
    "class Tree_Node(object):\n",
    "    def __init__(self,elements):\n",
    "        self.elements = elements\n",
    "        self.Left = None\n",
    "        self.Right = None\n",
    "\n",
    "    def In_order_object(self):\n",
    "        if self.Left:\n",
    "            self.Left.In_order_object()\n",
    "        print(self.elements,end = '->')\n",
    "        if self.Right:\n",
    "            self.Right.In_order_object()\n",
    "\n",
    "    def Pre_order_object(self):\n",
    "        print(self.elements,end ='->')\n",
    "        if self.Left:\n",
    "            self.Left.Pre_order_object()\n",
    "        if self.Right:\n",
    "            self.Right.Pre_order_object()\n",
    "\n",
    "    def Post_order_object(self):\n",
    "        if self.Left:\n",
    "            self.Left.Post_order_object()\n",
    "        \n",
    "        if self.Right:\n",
    "            self.Right.Post_order_object()\n",
    "        print(self.elements,end = '->')"
   ]
  },
  {
   "cell_type": "code",
   "execution_count": 74,
   "metadata": {},
   "outputs": [
    {
     "name": "stdout",
     "output_type": "stream",
     "text": [
      "4->2->6->5->7->1->3->None\n",
      "1->2->4->5->6->7->3->None\n",
      "4->6->7->5->2->3->1->None\n"
     ]
    }
   ],
   "source": [
    "root = Tree_Node(1)\n",
    "root.Left = Tree_Node(2)\n",
    "root.Right = Tree_Node(3)\n",
    "root.Left.Left = Tree_Node(4)\n",
    "root.Left.Right = Tree_Node(5)\n",
    "root.Left.Right.Left = Tree_Node(6)\n",
    "root.Left.Right.Right = Tree_Node(7)\n",
    "print(root.In_order_object())\n",
    "print(root.Pre_order_object())\n",
    "print(root.Post_order_object())\n"
   ]
  },
  {
   "cell_type": "code",
   "execution_count": 88,
   "metadata": {},
   "outputs": [],
   "source": [
    "class Full_Binary_Object(object):\n",
    "    def __init__(self,elements):\n",
    "        self.elements = elements\n",
    "        self.Leftchild = None\n",
    "        self.Rightchild = None"
   ]
  },
  {
   "cell_type": "code",
   "execution_count": 143,
   "metadata": {},
   "outputs": [
    {
     "name": "stdout",
     "output_type": "stream",
     "text": [
      "[1, 2, 4, 5, 3]\n"
     ]
    }
   ],
   "source": [
    "if __name__ == \"__main__\":\n",
    "    root = Full_Binary_Object(1)\n",
    "    root.Leftchild = Full_Binary_Object(2)\n",
    "    root.Rightchild = Full_Binary_Object(3)\n",
    "    root.Leftchild.Leftchild = Full_Binary_Object(4)\n",
    "    root.Leftchild.Rightchild = Full_Binary_Object(5)\n",
    "    # root.Leftchild.Rightchild.Leftchild = Full_Binary_Object(6)\n",
    "    # root.Leftchild.Rightchild.Rightchild = Full_Binary_Object(7)\n",
    "    # root.Leftchild.Leftchild.Leftchild = Full_Binary_Object(8)\n",
    "    # root.Leftchild.Leftchild.Rightchild = Full_Binary_Object(9)\n",
    "\n",
    "    def Pre_order_one(root):\n",
    "        if not root:\n",
    "            return []\n",
    "        Result = []\n",
    "        Result.append(root.elements)\n",
    "        Result += Pre_order_one(root.Leftchild)\n",
    "        Result += Pre_order_one(root.Rightchild)\n",
    "        return Result\n",
    "\n",
    "    print(Pre_order_one(root)) "
   ]
  },
  {
   "cell_type": "code",
   "execution_count": 144,
   "metadata": {},
   "outputs": [
    {
     "name": "stdout",
     "output_type": "stream",
     "text": [
      "True\n"
     ]
    }
   ],
   "source": [
    "def Full_binary_def(root):\n",
    "    if root is None:\n",
    "        return True\n",
    "    elif root.Leftchild is None and root.Rightchild is None:\n",
    "        return True\n",
    "    elif root.Leftchild is not None and root.Rightchild is not None:\n",
    "        return Full_binary_def(root.Leftchild) and Full_binary_def(root.Rightchild)\n",
    "    return False\n",
    "    \n",
    "\n",
    "print(Full_binary_def(root))"
   ]
  },
  {
   "cell_type": "code",
   "execution_count": 145,
   "metadata": {},
   "outputs": [
    {
     "name": "stdout",
     "output_type": "stream",
     "text": [
      "3\n"
     ]
    }
   ],
   "source": [
    "# perfect binary tree is every internal Node exacly two nodes and all leaf nodes are at the same level\n",
    "def Count_Node(root):\n",
    "    Height = 0\n",
    "    while (root is not None):\n",
    "        Height += 1\n",
    "        root = root.Leftchild\n",
    "    return Height\n",
    "print(Count_Node(root))"
   ]
  },
  {
   "cell_type": "code",
   "execution_count": 146,
   "metadata": {},
   "outputs": [
    {
     "name": "stdout",
     "output_type": "stream",
     "text": [
      "5\n"
     ]
    }
   ],
   "source": [
    "def Count_all_Node(root):\n",
    "    if not root:\n",
    "        return 0\n",
    "    return 1 + Count_all_Node(root.Leftchild) + Count_all_Node(root.Rightchild)\n",
    "\n",
    "print(Count_all_Node(root))"
   ]
  },
  {
   "cell_type": "code",
   "execution_count": 147,
   "metadata": {},
   "outputs": [
    {
     "name": "stdout",
     "output_type": "stream",
     "text": [
      "4\n"
     ]
    }
   ],
   "source": [
    "def Height_of_the_Node(root):\n",
    "    if not root:\n",
    "        return True\n",
    "    return 1 + max(Height_of_the_Node(root.Leftchild) ,Height_of_the_Node(root.Rightchild))\n",
    "\n",
    "print(Height_of_the_Node(root))"
   ]
  },
  {
   "cell_type": "code",
   "execution_count": 148,
   "metadata": {},
   "outputs": [
    {
     "name": "stdout",
     "output_type": "stream",
     "text": [
      "False\n"
     ]
    }
   ],
   "source": [
    "def Perfect_Binary_Tree(root):\n",
    "    if not root:\n",
    "        return True\n",
    "    height = Height_of_the_Node(root)\n",
    "    all_Node = Count_all_Node(root)\n",
    "    expect_Node = 2 ** height -1\n",
    "    return expect_Node == all_Node\n",
    "\n",
    "print(Perfect_Binary_Tree(root))\n"
   ]
  },
  {
   "cell_type": "code",
   "execution_count": 149,
   "metadata": {},
   "outputs": [
    {
     "name": "stdout",
     "output_type": "stream",
     "text": [
      "False\n"
     ]
    }
   ],
   "source": [
    "def Perfect_Binary_Tree(root,d , level = 0):\n",
    "    if root is None:\n",
    "        return True\n",
    "    elif (root.Leftchild is None and root.Rightchild is None):\n",
    "        return (d == level + 1)\n",
    "    elif root.Leftchild is None or root.Rightchild is None:\n",
    "        return False\n",
    "    return (Perfect_Binary_Tree(root.Leftchild,d,level+1) and Perfect_Binary_Tree(root.Rightchild,d,level + 1))\n",
    "\n",
    "print(Perfect_Binary_Tree(root,Count_Node(root)))"
   ]
  },
  {
   "cell_type": "code",
   "execution_count": 188,
   "metadata": {},
   "outputs": [
    {
     "name": "stdout",
     "output_type": "stream",
     "text": [
      "True\n"
     ]
    }
   ],
   "source": [
    "class Perfect_Binary_Tree(object):\n",
    "    def __init__(self,elements):\n",
    "        self.elements = elements\n",
    "        self.Leftchild = None\n",
    "        self.Rightchild = None\n",
    "\n",
    "if __name__ == \"__main__\":\n",
    "   root = None\n",
    "   root = Perfect_Binary_Tree(1)\n",
    "   root.Leftchild = Perfect_Binary_Tree(2)\n",
    "   root.Rightchild = Perfect_Binary_Tree(3)\n",
    "   root.Leftchild.Leftchild = Perfect_Binary_Tree(4)\n",
    "   root.Leftchild.Rightchild = Perfect_Binary_Tree(5)\n",
    "   root.Rightchild.Leftchild = Perfect_Binary_Tree(6)\n",
    "   root.Rightchild.Rightchild = Perfect_Binary_Tree(7)\n",
    "\n",
    "   def Count_all_Node(root):\n",
    "       d = 0\n",
    "       while (root is not None):\n",
    "           d += 1\n",
    "           root = root.Leftchild\n",
    "       return d\n",
    "\n",
    "   def is_Perfect_Binary(root,d , level = 0):\n",
    "       if root is None:\n",
    "           return True\n",
    "       elif root.Leftchild is None and root.Rightchild is None:\n",
    "           return (d == level + 1)\n",
    "       \n",
    "       elif (root.Leftchild is None or root.Rightchild is None):\n",
    "           return False\n",
    "       \n",
    "       return is_Perfect_Binary(root.Leftchild,d,level + 1) and is_Perfect_Binary(root.Rightchild,d , level + 1)\n",
    "   \n",
    "   print(is_Perfect_Binary(root,Count_all_Node(root)))    "
   ]
  },
  {
   "cell_type": "code",
   "execution_count": 203,
   "metadata": {},
   "outputs": [
    {
     "name": "stdout",
     "output_type": "stream",
     "text": [
      "True\n"
     ]
    }
   ],
   "source": [
    "root = None\n",
    "root = Perfect_Binary_Tree(1)\n",
    "root.Leftchild = Perfect_Binary_Tree(5)\n",
    "root.Rightchild = Perfect_Binary_Tree(3)\n",
    "\n",
    "\n",
    "def get_height_Tree(root):\n",
    "    if root is None:\n",
    "        return 0\n",
    "    return 1 + max(get_height_Tree(root.Leftchild),get_height_Tree(root.Rightchild))\n",
    "\n",
    "def get_Count(root):\n",
    "    if not root:\n",
    "        return 0\n",
    "    return 1 + get_Count(root.Leftchild) + get_Count(root.Rightchild)\n",
    "\n",
    "\n",
    "def is_Perfect_Binary(root):\n",
    "    if root is None:\n",
    "        return True\n",
    "    hieght = get_height_Tree(root)\n",
    "    all_code = get_Count(root)\n",
    "    expect_node = 2 ** hieght - 1\n",
    "    return expect_node == all_code\n",
    "\n",
    "print(is_Perfect_Binary(root))"
   ]
  },
  {
   "cell_type": "code",
   "execution_count": 204,
   "metadata": {},
   "outputs": [],
   "source": [
    "class Complet_Binary_Tree_object(object):\n",
    "    def __init__(self,elements):\n",
    "        self.elements = elements\n",
    "        self.Leftchild = None\n",
    "        self.Rightchild = None"
   ]
  },
  {
   "cell_type": "code",
   "execution_count": 228,
   "metadata": {},
   "outputs": [
    {
     "name": "stdout",
     "output_type": "stream",
     "text": [
      "True\n"
     ]
    }
   ],
   "source": [
    "if __name__ == \"__main__\":\n",
    "    root = None\n",
    "    root = Perfect_Binary_Tree(1)\n",
    "    root.Leftchild = Perfect_Binary_Tree(2)\n",
    "    root.Rightchild = Perfect_Binary_Tree(3)\n",
    "    root.Leftchild.Leftchild = Perfect_Binary_Tree(4)\n",
    "    root.Leftchild.Rightchild = Perfect_Binary_Tree(5)\n",
    "    \n",
    "    def Count_all_Node(root):\n",
    "        if root is None:\n",
    "            return 0\n",
    "        return 1 + Count_all_Node(root.Leftchild) + Count_all_Node(root.Rightchild)\n",
    "    \n",
    "    def Complet_Binary_Tree_object_1(root,index,Depth_Node):\n",
    "        if root is None:\n",
    "            return True\n",
    "        elif index >= Depth_Node:\n",
    "            return False\n",
    "        \n",
    "        return Complet_Binary_Tree_object_1(root.Leftchild,2*index + 1,Depth_Node) and Complet_Binary_Tree_object_1(root.Rightchild,2 * index + 2,Depth_Node)\n",
    "    \n",
    "    print(Complet_Binary_Tree_object_1(root,0,Count_all_Node(root)))"
   ]
  },
  {
   "cell_type": "code",
   "execution_count": 241,
   "metadata": {},
   "outputs": [
    {
     "name": "stdout",
     "output_type": "stream",
     "text": [
      "True\n"
     ]
    }
   ],
   "source": [
    "if __name__ == \"__main__\":\n",
    "    root = None\n",
    "    root = Perfect_Binary_Tree(1)\n",
    "    root.Leftchild = Perfect_Binary_Tree(2)\n",
    "    root.Rightchild = Perfect_Binary_Tree(3)\n",
    "    \n",
    "    def Count_all_Node(root):\n",
    "        if root is None:\n",
    "            return 0\n",
    "        return 1 + max(Count_all_Node(root.Leftchild),Count_all_Node(root.Rightchild))\n",
    "    \n",
    "    \n",
    "    def Balanced_Binary_Tree(root):\n",
    "        if root is None:\n",
    "            return True\n",
    "        \n",
    "        Left_child = Count_all_Node(root.Leftchild)\n",
    "        Right_child = Count_all_Node(root.Rightchild)\n",
    "        \n",
    "        if abs(Left_child-Right_child) <= 1:\n",
    "            return Balanced_Binary_Tree(root.Leftchild) and Balanced_Binary_Tree(root.Rightchild)\n",
    "        return False\n",
    "    print(Balanced_Binary_Tree(root))\n",
    "    "
   ]
  },
  {
   "cell_type": "code",
   "execution_count": 78,
   "metadata": {},
   "outputs": [
    {
     "name": "stdout",
     "output_type": "stream",
     "text": [
      "2->1->3->1->2->3->2->3->1->"
     ]
    }
   ],
   "source": [
    "class TreeObject18(object):\n",
    "    def __init__(self,elements):\n",
    "        self.elements = elements\n",
    "        self.Leftchild = None\n",
    "        self.Rightchild = None\n",
    "\n",
    "    def In_order18(self):\n",
    "        if self.Leftchild:\n",
    "            self.Leftchild.In_order18()\n",
    "        print(self.elements,end = '->')\n",
    "        if self.Rightchild:\n",
    "            self.Rightchild.In_order18()\n",
    "    \n",
    "    def Pre_Order18(self):\n",
    "        print(self.elements,end = '->')\n",
    "        if self.Leftchild:\n",
    "            self.Leftchild.Pre_Order18()\n",
    "        if self.Rightchild:\n",
    "            self.Rightchild.Pre_Order18()\n",
    "\n",
    "    def Post_Order18(self):\n",
    "        if self.Leftchild:\n",
    "            self.Leftchild.Post_Order18()\n",
    "        if self.Rightchild:\n",
    "            self.Rightchild.Post_Order18()\n",
    "        print(self.elements,end = '->')\n",
    "        \n",
    "    \n",
    "if __name__ == \"__main__\":\n",
    "    root = TreeObject18(1)\n",
    "    root.Leftchild = TreeObject18(2)\n",
    "    root.Rightchild = TreeObject18(3)\n",
    "    root.In_order18()\n",
    "    root.Pre_Order18()\n",
    "    root.Post_Order18()"
   ]
  },
  {
   "cell_type": "code",
   "execution_count": 66,
   "metadata": {},
   "outputs": [
    {
     "name": "stdout",
     "output_type": "stream",
     "text": [
      "[2, 1, 3]\n"
     ]
    }
   ],
   "source": [
    "root = None\n",
    "root = TreeObject18(1)\n",
    "root.Leftchild = TreeObject18(2)\n",
    "root.Rightchild = TreeObject18(3)\n",
    "\n",
    "def In_order18(root):\n",
    "    if root:\n",
    "        In_order18(root.Leftchild)\n",
    "        print(root.elements,end = '->')\n",
    "        In_order18(root.Rightchild)\n",
    "    \n",
    "def In_order18_loop(root):\n",
    "    if not root:\n",
    "        return True\n",
    "    \n",
    "    Result = []\n",
    "    stack = []\n",
    "    current = root\n",
    "    while current or stack:\n",
    "        while current:\n",
    "            stack.append(current)\n",
    "            current = current.Leftchild\n",
    "        current = stack.pop()\n",
    "        Result.append(current.elements)\n",
    "        current = current.Rightchild\n",
    "    return Result\n",
    "\n",
    "\n",
    "def In_order18_stack(root):\n",
    "    if not root:\n",
    "        return []\n",
    "    Result = []\n",
    "    Result += In_order18_stack(root.Leftchild)\n",
    "    Result.append(root.elements)\n",
    "    Result += In_order18_stack(root.Rightchild)\n",
    "    return Result\n",
    "    \n",
    "print(In_order18_stack(root))"
   ]
  },
  {
   "cell_type": "code",
   "execution_count": 67,
   "metadata": {},
   "outputs": [
    {
     "name": "stdout",
     "output_type": "stream",
     "text": [
      "[1, 2, 3]\n"
     ]
    }
   ],
   "source": [
    "def Pre_Order18(root):\n",
    "    if root:\n",
    "        print(root.elements,end = '->')\n",
    "        Pre_Order18(root.Leftchild)\n",
    "        Pre_Order18(root.Rightchild)\n",
    "\n",
    "def Pre_Order18_loop(root):\n",
    "    if not root:\n",
    "        return []\n",
    "    \n",
    "    Result = []\n",
    "    stack = []\n",
    "    current = root\n",
    "    while current or stack:\n",
    "        while current:\n",
    "            stack.append(current)\n",
    "            Result.append(current.elements)\n",
    "            current = current.Leftchild\n",
    "        current = stack.pop()\n",
    "        current = current.Rightchild\n",
    "    return Result\n",
    "\n",
    "def Pre_Order18_stack(root):\n",
    "    if not root:\n",
    "        return []\n",
    "    \n",
    "    Result = []\n",
    "    Result.append(root.elements)\n",
    "    Result += Pre_Order18_stack(root.Leftchild)\n",
    "    Result += Pre_Order18_stack(root.Rightchild)\n",
    "    return Result\n",
    "\n",
    "print(Pre_Order18_stack(root))"
   ]
  },
  {
   "cell_type": "code",
   "execution_count": 73,
   "metadata": {},
   "outputs": [
    {
     "name": "stdout",
     "output_type": "stream",
     "text": [
      "2->3->1->None\n"
     ]
    }
   ],
   "source": [
    "def Post_Order18_loop(root):\n",
    "    if not root:\n",
    "        return []\n",
    "    \n",
    "    Result = []\n",
    "    Stack = []\n",
    "    current = root\n",
    "    while current or Stack:\n",
    "        while current:\n",
    "            Stack.append(current)\n",
    "            current = current.Leftchild\n",
    "        current = current.Rightchild\n",
    "        Result.append(current.elements)\n",
    "        current = Stack.pop()\n",
    "        \n",
    "                \n",
    "    return Result\n",
    "\n",
    "def Post_Order18_stack(root):\n",
    "    if not root:\n",
    "        return []\n",
    "    \n",
    "    Result = []\n",
    "    Result += Post_Order18_stack(root.Leftchild)\n",
    "    Result += Post_Order18_stack(root.Rightchild)\n",
    "    Result.append(root.elements)\n",
    "    return Result\n",
    "\n",
    "def Post_Order18(root):\n",
    "    if root:\n",
    "        Post_Order18(root.Leftchild)\n",
    "        Post_Order18(root.Rightchild)\n",
    "        print(root.elements,end = '->')\n",
    "\n",
    "print(Post_Order18(root))\n"
   ]
  },
  {
   "cell_type": "code",
   "execution_count": 87,
   "metadata": {},
   "outputs": [
    {
     "name": "stdout",
     "output_type": "stream",
     "text": [
      "False\n"
     ]
    }
   ],
   "source": [
    "root = None\n",
    "root = TreeObject18(1)\n",
    "root.Leftchild = TreeObject18(2)\n",
    "root.Rightchild = TreeObject18(3)\n",
    "root.Leftchild.Leftchild = TreeObject18(4)\n",
    "# every internal node have exactly two or zero nodes\n",
    "def Full_Binary_tree(root):\n",
    "    if not root:\n",
    "        return True\n",
    "    elif root.Leftchild is None and root.Rightchild is None:\n",
    "        return True\n",
    "    elif (root.Leftchild is not None) and (root.Rightchild is not None):\n",
    "        return Full_Binary_tree(root.Leftchild) and Full_Binary_tree(root.Rightchild)\n",
    "    return False\n",
    "\n",
    "print(Full_Binary_tree(root))"
   ]
  },
  {
   "cell_type": "code",
   "execution_count": 107,
   "metadata": {},
   "outputs": [
    {
     "name": "stdout",
     "output_type": "stream",
     "text": [
      "True\n"
     ]
    }
   ],
   "source": [
    "root = None\n",
    "root = TreeObject18(1)\n",
    "root.Leftchild = TreeObject18(2)\n",
    "root.Rightchild = TreeObject18(3)\n",
    "\n",
    "def Count_all_Node18(root):\n",
    "    if not root:\n",
    "        return 0\n",
    "    return 1 + Count_all_Node18(root.Leftchild) + Count_all_Node18(root.Rightchild)\n",
    "\n",
    "def Height_of_Tree(root):\n",
    "    if not root:\n",
    "        return 0\n",
    "    return 1 + max(Height_of_Tree(root.Leftchild),Height_of_Tree(root.Rightchild))\n",
    "\n",
    "\n",
    "def Perfect_Binary_Tree(root):\n",
    "    if not root:\n",
    "        return True\n",
    "    \n",
    "    number_of_Node = Count_all_Node18(root)\n",
    "    height_of_Node = Height_of_Tree(root)\n",
    "    expected_Node = 2 * height_of_Node - 1\n",
    "    return number_of_Node == expected_Node\n",
    "\n",
    "print(Perfect_Binary_Tree(root))\n"
   ]
  },
  {
   "cell_type": "code",
   "execution_count": 119,
   "metadata": {},
   "outputs": [
    {
     "name": "stdout",
     "output_type": "stream",
     "text": [
      "True\n"
     ]
    }
   ],
   "source": [
    "def Count_all_Node18(root):\n",
    "    if not root:\n",
    "        return 0\n",
    "    return 1 + Count_all_Node18(root.Leftchild) + Count_all_Node18(root.Rightchild)\n",
    "\n",
    "def Complete_Binary_Tree(root,index,numberofnode):\n",
    "    if not root:\n",
    "        return True\n",
    "    \n",
    "    elif index >= numberofnode:\n",
    "        return False\n",
    "    \n",
    "    return Complete_Binary_Tree(root.Leftchild,2*index+1,numberofnode) and Complete_Binary_Tree(root.Rightchild,2*index+2,numberofnode)\n",
    "    \n",
    "\n",
    "print(Complete_Binary_Tree(root,0,Count_all_Node18(root)))"
   ]
  },
  {
   "cell_type": "code",
   "execution_count": 133,
   "metadata": {},
   "outputs": [
    {
     "name": "stdout",
     "output_type": "stream",
     "text": [
      "True\n"
     ]
    }
   ],
   "source": [
    "root = None\n",
    "root = TreeObject18(1)\n",
    "root.Leftchild = TreeObject18(2)\n",
    "root.Rightchild = TreeObject18(3)\n",
    "root.Leftchild.Leftchild = TreeObject18(4)\n",
    "root.Rightchild.Rightchild = TreeObject18(5)\n",
    "\n",
    "def Count_all_Node18(root):\n",
    "    if not root:\n",
    "        return 0\n",
    "    return 1 + Count_all_Node18(root.Leftchild) + Count_all_Node18(root.Rightchild)\n",
    "\n",
    "\n",
    "def Height_of_Tree(root):\n",
    "    if not root:\n",
    "        return 0\n",
    "    return 1 + max(Height_of_Tree(root.Leftchild),Height_of_Tree(root.Rightchild))\n",
    "\n",
    "\n",
    "def Balanced_binary_Tree(root):\n",
    "    if not root:\n",
    "        return True\n",
    "\n",
    "    heightofleft = Height_of_Tree(root.Leftchild)\n",
    "    heightofright = Height_of_Tree(root.Rightchild)\n",
    "\n",
    "    if abs(heightofleft-heightofright) <= 1:\n",
    "        return Balanced_binary_Tree(root.Leftchild) and Balanced_binary_Tree(root.Rightchild)\n",
    "    return False\n",
    "\n",
    "print(Balanced_binary_Tree(root))\n"
   ]
  },
  {
   "cell_type": "code",
   "execution_count": 134,
   "metadata": {},
   "outputs": [],
   "source": [
    "class Binar_Search_Tree(object):\n",
    "    def __init__(self,elements):\n",
    "        self.elements = elements\n",
    "        self.Leftchild = None\n",
    "        self.Rightchild = None"
   ]
  },
  {
   "cell_type": "code",
   "execution_count": 137,
   "metadata": {},
   "outputs": [
    {
     "name": "stdout",
     "output_type": "stream",
     "text": [
      "<__main__.Binar_Search_Tree object at 0x000002D588C9E3E0>\n"
     ]
    }
   ],
   "source": [
    "class TreeNode:\n",
    "    def __init__(self, key):\n",
    "        self.key = key\n",
    "        self.left = None\n",
    "        self.right = None\n",
    "\n",
    "\n",
    "class BinarySearchTree:\n",
    "    def __init__(self):\n",
    "        self.root = None\n",
    "\n",
    "    def insert(self, key):\n",
    "        if not self.root:\n",
    "            self.root = TreeNode(key)\n",
    "            return\n",
    "\n",
    "        current = self.root\n",
    "        while current:\n",
    "            if key < current.key:\n",
    "                if current.left is None:\n",
    "                    current.left = TreeNode(key)\n",
    "                    return\n",
    "                else:\n",
    "                    current = current.left\n",
    "            elif key > current.key:\n",
    "                if current.right is None:\n",
    "                    current.right = TreeNode(key)\n",
    "                    return\n",
    "                else:\n",
    "                    current = current.right\n",
    "            else:\n",
    "                # If the key is already present, we can decide whether to replace or ignore it.\n",
    "                # In this case, we will ignore it.\n",
    "                return\n",
    "\n",
    "    def search(self, key):\n",
    "        current = self.root\n",
    "        while current:\n",
    "            if key == current.key:\n",
    "                return current\n",
    "            elif key < current.key:\n",
    "                current = current.left\n",
    "            else:\n",
    "                current = current.right\n",
    "        return None\n",
    "\n",
    "    def delete(self, key):\n",
    "        self.root = self._delete_iterative(self.root, key)\n",
    "\n",
    "    def _delete_iterative(self, root, key):\n",
    "        current = root\n",
    "        parent = None\n",
    "\n",
    "        while current and current.key != key:\n",
    "            parent = current\n",
    "            if key < current.key:\n",
    "                current = current.left\n",
    "            else:\n",
    "                current = current.right\n",
    "\n",
    "        if not current:\n",
    "            return root\n",
    "\n",
    "        if not current.left:\n",
    "            if not parent:\n",
    "                return current.right\n",
    "            if current == parent.left:\n",
    "                parent.left = current.right\n",
    "            else:\n",
    "                parent.right = current.right\n",
    "        elif not current.right:\n",
    "            if not parent:\n",
    "                return current.left\n",
    "            if current == parent.left:\n",
    "                parent.left = current.left\n",
    "            else:\n",
    "                parent.right = current.left\n",
    "        else:\n",
    "            temp = self._find_min_node(current.right)\n",
    "            current.key = temp.key\n",
    "            current.right = self._delete_iterative(current.right, temp.key)\n",
    "\n",
    "        return root\n",
    "\n",
    "    def _find_min_node(self, node):\n",
    "        current = node\n",
    "        while current.left:\n",
    "            current = current.left\n",
    "        return current\n",
    "\n",
    "    def inorder_traversal(self):\n",
    "        result = []\n",
    "        stack = []\n",
    "        current = self.root\n",
    "\n",
    "        while current or stack:\n",
    "            while current:\n",
    "                stack.append(current)\n",
    "                current = current.left\n",
    "\n",
    "            current = stack.pop()\n",
    "            result.append(current.key)\n",
    "            current = current.right\n",
    "\n",
    "        return result\n",
    "\n",
    "\n",
    "# Example usage:\n",
    "bst = BinarySearchTree()\n",
    "bst.insert(50)\n",
    "bst.insert(30)\n",
    "bst.insert(70)\n",
    "bst.insert(20)\n",
    "bst.insert(40)\n",
    "\n",
    "print(\"Inorder Traversal:\", bst.inorder_traversal())  # Output: [20, 30, 40, 50, 70]\n",
    "\n",
    "node = bst.search(30)\n",
    "if node:\n",
    "    print(\"Node found:\", node.key)  # Output: Node found: 30\n",
    "else:\n",
    "    print(\"Node not found\")\n",
    "\n",
    "bst.delete(30)\n",
    "print(\"Inorder Traversal after deletion:\", bst.inorder_traversal())  # Output: [20, 40, 50, 70]\n",
    "\n"
   ]
  },
  {
   "cell_type": "code",
   "execution_count": null,
   "metadata": {},
   "outputs": [],
   "source": []
  }
 ],
 "metadata": {
  "kernelspec": {
   "display_name": "base",
   "language": "python",
   "name": "python3"
  },
  "language_info": {
   "codemirror_mode": {
    "name": "ipython",
    "version": 3
   },
   "file_extension": ".py",
   "mimetype": "text/x-python",
   "name": "python",
   "nbconvert_exporter": "python",
   "pygments_lexer": "ipython3",
   "version": "3.10.9"
  },
  "orig_nbformat": 4
 },
 "nbformat": 4,
 "nbformat_minor": 2
}
