{
 "cells": [
  {
   "cell_type": "code",
   "execution_count": 15,
   "metadata": {},
   "outputs": [
    {
     "data": {
      "text/plain": [
       "[0, 0, 0, 0, 1, 1, 1, 1, 1]"
      ]
     },
     "execution_count": 15,
     "metadata": {},
     "output_type": "execute_result"
    }
   ],
   "source": [
    "def Segragation0and1(root):\n",
    "    left,right = 0 ,len(root) - 1\n",
    "    while left < right:\n",
    "        if root[left] == 0 and left < right:\n",
    "            left += 1\n",
    "        elif root[right] == 1 and left < right:\n",
    "            right -= 1\n",
    "        else:\n",
    "            root[left],root[right] = root[right],root[left]\n",
    "            left += 1\n",
    "            right -= 1\n",
    "    return root\n",
    "root = [1, 0, 1, 0, 0, 1, 1, 0, 1]\n",
    "Segragation0and1(root)"
   ]
  },
  {
   "cell_type": "code",
   "execution_count": 35,
   "metadata": {},
   "outputs": [
    {
     "data": {
      "text/plain": [
       "[0, 0, 0, 0, 0, 1, 1, 1, 1, 0, 2, 2, 2, 2, 2]"
      ]
     },
     "execution_count": 35,
     "metadata": {},
     "output_type": "execute_result"
    }
   ],
   "source": [
    "root = [0, 1, 0, 2, 2, 1, 2, 0, 0, 2, 0, 1, 1, 0, 2]\n",
    "def Sort_an_array(root):\n",
    "    left,mid, right = 0 ,0 , len(root) - 1\n",
    "    while mid < right:\n",
    "        if root[mid] == 0 :\n",
    "            root[left],root[mid] = root[mid],root[left]\n",
    "            left += 1\n",
    "            mid += 1\n",
    "        elif root[mid] == 1:\n",
    "            mid += 1\n",
    "        else:\n",
    "            root[right],root[mid] = root[mid],root[right]\n",
    "            right -= 1\n",
    "    return root\n",
    "    \n",
    "\n",
    "Sort_an_array(root)\n"
   ]
  },
  {
   "cell_type": "code",
   "execution_count": 37,
   "metadata": {},
   "outputs": [
    {
     "data": {
      "text/plain": [
       "[0, 0, 0, 0, 1, 1, 1, 1, 1, 1]"
      ]
     },
     "execution_count": 37,
     "metadata": {},
     "output_type": "execute_result"
    }
   ],
   "source": [
    "root = [0, 1, 1, 0, 1, 0, 1, 1, 0, 1]\n",
    "def Sort_given_binary(root):\n",
    "    left,right = 0,len(root) - 1\n",
    "    while left < right:\n",
    "        if root[left] == 0:\n",
    "            left += 1\n",
    "        elif root[right] == 1:\n",
    "            right -= 1\n",
    "        else:\n",
    "            root[left],root[right] = root[right],root[left]\n",
    "            left += 1\n",
    "            right -= 1\n",
    "    return root\n",
    "Sort_given_binary(root)"
   ]
  },
  {
   "cell_type": "code",
   "execution_count": 39,
   "metadata": {},
   "outputs": [
    {
     "data": {
      "text/plain": [
       "[1, 6, 3, 2, 11, -5, -7, -1]"
      ]
     },
     "execution_count": 39,
     "metadata": {},
     "output_type": "execute_result"
    }
   ],
   "source": [
    "root = [1, -1, 3, 2, -7, -5, 11, 6]\n",
    "def Move_all_negative(root):\n",
    "    left,right = 0,len(root) - 1\n",
    "    while left < right:\n",
    "        if root[left] >= 0:\n",
    "            left += 1\n",
    "        elif root[right] <= 0:\n",
    "            right -= 1\n",
    "        else:\n",
    "            root[left] ,root[right] = root[right],root[left]\n",
    "            left += 1\n",
    "            right -= 1\n",
    "    return root\n",
    "Move_all_negative(root)\n"
   ]
  },
  {
   "cell_type": "code",
   "execution_count": 47,
   "metadata": {},
   "outputs": [
    {
     "name": "stdout",
     "output_type": "stream",
     "text": [
      "7 6\n",
      "7 4\n",
      "7 5\n",
      "6 4\n",
      "6 5\n",
      "9 8\n"
     ]
    }
   ],
   "source": [
    "root = [1, 7, 6, 4, 5, 9, 8]\n",
    "def Display_Inversions_pair(root):\n",
    "    left,right = 0,len(root) - 1\n",
    "    for i in range(left,right+1):\n",
    "        for j in range(i+1,right+1):\n",
    "            if root[i] > root[j]:\n",
    "                print(root[i],root[j])\n",
    "\n",
    "Display_Inversions_pair(root)"
   ]
  },
  {
   "cell_type": "code",
   "execution_count": 62,
   "metadata": {},
   "outputs": [
    {
     "data": {
      "text/plain": [
       "[10, 8, 2, 4, 9, 3, 7, 5, 1]"
      ]
     },
     "execution_count": 62,
     "metadata": {},
     "output_type": "execute_result"
    }
   ],
   "source": [
    "root = [1, 8, 7, 3, 9, 4, 2, 5, 10]\n",
    "def Segregate_even_odd(root):\n",
    "    left,right = 0,len(root) - 1\n",
    "    # while left < right:\n",
    "    #     if root[left] % 2 == 0 :\n",
    "    #         left += 1\n",
    "    #     elif root[right] % 2 != 0:\n",
    "    #         right -= 1\n",
    "    #     else:\n",
    "    #         root[left],root[right] = root[right],root[left]\n",
    "    #         left += 1\n",
    "    #         right -= 1\n",
    "    # for i in range(left,right):\n",
    "    #     if root[left] % 2 == 0:\n",
    "    #         left += 1\n",
    "    #     elif root[right] % 2 != 0:\n",
    "    #         right -= 1\n",
    "    #     else:\n",
    "    #         root[left],root[right] = root[right],root[left]\n",
    "    #         left += 1\n",
    "    #         right -= 1\n",
    "    # return root\n",
    "    while left < right:\n",
    "        while root[left] % 2 == 0 and left < right:\n",
    "            left += 1\n",
    "        while root[right] % 2 != 0 and left < right:\n",
    "            right -= 1\n",
    "        if left < right:\n",
    "            root[left],root[right] = root[right],root[left]\n",
    "            left += 1\n",
    "            right -= 1\n",
    "    return root\n",
    "Segregate_even_odd(root)"
   ]
  },
  {
   "cell_type": "code",
   "execution_count": 64,
   "metadata": {},
   "outputs": [
    {
     "data": {
      "text/plain": [
       "[1, 1, 4, 7, 2, 2, 1, 2, 1, 6, 0, 0, 0, 0, 0]"
      ]
     },
     "execution_count": 64,
     "metadata": {},
     "output_type": "execute_result"
    }
   ],
   "source": [
    "root = [0, 1, 4, 7, 2, 2, 1, 2, 0, 0, 6, 0, 1, 1, 0]\n",
    "def Move_all_zeroes_to_end(root):\n",
    "    left,right = 0,len(root) - 1\n",
    "    while left < right:\n",
    "        if root[right] == 0 and left < right:\n",
    "            right -= 1\n",
    "        elif root[left] != 0 and left < right:\n",
    "            left += 1\n",
    "        else:\n",
    "            root[left],root[right] = root[right],root[left]\n",
    "            left += 1\n",
    "            right -= 1\n",
    "    return root\n",
    "Move_all_zeroes_to_end(root)"
   ]
  },
  {
   "cell_type": "code",
   "execution_count": 73,
   "metadata": {},
   "outputs": [
    {
     "data": {
      "text/plain": [
       "[-1, 0, 1, 1, 2, 3, 4, 4, 7, 8, 9, 10, 11]"
      ]
     },
     "execution_count": 73,
     "metadata": {},
     "output_type": "execute_result"
    }
   ],
   "source": [
    "root1 =  [0, 1, 4, 4, 7, 8, 10]\n",
    "root2 = [-1, 1, 2, 3, 9, 11]\n",
    "result = []\n",
    "def Merge_two_sorted(root1,root2):\n",
    "    Result = root1 + root2\n",
    "    Result.sort()\n",
    "    return Result\n",
    "Merge_two_sorted(root1 ,root2)\n",
    "        "
   ]
  },
  {
   "cell_type": "code",
   "execution_count": 82,
   "metadata": {},
   "outputs": [
    {
     "data": {
      "text/plain": [
       "[10, 1, 9, 2, 8, 3, 7, 4]"
      ]
     },
     "execution_count": 82,
     "metadata": {},
     "output_type": "execute_result"
    }
   ],
   "source": [
    "root = [1, 6, 9, 4, 3, 7, 8, 2, 10]\n",
    "def Alternative_Sorting(root):\n",
    "    root.sort()\n",
    "    left,right = 0 ,len(root) - 1\n",
    "    Result = []\n",
    "    while left < right:\n",
    "        if root[left] == root[right]:\n",
    "            Result.append(root[left])\n",
    "        else:\n",
    "            Result.append(root[right])\n",
    "\n",
    "            Result.append(root[left])\n",
    "        left += 1\n",
    "        right -= 1\n",
    "    return Result\n",
    "Alternative_Sorting(root)"
   ]
  },
  {
   "cell_type": "code",
   "execution_count": 103,
   "metadata": {},
   "outputs": [
    {
     "data": {
      "text/plain": [
       "[3, 6, 2, 8, 10, 1, 7, 4, 9, 5]"
      ]
     },
     "execution_count": 103,
     "metadata": {},
     "output_type": "execute_result"
    }
   ],
   "source": [
    "root = [1, 2, 3, 4, 5, 6, 7, 8, 9, 10]\n",
    "index = [5,2,0, 7, 9, 1, 6, 3, 8, 4]\n",
    "\n",
    "def Reorder_an_array(root,index):\n",
    "    Result = [None]* len(root)\n",
    "    for i in range(len(root)):\n",
    "        Result[index[i]] = root[i]\n",
    "    return Result\n",
    "    # Result = [None] * len(root)\n",
    "    # left,right = 0 , len(root) - 1\n",
    "    # while left < right:\n",
    "    #     Result[index[left][right]] = root[left][right]\n",
    "    #     left += 1\n",
    "    #     right -= 1\n",
    "    # return Result\n",
    "Reorder_an_array(root,index)"
   ]
  },
  {
   "cell_type": "code",
   "execution_count": 110,
   "metadata": {},
   "outputs": [
    {
     "data": {
      "text/plain": [
       "[9, 8, 6, 5, 4, 7, 3, 2, 1]"
      ]
     },
     "execution_count": 110,
     "metadata": {},
     "output_type": "execute_result"
    }
   ],
   "source": [
    "root = [1, 2, 3, 4, 5, 6, 7, 8, 9]\n",
    "def Split_the_array(root,k):\n",
    "    left ,right = 0 , len(root) - 1\n",
    "    while left < right:\n",
    "        if root[left] == k:\n",
    "            root[left],root[right] = root[right],root[left]\n",
    "            right -= 1\n",
    "        elif root[right] == k:\n",
    "            left += 1\n",
    "        else:\n",
    "            root[left],root[right] = root[right],root[left]\n",
    "            left += 1\n",
    "            right -= 1\n",
    "    return root\n",
    "Split_the_array(root,3)\n"
   ]
  },
  {
   "cell_type": "code",
   "execution_count": 135,
   "metadata": {},
   "outputs": [
    {
     "data": {
      "text/plain": [
       "1"
      ]
     },
     "execution_count": 135,
     "metadata": {},
     "output_type": "execute_result"
    }
   ],
   "source": [
    "root = [13, 17, 17, 31, 1, 4, 6, 8, 9, 12]\n",
    "def Find_smallest_element(root):\n",
    "    left,right = 0 , len(root) - 1\n",
    "    while left < right:\n",
    "        mid = (left + right) // 2\n",
    "        if root[mid] > root[right]:\n",
    "            left = mid + 1\n",
    "        elif root[mid] < root[left]:\n",
    "            right = mid\n",
    "        else:\n",
    "            right -= 1\n",
    "    return root[left]\n",
    "Find_smallest_element(root)"
   ]
  },
  {
   "cell_type": "code",
   "execution_count": 159,
   "metadata": {},
   "outputs": [
    {
     "data": {
      "text/plain": [
       "17"
      ]
     },
     "execution_count": 159,
     "metadata": {},
     "output_type": "execute_result"
    }
   ],
   "source": [
    "def Find_the_largest_pair_sum(root):\n",
    "    first_largest = max(root[0],root[1])\n",
    "    second_largest = min(root[0],root[1])\n",
    "    for i in range(2,len(root)):\n",
    "        if root[i] > first_largest:\n",
    "            first_largest = root[i]\n",
    "        elif root[i] > second_largest:\n",
    "            second_largest = root[i]\n",
    "    Result = first_largest + second_largest\n",
    "    return Result\n",
    "Find_the_largest_pair_sum(root)"
   ]
  },
  {
   "cell_type": "code",
   "execution_count": 162,
   "metadata": {},
   "outputs": [
    {
     "data": {
      "text/plain": [
       "(86, 44)"
      ]
     },
     "execution_count": 162,
     "metadata": {},
     "output_type": "execute_result"
    }
   ],
   "source": [
    "root = [10, 3, 23, 86, 8, 9, 44, 5, 7]\n",
    "def Find_the_largest_and_second_largest(root):\n",
    "    first_largest = max(root[0],root[1])\n",
    "    second_largest = min(root[0],root[1])\n",
    "    for i in range(2,len(root)):\n",
    "        if first_largest < root[i]:\n",
    "            first_largest = root[i]\n",
    "        elif second_largest < root[i]:\n",
    "            second_largest = root[i]\n",
    "    return first_largest , second_largest\n",
    "Find_the_largest_and_second_largest(root)"
   ]
  },
  {
   "cell_type": "code",
   "execution_count": 166,
   "metadata": {},
   "outputs": [
    {
     "data": {
      "text/plain": [
       "(44, -1)"
      ]
     },
     "execution_count": 166,
     "metadata": {},
     "output_type": "execute_result"
    }
   ],
   "source": [
    "root = [10, 3, 44, 8, 3, 2, 1, -1, 6, 8, 9, 4, 5, 7]\n",
    "def Find_the_largest_and_smallest(root):\n",
    "    laregest = max(root[0],root[1])\n",
    "    smallest = min(root[0],root[1])\n",
    "    for i in range(2,len(root)):\n",
    "        if laregest <  root[i]:\n",
    "            laregest = root[i]\n",
    "        elif smallest > root[i]:\n",
    "            smallest = root[i]\n",
    "    return laregest,smallest\n",
    "Find_the_largest_and_smallest(root)"
   ]
  },
  {
   "cell_type": "code",
   "execution_count": 169,
   "metadata": {},
   "outputs": [
    {
     "data": {
      "text/plain": [
       "2"
      ]
     },
     "execution_count": 169,
     "metadata": {},
     "output_type": "execute_result"
    }
   ],
   "source": [
    "root = [5, 6, 4, 7, 3, 10, 6, 2, 4]\n",
    "def Find_the_nearest_smaller(root):\n",
    "    smallest = min(root[0],root[1])\n",
    "    for i in range(2,len(root)):\n",
    "        if smallest > root[i]:\n",
    "            smallest = root[i]\n",
    "    return smallest\n",
    "Find_the_nearest_smaller(root)"
   ]
  },
  {
   "cell_type": "code",
   "execution_count": 173,
   "metadata": {},
   "outputs": [
    {
     "data": {
      "text/plain": [
       "(3, 4)"
      ]
     },
     "execution_count": 173,
     "metadata": {},
     "output_type": "execute_result"
    }
   ],
   "source": [
    "root = [10, 3, 44, 86, 8, 9, 4, 5, 7]\n",
    "def Find_the_smallest_and_second(root):\n",
    "    smallest_value = min(root[0],root[1])\n",
    "    second_smallest = max(root[0],root[1])\n",
    "    for i in range(2,len(root)):\n",
    "        if smallest_value > root[i]:\n",
    "            smallest_value = root[i]\n",
    "        elif second_smallest > root[i]:\n",
    "            second_smallest = root[i]\n",
    "    return smallest_value,second_smallest\n",
    "Find_the_smallest_and_second(root)"
   ]
  },
  {
   "cell_type": "code",
   "execution_count": 177,
   "metadata": {},
   "outputs": [
    {
     "data": {
      "text/plain": [
       "[2, 2, 2, 2, 5, 5, 5, 1, 1, 6, 6, 3, 4, 9]"
      ]
     },
     "execution_count": 177,
     "metadata": {},
     "output_type": "execute_result"
    }
   ],
   "source": [
    "root = [6, 5, 4, 1, 6, 5, 5, 2, 9, 3, 1, 2, 2, 2]\n",
    "def sort_by_frequency(root):\n",
    "    dectionary_frequence = {}\n",
    "    for num in root:\n",
    "        if num in dectionary_frequence:\n",
    "            dectionary_frequence[num] += 1\n",
    "        else:\n",
    "            dectionary_frequence[num] = 1\n",
    "    sorted_element = sorted(root,key = lambda x : (-dectionary_frequence[x],x))\n",
    "    return sorted_element\n",
    "sort_by_frequency(root)\n",
    "        "
   ]
  },
  {
   "cell_type": "code",
   "execution_count": 190,
   "metadata": {},
   "outputs": [
    {
     "data": {
      "text/plain": [
       "5"
      ]
     },
     "execution_count": 190,
     "metadata": {},
     "output_type": "execute_result"
    }
   ],
   "source": [
    "root = [1, 2, 3, 4, 4, 7, 7]\n",
    "def Find_missing_elements(root):\n",
    "    left,right = 0 ,len(root) - 1\n",
    "    while left < right:\n",
    "        mid = (left + right) // 2\n",
    "        if root[mid] != mid + 1:\n",
    "            right = mid - 1\n",
    "        else:\n",
    "            left = mid + 1\n",
    "    return left + 1\n",
    "Find_missing_elements(root)"
   ]
  },
  {
   "cell_type": "code",
   "execution_count": 194,
   "metadata": {},
   "outputs": [
    {
     "data": {
      "text/plain": [
       "[6, 3, 5, 2, 1, 8, 1, -2, -8, -6, -7, -3, -1]"
      ]
     },
     "execution_count": 194,
     "metadata": {},
     "output_type": "execute_result"
    }
   ],
   "source": [
    "root = [6, -3, 5, 2, 1, 8, -7, -2, -8, -6, 1, 3, -1]\n",
    "def Segregate_positive_negativ(root):\n",
    "    left , right = 0 , len(root) - 1\n",
    "    while left < right:\n",
    "        if root[left] >= 0:\n",
    "            left += 1\n",
    "        elif root[right] <= 0:\n",
    "            right -= 1\n",
    "        else:\n",
    "            root[left],root[right] = root[right],root[left]\n",
    "            left += 1\n",
    "            right -= 1  \n",
    "    return root\n",
    "Segregate_positive_negativ(root)"
   ]
  },
  {
   "cell_type": "code",
   "execution_count": 195,
   "metadata": {},
   "outputs": [
    {
     "name": "stdout",
     "output_type": "stream",
     "text": [
      "5 8\n",
      "5 2\n",
      "5 4\n",
      "5 9\n",
      "8 9\n",
      "2 4\n",
      "2 9\n",
      "4 9\n"
     ]
    }
   ],
   "source": [
    "root = [5, 8, 2, 4, 9, 3]\n",
    "def Count_divisible_pairs(root):\n",
    "    left,right = 0,len(root) - 1\n",
    "    for i in range(left,right):\n",
    "        for j in range(i+1,right):\n",
    "            if root[i] % root[j] or root[j] % root[i] == 0:\n",
    "                print(root[i],root[j])\n",
    "\n",
    "Count_divisible_pairs(root)"
   ]
  },
  {
   "cell_type": "code",
   "execution_count": 205,
   "metadata": {},
   "outputs": [
    {
     "name": "stdout",
     "output_type": "stream",
     "text": [
      "Total subarrays of sum [ 9 ] is: 3\n"
     ]
    }
   ],
   "source": [
    "root = [-10, 23, 7, -18, 11, 9, 4, -4, 8, -17]\n",
    "def Count_subarray(root,sum1):\n",
    "    count = 0\n",
    "    for i in range(len(root)):\n",
    "        auxelary = root[i]\n",
    "        for j in range(i+1,len(root)):\n",
    "            auxelary += root[j]\n",
    "            if auxelary == sum1:\n",
    "                count += 1\n",
    "    print(\"Total subarrays of sum [\", sum1, \"] is:\", count)\n",
    "Count_subarray(root,9)"
   ]
  },
  {
   "cell_type": "code",
   "execution_count": 219,
   "metadata": {},
   "outputs": [
    {
     "data": {
      "text/plain": [
       "{6: 1, 7: 3, 8: 5, 9: 2, 20: 1}"
      ]
     },
     "execution_count": 219,
     "metadata": {},
     "output_type": "execute_result"
    }
   ],
   "source": [
    "root = [6,7, 7, 7, 8, 8, 8, 8, 8, 9, 9, 20]\n",
    "def Count_number_of_occurrences(root,x):\n",
    "    left,right = 0,len(root) - 1\n",
    "    count = 0\n",
    "    # for i in range(left,right):\n",
    "    #     if root[i] == x:\n",
    "    #         count += 1\n",
    "    dict = {}\n",
    "    for num in root:\n",
    "        if num in dict:\n",
    "            dict[num] += 1\n",
    "        else:\n",
    "            dict[num] = 1\n",
    "    return dict\n",
    "Count_number_of_occurrences(root,8)"
   ]
  },
  {
   "cell_type": "code",
   "execution_count": 3,
   "metadata": {},
   "outputs": [
    {
     "data": {
      "text/plain": [
       "30"
      ]
     },
     "execution_count": 3,
     "metadata": {},
     "output_type": "execute_result"
    }
   ],
   "source": [
    "root =  [10, 3, 5, 30, 35]\n",
    "def findGreatest(root):\n",
    "    Result = -1\n",
    "    for i in range(len(root)):\n",
    "        for j in range(len(root) -1):\n",
    "            for k in range(j+1,len(root)):\n",
    "                if root[j] * root[k] == root[i]:\n",
    "                    Result = max(Result,root[i])\n",
    "    return Result\n",
    "findGreatest(root)"
   ]
  },
  {
   "cell_type": "code",
   "execution_count": 6,
   "metadata": {},
   "outputs": [
    {
     "data": {
      "text/plain": [
       "[-9, -1, 0, -2, -5, -7, 8, 3, 5, 9, 4, 2, 1, 10, 2]"
      ]
     },
     "execution_count": 6,
     "metadata": {},
     "output_type": "execute_result"
    }
   ],
   "source": [
    "def Move_all_negative(root):\n",
    "    left,right = 0,len(root) - 1\n",
    "    while left < right:\n",
    "        if root[left] <= 0 and left < right:\n",
    "            left += 1\n",
    "        elif root[right] >= 0 and left < right:\n",
    "            right -= 1\n",
    "        else:\n",
    "            root[left],root[right] = root[right],root[left]\n",
    "            left += 1\n",
    "            right -= 1\n",
    "    return root\n",
    "root = [2 ,-1, 0, -2, 1, 8, -7, 3, 5, 9, 4, 2, -5, 10, -9]\n",
    "Move_all_negative(root)"
   ]
  },
  {
   "cell_type": "code",
   "execution_count": 9,
   "metadata": {},
   "outputs": [
    {
     "data": {
      "text/plain": [
       "3"
      ]
     },
     "execution_count": 9,
     "metadata": {},
     "output_type": "execute_result"
    }
   ],
   "source": [
    "def find_equilibrium_index(root):\n",
    "    left,right = 0,len(root) - 1\n",
    "    for i in range(left,right):\n",
    "        leftside = 0\n",
    "        rightside = 0\n",
    "        for j in range(i):\n",
    "            leftside += root[j]\n",
    "        for j in range(i+1,right):\n",
    "            rightside += root[j]\n",
    "        \n",
    "        if leftside == rightside:\n",
    "            return i\n",
    "root = [-7, 1, 5, 2, -4, 3, 0]\n",
    "find_equilibrium_index(root)"
   ]
  },
  {
   "cell_type": "code",
   "execution_count": 16,
   "metadata": {},
   "outputs": [
    {
     "name": "stdout",
     "output_type": "stream",
     "text": [
      "17,5,2,"
     ]
    }
   ],
   "source": [
    "def find_leaders(root):\n",
    "    for i in range(len(root)):\n",
    "        for j in range(i+1,len(root)):\n",
    "            if root[i] < root[j]:\n",
    "                break\n",
    "        if j == len(root) - 1:\n",
    "            print(root[i],end =',')\n",
    "root = [16, 17, 4, 3, 5, 2] \n",
    "find_leaders(root)"
   ]
  },
  {
   "cell_type": "code",
   "execution_count": 20,
   "metadata": {},
   "outputs": [
    {
     "data": {
      "text/plain": [
       "[('ab', 'ba'), ('cd', 'dc')]"
      ]
     },
     "execution_count": 20,
     "metadata": {},
     "output_type": "execute_result"
    }
   ],
   "source": [
    "def find_symmetric_pairs(root):\n",
    "    symmatric = []\n",
    "    for i in range(len(root)):\n",
    "        for j in range(i+1,len(root)):\n",
    "            if root[i] == root[j][::-1]:\n",
    "                symmatric.append((root[i],root[j]))\n",
    "    return symmatric\n",
    "root = [\"ab\", \"bc\", \"ba\", \"cd\", \"dc\"]\n",
    "find_symmetric_pairs(root)\n"
   ]
  },
  {
   "cell_type": "code",
   "execution_count": 23,
   "metadata": {},
   "outputs": [
    {
     "data": {
      "text/plain": [
       "5"
      ]
     },
     "execution_count": 23,
     "metadata": {},
     "output_type": "execute_result"
    }
   ],
   "source": [
    "def find_single_element(root):\n",
    "    Result = 0\n",
    "    for i in root:\n",
    "\n",
    "        Result ^= i\n",
    "    return Result\n",
    "root =  [4, 2, 2, 4, 5, 6, 6]\n",
    "find_single_element(root)\n"
   ]
  },
  {
   "cell_type": "code",
   "execution_count": 27,
   "metadata": {},
   "outputs": [
    {
     "data": {
      "text/plain": [
       "(2, 10)"
      ]
     },
     "execution_count": 27,
     "metadata": {},
     "output_type": "execute_result"
    }
   ],
   "source": [
    "def find_floor_and_ceil(root,target):\n",
    "    left,right = 0,len(root) - 1\n",
    "    ciel ,floor = None,None\n",
    "    while left < right:\n",
    "        mid = (left + right) // 2\n",
    "        if root[mid] == target:\n",
    "            return (target,target)\n",
    "        elif root[mid] < target:\n",
    "            ciel = root[mid]\n",
    "            left = mid + 1\n",
    "        else:\n",
    "            floor = root[mid]\n",
    "            right = mid - 1\n",
    "    return (ciel,floor)\n",
    "root = [1, 2, 8, 10, 10, 12, 19]\n",
    "find_floor_and_ceil(root,8)\n"
   ]
  },
  {
   "cell_type": "code",
   "execution_count": 35,
   "metadata": {},
   "outputs": [
    {
     "data": {
      "text/plain": [
       "4"
      ]
     },
     "execution_count": 35,
     "metadata": {},
     "output_type": "execute_result"
    }
   ],
   "source": [
    "root = [ 10, 5, 2, 7, 1, 9 ]\n",
    "def find_max_length_subarray(root,target):\n",
    "    max_lenth = 0\n",
    "    for i in range(0,len(root)):\n",
    "        sum_count = 0\n",
    "        for j in range(i,len(root)):\n",
    "            sum_count += root[j]\n",
    "            if sum_count == target:\n",
    "                max_lenth = max(max_lenth,j-i+1)\n",
    "    return max_lenth\n",
    "    \n",
    "find_max_length_subarray(root,15)"
   ]
  },
  {
   "cell_type": "code",
   "execution_count": 36,
   "metadata": {},
   "outputs": [
    {
     "name": "stdout",
     "output_type": "stream",
     "text": [
      "0 -1 1\n",
      "2 -3 1\n"
     ]
    }
   ],
   "source": [
    "def findTriplets(root):\n",
    "    for i in range(0,len(root)-2):\n",
    "        for j in range(i+1,len(root)-1):\n",
    "            for k in range(j+1,len(root)):\n",
    "                if root[i] + root[j] + root[k] == 0:\n",
    "                    print(root[i],root[j],root[k])\n",
    "root = [0, -1, 2, -3, 1]\n",
    "findTriplets(root)"
   ]
  },
  {
   "cell_type": "code",
   "execution_count": 41,
   "metadata": {},
   "outputs": [
    {
     "data": {
      "text/plain": [
       "(9, 8, 6)"
      ]
     },
     "execution_count": 41,
     "metadata": {},
     "output_type": "execute_result"
    }
   ],
   "source": [
    "root = [8, 2, 0, 6, -2, 6, -1, 9, 4, 3]\n",
    "def three_largest(root):\n",
    "    first,second,third = 0,0,0\n",
    "    for i in root:\n",
    "        if i > first:\n",
    "            third = second\n",
    "            second = first\n",
    "            first = i\n",
    "        elif i > second:\n",
    "            third = second\n",
    "            second = i\n",
    "        elif i > third:\n",
    "            third = i\n",
    "    return first,second,third\n",
    "three_largest(root)"
   ]
  },
  {
   "cell_type": "code",
   "execution_count": 70,
   "metadata": {},
   "outputs": [
    {
     "name": "stdout",
     "output_type": "stream",
     "text": [
      "[2, 6, 8]\n"
     ]
    }
   ],
   "source": [
    "def find_three_smallest(arr):\n",
    "    first = second = third = float('inf')\n",
    "\n",
    "    for num in arr:\n",
    "        if num < first:\n",
    "            third = second\n",
    "            second = first\n",
    "            first = num\n",
    "        elif num < second:\n",
    "            third = second\n",
    "            second = num\n",
    "        elif num < third:\n",
    "            third = num\n",
    "\n",
    "    return [first, second, third]\n",
    "\n",
    "# Example usage:\n",
    "input_array = [12, 45, 2, 41, 31, 10, 8, 6]\n",
    "smallest_three = find_three_smallest(input_array)\n",
    "print(smallest_three)\n"
   ]
  },
  {
   "cell_type": "code",
   "execution_count": 73,
   "metadata": {},
   "outputs": [
    {
     "data": {
      "text/plain": [
       "[8, 7, 6, 5, 4, 3, 2, 1]"
      ]
     },
     "execution_count": 73,
     "metadata": {},
     "output_type": "execute_result"
    }
   ],
   "source": [
    "def Reverse_the_array_elements(root):\n",
    "    left,right = 0,len(root) - 1\n",
    "    while left < right:\n",
    "        root[right],root[left] = root[left],root[right]\n",
    "        left += 1\n",
    "        right -= 1\n",
    "    return root\n",
    "root = [1, 2, 3, 4, 5, 6, 7, 8]\n",
    "Reverse_the_array_elements(root)"
   ]
  },
  {
   "cell_type": "code",
   "execution_count": 74,
   "metadata": {},
   "outputs": [
    {
     "data": {
      "text/plain": [
       "4.5"
      ]
     },
     "execution_count": 74,
     "metadata": {},
     "output_type": "execute_result"
    }
   ],
   "source": [
    "def find_average(root):\n",
    "    total = sum(root)\n",
    "    avarge = total / len(root)\n",
    "    return avarge\n",
    "find_average(root)\n"
   ]
  },
  {
   "cell_type": "code",
   "execution_count": 87,
   "metadata": {},
   "outputs": [
    {
     "data": {
      "text/plain": [
       "5"
      ]
     },
     "execution_count": 87,
     "metadata": {},
     "output_type": "execute_result"
    }
   ],
   "source": [
    "def kadanes_algorithm(root):\n",
    "    current_sum = len(root) - 1\n",
    "    maximum_sum = 0\n",
    "    for i in range(0,len(root)):\n",
    "        current_sum = current_sum + root[i]\n",
    "        if current_sum > maximum_sum:\n",
    "            maximum_sum = current_sum\n",
    "        elif current_sum > 0:\n",
    "            current_sum = 0\n",
    "    return maximum_sum\n",
    "root = [-2, -3, 4, -1, -2, 1, 5, -3]\n",
    "kadanes_algorithm(root)"
   ]
  },
  {
   "cell_type": "code",
   "execution_count": 110,
   "metadata": {},
   "outputs": [
    {
     "data": {
      "text/plain": [
       "6"
      ]
     },
     "execution_count": 110,
     "metadata": {},
     "output_type": "execute_result"
    }
   ],
   "source": [
    "def max_sum_subarray(root):\n",
    "    current_sum = 0\n",
    "    maximum_sum = 0\n",
    "    for i in range(0,len(root)):\n",
    "        current_sum += root[i]\n",
    "        if current_sum > maximum_sum:\n",
    "            maximum_sum = current_sum\n",
    "        if current_sum < 0:\n",
    "            current_sum = 0\n",
    "    return maximum_sum\n",
    "root = [-2, 1, -3, 4, -1, 2, 1, -5, 4]\n",
    "max_sum_subarray(root)"
   ]
  },
  {
   "cell_type": "code",
   "execution_count": 113,
   "metadata": {},
   "outputs": [
    {
     "data": {
      "text/plain": [
       "-2"
      ]
     },
     "execution_count": 113,
     "metadata": {},
     "output_type": "execute_result"
    }
   ],
   "source": [
    "def min_sum_subarray(root):\n",
    "    current_sum = 0\n",
    "    minimum_sum = 0\n",
    "    for i in range(0,len(root)):\n",
    "        current_sum += root[i]\n",
    "        if current_sum < minimum_sum:\n",
    "            minimum_sum = current_sum\n",
    "        if current_sum > 0:\n",
    "            current_sum = 0\n",
    "    return minimum_sum\n",
    "root = [1, 2, 3, -2, 5]\n",
    "min_sum_subarray(root)"
   ]
  },
  {
   "cell_type": "code",
   "execution_count": 127,
   "metadata": {},
   "outputs": [],
   "source": [
    "def longest_increasing_subarray(root):\n",
    "    pass\n",
    "\n",
    "root = [1, 2, 3, 1, 2, 3, 4, 5]\n",
    "longest_increasing_subarray(root)"
   ]
  },
  {
   "cell_type": "code",
   "execution_count": 8,
   "metadata": {},
   "outputs": [
    {
     "data": {
      "text/plain": [
       "99"
      ]
     },
     "execution_count": 8,
     "metadata": {},
     "output_type": "execute_result"
    }
   ],
   "source": [
    "def bruteforce_max(root):\n",
    "    max_element = root[0]\n",
    "    for i in range(len(root)):\n",
    "        if max_element < root[i]:\n",
    "            max_element = root[i]\n",
    "    return max_element\n",
    "root = [12, 45, 78, 34, 99, 54]\n",
    "bruteforce_max(root)"
   ]
  },
  {
   "cell_type": "code",
   "execution_count": 27,
   "metadata": {},
   "outputs": [
    {
     "name": "stdout",
     "output_type": "stream",
     "text": [
      "1234\n",
      "234\n",
      "34\n",
      "4\n",
      "\n",
      "234\n",
      "34\n",
      "4\n",
      "\n",
      "34\n",
      "4\n",
      "\n",
      "4\n",
      "\n",
      "\n"
     ]
    }
   ],
   "source": [
    "def sub_array_an_array(root):\n",
    "    sum_of = 0\n",
    "    for i in range(len(root)):\n",
    "        for j in range(i,len(root)):\n",
    "            for k in range(j,len(root)):\n",
    "                print(root[k],end = '')\n",
    "            print()\n",
    "        print()\n",
    "    print()\n",
    "    # return sum_of\n",
    "\n",
    "root = [1,2,3,4]\n",
    "sub_array_an_array(root)"
   ]
  },
  {
   "cell_type": "code",
   "execution_count": 41,
   "metadata": {},
   "outputs": [
    {
     "name": "stdout",
     "output_type": "stream",
     "text": [
      "1,2,3,4,5,\n",
      "2,3,4,5,\n",
      "3,4,5,\n",
      "4,5,\n",
      "5,\n"
     ]
    }
   ],
   "source": [
    "def subarray_an_array18(root):\n",
    "    for i in range(len(root)):\n",
    "        for j in range(i,len(root)):\n",
    "            print(root[j],end= ',')\n",
    "        print()\n",
    "root = [1,2,3,4,5]\n",
    "subarray_an_array18(root)"
   ]
  },
  {
   "cell_type": "code",
   "execution_count": 58,
   "metadata": {},
   "outputs": [
    {
     "name": "stdout",
     "output_type": "stream",
     "text": [
      "12345\n",
      "2345\n",
      "345\n",
      "45\n",
      "5\n",
      "2345\n",
      "345\n",
      "45\n",
      "5\n",
      "345\n",
      "45\n",
      "5\n",
      "45\n",
      "5\n",
      "5\n"
     ]
    }
   ],
   "source": [
    "def sumof_1to5(root):\n",
    "    for i in range(len(root)):\n",
    "        for j in range(i,len(root)):\n",
    "            for k in range(j,len(root)):\n",
    "                print(root[k],end = '')\n",
    "            print()\n",
    "root = [1,2,3,4,5]\n",
    "sumof_1to5(root)\n",
    "        "
   ]
  },
  {
   "cell_type": "code",
   "execution_count": 72,
   "metadata": {},
   "outputs": [
    {
     "name": "stdout",
     "output_type": "stream",
     "text": [
      "[1]\n",
      "[1, 2]\n",
      "[1, 2, 3]\n",
      "[1, 2, 3, 4]\n",
      "[1, 2, 3, 4, 5]\n",
      "\n",
      "[2]\n",
      "[2, 3]\n",
      "[2, 3, 4]\n",
      "[2, 3, 4, 5]\n",
      "\n",
      "[3]\n",
      "[3, 4]\n",
      "[3, 4, 5]\n",
      "\n",
      "[4]\n",
      "[4, 5]\n",
      "\n",
      "[5]\n",
      "\n"
     ]
    }
   ],
   "source": [
    "def generate_contiguous_subarrays(root):\n",
    "    # sum_of_all = root[0]\n",
    "    for i in range(len(root)):\n",
    "        for j in range(i+1,len(root) + 1):\n",
    "            print(root[i:j])\n",
    "        print()\n",
    "generate_contiguous_subarrays(root)"
   ]
  },
  {
   "cell_type": "code",
   "execution_count": 83,
   "metadata": {},
   "outputs": [
    {
     "data": {
      "text/plain": [
       "55"
      ]
     },
     "execution_count": 83,
     "metadata": {},
     "output_type": "execute_result"
    }
   ],
   "source": [
    "def Array_of_an_subarray(root):\n",
    "    for i in range(len(root)):\n",
    "        sum_fo_zero = 0\n",
    "        for j in range(i,len(root)):\n",
    "            for k in range(j,len(root)):\n",
    "                sum_fo_zero += root[k]\n",
    "        return sum_fo_zero\n",
    "root = [1, 2, 3, 4, 5]\n",
    "Array_of_an_subarray(root)"
   ]
  },
  {
   "cell_type": "code",
   "execution_count": 111,
   "metadata": {},
   "outputs": [
    {
     "data": {
      "text/plain": [
       "13"
      ]
     },
     "execution_count": 111,
     "metadata": {},
     "output_type": "execute_result"
    }
   ],
   "source": [
    "root = [1, -2, 3, 10, -4, 7, 2, -5]\n",
    "def max_subarray_sum(root):\n",
    "    max_sum = root[0]\n",
    "    current_sum = root[0]\n",
    "    for i in range(1,len(root)):\n",
    "        current_sum = max(root[i],current_sum+root[i])\n",
    "        max_sum = max(current_sum,max_sum)\n",
    "    return current_sum\n",
    "max_subarray_sum(root)"
   ]
  },
  {
   "cell_type": "code",
   "execution_count": 125,
   "metadata": {},
   "outputs": [
    {
     "data": {
      "text/plain": [
       "-5"
      ]
     },
     "execution_count": 125,
     "metadata": {},
     "output_type": "execute_result"
    }
   ],
   "source": [
    "def min_subarray_sum(root):\n",
    "    minimum_sum = root[0]\n",
    "    current_sum = root[0]\n",
    "    for i in range(1,len(root)):\n",
    "        current_sum = min(root[i],current_sum + root[i])\n",
    "        minimum_sum = min(current_sum,minimum_sum)\n",
    "    return minimum_sum\n",
    "root = [1, -2, 3, -4, 7, 2, -5]\n",
    "min_subarray_sum(root)"
   ]
  },
  {
   "cell_type": "code",
   "execution_count": 142,
   "metadata": {},
   "outputs": [
    {
     "data": {
      "text/plain": [
       "22"
      ]
     },
     "execution_count": 142,
     "metadata": {},
     "output_type": "execute_result"
    }
   ],
   "source": [
    "def find_subarray_with_sum(root,k):\n",
    "    current_sum = 0\n",
    "    max_sum = - 1\n",
    "    for i in range(len(root)-k):\n",
    "        for j in range(i,k):\n",
    "            current_sum = current_sum + root[j] \n",
    "        max_sum = max(current_sum,max_sum)\n",
    "    return max_sum\n",
    "root = [0, 23, -12, 10, 24, -17, 9]\n",
    "find_subarray_with_sum(root,3)\n"
   ]
  },
  {
   "cell_type": "code",
   "execution_count": 155,
   "metadata": {},
   "outputs": [
    {
     "data": {
      "text/plain": [
       "[4, 7, 7, 7, 7]"
      ]
     },
     "execution_count": 155,
     "metadata": {},
     "output_type": "execute_result"
    }
   ],
   "source": [
    "def max_in_sliding_window_naive(root,k):\n",
    "    msum = -1\n",
    "    csum = 0\n",
    "    Result = []\n",
    "    for i in range(len(root) - k):\n",
    "        for j in range(i,k):\n",
    "            csum = max(csum, csum + root[j])\n",
    "        Result.append(csum)\n",
    "    return Result\n",
    "root = [1, 3, -1, -3, 5, 3, 6, 7]\n",
    "max_in_sliding_window_naive(root,3)\n"
   ]
  },
  {
   "cell_type": "code",
   "execution_count": 151,
   "metadata": {},
   "outputs": [
    {
     "data": {
      "text/plain": [
       "5"
      ]
     },
     "execution_count": 151,
     "metadata": {},
     "output_type": "execute_result"
    }
   ],
   "source": [
    "find_subarray_with_sum(root,3)"
   ]
  },
  {
   "cell_type": "code",
   "execution_count": 157,
   "metadata": {},
   "outputs": [
    {
     "data": {
      "text/plain": [
       "149"
      ]
     },
     "execution_count": 157,
     "metadata": {},
     "output_type": "execute_result"
    }
   ],
   "source": [
    "def find_subarray_naive(root):\n",
    "    current_sum = root[0]\n",
    "    max_sum = root[0]\n",
    "    for i in range(len(root)):\n",
    "        for j in range(i,len(root)):\n",
    "            current_sum = max(current_sum,current_sum + root[j])\n",
    "            max_sum = max(current_sum ,max_sum)\n",
    "    return max_sum\n",
    "root = [1, 3, -1, -3, 5, 3, 6, 7]\n",
    "find_subarray_naive(root)"
   ]
  },
  {
   "cell_type": "code",
   "execution_count": 165,
   "metadata": {},
   "outputs": [
    {
     "data": {
      "text/plain": [
       "7"
      ]
     },
     "execution_count": 165,
     "metadata": {},
     "output_type": "execute_result"
    }
   ],
   "source": [
    "1+3-1-3+5+3+7\n",
    "3-1-3+5+3+7\n",
    "-1-3+5+3+7\n",
    "-3+5+3+7\n",
    "+5+3+7\n",
    "+3+7\n",
    "+7\n"
   ]
  },
  {
   "cell_type": "code",
   "execution_count": 176,
   "metadata": {},
   "outputs": [
    {
     "data": {
      "text/plain": [
       "1"
      ]
     },
     "execution_count": 176,
     "metadata": {},
     "output_type": "execute_result"
    }
   ],
   "source": [
    "def findmax(root,k):\n",
    "    current_sum = -1\n",
    "    max_sum = 0\n",
    "    for i in range(len(root)-k):\n",
    "        for j in range(i,k):\n",
    "            current_sum = max(root[j],current_sum+root[j])\n",
    "            max_sum = max(current_sum,max_sum)\n",
    "    return max_sum\n",
    "root = [-2, 1, -3, 4, -1, 2, 1, -5, 4]\n",
    "findmax(root,3)"
   ]
  },
  {
   "cell_type": "code",
   "execution_count": 199,
   "metadata": {},
   "outputs": [
    {
     "data": {
      "text/plain": [
       "3"
      ]
     },
     "execution_count": 199,
     "metadata": {},
     "output_type": "execute_result"
    }
   ],
   "source": [
    "def kadanes_algorithm(root):\n",
    "    current_sum = root[0]\n",
    "    maximum_sum = root[0]\n",
    "    for i in range(1,len(root)):\n",
    "        for j in range(i,len(root)):\n",
    "            current_sum += root[j]\n",
    "            if current_sum > maximum_sum:\n",
    "                maximum_sum = current_sum\n",
    "            if current_sum > 0:\n",
    "                current_sum = 0\n",
    "    return maximum_sum\n",
    "root = [-2, 1, -3, 4, -1, 2, 1, -5, 4]\n",
    "kadanes_algorithm(root)"
   ]
  },
  {
   "cell_type": "code",
   "execution_count": 218,
   "metadata": {},
   "outputs": [
    {
     "name": "stdout",
     "output_type": "stream",
     "text": [
      "-2,1,-3,4,-1,2,1,-5,4,\n",
      "1,-3,4,-1,2,1,-5,4,\n",
      "-3,4,-1,2,1,-5,4,\n",
      "4,-1,2,1,-5,4,\n",
      "-1,2,1,-5,4,\n",
      "2,1,-5,4,\n",
      "1,-5,4,\n",
      "-5,4,\n",
      "4,\n",
      "1,-3,4,-1,2,1,-5,4,\n",
      "-3,4,-1,2,1,-5,4,\n",
      "4,-1,2,1,-5,4,\n",
      "-1,2,1,-5,4,\n",
      "2,1,-5,4,\n",
      "1,-5,4,\n",
      "-5,4,\n",
      "4,\n",
      "-3,4,-1,2,1,-5,4,\n",
      "4,-1,2,1,-5,4,\n",
      "-1,2,1,-5,4,\n",
      "2,1,-5,4,\n",
      "1,-5,4,\n",
      "-5,4,\n",
      "4,\n",
      "4,-1,2,1,-5,4,\n",
      "-1,2,1,-5,4,\n",
      "2,1,-5,4,\n",
      "1,-5,4,\n",
      "-5,4,\n",
      "4,\n",
      "-1,2,1,-5,4,\n",
      "2,1,-5,4,\n",
      "1,-5,4,\n",
      "-5,4,\n",
      "4,\n",
      "2,1,-5,4,\n",
      "1,-5,4,\n",
      "-5,4,\n",
      "4,\n",
      "1,-5,4,\n",
      "-5,4,\n",
      "4,\n",
      "-5,4,\n",
      "4,\n",
      "4,\n"
     ]
    }
   ],
   "source": [
    "def kadanes_algorithm1(root):\n",
    "    for i in range(len(root)):\n",
    "        for j in range(i,len(root)):\n",
    "            for k in range(j,len(root)):\n",
    "                print(root[k],end = ',')\n",
    "            print()\n",
    "root = [-2, 1, -3, 4, -1, 2, 1, -5, 4]\n",
    "kadanes_algorithm1(root)\n",
    "\n"
   ]
  },
  {
   "cell_type": "code",
   "execution_count": 226,
   "metadata": {},
   "outputs": [
    {
     "name": "stdout",
     "output_type": "stream",
     "text": [
      "-2,1,-3,4,-1,2,1,-5,4,\n",
      "1,-3,4,-1,2,1,-5,4,\n",
      "-3,4,-1,2,1,-5,4,\n",
      "4,-1,2,1,-5,4,\n",
      "-1,2,1,-5,4,\n",
      "2,1,-5,4,\n",
      "1,-5,4,\n",
      "-5,4,\n",
      "4,\n"
     ]
    }
   ],
   "source": [
    "def kadanes_algorithm2(root):\n",
    "    for i in range(len(root)):\n",
    "        for j in range(i,len(root)):\n",
    "            print(root[j],end = ',')\n",
    "        print()\n",
    "kadanes_algorithm2(root)"
   ]
  },
  {
   "cell_type": "code",
   "execution_count": 264,
   "metadata": {},
   "outputs": [
    {
     "data": {
      "text/plain": [
       "4"
      ]
     },
     "execution_count": 264,
     "metadata": {},
     "output_type": "execute_result"
    }
   ],
   "source": [
    "def kadanes_algorithm_perfect(root):\n",
    "    for i in range(1,len(root)):\n",
    "        current_sum = 0\n",
    "        for j in range(i,len(root)):\n",
    "            current_sum += root[j]\n",
    "    return current_sum\n",
    "root = [-2, 1, -3, 4]\n",
    "kadanes_algorithm_perfect(root)"
   ]
  },
  {
   "cell_type": "code",
   "execution_count": null,
   "metadata": {},
   "outputs": [],
   "source": []
  },
  {
   "cell_type": "code",
   "execution_count": null,
   "metadata": {},
   "outputs": [],
   "source": []
  }
 ],
 "metadata": {
  "kernelspec": {
   "display_name": "Python 3",
   "language": "python",
   "name": "python3"
  },
  "language_info": {
   "codemirror_mode": {
    "name": "ipython",
    "version": 3
   },
   "file_extension": ".py",
   "mimetype": "text/x-python",
   "name": "python",
   "nbconvert_exporter": "python",
   "pygments_lexer": "ipython3",
   "version": "3.11.6"
  }
 },
 "nbformat": 4,
 "nbformat_minor": 2
}
