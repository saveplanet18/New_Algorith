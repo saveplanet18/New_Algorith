{
 "cells": [
  {
   "cell_type": "code",
   "execution_count": 7,
   "metadata": {},
   "outputs": [
    {
     "name": "stdout",
     "output_type": "stream",
     "text": [
      "-2,1,-3,4,-1,2,1,-5,4,\n",
      "1,-3,4,-1,2,1,-5,4,\n",
      "-3,4,-1,2,1,-5,4,\n",
      "4,-1,2,1,-5,4,\n",
      "-1,2,1,-5,4,\n",
      "2,1,-5,4,\n",
      "1,-5,4,\n",
      "-5,4,\n",
      "4,\n"
     ]
    }
   ],
   "source": [
    "def Maxsubarray(root):\n",
    "    left,right = 0,len(root)\n",
    "    for i in range(left,right):\n",
    "        for j in range(i,right):\n",
    "            print(root[j],end = ',')\n",
    "        print()\n",
    "root = [-2, 1, -3, 4, -1, 2, 1, -5, 4]\n",
    "Maxsubarray(root)"
   ]
  },
  {
   "cell_type": "code",
   "execution_count": 8,
   "metadata": {},
   "outputs": [
    {
     "name": "stdout",
     "output_type": "stream",
     "text": [
      "\n",
      "-2,\n",
      "-2,1,\n",
      "-2,1,-3,\n",
      "-2,1,-3,4,\n",
      "-2,1,-3,4,-1,\n",
      "-2,1,-3,4,-1,2,\n",
      "-2,1,-3,4,-1,2,1,\n",
      "-2,1,-3,4,-1,2,1,-5,\n"
     ]
    }
   ],
   "source": [
    "def Maxsubarray1(root):\n",
    "    for i in range(len(root)):\n",
    "        for j in range(i):\n",
    "            print(root[j],end = \",\")\n",
    "        print()\n",
    "Maxsubarray1(root)"
   ]
  },
  {
   "cell_type": "code",
   "execution_count": 13,
   "metadata": {},
   "outputs": [
    {
     "name": "stdout",
     "output_type": "stream",
     "text": [
      "\n",
      "\n",
      "-2,\n",
      "\n",
      "-2,\n",
      "-2,1,\n",
      "\n",
      "-2,\n",
      "-2,1,\n",
      "-2,1,-3,\n",
      "\n",
      "-2,\n",
      "-2,1,\n",
      "-2,1,-3,\n",
      "-2,1,-3,4,\n",
      "\n",
      "-2,\n",
      "-2,1,\n",
      "-2,1,-3,\n",
      "-2,1,-3,4,\n",
      "-2,1,-3,4,-1,\n",
      "\n",
      "-2,\n",
      "-2,1,\n",
      "-2,1,-3,\n",
      "-2,1,-3,4,\n",
      "-2,1,-3,4,-1,\n",
      "-2,1,-3,4,-1,2,\n",
      "\n",
      "-2,\n",
      "-2,1,\n",
      "-2,1,-3,\n",
      "-2,1,-3,4,\n",
      "-2,1,-3,4,-1,\n",
      "-2,1,-3,4,-1,2,\n",
      "-2,1,-3,4,-1,2,1,\n"
     ]
    }
   ],
   "source": [
    "def Maxsubarray2(root):\n",
    "    for i in range(len(root)):\n",
    "        for j in range(i):\n",
    "            for k in range(j):\n",
    "                print(root[k],end = ',')\n",
    "            print()\n",
    "Maxsubarray2(root)"
   ]
  },
  {
   "cell_type": "code",
   "execution_count": 30,
   "metadata": {},
   "outputs": [
    {
     "data": {
      "text/plain": [
       "0"
      ]
     },
     "execution_count": 30,
     "metadata": {},
     "output_type": "execute_result"
    }
   ],
   "source": [
    "def Kadanes_Algorithm(root):\n",
    "    current_sum = 0\n",
    "    for i in range(len(root)):\n",
    "        root[current_sum] += root[i]\n",
    "    return current_sum\n",
    "Kadanes_Algorithm(root)"
   ]
  },
  {
   "cell_type": "code",
   "execution_count": 17,
   "metadata": {},
   "outputs": [
    {
     "data": {
      "text/plain": [
       "0"
      ]
     },
     "execution_count": 17,
     "metadata": {},
     "output_type": "execute_result"
    }
   ],
   "source": [
    "def Maxsubarray3(root):\n",
    "    left,right = 0,len(root)\n",
    "    current_sum = 0\n",
    "    for i in range(left,right):\n",
    "        for j in range(i):\n",
    "            current_sum += root[j]\n",
    "        return current_sum\n",
    "root = [-2, 1, -3, 4, -1, 2, 1, -5, 4]\n",
    "Maxsubarray3(root)"
   ]
  },
  {
   "cell_type": "code",
   "execution_count": 26,
   "metadata": {},
   "outputs": [
    {
     "data": {
      "text/plain": [
       "[0, -2, -3, -7, -7, -8, -7, -5, -8]"
      ]
     },
     "execution_count": 26,
     "metadata": {},
     "output_type": "execute_result"
    }
   ],
   "source": [
    "def Maxsubarray4(root):\n",
    "    current_sum = 0\n",
    "    Result = []\n",
    "    for i in range(len(root)):\n",
    "        for j in range(i):\n",
    "            current_sum += root[j]\n",
    "        Result.append(current_sum)\n",
    "    return Result\n",
    "Maxsubarray4(root)"
   ]
  },
  {
   "cell_type": "code",
   "execution_count": 74,
   "metadata": {},
   "outputs": [
    {
     "data": {
      "text/plain": [
       "[-4, -5, -9, -9, -10, -9, -7, -10]"
      ]
     },
     "execution_count": 74,
     "metadata": {},
     "output_type": "execute_result"
    }
   ],
   "source": [
    "def Maxsubarray5(root):\n",
    "    current_sum = root[0]\n",
    "    # Max_sum = root[0]\n",
    "    Result = []\n",
    "    for i in range(1,len(root)):\n",
    "        for j in range(i):\n",
    "            current_sum += root[j]\n",
    "            # current_sum += root[i]\n",
    "        Result.append(current_sum)\n",
    "    return Result\n",
    "root = [-2, 1, -3, 4, -1, 2, 1, -5, 4]\n",
    "Maxsubarray5(root)"
   ]
  },
  {
   "cell_type": "code",
   "execution_count": 77,
   "metadata": {},
   "outputs": [
    {
     "data": {
      "text/plain": [
       "[-1, 2, 4, 9, 10, 12, 12, 11, 15]"
      ]
     },
     "execution_count": 77,
     "metadata": {},
     "output_type": "execute_result"
    }
   ],
   "source": [
    "def Maxsubarray6(root):\n",
    "    current_sum = root[0]\n",
    "    Result = []\n",
    "    for i in range(len(root)):\n",
    "        for j in range(i,len(root)):\n",
    "            current_sum += root[j]\n",
    "        Result.append(current_sum)\n",
    "    return Result\n",
    "Maxsubarray6(root)"
   ]
  },
  {
   "cell_type": "code",
   "execution_count": 108,
   "metadata": {},
   "outputs": [
    {
     "data": {
      "text/plain": [
       "(6, [1, -2, 4, 3, 5, 6, 1, 5])"
      ]
     },
     "execution_count": 108,
     "metadata": {},
     "output_type": "execute_result"
    }
   ],
   "source": [
    "def kadanes_algorithm(root):\n",
    "    current_sum = root[0]\n",
    "    Max_sum = root[0]\n",
    "    Result = []\n",
    "    for i in range(1,len(root)):\n",
    "        current_sum = max(root[i] , current_sum + root[i])\n",
    "        Max_sum = max(current_sum,Max_sum)\n",
    "        Result.append(current_sum)\n",
    "    return Max_sum,Result\n",
    "kadanes_algorithm(root)"
   ]
  },
  {
   "cell_type": "code",
   "execution_count": 97,
   "metadata": {},
   "outputs": [
    {
     "data": {
      "text/plain": [
       "(6, [4, -1, 2, 1])"
      ]
     },
     "execution_count": 97,
     "metadata": {},
     "output_type": "execute_result"
    }
   ],
   "source": [
    "def naive_kadanes_algorithm(root):\n",
    "    Max_sum = root[0]\n",
    "    Result = []\n",
    "    for i in range(1,len(root)):\n",
    "        current_sum = 0\n",
    "        for j in range(i,len(root)):\n",
    "            current_sum += root[j]\n",
    "            if current_sum > Max_sum:\n",
    "                Max_sum = current_sum\n",
    "                Result = root[i:j+1]\n",
    "    return Max_sum,Result\n",
    "naive_kadanes_algorithm(root)"
   ]
  },
  {
   "cell_type": "code",
   "execution_count": 100,
   "metadata": {},
   "outputs": [
    {
     "name": "stdout",
     "output_type": "stream",
     "text": [
      "[-2],[-2, 1],[-2, 1, -3],[-2, 1, -3, 4],[-2, 1, -3, 4, -1],[-2, 1, -3, 4, -1, 2],[-2, 1, -3, 4, -1, 2, 1],[-2, 1, -3, 4, -1, 2, 1, -5],[-2, 1, -3, 4, -1, 2, 1, -5, 4],\n",
      "[1],[1, -3],[1, -3, 4],[1, -3, 4, -1],[1, -3, 4, -1, 2],[1, -3, 4, -1, 2, 1],[1, -3, 4, -1, 2, 1, -5],[1, -3, 4, -1, 2, 1, -5, 4],\n",
      "[-3],[-3, 4],[-3, 4, -1],[-3, 4, -1, 2],[-3, 4, -1, 2, 1],[-3, 4, -1, 2, 1, -5],[-3, 4, -1, 2, 1, -5, 4],\n",
      "[4],[4, -1],[4, -1, 2],[4, -1, 2, 1],[4, -1, 2, 1, -5],[4, -1, 2, 1, -5, 4],\n",
      "[-1],[-1, 2],[-1, 2, 1],[-1, 2, 1, -5],[-1, 2, 1, -5, 4],\n",
      "[2],[2, 1],[2, 1, -5],[2, 1, -5, 4],\n",
      "[1],[1, -5],[1, -5, 4],\n",
      "[-5],[-5, 4],\n",
      "[4],\n"
     ]
    }
   ],
   "source": [
    "def kadanes_algorithm1(root):\n",
    "    for i in range(len(root)):\n",
    "        for j in range(i,len(root)):\n",
    "            print(root[i:j+1],end = ',')\n",
    "        print()\n",
    "kadanes_algorithm1(root)\n"
   ]
  },
  {
   "cell_type": "code",
   "execution_count": 118,
   "metadata": {},
   "outputs": [
    {
     "data": {
      "text/plain": [
       "(-4, [[1, -3]])"
      ]
     },
     "execution_count": 118,
     "metadata": {},
     "output_type": "execute_result"
    }
   ],
   "source": [
    "def naive_min_subarray(root):\n",
    "    Min_sum = root[0]\n",
    "    Result = []\n",
    "    current_sum = root[0]\n",
    "    for i in range(1,len(root)):\n",
    "        for j in range(i,len(root)):\n",
    "            current_sum += root[j]\n",
    "            if current_sum < Min_sum:\n",
    "                Min_sum = current_sum\n",
    "                Result.append(root[i:j+1])\n",
    "    return Min_sum ,Result\n",
    "naive_min_subarray(root)\n"
   ]
  },
  {
   "cell_type": "code",
   "execution_count": 109,
   "metadata": {},
   "outputs": [
    {
     "data": {
      "text/plain": [
       "(-6, [-4, -3, -6, -2, -3, -1, 0, -5, -1])"
      ]
     },
     "execution_count": 109,
     "metadata": {},
     "output_type": "execute_result"
    }
   ],
   "source": [
    "def kadanes_algorithm_Min_subarray(root):\n",
    "    current_sum = root[0]\n",
    "    Min_sum = root[0]\n",
    "    Result = []\n",
    "    for i in range(len(root)):\n",
    "        current_sum = min(root[i],current_sum + root[i])\n",
    "        Min_sum = min(current_sum,Min_sum)\n",
    "        Result.append(current_sum)\n",
    "    return Min_sum,Result\n",
    "kadanes_algorithm_Min_subarray(root)\n",
    "            "
   ]
  },
  {
   "cell_type": "code",
   "execution_count": 52,
   "metadata": {},
   "outputs": [
    {
     "data": {
      "text/plain": [
       "6"
      ]
     },
     "execution_count": 52,
     "metadata": {},
     "output_type": "execute_result"
    }
   ],
   "source": [
    "def naive_longest_increasing_subarray(root):\n",
    "    current_count = 0\n",
    "    Max_lenght = 0\n",
    "    for i in range(1,len(root)):\n",
    "        if(i > 0 and root[i] == root[i - 1] + 1):\n",
    "            current_count += 1\n",
    "        else:\n",
    "            current_count = 1\n",
    "        Max_lenght = max(current_count,Max_lenght)\n",
    "    return Max_lenght\n",
    "root = [1, 2, 3, 1, 2, 3, 4, 5, 6, 2, 3]\n",
    "naive_longest_increasing_subarray(root)"
   ]
  },
  {
   "cell_type": "code",
   "execution_count": 60,
   "metadata": {},
   "outputs": [
    {
     "data": {
      "text/plain": [
       "[2, 3]"
      ]
     },
     "execution_count": 60,
     "metadata": {},
     "output_type": "execute_result"
    }
   ],
   "source": [
    "def naive_longest_decreasing_subarray(root):\n",
    "    current_count = 1\n",
    "    Max_count = 1\n",
    "    current_start = 0\n",
    "    current_End = 0\n",
    "    for i in range(1,len(root)):\n",
    "        if root[i] < root[i - 1]:\n",
    "            current_count += 1\n",
    "            current_start = i\n",
    "        else:\n",
    "            current_count = 1\n",
    "        if current_count > Max_count:\n",
    "            Max_count = current_count\n",
    "            current_start = current_End\n",
    "\n",
    "    longest_subarray = root[current_start: current_start + Max_count]\n",
    "    return longest_subarray\n",
    "\n",
    "\n",
    "naive_longest_decreasing_subarray(root)"
   ]
  },
  {
   "cell_type": "code",
   "execution_count": null,
   "metadata": {},
   "outputs": [],
   "source": []
  }
 ],
 "metadata": {
  "kernelspec": {
   "display_name": "Python 3",
   "language": "python",
   "name": "python3"
  },
  "language_info": {
   "codemirror_mode": {
    "name": "ipython",
    "version": 3
   },
   "file_extension": ".py",
   "mimetype": "text/x-python",
   "name": "python",
   "nbconvert_exporter": "python",
   "pygments_lexer": "ipython3",
   "version": "3.11.6"
  }
 },
 "nbformat": 4,
 "nbformat_minor": 2
}
