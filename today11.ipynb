{
 "cells": [
  {
   "cell_type": "code",
   "execution_count": 5,
   "metadata": {},
   "outputs": [
    {
     "name": "stdout",
     "output_type": "stream",
     "text": [
      "[2, 3, 3, 4, 5, 6, 6, 6, 7, 8, 8, 9, 9]\n"
     ]
    }
   ],
   "source": [
    "def Bubble_sort(arr):\n",
    "    for i in range(len(arr)):\n",
    "        flag = True\n",
    "        for j in range(len(arr)-1):\n",
    "            if arr[j] > arr[j+1]:\n",
    "                arr[j],arr[j+1] = arr[j+1],arr[j]\n",
    "        if (flag == None):\n",
    "            return 0\n",
    "    return arr\n",
    "if __name__ == \"__main__\":\n",
    "    arr = [4,5,6,8,9,3,6,8,2,9,6,3,7]\n",
    "    print(Bubble_sort(arr))"
   ]
  },
  {
   "cell_type": "code",
   "execution_count": 7,
   "metadata": {},
   "outputs": [
    {
     "name": "stdout",
     "output_type": "stream",
     "text": [
      "[2, 3, 3, 4, 5, 6, 6, 6, 7, 8, 8, 9, 9]\n"
     ]
    }
   ],
   "source": [
    "def Selection_Sort(arr):\n",
    "    for i in range(len(arr)):\n",
    "        min_idx = i\n",
    "        for j in range(i+1,len(arr)):\n",
    "            if (arr[j] < arr[min_idx]):\n",
    "                min_idx = j\n",
    "        if (i != min_idx):\n",
    "            arr[i],arr[min_idx] = arr[min_idx],arr[i]\n",
    "    return arr\n",
    "\n",
    "if __name__ == \"__main__\":\n",
    "    arr = [4,5,6,8,9,3,6,8,2,9,6,3,7]\n",
    "    print(Selection_Sort(arr))"
   ]
  },
  {
   "cell_type": "code",
   "execution_count": 8,
   "metadata": {},
   "outputs": [
    {
     "name": "stdout",
     "output_type": "stream",
     "text": [
      "[2, 3, 3, 4, 5, 6, 6, 6, 7, 8, 8, 9, 9]\n"
     ]
    }
   ],
   "source": [
    "def Insertion_sort(arr):\n",
    "    for i in range(len(arr)):\n",
    "        temp = arr[i]\n",
    "        j = i - 1\n",
    "        while (j >= 0 and arr[j] > temp):\n",
    "            arr[j+1] = arr[j]\n",
    "            j -= 1\n",
    "        arr[j+1] = temp\n",
    "    return arr\n",
    "\n",
    "if __name__ == \"__main__\":\n",
    "    arr = [4,5,6,8,9,3,6,8,2,9,6,3,7]\n",
    "    print(Insertion_sort(arr))"
   ]
  },
  {
   "cell_type": "code",
   "execution_count": 17,
   "metadata": {},
   "outputs": [
    {
     "name": "stdout",
     "output_type": "stream",
     "text": [
      "[2, 3, 3, 4, 5, 6, 6, 6, 7, 8, 8, 9, 9]\n"
     ]
    }
   ],
   "source": [
    "def Merge_sort(arr):\n",
    "    if len(arr) > 1:\n",
    "        mid = len(arr)//2\n",
    "        Left = arr[:mid]\n",
    "        Right = arr[mid:]\n",
    "        Merge_sort(Left)\n",
    "        Merge_sort(Right)\n",
    "        i = j = k = 0\n",
    "        while (i < len(Left) and j < len(Right)):\n",
    "            if Left[i] < Right[j]:\n",
    "                arr[k] = Left[i]\n",
    "                i += 1\n",
    "            else:\n",
    "                arr[k] = Right[j]\n",
    "                j += 1\n",
    "            k += 1\n",
    "        while (i < len(Left)):\n",
    "            arr[k] = Left[i]\n",
    "            i += 1\n",
    "            k += 1\n",
    "\n",
    "        while(j < len(Right)):\n",
    "            arr[k] = Right[j]\n",
    "            j += 1\n",
    "            k += 1\n",
    "    return arr\n",
    "\n",
    "if __name__ == \"__main__\":\n",
    "    arr = [4,5,6,8,9,3,6,8,2,9,6,3,7]\n",
    "    print(Merge_sort(arr))"
   ]
  },
  {
   "cell_type": "code",
   "execution_count": 20,
   "metadata": {},
   "outputs": [
    {
     "name": "stdout",
     "output_type": "stream",
     "text": [
      "[2, 3, 3, 4, 5, 6, 6, 6, 7, 8, 8, 9, 9]\n"
     ]
    }
   ],
   "source": [
    "def Partion_Sorting(arr,low,high):\n",
    "    pivot = arr[high]\n",
    "    i = low - 1\n",
    "    for j in range(low,high):\n",
    "        if arr[j] <= pivot:\n",
    "            i += 1\n",
    "            arr[i],arr[j] = arr[j],arr[i]\n",
    "    arr[i+1] ,arr[high] = arr[high],arr[i+1]\n",
    "    return i + 1\n",
    "\n",
    "def QuickSort(arr,low,high):\n",
    "    if low < high:\n",
    "        pi = Partion_Sorting(arr,low,high)\n",
    "        QuickSort(arr,low,pi-1)\n",
    "        QuickSort(arr,pi+1,high)\n",
    "    return arr\n",
    "\n",
    "\n",
    "\n",
    "if __name__ == \"__main__\":\n",
    "    arr = [4,5,6,8,9,3,6,8,2,9,6,3,7]\n",
    "    print(QuickSort(arr,0,len(arr)-1))"
   ]
  },
  {
   "cell_type": "code",
   "execution_count": 24,
   "metadata": {},
   "outputs": [
    {
     "name": "stdout",
     "output_type": "stream",
     "text": [
      "[2, 3, 3, 4, 5, 6, 6, 6, 7, 8, 8, 9, 9]\n"
     ]
    }
   ],
   "source": [
    "def Counting_Sort(arr):\n",
    "    size = len(arr)\n",
    "    Result = [0] * (size+1)\n",
    "    Count_arr = [0] * 10\n",
    "    for i in range(0,size):\n",
    "        Count_arr[arr[i]] += 1\n",
    "\n",
    "    for i in range(1,10):\n",
    "        Count_arr[i] += Count_arr[i-1]\n",
    "\n",
    "    i = size - 1\n",
    "    while (i >= 0):\n",
    "        Result[Count_arr[arr[i]] - 1] = arr[i]\n",
    "        Count_arr[arr[i]] -= 1\n",
    "        i -= 1\n",
    "    \n",
    "    for i in range(0,size):\n",
    "        arr[i] = Result[i]\n",
    "    return arr\n",
    "\n",
    "if __name__ == \"__main__\":\n",
    "    arr = [4,5,6,8,9,3,6,8,2,9,6,3,7]\n",
    "    print(Counting_Sort(arr))"
   ]
  },
  {
   "cell_type": "code",
   "execution_count": 31,
   "metadata": {},
   "outputs": [
    {
     "name": "stdout",
     "output_type": "stream",
     "text": [
      "[3, 20, 40, 50, 50, 60, 60, 90, 800]\n"
     ]
    }
   ],
   "source": [
    "def Counting_Sort_Radix(arr,place):\n",
    "    size = len(arr)\n",
    "    Result = [0] * (size + 1)\n",
    "    Count_arr = [0] * 10\n",
    "    for i in range(0,size):\n",
    "        index = arr[i]//place\n",
    "        Count_arr[index % 10] += 1\n",
    "    \n",
    "    for i in range(1,10):\n",
    "        Count_arr[i] += Count_arr[i-1]\n",
    "\n",
    "    i = size - 1\n",
    "    while (i >= 0):\n",
    "        index = arr[i] //place\n",
    "        Result[Count_arr[index % 10]-1] = arr[i]\n",
    "        Count_arr[index % 10] -= 1\n",
    "        i -= 1\n",
    "\n",
    "    for i in range(0,size):\n",
    "        arr[i] = Result[i] \n",
    "\n",
    "def Radix_Sort(arr):\n",
    "    max_element = max(arr)\n",
    "    place = 1\n",
    "    while max_element // place > 0:\n",
    "        Counting_Sort_Radix(arr,place)\n",
    "        place *= 10\n",
    "    return arr\n",
    "\n",
    "if __name__ == \"__main__\":\n",
    "    arr = [50,20,40,3,60,800,50,60,90]\n",
    "    print(Radix_Sort(arr))"
   ]
  },
  {
   "cell_type": "code",
   "execution_count": 48,
   "metadata": {},
   "outputs": [
    {
     "name": "stdout",
     "output_type": "stream",
     "text": [
      "[0.32, 0.33, 0.37, 0.42, 0.47, 0.51, 0.52]\n"
     ]
    }
   ],
   "source": [
    "def Bucket_Sort(arr):\n",
    "    Bucket_arr = []\n",
    "    for i in range(len(arr)):\n",
    "        Bucket_arr.append([])\n",
    "    \n",
    "    for j in arr:\n",
    "        index = int(10*j)\n",
    "        Bucket_arr[index].append(j)\n",
    "\n",
    "    for i in range(len(arr)):\n",
    "        Bucket_arr[i] = sorted(Bucket_arr[i])\n",
    "\n",
    "    k = 0\n",
    "    for i in range(len(arr)):\n",
    "        for j in range(len(Bucket_arr[i])):\n",
    "            arr[k] = Bucket_arr[i][j]\n",
    "            k += 1\n",
    "    return arr\n",
    "    \n",
    "if __name__ == \"__main__\":\n",
    "    arr = [.42, .32, .33, .52, .37, .47, .51]\n",
    "    print(Bucket_Sort(arr))"
   ]
  },
  {
   "cell_type": "code",
   "execution_count": null,
   "metadata": {},
   "outputs": [],
   "source": [
    "def shell_Sort(arr):\n",
    "    gap = len(arr)//2\n",
    "\n",
    "if __name__ == \"__main__\":\n",
    "    arr = [.42, .32, .33, .52, .37, .47, .51]\n",
    "    "
   ]
  }
 ],
 "metadata": {
  "kernelspec": {
   "display_name": "base",
   "language": "python",
   "name": "python3"
  },
  "language_info": {
   "codemirror_mode": {
    "name": "ipython",
    "version": 3
   },
   "file_extension": ".py",
   "mimetype": "text/x-python",
   "name": "python",
   "nbconvert_exporter": "python",
   "pygments_lexer": "ipython3",
   "version": "3.10.9"
  },
  "orig_nbformat": 4
 },
 "nbformat": 4,
 "nbformat_minor": 2
}
