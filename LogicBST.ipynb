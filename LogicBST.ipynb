{
 "cells": [
  {
   "cell_type": "code",
   "execution_count": 203,
   "metadata": {},
   "outputs": [],
   "source": [
    "class BST_Object(object):\n",
    "    def __init__(self,element):\n",
    "        self.element = element\n",
    "        self.Left = None\n",
    "        self.Right = None"
   ]
  },
  {
   "cell_type": "code",
   "execution_count": 204,
   "metadata": {},
   "outputs": [],
   "source": [
    "root = BST_Object(18)"
   ]
  },
  {
   "cell_type": "code",
   "execution_count": 205,
   "metadata": {},
   "outputs": [],
   "source": [
    "def Insertion_at_BST(root,ele):\n",
    "    if not root:\n",
    "        root = BST_Object(ele)\n",
    "        return\n",
    "    current = root\n",
    "    while current:\n",
    "        if ele < current.element:\n",
    "            if current.Left is None:\n",
    "                current.Left = BST_Object(ele)\n",
    "                return\n",
    "            else:\n",
    "                current = current.Left\n",
    "        elif ele > current.element:\n",
    "            if current.Right is None:\n",
    "                current.Right = BST_Object(ele)\n",
    "                return\n",
    "            else:\n",
    "                current = current.Right\n",
    "        else:\n",
    "            return"
   ]
  },
  {
   "cell_type": "code",
   "execution_count": 206,
   "metadata": {},
   "outputs": [],
   "source": [
    "Insertion_at_BST(root,10)\n",
    "Insertion_at_BST(root,20)\n",
    "Insertion_at_BST(root,11)\n",
    "Insertion_at_BST(root,21)\n",
    "Insertion_at_BST(root,19)\n",
    "Insertion_at_BST(root,9)"
   ]
  },
  {
   "cell_type": "code",
   "execution_count": 207,
   "metadata": {},
   "outputs": [],
   "source": [
    "def Traverser_iterative_InOrder(root):\n",
    "    if not root:\n",
    "        return []\n",
    "    current = root\n",
    "    stack = []\n",
    "    result = []\n",
    "    while current or stack:\n",
    "        while current:\n",
    "            stack.append(current)\n",
    "            current = current.Left\n",
    "        current = stack.pop()\n",
    "        result.append(current.element)\n",
    "        current = current.Right\n",
    "    return result"
   ]
  },
  {
   "cell_type": "code",
   "execution_count": 208,
   "metadata": {},
   "outputs": [
    {
     "data": {
      "text/plain": [
       "[9, 10, 11, 18, 19, 20, 21]"
      ]
     },
     "execution_count": 208,
     "metadata": {},
     "output_type": "execute_result"
    }
   ],
   "source": [
    "Traverser_iterative_InOrder(root)"
   ]
  },
  {
   "cell_type": "code",
   "execution_count": 209,
   "metadata": {},
   "outputs": [],
   "source": [
    "def Traverser_iterative_Pre_Order(root):\n",
    "    if not root:\n",
    "        return []\n",
    "    current = root\n",
    "    Result = []\n",
    "    stack = []\n",
    "    while current or stack:\n",
    "        while current:\n",
    "            stack.append(current)\n",
    "            Result.append(current.element)\n",
    "            current = current.Left\n",
    "        current = stack.pop()\n",
    "        current = current.Right\n",
    "    return Result"
   ]
  },
  {
   "cell_type": "code",
   "execution_count": 210,
   "metadata": {},
   "outputs": [
    {
     "data": {
      "text/plain": [
       "[18, 10, 9, 11, 20, 19, 21]"
      ]
     },
     "execution_count": 210,
     "metadata": {},
     "output_type": "execute_result"
    }
   ],
   "source": [
    "Traverser_iterative_Pre_Order(root)"
   ]
  },
  {
   "cell_type": "code",
   "execution_count": 211,
   "metadata": {},
   "outputs": [],
   "source": [
    "def Traverser_iterative_Post_Order(root):\n",
    "    if not root:\n",
    "        return []\n",
    "    \n",
    "    Result = []\n",
    "    Result += Traverser_iterative_Post_Order(root.Left)\n",
    "    Result += Traverser_iterative_Post_Order(root.Right)\n",
    "    Result.append(root.element)\n",
    "    return Result"
   ]
  },
  {
   "cell_type": "code",
   "execution_count": 212,
   "metadata": {},
   "outputs": [
    {
     "data": {
      "text/plain": [
       "[9, 11, 10, 19, 21, 20, 18]"
      ]
     },
     "execution_count": 212,
     "metadata": {},
     "output_type": "execute_result"
    }
   ],
   "source": [
    "Traverser_iterative_Post_Order(root)"
   ]
  },
  {
   "cell_type": "code",
   "execution_count": 213,
   "metadata": {},
   "outputs": [],
   "source": [
    "def Recursive_In_Order_Method(root):\n",
    "    if root:\n",
    "        Recursive_In_Order_Method(root.Left)\n",
    "        print(root.element,end = '->')\n",
    "        Recursive_In_Order_Method(root.Right)"
   ]
  },
  {
   "cell_type": "code",
   "execution_count": 214,
   "metadata": {},
   "outputs": [
    {
     "name": "stdout",
     "output_type": "stream",
     "text": [
      "9->10->11->18->19->20->21->"
     ]
    }
   ],
   "source": [
    "Recursive_In_Order_Method(root)"
   ]
  },
  {
   "cell_type": "code",
   "execution_count": 215,
   "metadata": {},
   "outputs": [],
   "source": [
    "def Recursive_Pre_Order_Method(root):\n",
    "    if root:\n",
    "        print(root.element,end = '->')\n",
    "        Recursive_Pre_Order_Method(root.Left)\n",
    "        Recursive_Pre_Order_Method(root.Right)"
   ]
  },
  {
   "cell_type": "code",
   "execution_count": 216,
   "metadata": {},
   "outputs": [
    {
     "name": "stdout",
     "output_type": "stream",
     "text": [
      "18->10->9->11->20->19->21->"
     ]
    }
   ],
   "source": [
    "Recursive_Pre_Order_Method(root)"
   ]
  },
  {
   "cell_type": "code",
   "execution_count": 217,
   "metadata": {},
   "outputs": [],
   "source": [
    "def Recursive_Post_Order_Method(root):\n",
    "    if root:\n",
    "        Recursive_Post_Order_Method(root.Left)\n",
    "        Recursive_Post_Order_Method(root.Right)\n",
    "        print(root.element,end = '->')"
   ]
  },
  {
   "cell_type": "code",
   "execution_count": 218,
   "metadata": {},
   "outputs": [
    {
     "name": "stdout",
     "output_type": "stream",
     "text": [
      "9->11->10->19->21->20->18->"
     ]
    }
   ],
   "source": [
    "Recursive_Post_Order_Method(root)"
   ]
  },
  {
   "cell_type": "code",
   "execution_count": 219,
   "metadata": {},
   "outputs": [],
   "source": [
    "def Full_Binary_Tree(root):\n",
    "    if not root:\n",
    "        return True\n",
    "    \n",
    "    currrent = root\n",
    "    if currrent.Left is None and currrent.Right is None:\n",
    "        return True\n",
    "    elif currrent.Left is not None and currrent.Right is not None:\n",
    "        return Full_Binary_Tree(root.Left) and Full_Binary_Tree(root.Right)\n",
    "    return False"
   ]
  },
  {
   "cell_type": "code",
   "execution_count": 220,
   "metadata": {},
   "outputs": [
    {
     "data": {
      "text/plain": [
       "True"
      ]
     },
     "execution_count": 220,
     "metadata": {},
     "output_type": "execute_result"
    }
   ],
   "source": [
    "Full_Binary_Tree(root)"
   ]
  },
  {
   "cell_type": "code",
   "execution_count": 221,
   "metadata": {},
   "outputs": [],
   "source": [
    "def Count_all_Nodes(root):\n",
    "    if not root:\n",
    "        return 0\n",
    "    return 1 + Count_all_Nodes(root.Left) + Count_all_Nodes(root.Right)"
   ]
  },
  {
   "cell_type": "code",
   "execution_count": 222,
   "metadata": {},
   "outputs": [
    {
     "data": {
      "text/plain": [
       "7"
      ]
     },
     "execution_count": 222,
     "metadata": {},
     "output_type": "execute_result"
    }
   ],
   "source": [
    "Count_all_Nodes(root)"
   ]
  },
  {
   "cell_type": "code",
   "execution_count": 223,
   "metadata": {},
   "outputs": [],
   "source": [
    "def Height_of_Node(root):\n",
    "    if not root:\n",
    "        return 0\n",
    "    return 1 + max(Height_of_Node(root.Left),Height_of_Node(root.Right))"
   ]
  },
  {
   "cell_type": "code",
   "execution_count": 224,
   "metadata": {},
   "outputs": [
    {
     "data": {
      "text/plain": [
       "3"
      ]
     },
     "execution_count": 224,
     "metadata": {},
     "output_type": "execute_result"
    }
   ],
   "source": [
    "Height_of_Node(root)"
   ]
  },
  {
   "cell_type": "code",
   "execution_count": 225,
   "metadata": {},
   "outputs": [],
   "source": [
    "def Perfect_Binary_Tree(root):\n",
    "    if not root:\n",
    "        return True\n",
    "    \n",
    "    current = root\n",
    "    Cout_Node = Count_all_Nodes(current)\n",
    "    Height = Height_of_Node(current)\n",
    "    expect_Node = 2 ** Height - 1\n",
    "    if current.Left is None and current.Right is None:\n",
    "        return True\n",
    "    return Cout_Node == expect_Node  "
   ]
  },
  {
   "cell_type": "code",
   "execution_count": 226,
   "metadata": {},
   "outputs": [
    {
     "data": {
      "text/plain": [
       "True"
      ]
     },
     "execution_count": 226,
     "metadata": {},
     "output_type": "execute_result"
    }
   ],
   "source": [
    "Perfect_Binary_Tree(root)"
   ]
  },
  {
   "cell_type": "code",
   "execution_count": 227,
   "metadata": {},
   "outputs": [],
   "source": [
    "def Complete_Binary_Tree(root,index,numberofnode):\n",
    "    if not root:\n",
    "        return True\n",
    "    \n",
    "    elif index >= numberofnode:\n",
    "        return False\n",
    "    return Complete_Binary_Tree(root.Left,2 * index + 1,numberofnode) and Complete_Binary_Tree(root.Right,2*index + 2,numberofnode)"
   ]
  },
  {
   "cell_type": "code",
   "execution_count": 228,
   "metadata": {},
   "outputs": [
    {
     "data": {
      "text/plain": [
       "True"
      ]
     },
     "execution_count": 228,
     "metadata": {},
     "output_type": "execute_result"
    }
   ],
   "source": [
    "Complete_Binary_Tree(root,0,Count_all_Nodes(root))"
   ]
  },
  {
   "cell_type": "code",
   "execution_count": 229,
   "metadata": {},
   "outputs": [],
   "source": [
    "def Balance_Binary_Tree(root):\n",
    "    if not root:\n",
    "        return True\n",
    "    \n",
    "    current = root\n",
    "    \n",
    "    Left_child = Height_of_Node(current.Left)\n",
    "    Right_child = Height_of_Node(root.Right)\n",
    "\n",
    "    if abs(Left_child - Right_child) <= 0:\n",
    "        return Balance_Binary_Tree(root.Left) and Balance_Binary_Tree(root.Right)\n",
    "    return False\n"
   ]
  },
  {
   "cell_type": "code",
   "execution_count": 230,
   "metadata": {},
   "outputs": [
    {
     "data": {
      "text/plain": [
       "True"
      ]
     },
     "execution_count": 230,
     "metadata": {},
     "output_type": "execute_result"
    }
   ],
   "source": [
    "Balance_Binary_Tree(root)"
   ]
  },
  {
   "cell_type": "code",
   "execution_count": 231,
   "metadata": {},
   "outputs": [],
   "source": [
    "def Find_minimum_elements(root):\n",
    "    if not root:\n",
    "        return\n",
    "    \n",
    "    current = root\n",
    "    while current.Left is not None:\n",
    "        current = current.Left\n",
    "    return current.element"
   ]
  },
  {
   "cell_type": "code",
   "execution_count": 232,
   "metadata": {},
   "outputs": [
    {
     "data": {
      "text/plain": [
       "9"
      ]
     },
     "execution_count": 232,
     "metadata": {},
     "output_type": "execute_result"
    }
   ],
   "source": [
    "Find_minimum_elements(root)"
   ]
  },
  {
   "cell_type": "code",
   "execution_count": 255,
   "metadata": {},
   "outputs": [],
   "source": [
    "class Tree_Object_Method(object):\n",
    "    def __init__(self,element):\n",
    "        self.element = element\n",
    "        self.Left = None\n",
    "        self.Right = None"
   ]
  },
  {
   "cell_type": "code",
   "execution_count": 258,
   "metadata": {},
   "outputs": [],
   "source": [
    "root_obj = Tree_Object_Method(18)"
   ]
  },
  {
   "cell_type": "code",
   "execution_count": 256,
   "metadata": {},
   "outputs": [],
   "source": [
    "def Insertion_at_BST_Method(root,key):\n",
    "    if not root:\n",
    "        root = Tree_Object_Method(root)\n",
    "        return \n",
    "    current = root\n",
    "    while current:\n",
    "        if key < current.element:\n",
    "            if current.Left is None:\n",
    "                current.Left = Tree_Object_Method(key)\n",
    "                return\n",
    "            else:\n",
    "                current = current.Left\n",
    "        elif key > current.element:\n",
    "            if current.Right is None:\n",
    "                current.Right = Tree_Object_Method(key)\n",
    "                return\n",
    "            else:\n",
    "                current = current.Right\n",
    "        else:\n",
    "            return"
   ]
  },
  {
   "cell_type": "code",
   "execution_count": 261,
   "metadata": {},
   "outputs": [],
   "source": [
    "Insertion_at_BST_Method(root_obj,9)\n",
    "Insertion_at_BST_Method(root_obj,10)\n",
    "Insertion_at_BST_Method(root_obj,21)\n",
    "Insertion_at_BST_Method(root_obj,81)\n",
    "Insertion_at_BST_Method(root_obj,25)"
   ]
  },
  {
   "cell_type": "code",
   "execution_count": 262,
   "metadata": {},
   "outputs": [
    {
     "data": {
      "text/plain": [
       "[9, 10, 18, 21, 25, 81]"
      ]
     },
     "execution_count": 262,
     "metadata": {},
     "output_type": "execute_result"
    }
   ],
   "source": [
    "Traverser_iterative_InOrder(root_obj)"
   ]
  },
  {
   "cell_type": "code",
   "execution_count": 263,
   "metadata": {},
   "outputs": [],
   "source": [
    "def Minimum_element(root):\n",
    "    if not root:\n",
    "        return \n",
    "    while root.Left is not None:\n",
    "        root = root.Left\n",
    "    return root.element"
   ]
  },
  {
   "cell_type": "code",
   "execution_count": 264,
   "metadata": {},
   "outputs": [
    {
     "data": {
      "text/plain": [
       "9"
      ]
     },
     "execution_count": 264,
     "metadata": {},
     "output_type": "execute_result"
    }
   ],
   "source": [
    "Minimum_element(root_obj)"
   ]
  },
  {
   "cell_type": "code",
   "execution_count": 265,
   "metadata": {},
   "outputs": [],
   "source": [
    "def Delete_elements_BST_Object(root,key):\n",
    "    if not root:\n",
    "        return root\n",
    "    \n",
    "    if key < root.element:\n",
    "        root.Left = Delete_elements_BST_Object(root.Left,key)\n",
    "    elif key > root.element:\n",
    "        root.Right = Delete_elements_BST_Object(root.Right,key)\n",
    "    else:\n",
    "        if root.Left is None:\n",
    "            temp = root.Right\n",
    "            root = None\n",
    "            return temp\n",
    "        elif root.Right is None:\n",
    "            temp = root.Left\n",
    "            root = None\n",
    "            return temp\n",
    "        temp = Minimum_element(root.Right)\n",
    "        root.key = temp.key\n",
    "        root.Right = Delete_elements_BST_Object(root.Right,temp.key)\n",
    "    return root"
   ]
  },
  {
   "cell_type": "code",
   "execution_count": 272,
   "metadata": {},
   "outputs": [
    {
     "name": "stdout",
     "output_type": "stream",
     "text": [
      "<__main__.Tree_Object_Method object at 0x000001B720247670>\n"
     ]
    }
   ],
   "source": [
    "Delete_elements_BST_Object(root_obj,9)\n",
    "Delete_elements_BST_Object(root_obj,21)\n",
    "print(Delete_elements_BST_Object(root_obj,100))"
   ]
  },
  {
   "cell_type": "code",
   "execution_count": 271,
   "metadata": {},
   "outputs": [
    {
     "data": {
      "text/plain": [
       "[10, 18, 25, 81]"
      ]
     },
     "execution_count": 271,
     "metadata": {},
     "output_type": "execute_result"
    }
   ],
   "source": [
    "Traverser_iterative_InOrder(root_obj)"
   ]
  }
 ],
 "metadata": {
  "kernelspec": {
   "display_name": "base",
   "language": "python",
   "name": "python3"
  },
  "language_info": {
   "codemirror_mode": {
    "name": "ipython",
    "version": 3
   },
   "file_extension": ".py",
   "mimetype": "text/x-python",
   "name": "python",
   "nbconvert_exporter": "python",
   "pygments_lexer": "ipython3",
   "version": "3.10.9"
  },
  "orig_nbformat": 4
 },
 "nbformat": 4,
 "nbformat_minor": 2
}
