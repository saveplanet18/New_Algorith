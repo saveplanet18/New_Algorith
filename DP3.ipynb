{
 "cells": [
  {
   "cell_type": "code",
   "execution_count": 8,
   "metadata": {},
   "outputs": [
    {
     "data": {
      "text/plain": [
       "(6,\n",
       " [-2,\n",
       "  -1,\n",
       "  -4,\n",
       "  0,\n",
       "  -1,\n",
       "  1,\n",
       "  2,\n",
       "  -3,\n",
       "  1,\n",
       "  1,\n",
       "  -2,\n",
       "  2,\n",
       "  1,\n",
       "  3,\n",
       "  4,\n",
       "  -1,\n",
       "  3,\n",
       "  -3,\n",
       "  1,\n",
       "  0,\n",
       "  2,\n",
       "  3,\n",
       "  -2,\n",
       "  2,\n",
       "  4,\n",
       "  3,\n",
       "  5,\n",
       "  6,\n",
       "  1,\n",
       "  5,\n",
       "  -1,\n",
       "  1,\n",
       "  2,\n",
       "  -3,\n",
       "  1,\n",
       "  2,\n",
       "  3,\n",
       "  -2,\n",
       "  2,\n",
       "  1,\n",
       "  -4,\n",
       "  0,\n",
       "  -5,\n",
       "  -1,\n",
       "  4])"
      ]
     },
     "execution_count": 8,
     "metadata": {},
     "output_type": "execute_result"
    }
   ],
   "source": [
    "def Maximum_Sum_Subarray(nums):\n",
    "    Max_sum = 0\n",
    "    Result = []\n",
    "    for i in range(len(nums)):\n",
    "        current_sum = 0\n",
    "        for j in range(i,len(nums)):\n",
    "            current_sum += nums[j]\n",
    "            if current_sum > Max_sum:\n",
    "                Max_sum = current_sum\n",
    "            Result.append(current_sum)\n",
    "    return Max_sum,Result\n",
    "nums = [-2, 1, -3, 4, -1, 2, 1, -5, 4]\n",
    "Maximum_Sum_Subarray(nums)"
   ]
  },
  {
   "cell_type": "code",
   "execution_count": 9,
   "metadata": {},
   "outputs": [
    {
     "data": {
      "text/plain": [
       "(6, [1, -2, 4, 3, 5, 6, 1, 5])"
      ]
     },
     "execution_count": 9,
     "metadata": {},
     "output_type": "execute_result"
    }
   ],
   "source": [
    "def Kadane_Algorithm(nums):\n",
    "    current_sum = nums[0]\n",
    "    Max_sum = nums[0]\n",
    "    Result = []\n",
    "    for i in range(1,len(nums)):\n",
    "        current_sum = max(nums[i],current_sum+nums[i])\n",
    "        Max_sum = max(current_sum,Max_sum)\n",
    "        Result.append(current_sum)\n",
    "    return Max_sum,Result\n",
    "Kadane_Algorithm(nums)"
   ]
  },
  {
   "cell_type": "code",
   "execution_count": 10,
   "metadata": {},
   "outputs": [
    {
     "data": {
      "text/plain": [
       "-5"
      ]
     },
     "execution_count": 10,
     "metadata": {},
     "output_type": "execute_result"
    }
   ],
   "source": [
    "def Minimum_Sum_Subarray(nums):\n",
    "    Minimum = 0\n",
    "    for i in range(len(nums)):\n",
    "        current_sum = 0\n",
    "        for j in range(i,len(nums)):\n",
    "            current_sum += nums[j]\n",
    "            if current_sum < Minimum:\n",
    "                Minimum = current_sum\n",
    "    return Minimum\n",
    "Minimum_Sum_Subarray(nums)"
   ]
  },
  {
   "cell_type": "code",
   "execution_count": 11,
   "metadata": {},
   "outputs": [
    {
     "data": {
      "text/plain": [
       "-5"
      ]
     },
     "execution_count": 11,
     "metadata": {},
     "output_type": "execute_result"
    }
   ],
   "source": [
    "def Kadane_Algorithm_Min(nums):\n",
    "    current_sum = nums[0]\n",
    "    Max_sum = nums[0]\n",
    "    for i in range(1,len(nums)):\n",
    "        current_sum = min(nums[i],current_sum+nums[i])\n",
    "        Max_sum = min(current_sum,Max_sum)\n",
    "    return Max_sum\n",
    "Kadane_Algorithm_Min(nums)"
   ]
  },
  {
   "cell_type": "code",
   "execution_count": 17,
   "metadata": {},
   "outputs": [
    {
     "data": {
      "text/plain": [
       "(5, [2, 1, 2, 1, 2, 3, 4, 5])"
      ]
     },
     "execution_count": 17,
     "metadata": {},
     "output_type": "execute_result"
    }
   ],
   "source": [
    "def Longest_Increasing_Subarray(nums):\n",
    "    Longest_lenght = 1\n",
    "    Max_lenght = 1\n",
    "    Result = []\n",
    "    for i in range(1,len(nums)):\n",
    "        if nums[i] > nums[i-1]:\n",
    "            Longest_lenght += 1\n",
    "        else:\n",
    "            Longest_lenght = 1\n",
    "        if Longest_lenght > Max_lenght:\n",
    "            Max_lenght = Longest_lenght\n",
    "        Result.append(Longest_lenght)\n",
    "    return Max_lenght,Result\n",
    "nums = [5, 6,3,8,2,5,6,7,9]\n",
    "Longest_Increasing_Subarray(nums)"
   ]
  },
  {
   "cell_type": "code",
   "execution_count": 21,
   "metadata": {},
   "outputs": [
    {
     "data": {
      "text/plain": [
       "6"
      ]
     },
     "execution_count": 21,
     "metadata": {},
     "output_type": "execute_result"
    }
   ],
   "source": [
    "def Longest_Decreasing_Subarray(nums):\n",
    "    Longest_lenght = 1\n",
    "    Max_lenght = 1\n",
    "    for i in range(1,len(nums)):\n",
    "        if nums[i] < nums[i-1]:\n",
    "            Longest_lenght += 1\n",
    "        else:\n",
    "            Longest_lenght = 1\n",
    "        if Longest_lenght > Max_lenght:\n",
    "            Max_lenght = Longest_lenght\n",
    "    return Max_lenght\n",
    "nums = [9, 7, 5, 4, 2, 1, 8, 6, 3]\n",
    "Longest_Decreasing_Subarray(nums)"
   ]
  },
  {
   "cell_type": "code",
   "execution_count": 33,
   "metadata": {},
   "outputs": [
    {
     "data": {
      "text/plain": [
       "6"
      ]
     },
     "execution_count": 33,
     "metadata": {},
     "output_type": "execute_result"
    }
   ],
   "source": [
    "def Longest_Bitonic_Subarray(nums):\n",
    "    Longest_Incr = [1] * len(nums)\n",
    "    Longest_Dncr = [1] * len(nums)\n",
    "    Max_lenght = 0\n",
    "    for i in range(len(nums)):\n",
    "        if nums[i] > nums[i-1]:\n",
    "            Longest_Incr[i] = Longest_Incr[i-1] + 1\n",
    "    for i in range(len(nums)-2,-1,-1):\n",
    "        if nums[i] > nums[i+1]:\n",
    "            Longest_Dncr[i] = Longest_Dncr[i+1] + 1\n",
    "    for i in range(len(nums)):\n",
    "        lenght = Longest_Incr[i] + Longest_Dncr[i] -1\n",
    "        Max_lenght = max(lenght,Max_lenght)\n",
    "    return Max_lenght \n",
    "nums = [1, 3, 5, 4, 2, 1, 6, 8, 7]   \n",
    "Longest_Bitonic_Subarray(nums)"
   ]
  },
  {
   "cell_type": "code",
   "execution_count": 44,
   "metadata": {},
   "outputs": [
    {
     "data": {
      "text/plain": [
       "{0: 1, 1: 1, 2: 1, 3: 1, 4: 1}"
      ]
     },
     "execution_count": 44,
     "metadata": {},
     "output_type": "execute_result"
    }
   ],
   "source": [
    "def Zero_Sum_Subarray(nums):\n",
    "    Prefix = {}\n",
    "    current_sum = 0\n",
    "    for i in range(len(nums)):\n",
    "        current_sum += nums[i]\n",
    "        if current_sum in Prefix:\n",
    "            Prefix[i] += 1\n",
    "        else:\n",
    "            Prefix[i] = 1\n",
    "    return Prefix\n",
    "nums = [-3, 2, 3, 1, 6]\n",
    "Zero_Sum_Subarray(nums)"
   ]
  },
  {
   "cell_type": "code",
   "execution_count": 48,
   "metadata": {},
   "outputs": [
    {
     "data": {
      "text/plain": [
       "(15, [2, 5, 6, 8, 12, 15])"
      ]
     },
     "execution_count": 48,
     "metadata": {},
     "output_type": "execute_result"
    }
   ],
   "source": [
    "def smallest_positive_subarray_sum(nums,target):\n",
    "    current_sum = 0\n",
    "    Min_lenght = 0\n",
    "    Result = []\n",
    "    for i in range(len(nums)):\n",
    "        current_sum += nums[i]\n",
    "        Result.append(current_sum)\n",
    "    return current_sum,Result\n",
    "nums = [2,3,1,2,4,3]\n",
    "smallest_positive_subarray_sum(nums,7)"
   ]
  },
  {
   "cell_type": "code",
   "execution_count": 6,
   "metadata": {},
   "outputs": [
    {
     "name": "stdout",
     "output_type": "stream",
     "text": [
      "sublist (0, 2)\n",
      "sublist (0, 9)\n",
      "sublist (1, 3)\n",
      "sublist (2, 5)\n",
      "sublist (3, 9)\n",
      "sublist (5, 7)\n"
     ]
    }
   ],
   "source": [
    "def printAllSublists(nums):\n",
    "    for i in range(len(nums)):\n",
    "        current_sum = 0\n",
    "        for j in range(i,len(nums)):\n",
    "            current_sum += nums[j]\n",
    "            if current_sum == 0:\n",
    "                print('sublist',(i,j))\n",
    "nums = [3, 4, -7, 3, 1, 3, 1, -4, -2, -2]\n",
    "printAllSublists(nums)"
   ]
  },
  {
   "cell_type": "code",
   "execution_count": 10,
   "metadata": {},
   "outputs": [
    {
     "data": {
      "text/plain": [
       "True"
      ]
     },
     "execution_count": 10,
     "metadata": {},
     "output_type": "execute_result"
    }
   ],
   "source": [
    "def find_zero_sum_subarray(nums):\n",
    "    current_sum = 0\n",
    "    sum_set = set()\n",
    "    for i in range(len(nums)):\n",
    "        current_sum += nums[i]\n",
    "        if current_sum == 0 or current_sum in sum_set:\n",
    "            return True\n",
    "        else:\n",
    "            sum_set.add(current_sum)\n",
    "        \n",
    "    return False\n",
    "find_zero_sum_subarray(nums)"
   ]
  },
  {
   "cell_type": "code",
   "execution_count": 15,
   "metadata": {},
   "outputs": [
    {
     "data": {
      "text/plain": [
       "1"
      ]
     },
     "execution_count": 15,
     "metadata": {},
     "output_type": "execute_result"
    }
   ],
   "source": [
    "def smallest_positive_subarray_sum(nums,Target):\n",
    "    current_sum = 0\n",
    "    start = 0\n",
    "    min_lenght = 1\n",
    "    for end in range(len(nums)):\n",
    "        current_sum += nums[end]\n",
    "        while current_sum >= Target:\n",
    "            min_lenght = min(min_lenght,end-start+1)\n",
    "            current_sum -= nums[start]\n",
    "            start += 1\n",
    "    \n",
    "nums = [2, 3, 1, 2, 4, 3]\n",
    "smallest_positive_subarray_sum(nums,7)"
   ]
  },
  {
   "cell_type": "code",
   "execution_count": 20,
   "metadata": {},
   "outputs": [
    {
     "data": {
      "text/plain": [
       "6"
      ]
     },
     "execution_count": 20,
     "metadata": {},
     "output_type": "execute_result"
    }
   ],
   "source": [
    "def max_product_subarray(nums):\n",
    "    Max_prodcut = nums[0]\n",
    "    for i in range(len(nums)):\n",
    "        product = nums[i]\n",
    "        for j in range(i+1,len(nums)):\n",
    "            Max_prodcut = max(Max_prodcut,product)\n",
    "            product *= nums[j]\n",
    "        Max_prodcut = max(Max_prodcut,product)\n",
    "    return Max_prodcut\n",
    "nums = [2,3,-2,4]\n",
    "max_product_subarray(nums)"
   ]
  },
  {
   "cell_type": "code",
   "execution_count": 38,
   "metadata": {},
   "outputs": [
    {
     "data": {
      "text/plain": [
       "1"
      ]
     },
     "execution_count": 38,
     "metadata": {},
     "output_type": "execute_result"
    }
   ],
   "source": [
    "def count_equal_sum_subarrays(nums):\n",
    "    hash_map = {}\n",
    "    count = 0\n",
    "    current_sum = 0\n",
    "    for i,num in enumerate(nums):\n",
    "        current_sum += num\n",
    "        if current_sum in hash_map:\n",
    "            count += hash_map[current_sum]\n",
    "            hash_map[current_sum] += 1\n",
    "        else:\n",
    "            hash_map[current_sum] = 1\n",
    "    return count\n",
    "nums = [1, 2, 3, 0, 3, 2, 1]\n",
    "count_equal_sum_subarrays(nums)"
   ]
  },
  {
   "cell_type": "code",
   "execution_count": 45,
   "metadata": {},
   "outputs": [
    {
     "data": {
      "text/plain": [
       "5"
      ]
     },
     "execution_count": 45,
     "metadata": {},
     "output_type": "execute_result"
    }
   ],
   "source": [
    "def longest_increasing_subsequence(nums):\n",
    "    dp = [1] * len(nums)\n",
    "    for i in range(len(nums)):\n",
    "        for j in range(i):\n",
    "           if nums[i] > nums[j]:\n",
    "                dp[i] = max(dp[i],dp[j]+1)\n",
    "    return max(dp)\n",
    "nums = [10, 22, 9, 33, 21, 50, 41, 60]\n",
    "longest_increasing_subsequence(nums)"
   ]
  },
  {
   "cell_type": "code",
   "execution_count": null,
   "metadata": {},
   "outputs": [],
   "source": []
  }
 ],
 "metadata": {
  "kernelspec": {
   "display_name": "Python 3",
   "language": "python",
   "name": "python3"
  },
  "language_info": {
   "codemirror_mode": {
    "name": "ipython",
    "version": 3
   },
   "file_extension": ".py",
   "mimetype": "text/x-python",
   "name": "python",
   "nbconvert_exporter": "python",
   "pygments_lexer": "ipython3",
   "version": "3.11.6"
  }
 },
 "nbformat": 4,
 "nbformat_minor": 2
}
