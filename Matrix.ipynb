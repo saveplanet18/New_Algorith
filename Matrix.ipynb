{
 "cells": [
  {
   "cell_type": "code",
   "execution_count": 182,
   "metadata": {},
   "outputs": [],
   "source": [
    "def Create_Matrix_element(rows,cols):\n",
    "    matrix = []\n",
    "    for row in range(rows):\n",
    "        new_matrix_row = []\n",
    "        for col in range(cols):\n",
    "            col = int(input(f\"{row} and {col}\"))\n",
    "            new_matrix_row.append(col)\n",
    "        matrix.append(new_matrix_row)\n",
    "    return matrix"
   ]
  },
  {
   "cell_type": "code",
   "execution_count": 183,
   "metadata": {},
   "outputs": [],
   "source": [
    "root = Create_Matrix_element(4,4)"
   ]
  },
  {
   "cell_type": "code",
   "execution_count": 184,
   "metadata": {},
   "outputs": [
    {
     "data": {
      "text/plain": [
       "[[1, 2, 3, 4], [5, 6, 7, 8], [9, 10, 11, 12], [13, 14, 15, 16]]"
      ]
     },
     "execution_count": 184,
     "metadata": {},
     "output_type": "execute_result"
    }
   ],
   "source": [
    "root"
   ]
  },
  {
   "cell_type": "code",
   "execution_count": 162,
   "metadata": {},
   "outputs": [],
   "source": [
    "def Traverse_row_matrix(root):\n",
    "    rows = len(root)\n",
    "    cols = len(root[0])\n",
    "    result = []\n",
    "    for row in range(rows):\n",
    "        for col in range(cols):\n",
    "            result.append(root[row][col])\n",
    "    return result\n"
   ]
  },
  {
   "cell_type": "code",
   "execution_count": 163,
   "metadata": {},
   "outputs": [
    {
     "data": {
      "text/plain": [
       "[1, 2, 3, 4, 5, 6, 7, 8, 9, 10, 11, 12, 13, 14, 15, 16]"
      ]
     },
     "execution_count": 163,
     "metadata": {},
     "output_type": "execute_result"
    }
   ],
   "source": [
    "Traverse_row_matrix(root)"
   ]
  },
  {
   "cell_type": "code",
   "execution_count": 164,
   "metadata": {},
   "outputs": [],
   "source": [
    "def Traverse_Col_Matrix(root):\n",
    "    rows = len(root)\n",
    "    cols = len(root[0])\n",
    "    Result = []\n",
    "    for col in range(cols):\n",
    "        for row in range(rows):\n",
    "            Result.append(root[row][col])\n",
    "    return Result"
   ]
  },
  {
   "cell_type": "code",
   "execution_count": 165,
   "metadata": {},
   "outputs": [
    {
     "data": {
      "text/plain": [
       "[1, 5, 9, 13, 2, 6, 10, 14, 3, 7, 11, 15, 4, 8, 12, 16]"
      ]
     },
     "execution_count": 165,
     "metadata": {},
     "output_type": "execute_result"
    }
   ],
   "source": [
    "Traverse_Col_Matrix(root)"
   ]
  },
  {
   "cell_type": "code",
   "execution_count": 166,
   "metadata": {},
   "outputs": [],
   "source": [
    "def Transpose_Matrix(root):\n",
    "    rows = len(root)\n",
    "    cols = len(root[0])\n",
    "    Transpose = [[0] * cols for _ in range(rows)]\n",
    "    for row in range(rows):\n",
    "        for col in range(cols):\n",
    "            Transpose[col][row] = root[row][col]\n",
    "    return Transpose"
   ]
  },
  {
   "cell_type": "code",
   "execution_count": 167,
   "metadata": {},
   "outputs": [
    {
     "data": {
      "text/plain": [
       "[[1, 5, 9, 13], [2, 6, 10, 14], [3, 7, 11, 15], [4, 8, 12, 16]]"
      ]
     },
     "execution_count": 167,
     "metadata": {},
     "output_type": "execute_result"
    }
   ],
   "source": [
    "Transpose_Matrix(root)"
   ]
  },
  {
   "cell_type": "code",
   "execution_count": 168,
   "metadata": {},
   "outputs": [],
   "source": [
    "def Reverse_column(root):\n",
    "    rows = len(root)\n",
    "    cols = len(root[0])\n",
    "    Left_col , Right_col = 0, cols - 1\n",
    "    Top_row,Bottom_row = 0, rows - 1\n",
    "    Result = []\n",
    "    while (Left_col <= Right_col and Top_row <= Bottom_row):\n",
    "        for row in range(Right_col,Left_col - 1, -1):\n",
    "            Result.append(root[row][Bottom_row])\n",
    "        Bottom_row -= 1\n",
    "    return Result"
   ]
  },
  {
   "cell_type": "code",
   "execution_count": 169,
   "metadata": {},
   "outputs": [
    {
     "data": {
      "text/plain": [
       "[16, 12, 8, 4, 15, 11, 7, 3, 14, 10, 6, 2, 13, 9, 5, 1]"
      ]
     },
     "execution_count": 169,
     "metadata": {},
     "output_type": "execute_result"
    }
   ],
   "source": [
    "Reverse_column(root)"
   ]
  },
  {
   "cell_type": "code",
   "execution_count": 170,
   "metadata": {},
   "outputs": [],
   "source": [
    "def Reverser_rows_element(root):\n",
    "    rows = len(root)\n",
    "    cols = len(root[0])\n",
    "    Result = []\n",
    "    for row in range(rows):\n",
    "        for col in range(cols):\n",
    "            Result.append(root[rows-row-1][cols-col-1])\n",
    "    return Result\n"
   ]
  },
  {
   "cell_type": "code",
   "execution_count": 171,
   "metadata": {},
   "outputs": [
    {
     "data": {
      "text/plain": [
       "[16, 15, 14, 13, 12, 11, 10, 9, 8, 7, 6, 5, 4, 3, 2, 1]"
      ]
     },
     "execution_count": 171,
     "metadata": {},
     "output_type": "execute_result"
    }
   ],
   "source": [
    "Reverser_rows_element(root)"
   ]
  },
  {
   "cell_type": "code",
   "execution_count": 172,
   "metadata": {},
   "outputs": [],
   "source": [
    "def Rotate_180_Degree(root):\n",
    "    rows = len(root)\n",
    "    cols = len(root[0])\n",
    "    Rotate_180 = [[0] * cols for _ in range(rows)]\n",
    "    for row in range(rows):\n",
    "        for col in range(cols):\n",
    "            Rotate_180[rows-row-1][cols-col-1] = root[row][col]\n",
    "    return Rotate_180\n"
   ]
  },
  {
   "cell_type": "code",
   "execution_count": 173,
   "metadata": {},
   "outputs": [
    {
     "data": {
      "text/plain": [
       "[[16, 15, 14, 13], [12, 11, 10, 9], [8, 7, 6, 5], [4, 3, 2, 1]]"
      ]
     },
     "execution_count": 173,
     "metadata": {},
     "output_type": "execute_result"
    }
   ],
   "source": [
    "Rotate_180_Degree(root)"
   ]
  },
  {
   "cell_type": "code",
   "execution_count": 174,
   "metadata": {},
   "outputs": [],
   "source": [
    "root = [\n",
    "    [1, 2, 3],\n",
    "    [4, 0, 6],\n",
    "    [7, 8, 9]\n",
    "]"
   ]
  },
  {
   "cell_type": "code",
   "execution_count": 175,
   "metadata": {},
   "outputs": [],
   "source": [
    "def Set_to_Zero(root):\n",
    "    rows = len(root)\n",
    "    cols = len(root[0])\n",
    "    zero_rows = set()\n",
    "    zero_cols = set()\n",
    "    result = []\n",
    "    for row in range(rows):\n",
    "        for col in range(cols):\n",
    "            if root[row][col] == 0:\n",
    "                zero_rows.add(row)\n",
    "                zero_cols.add(col)\n",
    "    for i in zero_rows:\n",
    "        for j in range(cols):\n",
    "            root[i][j] = 0\n",
    "    \n",
    "    for j in zero_cols:\n",
    "        for i in range(rows):\n",
    "            root[i][j] = 0\n",
    "    return root\n"
   ]
  },
  {
   "cell_type": "code",
   "execution_count": 176,
   "metadata": {},
   "outputs": [
    {
     "data": {
      "text/plain": [
       "[[1, 0, 3], [0, 0, 0], [7, 0, 9]]"
      ]
     },
     "execution_count": 176,
     "metadata": {},
     "output_type": "execute_result"
    }
   ],
   "source": [
    "Set_to_Zero(root)"
   ]
  },
  {
   "cell_type": "code",
   "execution_count": 177,
   "metadata": {},
   "outputs": [],
   "source": [
    "root = [\n",
    "    [1, 0, 0, 1],\n",
    "    [0, 1, 1, 0],\n",
    "    [1, 0, 0, 1],\n",
    "    [0, 1, 1, 0],\n",
    "    [1, 0, 0, 1]\n",
    "]"
   ]
  },
  {
   "cell_type": "code",
   "execution_count": 178,
   "metadata": {},
   "outputs": [],
   "source": [
    "def Duplicate_Number_remove(root):\n",
    "    rows = len(root)\n",
    "    cols = len(root[0])\n",
    "    seen_row = set()\n",
    "    duplcate = []\n",
    "    for row in range(rows):\n",
    "        new_tuple = tuple()\n",
    "        if new_tuple in seen_row:\n",
    "            duplcate.append(row)\n",
    "        else:\n",
    "            seen_row.add(new_tuple)\n",
    "    return duplcate\n",
    "    "
   ]
  },
  {
   "cell_type": "code",
   "execution_count": 179,
   "metadata": {},
   "outputs": [
    {
     "data": {
      "text/plain": [
       "[1, 2, 3, 4]"
      ]
     },
     "execution_count": 179,
     "metadata": {},
     "output_type": "execute_result"
    }
   ],
   "source": [
    "Duplicate_Number_remove(root)"
   ]
  },
  {
   "cell_type": "code",
   "execution_count": 186,
   "metadata": {},
   "outputs": [],
   "source": [
    "def Rotate_90_Degree(root):\n",
    "    rows = len(root)\n",
    "    cols  = len(root[0])\n",
    "    Rotate_90 = [[0]* cols for _ in range(rows)]\n",
    "    for col in range(cols):\n",
    "        for row in range(rows):\n",
    "            Rotate_90[row][col] = root[col][row]\n",
    "    return Rotate_90"
   ]
  },
  {
   "cell_type": "code",
   "execution_count": 187,
   "metadata": {},
   "outputs": [
    {
     "data": {
      "text/plain": [
       "[[1, 5, 9, 13], [2, 6, 10, 14], [3, 7, 11, 15], [4, 8, 12, 16]]"
      ]
     },
     "execution_count": 187,
     "metadata": {},
     "output_type": "execute_result"
    }
   ],
   "source": [
    "Rotate_90_Degree(root)"
   ]
  },
  {
   "cell_type": "code",
   "execution_count": 194,
   "metadata": {},
   "outputs": [],
   "source": [
    "def Left_Right_Left(root):\n",
    "    rows = len(root)\n",
    "    cols = len(root[0])\n",
    "    Result = []\n",
    "    for row in range(rows):\n",
    "        if row % 2 == 0:\n",
    "            for col in range(cols):\n",
    "                Result.append(root[row][col])\n",
    "        else:\n",
    "            for col in range(cols - 1,-1,-1):\n",
    "                Result.append(root[row][col])\n",
    "    return Result"
   ]
  },
  {
   "cell_type": "code",
   "execution_count": 195,
   "metadata": {},
   "outputs": [
    {
     "data": {
      "text/plain": [
       "[1, 2, 3, 4, 8, 7, 6, 5, 9, 10, 11, 12, 16, 15, 14, 13]"
      ]
     },
     "execution_count": 195,
     "metadata": {},
     "output_type": "execute_result"
    }
   ],
   "source": [
    "Left_Right_Left(root)"
   ]
  },
  {
   "cell_type": "code",
   "execution_count": 198,
   "metadata": {},
   "outputs": [],
   "source": [
    "def Left_Right_Left_another(root):\n",
    "    for row,col in enumerate(root):\n",
    "        if row % 2 == 0:\n",
    "            print(\"\".join(map(str,col)))\n",
    "        else:\n",
    "            print(\"\".join(map(str,reversed(col))))\n",
    "    print()\n"
   ]
  },
  {
   "cell_type": "code",
   "execution_count": 202,
   "metadata": {},
   "outputs": [
    {
     "name": "stdout",
     "output_type": "stream",
     "text": [
      "1234\n",
      "8765\n",
      "9101112\n",
      "16151413\n",
      "\n"
     ]
    }
   ],
   "source": [
    "Left_Right_Left_another(root)"
   ]
  },
  {
   "cell_type": "code",
   "execution_count": 203,
   "metadata": {},
   "outputs": [],
   "source": [
    "root = [\n",
    "    [1,2,3,4],\n",
    "    [5,6,7,8],\n",
    "    [9,10,11,12],\n",
    "    [13,14,15,16]\n",
    "]"
   ]
  },
  {
   "cell_type": "code",
   "execution_count": 206,
   "metadata": {},
   "outputs": [],
   "source": [
    "def Lower_Matrix(root):\n",
    "    rows = len(root)\n",
    "    cols = len(root[0])\n",
    "    Result = []\n",
    "    for row in range(rows):\n",
    "        for col in range(cols):\n",
    "            if col < row:\n",
    "                Result[row][col] = Result[col][row]\n",
    "    return Result\n"
   ]
  },
  {
   "cell_type": "code",
   "execution_count": 1,
   "metadata": {},
   "outputs": [],
   "source": [
    "root = [\n",
    "    [1,2,3,4],\n",
    "    [5,6,7,8],\n",
    "    [9,10,11,12],\n",
    "    [13,14,15,16]\n",
    "]"
   ]
  },
  {
   "cell_type": "code",
   "execution_count": 2,
   "metadata": {},
   "outputs": [
    {
     "data": {
      "text/plain": [
       "[[1, 2, 3, 4], [5, 6, 7, 8], [9, 10, 11, 12], [13, 14, 15, 16]]"
      ]
     },
     "execution_count": 2,
     "metadata": {},
     "output_type": "execute_result"
    }
   ],
   "source": [
    "root"
   ]
  },
  {
   "cell_type": "code",
   "execution_count": 31,
   "metadata": {},
   "outputs": [],
   "source": [
    "def Daigonal_Traverse_element(root):\n",
    "    if not root or not root[0]:\n",
    "        return True\n",
    "    \n",
    "    rows = len(root)\n",
    "    cols = len(root[0])\n",
    "    Result = []\n",
    "    for d in range(rows + cols -1):\n",
    "        if d % 2 != 0:\n",
    "            row = min(d,cols -1)\n",
    "            col = d - row\n",
    "            while row >= 0 and col < cols:\n",
    "                Result.append(root[row][col])\n",
    "                row -= 1\n",
    "                col += 1\n",
    "        else:\n",
    "            col = min(d , rows -1)\n",
    "            row = d - col\n",
    "            while col >= 0 and row < rows:\n",
    "                Result.append(root[row][col])\n",
    "                row += 1\n",
    "                col -= 1\n",
    "    return Result\n",
    "\n"
   ]
  },
  {
   "cell_type": "code",
   "execution_count": 32,
   "metadata": {},
   "outputs": [
    {
     "data": {
      "text/plain": [
       "[1, 5, 2, 3, 6, 9, 13, 10, 7, 4, 8, 11, 14, 15, 12, 16]"
      ]
     },
     "execution_count": 32,
     "metadata": {},
     "output_type": "execute_result"
    }
   ],
   "source": [
    "Daigonal_Traverse_element(root)"
   ]
  },
  {
   "cell_type": "code",
   "execution_count": 29,
   "metadata": {},
   "outputs": [],
   "source": [
    "def Another_Traverse_Daigonals(root):\n",
    "    rows = len(root)\n",
    "    cols = len(root[0])\n",
    "    Result = []\n",
    "    for i in range(rows + cols -1):\n",
    "        for j in range(rows):\n",
    "            for k in range(cols):\n",
    "                if j + k == i:\n",
    "                    if i % 2 != 0:\n",
    "                        Result.append(root[j][k])\n",
    "                    else:\n",
    "                        Result.append(root[k][j])\n",
    "    return Result"
   ]
  },
  {
   "cell_type": "code",
   "execution_count": 30,
   "metadata": {},
   "outputs": [
    {
     "data": {
      "text/plain": [
       "[1, 2, 5, 9, 6, 3, 4, 7, 10, 13, 14, 11, 8, 12, 15, 16]"
      ]
     },
     "execution_count": 30,
     "metadata": {},
     "output_type": "execute_result"
    }
   ],
   "source": [
    "Another_Traverse_Daigonals(root)"
   ]
  },
  {
   "cell_type": "code",
   "execution_count": 37,
   "metadata": {},
   "outputs": [],
   "source": [
    "def Daigonal_Traverse_element_another(root):\n",
    "    rows = len(root)\n",
    "    cols = len(root[0])\n",
    "    Result = []\n",
    "    for i in range(rows + cols -1):\n",
    "        for j in range(rows):\n",
    "            for k in range(cols):\n",
    "                if j + k == i:\n",
    "                    Result.append(root[j][k])\n",
    "    return Result\n"
   ]
  },
  {
   "cell_type": "code",
   "execution_count": 38,
   "metadata": {},
   "outputs": [
    {
     "data": {
      "text/plain": [
       "[1, 2, 5, 3, 6, 9, 4, 7, 10, 13, 8, 11, 14, 12, 15, 16]"
      ]
     },
     "execution_count": 38,
     "metadata": {},
     "output_type": "execute_result"
    }
   ],
   "source": [
    "Daigonal_Traverse_element_another(root)"
   ]
  },
  {
   "cell_type": "code",
   "execution_count": 41,
   "metadata": {},
   "outputs": [],
   "source": [
    "def Daigonal_Traverse_element_Thirdway(root):\n",
    "    rows = len(root)\n",
    "    cols = len(root[0])\n",
    "    Result = []\n",
    "    for i in range(cols * 2 -1):\n",
    "        for j in range(rows):\n",
    "            for k in range(cols):\n",
    "                if j + k == i:\n",
    "                    Result.append(root[k][j])\n",
    "    return Result"
   ]
  },
  {
   "cell_type": "code",
   "execution_count": 42,
   "metadata": {},
   "outputs": [
    {
     "data": {
      "text/plain": [
       "[1, 5, 2, 9, 6, 3, 13, 10, 7, 4, 14, 11, 8, 15, 12, 16]"
      ]
     },
     "execution_count": 42,
     "metadata": {},
     "output_type": "execute_result"
    }
   ],
   "source": [
    "Daigonal_Traverse_element_Thirdway(root)"
   ]
  },
  {
   "cell_type": "code",
   "execution_count": 55,
   "metadata": {},
   "outputs": [],
   "source": [
    "def Multiply_Two_Matrix(root,root1):\n",
    "    rows = len(root)\n",
    "    cols = len(root[0])\n",
    "    sum_of = 0\n",
    "    Result = []\n",
    "    for row in range(rows):\n",
    "        l = []\n",
    "        for col in range(cols):\n",
    "            for k in range(len(root1)):\n",
    "                sum_of += root[row][k] * root1[k][col]\n",
    "            l.append(sum_of)\n",
    "        Result.append(l)\n",
    "    return Result"
   ]
  },
  {
   "cell_type": "code",
   "execution_count": 56,
   "metadata": {},
   "outputs": [],
   "source": [
    "root = [[1,2,3],\n",
    "        [4,5,6],\n",
    "        [7,8,9]]\n",
    "root1 = [[1,2,3],\n",
    "         [4,5,6],\n",
    "         [7,8,9]]"
   ]
  },
  {
   "cell_type": "code",
   "execution_count": 57,
   "metadata": {},
   "outputs": [
    {
     "data": {
      "text/plain": [
       "[[30, 66, 108], [174, 255, 351], [453, 579, 729]]"
      ]
     },
     "execution_count": 57,
     "metadata": {},
     "output_type": "execute_result"
    }
   ],
   "source": [
    "Multiply_Two_Matrix(root,root1)"
   ]
  },
  {
   "cell_type": "code",
   "execution_count": 66,
   "metadata": {},
   "outputs": [],
   "source": [
    "def Cancatenate_two_Matrix(root,root1):\n",
    "    # if len(root) != len(root1) or len(root[0] != len(root1[0])):\n",
    "    #     raise ValueError(\"row and columns should be same\")\n",
    "    \n",
    "    Result = []\n",
    "    for i in range(len(root)):\n",
    "        row = []\n",
    "        for j in range(len(root[0])):\n",
    "            row.append(root[i][j])\n",
    "        for k in range(len(root1[0])):\n",
    "            row.append(root1[i][k])\n",
    "        Result.append(row)\n",
    "    return Result"
   ]
  },
  {
   "cell_type": "code",
   "execution_count": 67,
   "metadata": {},
   "outputs": [
    {
     "data": {
      "text/plain": [
       "[[1, 2, 3, 1, 2, 3], [4, 5, 6, 4, 5, 6], [7, 8, 9, 7, 8, 9]]"
      ]
     },
     "execution_count": 67,
     "metadata": {},
     "output_type": "execute_result"
    }
   ],
   "source": [
    "Cancatenate_two_Matrix(root,root1)"
   ]
  },
  {
   "cell_type": "code",
   "execution_count": 90,
   "metadata": {},
   "outputs": [],
   "source": [
    "def max_min_element(root):\n",
    "    if not root:\n",
    "        raise ValueError(\"matrix is emtpy\")\n",
    "    max_element = min_element = root[0][0]\n",
    "    for row in root:\n",
    "        for element in row:\n",
    "            if element < min_element:\n",
    "                min_element = element\n",
    "            elif element > max_element:\n",
    "                max_element = element\n",
    "    return max_element,min_element\n"
   ]
  },
  {
   "cell_type": "code",
   "execution_count": 91,
   "metadata": {},
   "outputs": [
    {
     "data": {
      "text/plain": [
       "(9, 1)"
      ]
     },
     "execution_count": 91,
     "metadata": {},
     "output_type": "execute_result"
    }
   ],
   "source": [
    "max_min_element(root)"
   ]
  },
  {
   "cell_type": "code",
   "execution_count": 95,
   "metadata": {},
   "outputs": [],
   "source": [
    "def scalar_matrix(size ,scalar):\n",
    "    if size <= 0:\n",
    "        raise ValueError(\"more than 1\")\n",
    "    matrx = []\n",
    "    for i in range(size):\n",
    "        row = []\n",
    "        for j in range(size):\n",
    "            if i == j:\n",
    "                row.append(scalar)\n",
    "            else:\n",
    "                row.append(0)\n",
    "        matrx.append(row)\n",
    "    return matrx\n"
   ]
  },
  {
   "cell_type": "code",
   "execution_count": 96,
   "metadata": {},
   "outputs": [
    {
     "data": {
      "text/plain": [
       "[[5, 0, 0], [0, 5, 0], [0, 0, 5]]"
      ]
     },
     "execution_count": 96,
     "metadata": {},
     "output_type": "execute_result"
    }
   ],
   "source": [
    "scalar_matrix(3,5)"
   ]
  },
  {
   "cell_type": "code",
   "execution_count": 103,
   "metadata": {},
   "outputs": [],
   "source": [
    "def sedle_point_element(root):\n",
    "    if not root:\n",
    "        raise ValueError(\"matrix is empty\")\n",
    "    rows = len(root)\n",
    "    cols = len(root[0])\n",
    "    for row in range(rows):\n",
    "        for col in range(cols):\n",
    "            current_value = root[row][col]\n",
    "            if current_value ==  min(root[row]):\n",
    "                if current_value == max(root[k][row] for k in range(rows)):\n",
    "                    return (row,col)\n",
    "    return None"
   ]
  },
  {
   "cell_type": "code",
   "execution_count": 104,
   "metadata": {},
   "outputs": [],
   "source": [
    "sedle_point_element(root)"
   ]
  },
  {
   "cell_type": "code",
   "execution_count": 105,
   "metadata": {},
   "outputs": [],
   "source": [
    "def diagonal_matrix_if(root):\n",
    "    rows = len(root)\n",
    "    cols = len(root[0])\n",
    "    f = 0\n",
    "    for i in range(rows):\n",
    "        for j in range(cols):\n",
    "            if root[i][j] == 0 and i == j:\n",
    "                f = 1\n",
    "                break\n",
    "            elif i == j and root[i][j] != 0:\n",
    "                f = 1\n",
    "                break\n",
    "    if f == 0:\n",
    "        print(\"daigonal\")\n",
    "    else:\n",
    "        print(\"no\")\n"
   ]
  },
  {
   "cell_type": "code",
   "execution_count": 106,
   "metadata": {},
   "outputs": [
    {
     "name": "stdout",
     "output_type": "stream",
     "text": [
      "no\n"
     ]
    }
   ],
   "source": [
    "diagonal_matrix_if(root)"
   ]
  },
  {
   "cell_type": "code",
   "execution_count": null,
   "metadata": {},
   "outputs": [],
   "source": []
  }
 ],
 "metadata": {
  "kernelspec": {
   "display_name": "base",
   "language": "python",
   "name": "python3"
  },
  "language_info": {
   "codemirror_mode": {
    "name": "ipython",
    "version": 3
   },
   "file_extension": ".py",
   "mimetype": "text/x-python",
   "name": "python",
   "nbconvert_exporter": "python",
   "pygments_lexer": "ipython3",
   "version": "3.11.4"
  },
  "orig_nbformat": 4
 },
 "nbformat": 4,
 "nbformat_minor": 2
}
