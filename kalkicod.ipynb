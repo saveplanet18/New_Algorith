{
 "cells": [
  {
   "cell_type": "code",
   "execution_count": 40,
   "metadata": {},
   "outputs": [],
   "source": [
    "arr = [1, 0, 1, 0, 0, 1, 1, 0, 1]"
   ]
  },
  {
   "cell_type": "code",
   "execution_count": 43,
   "metadata": {},
   "outputs": [],
   "source": [
    "def segregate_zeros_and_ones(arr):\n",
    "    left = 0\n",
    "    Right = len(arr) - 1\n",
    "    while left < Right:\n",
    "        while arr[left] == 0 and left < Right:\n",
    "            left += 1\n",
    "        while arr[Right] == 1 and left < Right:\n",
    "            Right -= 1\n",
    "        \n",
    "        if left < Right:\n",
    "            arr[left],arr[Right] = arr[Right],arr[left]\n",
    "            left += 1\n",
    "            Right -= 1\n",
    "    return arr"
   ]
  },
  {
   "cell_type": "code",
   "execution_count": 44,
   "metadata": {},
   "outputs": [
    {
     "data": {
      "text/plain": [
       "[0, 0, 0, 0, 1, 1, 1, 1, 1]"
      ]
     },
     "execution_count": 44,
     "metadata": {},
     "output_type": "execute_result"
    }
   ],
   "source": [
    "segregate_zeros_and_ones(arr)"
   ]
  },
  {
   "cell_type": "code",
   "execution_count": 52,
   "metadata": {},
   "outputs": [],
   "source": [
    "def custom_shuffle(arr):\n",
    "    size = len(arr)\n",
    "    for i in range(size):\n",
    "        for j in range(1,size):\n",
    "            temp = arr[i]\n",
    "            arr[i] = arr[j]\n",
    "            arr[j] = temp\n",
    "    return arr"
   ]
  },
  {
   "cell_type": "code",
   "execution_count": 53,
   "metadata": {},
   "outputs": [
    {
     "data": {
      "text/plain": [
       "[1, 1, 0, 0, 0, 0, 1, 1, 1]"
      ]
     },
     "execution_count": 53,
     "metadata": {},
     "output_type": "execute_result"
    }
   ],
   "source": [
    "custom_shuffle(arr)"
   ]
  },
  {
   "cell_type": "code",
   "execution_count": 56,
   "metadata": {},
   "outputs": [],
   "source": [
    "def sort_colors(arr):\n",
    "    Left,mid ,Right = 0,0,len(arr) - 1\n",
    "    while mid < Right:\n",
    "        if arr[mid] == 0:\n",
    "            arr[Left],arr[mid] = arr[mid],arr[Left]\n",
    "            Left += 1\n",
    "            mid += 1\n",
    "        elif arr[mid] == 1:\n",
    "            mid += 1\n",
    "        else:\n",
    "            arr[Right],arr[mid] = arr[mid],arr[Right]\n",
    "            Right -= 1\n",
    "    return arr\n"
   ]
  },
  {
   "cell_type": "code",
   "execution_count": 57,
   "metadata": {},
   "outputs": [
    {
     "data": {
      "text/plain": [
       "[0, 0, 0, 0, 1, 1, 1, 1, 1]"
      ]
     },
     "execution_count": 57,
     "metadata": {},
     "output_type": "execute_result"
    }
   ],
   "source": [
    "sort_colors(arr)"
   ]
  },
  {
   "cell_type": "code",
   "execution_count": 58,
   "metadata": {},
   "outputs": [],
   "source": [
    "def sort_binary_array(arr):\n",
    "    count_0 = arr.count(0)\n",
    "    for i in range(count_0):\n",
    "        arr[i] = 0\n",
    "    for j in range(count_0,len(arr)-1):\n",
    "        arr[j] = 1\n",
    "    return arr"
   ]
  },
  {
   "cell_type": "code",
   "execution_count": 59,
   "metadata": {},
   "outputs": [
    {
     "data": {
      "text/plain": [
       "[0, 0, 0, 0, 1, 1, 1, 1, 1]"
      ]
     },
     "execution_count": 59,
     "metadata": {},
     "output_type": "execute_result"
    }
   ],
   "source": [
    "sort_binary_array(arr)"
   ]
  },
  {
   "cell_type": "code",
   "execution_count": 97,
   "metadata": {},
   "outputs": [],
   "source": [
    "root_1 = [1, -1, 3, 2, -7, -5, 11, 6]"
   ]
  },
  {
   "cell_type": "code",
   "execution_count": 106,
   "metadata": {},
   "outputs": [],
   "source": [
    "def move_negatives_to_end(arr):\n",
    "    left = 0\n",
    "    right = len(arr) - 1\n",
    "    while (left <= right):\n",
    "        if arr[left] < 0 and arr[right] >= 0:\n",
    "            arr[left],arr[right] = arr[right],arr[left]\n",
    "            left += 1\n",
    "            right -= 1\n",
    "        elif arr[left] >= 0:\n",
    "            left += 1\n",
    "        else:\n",
    "            right -= 1\n",
    "\n",
    "    return arr"
   ]
  },
  {
   "cell_type": "code",
   "execution_count": 107,
   "metadata": {},
   "outputs": [
    {
     "data": {
      "text/plain": [
       "[1, 6, 3, 2, 11, -5, -7, -1]"
      ]
     },
     "execution_count": 107,
     "metadata": {},
     "output_type": "execute_result"
    }
   ],
   "source": [
    "move_negatives_to_end(root_1)"
   ]
  },
  {
   "cell_type": "code",
   "execution_count": 112,
   "metadata": {},
   "outputs": [],
   "source": [
    "def printInversionPairs(arr):\n",
    "    size = len(arr)\n",
    "    for i in range(0 , size - 1):\n",
    "        for j in range(i + 1,size - 1):\n",
    "            if arr[i] < arr[j]:\n",
    "                print(arr[i],arr[j])\n",
    "    return arr\n"
   ]
  },
  {
   "cell_type": "code",
   "execution_count": 113,
   "metadata": {},
   "outputs": [
    {
     "name": "stdout",
     "output_type": "stream",
     "text": [
      "1 6\n",
      "1 3\n",
      "1 2\n",
      "1 11\n",
      "6 11\n",
      "3 11\n",
      "2 11\n"
     ]
    },
    {
     "data": {
      "text/plain": [
       "[1, 6, 3, 2, 11, -5, -7, -1]"
      ]
     },
     "execution_count": 113,
     "metadata": {},
     "output_type": "execute_result"
    }
   ],
   "source": [
    "printInversionPairs(root_1)"
   ]
  },
  {
   "cell_type": "code",
   "execution_count": 114,
   "metadata": {},
   "outputs": [],
   "source": [
    "def segregate_even_odd(arr):\n",
    "    left = 0\n",
    "    right = len(arr) - 1\n",
    "    while left < right:\n",
    "        while arr[left] % 2 == 0 and left < right:\n",
    "            left += 1\n",
    "        while arr[right] % 2 != 0 and left < right:\n",
    "            right -= 1\n",
    "        \n",
    "        if left < right:\n",
    "            arr[left],arr[right] = arr[right],arr[left]\n",
    "            left += 1\n",
    "            right -= 1\n",
    "    return arr"
   ]
  },
  {
   "cell_type": "code",
   "execution_count": 115,
   "metadata": {},
   "outputs": [
    {
     "data": {
      "text/plain": [
       "[2, 6, 3, 1, 11, -5, -7, -1]"
      ]
     },
     "execution_count": 115,
     "metadata": {},
     "output_type": "execute_result"
    }
   ],
   "source": [
    "segregate_even_odd(root_1)"
   ]
  },
  {
   "cell_type": "code",
   "execution_count": 116,
   "metadata": {},
   "outputs": [],
   "source": [
    "def move_zeroes_to_end(arr):\n",
    "    n = len(arr)\n",
    "    zero_move = 0\n",
    "    for i in range(n):\n",
    "        if arr[i] != 0:\n",
    "            arr[i],arr[zero_move] = arr[zero_move],arr[i]\n",
    "            zero_move += 1\n",
    "    return arr"
   ]
  },
  {
   "cell_type": "code",
   "execution_count": 122,
   "metadata": {},
   "outputs": [],
   "source": [
    "arr = [0, 1, 4, 7, 2, 2, 1, 2, 0, 0, 6, 0, 1, 1, 0]"
   ]
  },
  {
   "cell_type": "code",
   "execution_count": 119,
   "metadata": {},
   "outputs": [
    {
     "data": {
      "text/plain": [
       "[1, 4, 7, 2, 2, 1, 2, 6, 1, 1, 0, 0, 0, 0, 0]"
      ]
     },
     "execution_count": 119,
     "metadata": {},
     "output_type": "execute_result"
    }
   ],
   "source": [
    "move_zeroes_to_end(arr)"
   ]
  },
  {
   "cell_type": "code",
   "execution_count": 127,
   "metadata": {},
   "outputs": [],
   "source": [
    "def alternative_sort_ascending(arr):\n",
    "    arr.sort()\n",
    "    n = len(arr)\n",
    "    Result = [0] * n\n",
    "    left , right = 0 , n - 1\n",
    "    for i in range(n):\n",
    "        if i % 2 == 0:\n",
    "            Result[i] = arr[left]\n",
    "            left += 1\n",
    "        else:\n",
    "            Result[i] = arr[right]\n",
    "            right -= 1\n",
    "    return arr"
   ]
  },
  {
   "cell_type": "code",
   "execution_count": 128,
   "metadata": {},
   "outputs": [
    {
     "data": {
      "text/plain": [
       "[1, 2, 3, 4, 6, 7, 8, 9, 10]"
      ]
     },
     "execution_count": 128,
     "metadata": {},
     "output_type": "execute_result"
    }
   ],
   "source": [
    "arr = [1, 6, 9, 4, 3, 7, 8, 2, 10]\n",
    "alternative_sort_ascending(arr)"
   ]
  },
  {
   "cell_type": "code",
   "execution_count": 131,
   "metadata": {},
   "outputs": [],
   "source": [
    "def alternative_sort_descending(arr):\n",
    "    arr.sort(reverse=True)\n",
    "    n = len(arr)\n",
    "    Result = [0] * n\n",
    "    Left,Right = 0,n - 1\n",
    "    for i in range(n):\n",
    "        if arr[i] % 2 == 0:\n",
    "            Result[i] = arr[Left]\n",
    "            Left += 1\n",
    "        else:\n",
    "            Result[i] = arr[Right]\n",
    "            Right -= 1\n",
    "    return arr\n"
   ]
  },
  {
   "cell_type": "code",
   "execution_count": 132,
   "metadata": {},
   "outputs": [
    {
     "data": {
      "text/plain": [
       "[10, 9, 8, 7, 6, 4, 3, 2, 1]"
      ]
     },
     "execution_count": 132,
     "metadata": {},
     "output_type": "execute_result"
    }
   ],
   "source": [
    "alternative_sort_descending(arr)"
   ]
  },
  {
   "cell_type": "code",
   "execution_count": 146,
   "metadata": {},
   "outputs": [],
   "source": [
    "def split_and_add_to_end(arr):\n",
    "    mid = len(arr) // 2\n",
    "    first_split = arr[mid:]\n",
    "    second_split = arr[:mid]\n",
    "    Result = second_split + first_split\n",
    "    return Result"
   ]
  },
  {
   "cell_type": "code",
   "execution_count": 147,
   "metadata": {},
   "outputs": [
    {
     "data": {
      "text/plain": [
       "[10, 9, 8, 7, 6, 4, 3, 2, 1]"
      ]
     },
     "execution_count": 147,
     "metadata": {},
     "output_type": "execute_result"
    }
   ],
   "source": [
    "split_and_add_to_end(arr)"
   ]
  },
  {
   "cell_type": "code",
   "execution_count": 148,
   "metadata": {},
   "outputs": [],
   "source": [
    "arr = [1, 4, 5, 2, 2, 2, 5, 5, 4, 2, 8, 4]"
   ]
  },
  {
   "cell_type": "code",
   "execution_count": 162,
   "metadata": {},
   "outputs": [],
   "source": [
    "def find_pairs_with_difference(arr,k):\n",
    "    result = []\n",
    "    seen = set()\n",
    "    for i in arr:\n",
    "        plus = i + k\n",
    "        minus = i - k\n",
    "        if plus in seen:\n",
    "            result.append((plus,i))\n",
    "        elif minus in seen:\n",
    "            result.append((minus,i))\n",
    "        seen.add(i)\n",
    "    return result\n",
    "        "
   ]
  },
  {
   "cell_type": "code",
   "execution_count": 163,
   "metadata": {},
   "outputs": [
    {
     "data": {
      "text/plain": [
       "[(1, 4),\n",
       " (5, 2),\n",
       " (5, 2),\n",
       " (5, 2),\n",
       " (2, 5),\n",
       " (2, 5),\n",
       " (1, 4),\n",
       " (5, 2),\n",
       " (5, 8),\n",
       " (1, 4)]"
      ]
     },
     "execution_count": 163,
     "metadata": {},
     "output_type": "execute_result"
    }
   ],
   "source": [
    "find_pairs_with_difference(arr,3)"
   ]
  },
  {
   "cell_type": "code",
   "execution_count": 208,
   "metadata": {},
   "outputs": [],
   "source": [
    "def Min_function(Mylist):\n",
    "    lowest = 0\n",
    "    n = len(Mylist)\n",
    "    for i in range(n):\n",
    "        if Mylist[i] > Mylist[lowest]:\n",
    "            Mylist[lowest] = Mylist[i]\n",
    "    return Mylist[lowest]\n"
   ]
  },
  {
   "cell_type": "code",
   "execution_count": 232,
   "metadata": {},
   "outputs": [],
   "source": [
    "arr = [6, 2, 9, 5, -2, 4, 8, 2, 7, 1, 3]"
   ]
  },
  {
   "cell_type": "code",
   "execution_count": 210,
   "metadata": {},
   "outputs": [
    {
     "data": {
      "text/plain": [
       "8"
      ]
     },
     "execution_count": 210,
     "metadata": {},
     "output_type": "execute_result"
    }
   ],
   "source": [
    "Min_function(arr)"
   ]
  },
  {
   "cell_type": "code",
   "execution_count": 241,
   "metadata": {},
   "outputs": [],
   "source": [
    "def find_largest_pair_sum(arr):\n",
    "    largest = max(arr[0],arr[1])\n",
    "    second_larget = min(arr[0],arr[1])\n",
    "    for i in range(2,len(arr)):\n",
    "        if arr[i] > largest:\n",
    "            second_larget = largest\n",
    "            largest = arr[i]\n",
    "        elif arr[i] > second_larget:\n",
    "            second_larget = arr[i]\n",
    "    return largest + second_larget"
   ]
  },
  {
   "cell_type": "code",
   "execution_count": 242,
   "metadata": {},
   "outputs": [
    {
     "data": {
      "text/plain": [
       "17"
      ]
     },
     "execution_count": 242,
     "metadata": {},
     "output_type": "execute_result"
    }
   ],
   "source": [
    "find_largest_pair_sum(arr)"
   ]
  },
  {
   "cell_type": "code",
   "execution_count": 247,
   "metadata": {},
   "outputs": [],
   "source": [
    "def find_largest_and_second_largest(arr):\n",
    "    largest = max(arr[0],arr[1])\n",
    "    second_largest = min(arr[0],arr[1])\n",
    "    for i in range(len(arr)):\n",
    "        if arr[i] > largest:\n",
    "            second_largest = largest\n",
    "            largest = arr[i]\n",
    "        elif arr[i] > second_largest:\n",
    "            second_largest = arr[i]\n",
    "\n",
    "    return largest,second_largest"
   ]
  },
  {
   "cell_type": "code",
   "execution_count": 248,
   "metadata": {},
   "outputs": [
    {
     "data": {
      "text/plain": [
       "(9, 8)"
      ]
     },
     "execution_count": 248,
     "metadata": {},
     "output_type": "execute_result"
    }
   ],
   "source": [
    "find_largest_and_second_largest(arr)"
   ]
  },
  {
   "cell_type": "code",
   "execution_count": 251,
   "metadata": {},
   "outputs": [],
   "source": [
    "def find_min_max(arr):\n",
    "    smallest = min(arr[0],arr[1])\n",
    "    higest = max(arr[0],arr[1])\n",
    "    for i in range(2,len(arr)):\n",
    "        if arr[i] < smallest:\n",
    "            smallest = arr[i]\n",
    "        elif arr[i] > higest:\n",
    "            higest = arr[i]\n",
    "    return smallest,higest"
   ]
  },
  {
   "cell_type": "code",
   "execution_count": 252,
   "metadata": {},
   "outputs": [
    {
     "data": {
      "text/plain": [
       "(-2, 9)"
      ]
     },
     "execution_count": 252,
     "metadata": {},
     "output_type": "execute_result"
    }
   ],
   "source": [
    "find_min_max(arr)"
   ]
  },
  {
   "cell_type": "code",
   "execution_count": 256,
   "metadata": {},
   "outputs": [],
   "source": [
    "def nearest_smaller_on_left(arr):\n",
    "    smallest = min(arr[0],arr[1])\n",
    "    for i in range(len(arr)):\n",
    "        if arr[i] < smallest:\n",
    "            smallest = arr[i]\n",
    "\n",
    "    position = 0\n",
    "    i = 0\n",
    "    while (i < len(arr)):\n",
    "        position = smallest\n",
    "        if position == -1:\n",
    "            print(\" \", arr[i] ,\" : None\\n\", end = \"\")\n",
    "        else:\n",
    "            print(\" \", arr[i] ,\" : \", arr[position] ,\"\\n\", end = \"\")\n",
    "        i += 1"
   ]
  },
  {
   "cell_type": "code",
   "execution_count": 257,
   "metadata": {},
   "outputs": [
    {
     "name": "stdout",
     "output_type": "stream",
     "text": [
      "  6  :  1 \n",
      "  2  :  1 \n",
      "  9  :  1 \n",
      "  5  :  1 \n",
      "  -2  :  1 \n",
      "  4  :  1 \n",
      "  8  :  1 \n",
      "  2  :  1 \n",
      "  7  :  1 \n",
      "  1  :  1 \n",
      "  3  :  1 \n"
     ]
    }
   ],
   "source": [
    "nearest_smaller_on_left(arr)"
   ]
  },
  {
   "cell_type": "code",
   "execution_count": 258,
   "metadata": {},
   "outputs": [],
   "source": [
    "def find_k_closest_numbers(arr,k):\n",
    "    pass"
   ]
  },
  {
   "cell_type": "code",
   "execution_count": 273,
   "metadata": {},
   "outputs": [],
   "source": [
    "def sort_by_frequency(arr):\n",
    "    dict_frequence = {}\n",
    "    for i in arr:\n",
    "        if i in dict_frequence:\n",
    "            dict_frequence[i] += 1\n",
    "        else:\n",
    "            dict_frequence[i] = 1\n",
    "    result = sorted(dict_frequence.items())\n",
    "    return result"
   ]
  },
  {
   "cell_type": "code",
   "execution_count": 274,
   "metadata": {},
   "outputs": [
    {
     "data": {
      "text/plain": [
       "[(-2, 1),\n",
       " (1, 1),\n",
       " (2, 2),\n",
       " (3, 1),\n",
       " (4, 1),\n",
       " (5, 1),\n",
       " (6, 1),\n",
       " (7, 1),\n",
       " (8, 1),\n",
       " (9, 1)]"
      ]
     },
     "execution_count": 274,
     "metadata": {},
     "output_type": "execute_result"
    }
   ],
   "source": [
    "sort_by_frequency(arr)"
   ]
  },
  {
   "cell_type": "code",
   "execution_count": 281,
   "metadata": {},
   "outputs": [],
   "source": [
    "def find_missing(arr):\n",
    "    i = 0\n",
    "    while i < len(arr) - 1:\n",
    "        j = arr[i] + 1\n",
    "        while j < arr[i+1]:\n",
    "            print(\"\",j,end = '')\n",
    "            j += 1\n",
    "        i += 1\n"
   ]
  },
  {
   "cell_type": "code",
   "execution_count": 282,
   "metadata": {},
   "outputs": [
    {
     "name": "stdout",
     "output_type": "stream",
     "text": [
      " 3 4 5 6 7 8 -1 0 1 2 3 5 6 7 3 4 5 6 2"
     ]
    }
   ],
   "source": [
    "find_missing(arr)"
   ]
  },
  {
   "cell_type": "code",
   "execution_count": 295,
   "metadata": {},
   "outputs": [],
   "source": [
    "def divisible_pair(arr):\n",
    "    n = len(arr)\n",
    "    result = 0\n",
    "    i = 0\n",
    "    j = 0\n",
    "    while i < n:\n",
    "        j = i + 1\n",
    "        while (j < n):\n",
    "            if (arr[i] % arr[j] == 0 or arr[j] % arr[i] == 0):\n",
    "                result += 1\n",
    "            j += 1\n",
    "        i += 1\n",
    "    return result\n"
   ]
  },
  {
   "cell_type": "code",
   "execution_count": 297,
   "metadata": {},
   "outputs": [
    {
     "data": {
      "text/plain": [
       "4"
      ]
     },
     "execution_count": 297,
     "metadata": {},
     "output_type": "execute_result"
    }
   ],
   "source": [
    "arr = [5, 8, 2, 4, 9, 3]\n",
    "divisible_pair(arr)"
   ]
  },
  {
   "cell_type": "code",
   "execution_count": 299,
   "metadata": {},
   "outputs": [],
   "source": [
    "def subarray_sum(arr):\n",
    "    size = len(arr)\n",
    "    i = 0\n",
    "    axulary = 0\n",
    "    sm = 0\n",
    "    resutlt = 0\n",
    "    while (i < size):\n",
    "        axulary = arr[i]\n",
    "        j = i + 1\n",
    "        while j < size:\n",
    "            axulary += arr[i]\n",
    "            if (axulary == sm):\n",
    "                resutlt += 1\n",
    "            j += 1\n",
    "        i += 1\n",
    "    return resutlt"
   ]
  },
  {
   "cell_type": "code",
   "execution_count": 300,
   "metadata": {},
   "outputs": [
    {
     "data": {
      "text/plain": [
       "0"
      ]
     },
     "execution_count": 300,
     "metadata": {},
     "output_type": "execute_result"
    }
   ],
   "source": [
    "subarray_sum(arr)"
   ]
  },
  {
   "cell_type": "code",
   "execution_count": 310,
   "metadata": {},
   "outputs": [],
   "source": [
    "def count_subarrays_with_sum(arr,target):\n",
    "    count_frequency = {}\n",
    "    count_sum = 0\n",
    "    count = 0\n",
    "    for num in arr:\n",
    "        count_sum += num\n",
    "\n",
    "        if count_sum - target in count_frequency:\n",
    "            count += count_frequency[count_sum - target]\n",
    "\n",
    "        if count_sum in count_frequency:\n",
    "            count_frequency[count_sum] += 1\n",
    "        else:\n",
    "            count_frequency[count_sum] = 1\n",
    "    return count"
   ]
  },
  {
   "cell_type": "code",
   "execution_count": 311,
   "metadata": {},
   "outputs": [
    {
     "data": {
      "text/plain": [
       "0"
      ]
     },
     "execution_count": 311,
     "metadata": {},
     "output_type": "execute_result"
    }
   ],
   "source": [
    "count_subarrays_with_sum(arr,-10)"
   ]
  },
  {
   "cell_type": "code",
   "execution_count": 323,
   "metadata": {},
   "outputs": [],
   "source": [
    "def count_occurrences(arr,target):\n",
    "    count = 0\n",
    "    for i in range(len(arr)):\n",
    "        if arr[i] == target:\n",
    "            count += 1\n",
    "    return count\n"
   ]
  },
  {
   "cell_type": "code",
   "execution_count": 324,
   "metadata": {},
   "outputs": [
    {
     "data": {
      "text/plain": [
       "3"
      ]
     },
     "execution_count": 324,
     "metadata": {},
     "output_type": "execute_result"
    }
   ],
   "source": [
    "arr = [1, 1, 2, 2, 2, 3, 4, 4, 5]\n",
    "count_occurrences(arr,2)"
   ]
  },
  {
   "cell_type": "code",
   "execution_count": null,
   "metadata": {},
   "outputs": [],
   "source": []
  }
 ],
 "metadata": {
  "kernelspec": {
   "display_name": "Python 3",
   "language": "python",
   "name": "python3"
  },
  "language_info": {
   "codemirror_mode": {
    "name": "ipython",
    "version": 3
   },
   "file_extension": ".py",
   "mimetype": "text/x-python",
   "name": "python",
   "nbconvert_exporter": "python",
   "pygments_lexer": "ipython3",
   "version": "3.10.9"
  },
  "orig_nbformat": 4
 },
 "nbformat": 4,
 "nbformat_minor": 2
}
