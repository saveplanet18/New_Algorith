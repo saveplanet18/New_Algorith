{
 "cells": [
  {
   "cell_type": "code",
   "execution_count": 1,
   "metadata": {},
   "outputs": [],
   "source": [
    "def Create_Matrix_element(rows,cols):\n",
    "    matrix = []\n",
    "    for row in range(rows):\n",
    "        new_matrix = []\n",
    "        for col in range(cols):\n",
    "            col = int(input(f\"{row} {col}\"))\n",
    "            new_matrix.append(col)\n",
    "        matrix.append(new_matrix)\n",
    "    return matrix"
   ]
  },
  {
   "cell_type": "code",
   "execution_count": 2,
   "metadata": {},
   "outputs": [],
   "source": [
    "root = Create_Matrix_element(4,4)"
   ]
  },
  {
   "cell_type": "code",
   "execution_count": 3,
   "metadata": {},
   "outputs": [
    {
     "data": {
      "text/plain": [
       "[[1, 2, 3, 4], [5, 6, 7, 8], [9, 10, 11, 12], [13, 14, 15, 16]]"
      ]
     },
     "execution_count": 3,
     "metadata": {},
     "output_type": "execute_result"
    }
   ],
   "source": [
    "root"
   ]
  },
  {
   "cell_type": "code",
   "execution_count": 26,
   "metadata": {},
   "outputs": [],
   "source": [
    "def Traverse_row_element(root):\n",
    "    rows = len(root)\n",
    "    cols = len(root[0])\n",
    "    Result = []\n",
    "    for row in range(rows):\n",
    "        for col in range(cols):\n",
    "            Result.append(root[row][col])\n",
    "    return Result"
   ]
  },
  {
   "cell_type": "code",
   "execution_count": 27,
   "metadata": {},
   "outputs": [
    {
     "data": {
      "text/plain": [
       "[1, 2, 3, 4, 5, 6, 7, 8, 9, 10, 11, 12, 13, 14, 15, 16]"
      ]
     },
     "execution_count": 27,
     "metadata": {},
     "output_type": "execute_result"
    }
   ],
   "source": [
    "Traverse_row_element(root)"
   ]
  },
  {
   "cell_type": "code",
   "execution_count": 32,
   "metadata": {},
   "outputs": [],
   "source": [
    "def Traverse_col_element(root):\n",
    "    rows = len(root)\n",
    "    cols = len(root[0])\n",
    "    Result = []\n",
    "    for col in range(cols):\n",
    "        for row in range(rows):\n",
    "            Result.append(root[row][col])\n",
    "    return Result"
   ]
  },
  {
   "cell_type": "code",
   "execution_count": 33,
   "metadata": {},
   "outputs": [
    {
     "data": {
      "text/plain": [
       "[1, 5, 9, 13, 2, 6, 10, 14, 3, 7, 11, 15, 4, 8, 12, 16]"
      ]
     },
     "execution_count": 33,
     "metadata": {},
     "output_type": "execute_result"
    }
   ],
   "source": [
    "Traverse_col_element(root)"
   ]
  },
  {
   "cell_type": "code",
   "execution_count": 34,
   "metadata": {},
   "outputs": [],
   "source": [
    "def Brute_force_Search(root,search):\n",
    "    rows = len(root)\n",
    "    cols = len(root[0])\n",
    "    for row in range(rows):\n",
    "        for col in range(cols):\n",
    "            if root[row][col] == search:\n",
    "                return True\n",
    "    return False"
   ]
  },
  {
   "cell_type": "code",
   "execution_count": 38,
   "metadata": {},
   "outputs": [
    {
     "data": {
      "text/plain": [
       "True"
      ]
     },
     "execution_count": 38,
     "metadata": {},
     "output_type": "execute_result"
    }
   ],
   "source": [
    "Brute_force_Search(root,9)"
   ]
  },
  {
   "cell_type": "code",
   "execution_count": 91,
   "metadata": {},
   "outputs": [],
   "source": [
    "def Binary_Search_Matrix(root,search):\n",
    "    rows = len(root)\n",
    "    cols = len(root[0])\n",
    "    left,right = 0,rows*cols-1\n",
    "    while left <= right:\n",
    "        mid_element = (left + right)// 2\n",
    "        mid_point = root[mid_element // cols][mid_element % cols]\n",
    "        if mid_point == search:\n",
    "            return True\n",
    "        elif mid_point < search:\n",
    "            left += mid_element\n",
    "        else:\n",
    "            right -= mid_element\n",
    "    return False"
   ]
  },
  {
   "cell_type": "code",
   "execution_count": 92,
   "metadata": {},
   "outputs": [
    {
     "data": {
      "text/plain": [
       "False"
      ]
     },
     "execution_count": 92,
     "metadata": {},
     "output_type": "execute_result"
    }
   ],
   "source": [
    "Binary_Search_Matrix(root,15)"
   ]
  },
  {
   "cell_type": "code",
   "execution_count": 112,
   "metadata": {},
   "outputs": [],
   "source": [
    "def spiral_Traverser_element(root):\n",
    "    rows = len(root)\n",
    "    cols = len(root[0])\n",
    "    Left_col = 0\n",
    "    Right_col = cols - 1\n",
    "    Top_row = 0\n",
    "    Bottom_row = rows - 1\n",
    "    Result = []\n",
    "    while (Left_col < Right_col and Top_row < Bottom_row):\n",
    "        for col in range(Left_col,Right_col + 1):\n",
    "            Result.append(root[Top_row][col])\n",
    "        Top_row += 1\n",
    "\n",
    "        for row in range(Top_row,Bottom_row + 1):\n",
    "            Result.append(root[row][Right_col])\n",
    "        Right_col -= 1\n",
    "\n",
    "        if Top_row < Bottom_row:\n",
    "            for col in range(Right_col,Left_col -1,-1):\n",
    "                Result.append(root[Bottom_row][col])\n",
    "            Bottom_row -= 1\n",
    "\n",
    "        if Left_col < Right_col:\n",
    "            for row in range(Bottom_row,Top_row - 1,-1):\n",
    "                Result.append(root[row][Left_col])\n",
    "            Left_col += 1\n",
    "    return Result"
   ]
  },
  {
   "cell_type": "code",
   "execution_count": 113,
   "metadata": {},
   "outputs": [
    {
     "data": {
      "text/plain": [
       "[1, 2, 3, 4, 8, 12, 16, 15, 14, 13, 9, 5, 6, 7, 11]"
      ]
     },
     "execution_count": 113,
     "metadata": {},
     "output_type": "execute_result"
    }
   ],
   "source": [
    "spiral_Traverser_element(root)"
   ]
  },
  {
   "cell_type": "code",
   "execution_count": 124,
   "metadata": {},
   "outputs": [
    {
     "name": "stdout",
     "output_type": "stream",
     "text": [
      "[1, 6, 11, 16]\n"
     ]
    }
   ],
   "source": [
    "def Main_Daigonal(root):\n",
    "    rows = len(root)\n",
    "    cols = len(root[0])\n",
    "    Left_col,Right_col = 0,cols - 1\n",
    "    Top_row ,Bottom_row = 0, rows - 1\n",
    "    Result = []\n",
    "    while Left_col <= Right_col and Top_row <= Bottom_row:\n",
    "        for col in range(Left_col,Right_col + 1):\n",
    "            Result.append(root[col][col])\n",
    "        Top_row += 1\n",
    "        return Result\n",
    "\n",
    "def another_main_Daigonal(root):\n",
    "    rows = len(root)\n",
    "    cols = len(root[0])\n",
    "    Result = []\n",
    "    for row in range(rows):\n",
    "        for col in range(cols):\n",
    "            Result.append(root[col][col])\n",
    "        return Result\n",
    "       \n",
    "if __name__ == \"__main__\":\n",
    "    print(another_main_Daigonal(root))"
   ]
  },
  {
   "cell_type": "code",
   "execution_count": 120,
   "metadata": {},
   "outputs": [
    {
     "data": {
      "text/plain": [
       "[1, 6, 11, 16]"
      ]
     },
     "execution_count": 120,
     "metadata": {},
     "output_type": "execute_result"
    }
   ],
   "source": [
    "Main_Daigonal(root)"
   ]
  },
  {
   "cell_type": "code",
   "execution_count": 153,
   "metadata": {},
   "outputs": [],
   "source": [
    "def Anti_Daigonal_Traverse_element(root):\n",
    "    rows = len(root)\n",
    "    cols = len(root[0])\n",
    "    Left_col,Right_col = 0, cols - 1\n",
    "    Top_row,Bottom_row = 0, rows - 1\n",
    "    Result = []\n",
    "    while (Left_col <= Right_col and Top_row <= Bottom_row):\n",
    "        if Left_col < Right_col:\n",
    "            for col in range(Right_col+1):\n",
    "                Result.append(root[col][len(root[0])-col-1])\n",
    "            Right_col -= 1\n",
    "            return Result"
   ]
  },
  {
   "cell_type": "code",
   "execution_count": 154,
   "metadata": {},
   "outputs": [
    {
     "data": {
      "text/plain": [
       "[4, 7, 10, 13]"
      ]
     },
     "execution_count": 154,
     "metadata": {},
     "output_type": "execute_result"
    }
   ],
   "source": [
    "Anti_Daigonal_Traverse_element(root)"
   ]
  },
  {
   "cell_type": "code",
   "execution_count": 204,
   "metadata": {},
   "outputs": [],
   "source": [
    "def Zig_Zag_Traverse_element(root):\n",
    "    rows = len(root)\n",
    "    cols = len(root[0])\n",
    "    Result = []\n",
    "    for row in range(rows):\n",
    "        if row % 2 == 0:\n",
    "            for col in range(cols):\n",
    "                Result.append(root[row][col])\n",
    "        else:\n",
    "            for col in range(cols -1,-1,-1):\n",
    "                Result.append(root[row][col])\n",
    "    return Result"
   ]
  },
  {
   "cell_type": "code",
   "execution_count": 205,
   "metadata": {},
   "outputs": [
    {
     "data": {
      "text/plain": [
       "[1, 2, 3, 4, 8, 7, 6, 5, 9, 10, 11, 12, 16, 15, 14, 13]"
      ]
     },
     "execution_count": 205,
     "metadata": {},
     "output_type": "execute_result"
    }
   ],
   "source": [
    "Zig_Zag_Traverse_element(root)"
   ]
  },
  {
   "cell_type": "code",
   "execution_count": 216,
   "metadata": {},
   "outputs": [],
   "source": [
    "def Boundary_Traverse_element(root):\n",
    "    rows = len(root)\n",
    "    cols = len(root[0])\n",
    "    Left_col,Right_col = 0, cols - 1\n",
    "    Top_row ,Bottom_row = 0, rows - 1\n",
    "    Result = []\n",
    "    while (Left_col <= Right_col and Top_row <=Bottom_row ):\n",
    "        for col in range(Left_col , Right_col + 1):\n",
    "            Result.append(root[Top_row][col])\n",
    "        Top_row += 1\n",
    "\n",
    "        for row in range(Top_row ,Bottom_row+1):\n",
    "            Result.append(root[row][Right_col])\n",
    "        Right_col -= 1\n",
    "        \n",
    "        if Top_row < Bottom_row:\n",
    "            for col in range(Right_col,Left_col - 1,-1):\n",
    "                Result.append(root[Bottom_row][col])\n",
    "            Bottom_row -= 1\n",
    "\n",
    "        if Left_col < Right_col:\n",
    "            for row in range(Bottom_row,Top_row - 1, -1):\n",
    "                Result.append(root[row][Left_col])\n",
    "            Left_col += 1\n",
    "        return Result\n",
    "    "
   ]
  },
  {
   "cell_type": "code",
   "execution_count": 217,
   "metadata": {},
   "outputs": [
    {
     "data": {
      "text/plain": [
       "[1, 2, 3, 4, 8, 12, 16, 15, 14, 13, 9, 5]"
      ]
     },
     "execution_count": 217,
     "metadata": {},
     "output_type": "execute_result"
    }
   ],
   "source": [
    "Boundary_Traverse_element(root)"
   ]
  },
  {
   "cell_type": "code",
   "execution_count": 292,
   "metadata": {},
   "outputs": [],
   "source": [
    "def Anti_Clockwise_Traverse_element(root):\n",
    "    rows = len(root)\n",
    "    cols = len(root[0])\n",
    "    Left_col,Right_col = 0, cols - 1\n",
    "    Top_row ,Bottom_row = 0, rows - 1\n",
    "    Result = []\n",
    "    while (Left_col <= Right_col and Top_row <= Bottom_row):\n",
    "        for row in range(Top_row , Bottom_row + 1):\n",
    "            Result.append(root[row][Left_col])\n",
    "        Left_col += 1\n",
    "\n",
    "        for col in range(Left_col ,Right_col + 1):\n",
    "            Result.append(root[Bottom_row][col])\n",
    "        Bottom_row += 1\n",
    "\n",
    "        if rows > 1:\n",
    "            for row in range(rows - 2,-1 ,-1):\n",
    "                Result.append(root[row][cols -1])\n",
    "\n",
    "        if cols > 1:\n",
    "            for row in range(rows - 2 , 0,-1):\n",
    "                Result.append(root[0][row])\n",
    "\n",
    "        return Result\n"
   ]
  },
  {
   "cell_type": "code",
   "execution_count": 293,
   "metadata": {},
   "outputs": [
    {
     "data": {
      "text/plain": [
       "[1, 5, 9, 13, 14, 15, 16, 12, 8, 4, 3, 2]"
      ]
     },
     "execution_count": 293,
     "metadata": {},
     "output_type": "execute_result"
    }
   ],
   "source": [
    "Anti_Clockwise_Traverse_element(root)"
   ]
  },
  {
   "cell_type": "code",
   "execution_count": 294,
   "metadata": {},
   "outputs": [],
   "source": [
    "def Search_Matrix_element(root,search):\n",
    "    if not root or not root[0]:\n",
    "        return True\n",
    "    rows = len(root)\n",
    "    cols = len(root[0])\n",
    "    Left_col ,Right_col = 0, cols - 1\n",
    "    while Left_col < rows and Right_col > 0:\n",
    "        if root[Left_col][Right_col] == search:\n",
    "            return True\n",
    "        elif root[Left_col][Right_col] < search:\n",
    "            Left_col += 1\n",
    "        else:\n",
    "            Right_col -= 1\n",
    "    return False"
   ]
  },
  {
   "cell_type": "code",
   "execution_count": 304,
   "metadata": {},
   "outputs": [
    {
     "data": {
      "text/plain": [
       "True"
      ]
     },
     "execution_count": 304,
     "metadata": {},
     "output_type": "execute_result"
    }
   ],
   "source": [
    "Search_Matrix_element(root,2)"
   ]
  },
  {
   "cell_type": "code",
   "execution_count": 305,
   "metadata": {},
   "outputs": [],
   "source": [
    "def Take_Matrix_Input(rows,cols):\n",
    "    matrix = []\n",
    "    for row in range(rows):\n",
    "        new_matrix = []\n",
    "        for col in range(cols):\n",
    "            col = int(input(f\"{row} and {col}\"))\n",
    "            new_matrix.append(col)\n",
    "        matrix.append(new_matrix)\n",
    "    return matrix"
   ]
  },
  {
   "cell_type": "code",
   "execution_count": 306,
   "metadata": {},
   "outputs": [],
   "source": [
    "root = Take_Matrix_Input(4,4)"
   ]
  },
  {
   "cell_type": "code",
   "execution_count": 307,
   "metadata": {},
   "outputs": [
    {
     "data": {
      "text/plain": [
       "[[1, 2, 3, 4], [5, 6, 7, 8], [9, 10, 11, 12], [13, 14, 15, 16]]"
      ]
     },
     "execution_count": 307,
     "metadata": {},
     "output_type": "execute_result"
    }
   ],
   "source": [
    "root"
   ]
  },
  {
   "cell_type": "code",
   "execution_count": 336,
   "metadata": {},
   "outputs": [
    {
     "name": "stdout",
     "output_type": "stream",
     "text": [
      "4,3,2,1\n",
      "8,7,6,5\n",
      "12,11,10,9\n",
      "16,15,14,13\n"
     ]
    }
   ],
   "source": [
    "def rotate_matrix_180(matrix):\n",
    "    rows = len(root)\n",
    "    cols = len(root[0])\n",
    "    Result = []\n",
    "    for row in range(rows-1,-1,-1):\n",
    "        new_rotate = []\n",
    "        for col in range(cols-1,-1,-1):\n",
    "            new_rotate.append(root[row][col])\n",
    "        Result.append(new_rotate)\n",
    "    return Result\n",
    "\n",
    "def display(root):\n",
    "    for row in root:\n",
    "        print(\",\".join(map(str,row)))\n",
    "    \n",
    "display(root)"
   ]
  },
  {
   "cell_type": "code",
   "execution_count": 334,
   "metadata": {},
   "outputs": [
    {
     "data": {
      "text/plain": [
       "[[13, 14, 15, 16], [9, 10, 11, 12], [5, 6, 7, 8], [1, 2, 3, 4]]"
      ]
     },
     "execution_count": 334,
     "metadata": {},
     "output_type": "execute_result"
    }
   ],
   "source": [
    "rotate_matrix_180(root)"
   ]
  },
  {
   "cell_type": "code",
   "execution_count": null,
   "metadata": {},
   "outputs": [],
   "source": []
  }
 ],
 "metadata": {
  "kernelspec": {
   "display_name": "Python 3",
   "language": "python",
   "name": "python3"
  },
  "language_info": {
   "codemirror_mode": {
    "name": "ipython",
    "version": 3
   },
   "file_extension": ".py",
   "mimetype": "text/x-python",
   "name": "python",
   "nbconvert_exporter": "python",
   "pygments_lexer": "ipython3",
   "version": "3.11.4"
  },
  "orig_nbformat": 4
 },
 "nbformat": 4,
 "nbformat_minor": 2
}
