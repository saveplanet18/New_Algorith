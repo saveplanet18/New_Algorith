{
 "cells": [
  {
   "cell_type": "code",
   "execution_count": 129,
   "metadata": {},
   "outputs": [],
   "source": [
    "class AVL_Creation_Node(object):\n",
    "    def __init__(self,elements):\n",
    "        self.elements = elements\n",
    "        self.Leftchild = None\n",
    "        self.Rightchild = None\n",
    "        self.Height = 1"
   ]
  },
  {
   "cell_type": "code",
   "execution_count": 130,
   "metadata": {},
   "outputs": [],
   "source": [
    "root = AVL_Creation_Node(18)"
   ]
  },
  {
   "cell_type": "code",
   "execution_count": 131,
   "metadata": {},
   "outputs": [],
   "source": [
    "def Insertion_at_AVL_Node(root,key):\n",
    "    new_element = AVL_Creation_Node(key)\n",
    "    if not root:\n",
    "        root = new_element\n",
    "        return\n",
    "    current = root\n",
    "    while current:\n",
    "        if key < current.elements:\n",
    "            if current.Leftchild is None:\n",
    "                current.Leftchild = new_element\n",
    "                return\n",
    "            else:\n",
    "                current = current.Leftchild\n",
    "        elif key > current.elements:\n",
    "            if current.Rightchild is None:\n",
    "                current.Rightchild = new_element\n",
    "                return\n",
    "            else:\n",
    "                current = current.Rightchild\n",
    "        else:\n",
    "            return ReBalance_Factor(root)\n"
   ]
  },
  {
   "cell_type": "code",
   "execution_count": 132,
   "metadata": {},
   "outputs": [],
   "source": [
    "Insertion_at_AVL_Node(root,10)\n",
    "Insertion_at_AVL_Node(root,20)\n",
    "Insertion_at_AVL_Node(root,19)\n",
    "Insertion_at_AVL_Node(root,21)\n",
    "Insertion_at_AVL_Node(root,11)\n",
    "Insertion_at_AVL_Node(root,9)"
   ]
  },
  {
   "cell_type": "code",
   "execution_count": 133,
   "metadata": {},
   "outputs": [],
   "source": [
    "def Iterative_Traverser_Inorder(root):\n",
    "    if not root:\n",
    "        return []\n",
    "    current = root\n",
    "    Stack = []\n",
    "    Result = []\n",
    "    while current or Stack:\n",
    "        while current:\n",
    "            Stack.append(current)\n",
    "            current = current.Leftchild\n",
    "        current = Stack.pop()\n",
    "        Result.append(current.elements)\n",
    "        current = current.Rightchild\n",
    "    return Result"
   ]
  },
  {
   "cell_type": "code",
   "execution_count": 135,
   "metadata": {},
   "outputs": [
    {
     "data": {
      "text/plain": [
       "[9, 10, 11, 18, 19, 20, 21]"
      ]
     },
     "execution_count": 135,
     "metadata": {},
     "output_type": "execute_result"
    }
   ],
   "source": [
    "Iterative_Traverser_Inorder(root)"
   ]
  },
  {
   "cell_type": "code",
   "execution_count": 136,
   "metadata": {},
   "outputs": [],
   "source": [
    "def Full_Binary_Tree(root):\n",
    "    if not root:\n",
    "        return True\n",
    "    current = root\n",
    "    if current.Leftchild is None and current.Rightchild is None:\n",
    "        return True\n",
    "    elif current.Leftchild is not None and current.Rightchild is not None:\n",
    "        return Full_Binary_Tree(root.Leftchild) and Full_Binary_Tree(root.Rightchild)\n",
    "    return False\n",
    "    "
   ]
  },
  {
   "cell_type": "code",
   "execution_count": 137,
   "metadata": {},
   "outputs": [
    {
     "data": {
      "text/plain": [
       "True"
      ]
     },
     "execution_count": 137,
     "metadata": {},
     "output_type": "execute_result"
    }
   ],
   "source": [
    "Full_Binary_Tree(root)"
   ]
  },
  {
   "cell_type": "code",
   "execution_count": 138,
   "metadata": {},
   "outputs": [],
   "source": [
    "def Height_of_Tree(root):\n",
    "    if not root:\n",
    "        return 0\n",
    "    return 1 + max(Height_of_Tree(root.Leftchild),Height_of_Tree(root.Rightchild))"
   ]
  },
  {
   "cell_type": "code",
   "execution_count": 139,
   "metadata": {},
   "outputs": [
    {
     "data": {
      "text/plain": [
       "3"
      ]
     },
     "execution_count": 139,
     "metadata": {},
     "output_type": "execute_result"
    }
   ],
   "source": [
    "Height_of_Tree(root)"
   ]
  },
  {
   "cell_type": "code",
   "execution_count": 140,
   "metadata": {},
   "outputs": [],
   "source": [
    "def Count_all_Node(root):\n",
    "    if not root:\n",
    "        return 0\n",
    "    return 1 + Count_all_Node(root.Leftchild) + Count_all_Node(root.Rightchild)"
   ]
  },
  {
   "cell_type": "code",
   "execution_count": 141,
   "metadata": {},
   "outputs": [
    {
     "data": {
      "text/plain": [
       "7"
      ]
     },
     "execution_count": 141,
     "metadata": {},
     "output_type": "execute_result"
    }
   ],
   "source": [
    "Count_all_Node(root)"
   ]
  },
  {
   "cell_type": "code",
   "execution_count": 142,
   "metadata": {},
   "outputs": [],
   "source": [
    "def Perfect_Binary_Tree(root):\n",
    "    if not root:\n",
    "        return True\n",
    "    \n",
    "    hieght = Height_of_Tree(root)\n",
    "    count = Count_all_Node(root)\n",
    "    expected_Node = 2 ** hieght -1\n",
    "    return expected_Node == count"
   ]
  },
  {
   "cell_type": "code",
   "execution_count": 143,
   "metadata": {},
   "outputs": [
    {
     "data": {
      "text/plain": [
       "True"
      ]
     },
     "execution_count": 143,
     "metadata": {},
     "output_type": "execute_result"
    }
   ],
   "source": [
    "Perfect_Binary_Tree(root)"
   ]
  },
  {
   "cell_type": "code",
   "execution_count": 144,
   "metadata": {},
   "outputs": [],
   "source": [
    "def Complete_Binary_Tree(root,index,Countnode):\n",
    "    if not root:\n",
    "        return True\n",
    "    elif index <= Countnode:\n",
    "        return False\n",
    "    return Complete_Binary_Tree(root.Leftchild,2 ** index + 1,Countnode) and Complete_Binary_Tree(root.Rightchild,2 ** index + 2,Countnode)"
   ]
  },
  {
   "cell_type": "code",
   "execution_count": 145,
   "metadata": {},
   "outputs": [
    {
     "data": {
      "text/plain": [
       "False"
      ]
     },
     "execution_count": 145,
     "metadata": {},
     "output_type": "execute_result"
    }
   ],
   "source": [
    "Complete_Binary_Tree(root,0,Count_all_Node(root))"
   ]
  },
  {
   "cell_type": "code",
   "execution_count": 146,
   "metadata": {},
   "outputs": [],
   "source": [
    "def Balance_Binary_Tree(root):\n",
    "    if not root:\n",
    "        return True\n",
    "    \n",
    "    Left_child = Height_of_Tree(root.Leftchild)\n",
    "    Right_child = Height_of_Tree(root.Rightchild)\n",
    "\n",
    "    if abs(Left_child - Right_child) <= 1:\n",
    "        return Balance_Binary_Tree(root.Leftchild) and Balance_Binary_Tree(root.Rightchild)\n",
    "    return False"
   ]
  },
  {
   "cell_type": "code",
   "execution_count": 147,
   "metadata": {},
   "outputs": [
    {
     "data": {
      "text/plain": [
       "True"
      ]
     },
     "execution_count": 147,
     "metadata": {},
     "output_type": "execute_result"
    }
   ],
   "source": [
    "Balance_Binary_Tree(root)"
   ]
  },
  {
   "cell_type": "code",
   "execution_count": 148,
   "metadata": {},
   "outputs": [],
   "source": [
    "def Height_of_Tree_AVL(root):\n",
    "    if not root:\n",
    "        return 0\n",
    "    return root.Height"
   ]
  },
  {
   "cell_type": "code",
   "execution_count": 149,
   "metadata": {},
   "outputs": [
    {
     "data": {
      "text/plain": [
       "1"
      ]
     },
     "execution_count": 149,
     "metadata": {},
     "output_type": "execute_result"
    }
   ],
   "source": [
    "Height_of_Tree_AVL(root)"
   ]
  },
  {
   "cell_type": "code",
   "execution_count": 150,
   "metadata": {},
   "outputs": [],
   "source": [
    "def Update_Height_of_Tree_AVL(root):\n",
    "    if not root:\n",
    "        return 0\n",
    "    return 1 + max(Height_of_Tree_AVL(root.Leftchild),Height_of_Tree_AVL(root.Rightchild))"
   ]
  },
  {
   "cell_type": "code",
   "execution_count": 151,
   "metadata": {},
   "outputs": [
    {
     "data": {
      "text/plain": [
       "2"
      ]
     },
     "execution_count": 151,
     "metadata": {},
     "output_type": "execute_result"
    }
   ],
   "source": [
    "Update_Height_of_Tree_AVL(root)"
   ]
  },
  {
   "cell_type": "code",
   "execution_count": 152,
   "metadata": {},
   "outputs": [],
   "source": [
    "def Get_Balance_Factor(root):\n",
    "    if not root:\n",
    "        return 0\n",
    "    return Get_Balance_Factor(root.Leftchild) - Get_Balance_Factor(root.Rightchild)"
   ]
  },
  {
   "cell_type": "code",
   "execution_count": 153,
   "metadata": {},
   "outputs": [
    {
     "data": {
      "text/plain": [
       "0"
      ]
     },
     "execution_count": 153,
     "metadata": {},
     "output_type": "execute_result"
    }
   ],
   "source": [
    "Get_Balance_Factor(root)"
   ]
  },
  {
   "cell_type": "code",
   "execution_count": 154,
   "metadata": {},
   "outputs": [],
   "source": [
    "def Rightchild_Rotate(root):\n",
    "    x = root.Leftchild\n",
    "    T2 = x.Rightchild\n",
    "\n",
    "    x.Rightchild = root\n",
    "    root.Leftchild = T2\n",
    "\n",
    "    return x\n"
   ]
  },
  {
   "cell_type": "code",
   "execution_count": 155,
   "metadata": {},
   "outputs": [
    {
     "data": {
      "text/plain": [
       "<__main__.AVL_Creation_Node at 0x2af6cc7ab60>"
      ]
     },
     "execution_count": 155,
     "metadata": {},
     "output_type": "execute_result"
    }
   ],
   "source": [
    "Rightchild_Rotate(root)"
   ]
  },
  {
   "cell_type": "code",
   "execution_count": 156,
   "metadata": {},
   "outputs": [],
   "source": [
    "def Leftchild_Rotate(root):\n",
    "    x = root.Rightchild\n",
    "    T2 = x.Leftchild\n",
    "\n",
    "    x.Leftchild = root\n",
    "    root.Rightchild = T2\n",
    "    return x\n",
    "\n",
    "    "
   ]
  },
  {
   "cell_type": "code",
   "execution_count": 157,
   "metadata": {},
   "outputs": [
    {
     "data": {
      "text/plain": [
       "<__main__.AVL_Creation_Node at 0x2af6cc79660>"
      ]
     },
     "execution_count": 157,
     "metadata": {},
     "output_type": "execute_result"
    }
   ],
   "source": [
    "Leftchild_Rotate(root)"
   ]
  },
  {
   "cell_type": "code",
   "execution_count": 158,
   "metadata": {},
   "outputs": [],
   "source": [
    "def ReBalance_Factor(root):\n",
    "    if not root:\n",
    "        return True\n",
    "    \n",
    "    Update_Height_of_Tree_AVL(root)\n",
    "    balance_facotr = Get_Balance_Factor(root)\n",
    "    if balance_facotr > 1:\n",
    "        if ReBalance_Factor(root.Leftchild) < 0:\n",
    "            root.Leftchild = Leftchild_Rotate(root.Leftchild)\n",
    "        return Rightchild_Rotate(root)\n",
    "    if balance_facotr < -1:\n",
    "        if ReBalance_Factor(root.Rigthcild) > 0:\n",
    "            root.Rightchild = Rightchild_Rotate(root.Rightchild)\n",
    "        return Leftchild_Rotate(root)\n",
    "    return root"
   ]
  },
  {
   "cell_type": "code",
   "execution_count": 159,
   "metadata": {},
   "outputs": [
    {
     "data": {
      "text/plain": [
       "<__main__.AVL_Creation_Node at 0x2af6bba5960>"
      ]
     },
     "execution_count": 159,
     "metadata": {},
     "output_type": "execute_result"
    }
   ],
   "source": [
    "ReBalance_Factor(root)"
   ]
  },
  {
   "cell_type": "code",
   "execution_count": 160,
   "metadata": {},
   "outputs": [],
   "source": [
    "def Find_Minimum_elements(root):\n",
    "    if not root:\n",
    "        return 0\n",
    "    while root.Leftchild is not None:\n",
    "        root = root.Leftchild\n",
    "    return root.elements"
   ]
  },
  {
   "cell_type": "code",
   "execution_count": 161,
   "metadata": {},
   "outputs": [
    {
     "data": {
      "text/plain": [
       "11"
      ]
     },
     "execution_count": 161,
     "metadata": {},
     "output_type": "execute_result"
    }
   ],
   "source": [
    "Find_Minimum_elements(root)"
   ]
  },
  {
   "cell_type": "code",
   "execution_count": 162,
   "metadata": {},
   "outputs": [
    {
     "data": {
      "text/plain": [
       "[11, 18, 19]"
      ]
     },
     "execution_count": 162,
     "metadata": {},
     "output_type": "execute_result"
    }
   ],
   "source": [
    "Iterative_Traverser_Inorder(root)"
   ]
  },
  {
   "cell_type": "code",
   "execution_count": 163,
   "metadata": {},
   "outputs": [],
   "source": [
    "def Delete_AVL_Tree(root,key):\n",
    "    if not root:\n",
    "        return AVL_Creation_Node(key)\n",
    "    \n",
    "    if key < root.elements:\n",
    "        root.Leftchild = Delete_AVL_Tree(root.Leftchild,key)\n",
    "    elif key > root.elements:\n",
    "        root.Rightchild = Delete_AVL_Tree(root.Rightchild,key)\n",
    "    else:\n",
    "        if root.Leftchild is None:\n",
    "            temp = root.Rightchild\n",
    "            root = None\n",
    "            return temp\n",
    "        elif root.Rightchild is None:\n",
    "            temp = root.Leftchild\n",
    "            root = None\n",
    "            return temp\n",
    "        temp = Find_Minimum_elements(root.Rightchild)\n",
    "        temp.key = root.key\n",
    "        root.Rightchild = Delete_AVL_Tree(root.Rightchild,temp.key)\n",
    "    return ReBalance_Factor(root)"
   ]
  },
  {
   "cell_type": "code",
   "execution_count": 165,
   "metadata": {},
   "outputs": [
    {
     "data": {
      "text/plain": [
       "<__main__.AVL_Creation_Node at 0x2af6bba5960>"
      ]
     },
     "execution_count": 165,
     "metadata": {},
     "output_type": "execute_result"
    }
   ],
   "source": [
    "Delete_AVL_Tree(root,11)"
   ]
  },
  {
   "cell_type": "code",
   "execution_count": 166,
   "metadata": {},
   "outputs": [
    {
     "data": {
      "text/plain": [
       "[18, 19]"
      ]
     },
     "execution_count": 166,
     "metadata": {},
     "output_type": "execute_result"
    }
   ],
   "source": [
    "Iterative_Traverser_Inorder(root)"
   ]
  }
 ],
 "metadata": {
  "kernelspec": {
   "display_name": "base",
   "language": "python",
   "name": "python3"
  },
  "language_info": {
   "codemirror_mode": {
    "name": "ipython",
    "version": 3
   },
   "file_extension": ".py",
   "mimetype": "text/x-python",
   "name": "python",
   "nbconvert_exporter": "python",
   "pygments_lexer": "ipython3",
   "version": "3.10.9"
  },
  "orig_nbformat": 4
 },
 "nbformat": 4,
 "nbformat_minor": 2
}
