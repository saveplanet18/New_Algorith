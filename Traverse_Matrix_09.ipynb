{
 "cells": [
  {
   "cell_type": "code",
   "execution_count": 1,
   "metadata": {},
   "outputs": [],
   "source": [
    "def Create_Matrix(rows,cols):\n",
    "    new_matrix = []\n",
    "    for row in range(rows):\n",
    "        new_row = []\n",
    "        for col in range(cols):\n",
    "            col = int(input(f\"{row} and {col}\"))\n",
    "            new_row.append(col)\n",
    "        new_matrix.append(new_row)\n",
    "    return new_matrix"
   ]
  },
  {
   "cell_type": "code",
   "execution_count": 3,
   "metadata": {},
   "outputs": [],
   "source": [
    "root = Create_Matrix(4,4)"
   ]
  },
  {
   "cell_type": "code",
   "execution_count": null,
   "metadata": {},
   "outputs": [],
   "source": [
    "def Traverser_row_matrix(root):\n",
    "    rows = len(root)\n",
    "    cols = len(root[0])\n",
    "    Result = []\n",
    "    for row in range(rows):\n",
    "        for col in range(cols):\n",
    "            Result.append(root[row][col])\n",
    "    return Result\n",
    "\n"
   ]
  },
  {
   "cell_type": "code",
   "execution_count": null,
   "metadata": {},
   "outputs": [
    {
     "data": {
      "text/plain": [
       "[1, 2, 3, 4, 5, 6, 7, 8, 9, 10, 11, 12, 13, 14, 15, 16]"
      ]
     },
     "execution_count": 60,
     "metadata": {},
     "output_type": "execute_result"
    }
   ],
   "source": [
    "Traverser_row_matrix(root)"
   ]
  },
  {
   "cell_type": "code",
   "execution_count": null,
   "metadata": {},
   "outputs": [],
   "source": [
    "def Traverser_col_matrix(root):\n",
    "    rows = len(root)\n",
    "    cols = len(root[0])\n",
    "    Result = []\n",
    "    for col in range(cols):\n",
    "        for row in range(rows):\n",
    "            Result.append(root[row][col])\n",
    "    return Result"
   ]
  },
  {
   "cell_type": "code",
   "execution_count": null,
   "metadata": {},
   "outputs": [
    {
     "data": {
      "text/plain": [
       "[1, 5, 9, 13, 2, 6, 10, 14, 3, 7, 11, 15, 4, 8, 12, 16]"
      ]
     },
     "execution_count": 62,
     "metadata": {},
     "output_type": "execute_result"
    }
   ],
   "source": [
    "Traverser_col_matrix(root)"
   ]
  },
  {
   "cell_type": "code",
   "execution_count": null,
   "metadata": {},
   "outputs": [],
   "source": [
    "def Binary_force_search_Matrix(root,search):\n",
    "    if not root:\n",
    "        return True\n",
    "    rows = len(root)\n",
    "    cols = len(root[0])\n",
    "    Left,Right = 0,rows * cols - 1\n",
    "    while Left <= Right:\n",
    "        mid = (Left + Right) // 2\n",
    "        mid_point = root[mid//cols][mid % cols]\n",
    "        if mid_point == search:\n",
    "            return True\n",
    "        elif mid_point < search:\n",
    "            Left = mid + 1\n",
    "        else:\n",
    "            Right = mid - 1\n",
    "    return False"
   ]
  },
  {
   "cell_type": "code",
   "execution_count": null,
   "metadata": {},
   "outputs": [
    {
     "data": {
      "text/plain": [
       "False"
      ]
     },
     "execution_count": 64,
     "metadata": {},
     "output_type": "execute_result"
    }
   ],
   "source": [
    "Binary_force_search_Matrix(root,17)"
   ]
  },
  {
   "cell_type": "code",
   "execution_count": null,
   "metadata": {},
   "outputs": [],
   "source": [
    "def Brute_force_search_Matrix(root,search):\n",
    "    rows = len(root)\n",
    "    cols = len(root[0])\n",
    "    for row in range(rows):\n",
    "        for col in range(cols):\n",
    "            if root[row][col] == search:\n",
    "                return True\n",
    "    return False\n",
    "            "
   ]
  },
  {
   "cell_type": "code",
   "execution_count": null,
   "metadata": {},
   "outputs": [
    {
     "data": {
      "text/plain": [
       "True"
      ]
     },
     "execution_count": 66,
     "metadata": {},
     "output_type": "execute_result"
    }
   ],
   "source": [
    "Brute_force_search_Matrix(root,9)"
   ]
  },
  {
   "cell_type": "code",
   "execution_count": null,
   "metadata": {},
   "outputs": [],
   "source": [
    "def Rotate_Matrix_by_180_degree(root):\n",
    "    rows = len(root)\n",
    "    cols = len(root[0])\n",
    "    Result = [[0] * cols for _ in range(rows)]\n",
    "    for row in range(rows):\n",
    "        for col in range(cols):\n",
    "            Result[cols-col-1][rows-row-1] = root[col][row]\n",
    "    return Result"
   ]
  },
  {
   "cell_type": "code",
   "execution_count": null,
   "metadata": {},
   "outputs": [
    {
     "data": {
      "text/plain": [
       "[[16, 15, 14, 13], [12, 11, 10, 9], [8, 7, 6, 5], [4, 3, 2, 1]]"
      ]
     },
     "execution_count": 70,
     "metadata": {},
     "output_type": "execute_result"
    }
   ],
   "source": [
    "Rotate_Matrix_by_180_degree(root)"
   ]
  },
  {
   "cell_type": "code",
   "execution_count": null,
   "metadata": {},
   "outputs": [],
   "source": [
    "matrix = [[1, 1, 0, 1, 0, 1],\n",
    "         [0, 0, 1, 0, 0, 1],\n",
    "         [1, 0, 1, 1, 0, 0],\n",
    "         [1, 1, 0, 1, 0, 1],\n",
    "         [0, 0, 1, 0, 0, 1],\n",
    "         [0, 0, 1, 0, 0, 1]]"
   ]
  },
  {
   "cell_type": "code",
   "execution_count": null,
   "metadata": {},
   "outputs": [],
   "source": [
    "def Set_Matrix_Zeroes(root):\n",
    "    rows = len(root)\n",
    "    cols = len(root[0])\n",
    "    zero_rows ,zero_cols = set(),set()\n",
    "    for row in range(rows):\n",
    "        for col in range(cols):\n",
    "            if root[row][col] == 0:\n",
    "                zero_rows.add(row)\n",
    "                zero_cols.add(col)\n",
    "    for row in zero_rows:\n",
    "        for col in range(cols):\n",
    "            root[row][col] = 0\n",
    "    \n",
    "    for col in zero_cols:\n",
    "        for row in range(rows):\n",
    "            root[row][col] = 0\n",
    "    "
   ]
  },
  {
   "cell_type": "code",
   "execution_count": null,
   "metadata": {},
   "outputs": [],
   "source": [
    "Set_Matrix_Zeroes(matrix)"
   ]
  },
  {
   "cell_type": "code",
   "execution_count": null,
   "metadata": {},
   "outputs": [
    {
     "data": {
      "text/plain": [
       "[[1, 0, 3], [0, 0, 0], [7, 0, 9]]"
      ]
     },
     "execution_count": 117,
     "metadata": {},
     "output_type": "execute_result"
    }
   ],
   "source": [
    "matrix"
   ]
  },
  {
   "cell_type": "code",
   "execution_count": null,
   "metadata": {},
   "outputs": [],
   "source": [
    "def find_duplicate_rows(root):\n",
    "    Duplicat = []\n",
    "    row_string = set()\n",
    "    for row in root:\n",
    "        row_str = \"\".join(map(str,row))\n",
    "        if row_str in row_string:\n",
    "            Duplicat.append(row)\n",
    "        else:\n",
    "            row_string.add(row_str)\n",
    "    return Duplicat"
   ]
  },
  {
   "cell_type": "code",
   "execution_count": null,
   "metadata": {},
   "outputs": [
    {
     "data": {
      "text/plain": [
       "[[1, 1, 0, 1, 0, 1], [0, 0, 1, 0, 0, 1], [0, 0, 1, 0, 0, 1]]"
      ]
     },
     "execution_count": 134,
     "metadata": {},
     "output_type": "execute_result"
    }
   ],
   "source": [
    "find_duplicate_rows(matrix)"
   ]
  },
  {
   "cell_type": "code",
   "execution_count": null,
   "metadata": {},
   "outputs": [],
   "source": [
    "def rotation_by_90_degrees_anticlockwise(root):\n",
    "    rows = len(root)\n",
    "    cols = len(root[0])\n",
    "    Result = [[0] * cols for _ in range(rows)]\n",
    "    for row in range(rows):\n",
    "        for col in range(cols):\n",
    "            Result[cols-col-1][rows-row-1] = root[row][col]\n",
    "    return Result"
   ]
  },
  {
   "cell_type": "code",
   "execution_count": null,
   "metadata": {},
   "outputs": [
    {
     "data": {
      "text/plain": [
       "[[16, 12, 8, 4], [15, 11, 7, 3], [14, 10, 6, 2], [13, 9, 5, 1]]"
      ]
     },
     "execution_count": 140,
     "metadata": {},
     "output_type": "execute_result"
    }
   ],
   "source": [
    "rotation_by_90_degrees_anticlockwise(root)"
   ]
  },
  {
   "cell_type": "code",
   "execution_count": null,
   "metadata": {},
   "outputs": [],
   "source": [
    "def rotation_by_90_degrees_clockwise(root):\n",
    "    rows = len(root)\n",
    "    cols = len(root[0])\n",
    "    Result = [[0] * cols for _ in range(rows)]\n",
    "    for row in range(rows):\n",
    "        for col in range(cols):\n",
    "            Result[cols-col-1][rows-row-1] = root[col][row]\n",
    "    return Result"
   ]
  },
  {
   "cell_type": "code",
   "execution_count": null,
   "metadata": {},
   "outputs": [
    {
     "data": {
      "text/plain": [
       "[[16, 15, 14, 13], [12, 11, 10, 9], [8, 7, 6, 5], [4, 3, 2, 1]]"
      ]
     },
     "execution_count": 146,
     "metadata": {},
     "output_type": "execute_result"
    }
   ],
   "source": [
    "rotation_by_90_degrees_clockwise(root)"
   ]
  },
  {
   "cell_type": "code",
   "execution_count": null,
   "metadata": {},
   "outputs": [],
   "source": [
    "def print_matrix_alternate(root): \n",
    "    rows = len(root)\n",
    "    cols = len(root[0])\n",
    "    Result = []\n",
    "    for row in range(rows):\n",
    "        if row % 2 == 0:\n",
    "            for col in range(cols):\n",
    "                Result.append(root[row][col])\n",
    "        else:\n",
    "            for col in range(cols-1,-1,-1):\n",
    "                Result.append(root[row][col])\n",
    "    return Result"
   ]
  },
  {
   "cell_type": "code",
   "execution_count": null,
   "metadata": {},
   "outputs": [
    {
     "data": {
      "text/plain": [
       "[1, 2, 3, 4, 8, 7, 6, 5, 9, 10, 11, 12, 16, 15, 14, 13]"
      ]
     },
     "execution_count": 158,
     "metadata": {},
     "output_type": "execute_result"
    }
   ],
   "source": [
    "print_matrix_alternate(root)"
   ]
  },
  {
   "cell_type": "code",
   "execution_count": null,
   "metadata": {},
   "outputs": [],
   "source": [
    "def copy_upper_to_lower(root):\n",
    "    if not root:\n",
    "        return root\n",
    "    rows = len(root)\n",
    "    for row in range(rows):\n",
    "        for col in range(row + 1,rows):\n",
    "            root[col][row] = root[row][col]\n",
    "    return root"
   ]
  },
  {
   "cell_type": "code",
   "execution_count": null,
   "metadata": {},
   "outputs": [
    {
     "data": {
      "text/plain": [
       "[[1, 5, 9, 13], [5, 6, 10, 14], [9, 10, 11, 15], [13, 14, 15, 16]]"
      ]
     },
     "execution_count": 167,
     "metadata": {},
     "output_type": "execute_result"
    }
   ],
   "source": [
    "copy_upper_to_lower(root)"
   ]
  },
  {
   "cell_type": "code",
   "execution_count": null,
   "metadata": {},
   "outputs": [],
   "source": [
    "def show_matrix(root):\n",
    "    rows = len(root)\n",
    "    cols = len(root[0])\n",
    "    Result = []\n",
    "    i = 0\n",
    "    while i < rows:\n",
    "        j = 0\n",
    "        while j < cols:\n",
    "            Result.append(root[j][i])\n",
    "            j += 1\n",
    "        i += 1\n",
    "    return Result"
   ]
  },
  {
   "cell_type": "code",
   "execution_count": null,
   "metadata": {},
   "outputs": [
    {
     "data": {
      "text/plain": [
       "[1, 5, 9, 13, 5, 6, 10, 14, 9, 10, 11, 15, 13, 14, 15, 16]"
      ]
     },
     "execution_count": 175,
     "metadata": {},
     "output_type": "execute_result"
    }
   ],
   "source": [
    "show_matrix(root)"
   ]
  },
  {
   "cell_type": "code",
   "execution_count": null,
   "metadata": {},
   "outputs": [],
   "source": [
    "def Addition_Two_Matrix(root1,root2):\n",
    "    if len(root1) != len(root2) or len(root1[0]) != len(root2[0]):\n",
    "        raise ValueError(\"matrix dimension is error\")\n",
    "    rows = len(root1)\n",
    "    cols = len(root1[0])\n",
    "    Result = [[0 for _ in range(cols)] for _ in range(rows)]\n",
    "    i = 0\n",
    "    while i < rows:\n",
    "        j = 0\n",
    "        while j < cols:\n",
    "            Result[i][j] = root1[i][j] + root2[i][j]\n",
    "            j += 1\n",
    "        i += 1\n",
    "    return Result"
   ]
  },
  {
   "cell_type": "code",
   "execution_count": null,
   "metadata": {},
   "outputs": [],
   "source": [
    "root1 = [\n",
    "    [1,2,3],\n",
    "    [4,5,6]\n",
    "]\n",
    "root2 = [\n",
    "    [7,8,9],\n",
    "    [10,11,12]\n",
    "]"
   ]
  },
  {
   "cell_type": "code",
   "execution_count": null,
   "metadata": {},
   "outputs": [
    {
     "data": {
      "text/plain": [
       "[[8, 10, 12], [14, 16, 18]]"
      ]
     },
     "execution_count": 200,
     "metadata": {},
     "output_type": "execute_result"
    }
   ],
   "source": [
    "Addition_Two_Matrix(root1,root2)"
   ]
  },
  {
   "cell_type": "code",
   "execution_count": null,
   "metadata": {},
   "outputs": [],
   "source": [
    "def Substraction_two_Matrix(root1,root2):\n",
    "    if len(root1) != len(root2) or len(root1[0]) != len(root2[0]):\n",
    "        raise ValueError (\"matrix dimension is error\")\n",
    "    \n",
    "    rows = len(root1)\n",
    "    cols = len(root1[0])\n",
    "    Result = [[0 for _ in range(cols)] for _ in range(rows)]\n",
    "    i = 0\n",
    "    while i < rows:\n",
    "        j = 0\n",
    "        while j < cols:\n",
    "            Result[i][j] = root1[i][j] - root2[i][j]\n",
    "            j += 1\n",
    "        i += 1\n",
    "    return Result"
   ]
  },
  {
   "cell_type": "code",
   "execution_count": null,
   "metadata": {},
   "outputs": [
    {
     "data": {
      "text/plain": [
       "[[-6, -6, -6], [-6, -6, -6]]"
      ]
     },
     "execution_count": 204,
     "metadata": {},
     "output_type": "execute_result"
    }
   ],
   "source": [
    "Substraction_two_Matrix(root1,root2)"
   ]
  },
  {
   "cell_type": "code",
   "execution_count": null,
   "metadata": {},
   "outputs": [],
   "source": [
    "def Multiplication_two_Matrix(root1,root2):\n",
    "    if len(root1) != len(root2) or len(root1[0]) != len(root2[0]):\n",
    "        raise ValueError(\"dimension matrix is error\")\n",
    "    \n",
    "    rows = len(root1)\n",
    "    cols = len(root1[0])\n",
    "    Result = [[0 for _ in range(cols)] for _ in range(cols)]\n",
    "    i = 0\n",
    "    while i < rows:\n",
    "        j = 0\n",
    "        while j < cols:\n",
    "            Result[i][j] = root1[i][j] * root2[i][j]\n",
    "            j += 1\n",
    "        i += 1\n",
    "    return Result\n"
   ]
  },
  {
   "cell_type": "code",
   "execution_count": null,
   "metadata": {},
   "outputs": [
    {
     "data": {
      "text/plain": [
       "[[7, 16, 27], [40, 55, 72], [0, 0, 0]]"
      ]
     },
     "execution_count": 208,
     "metadata": {},
     "output_type": "execute_result"
    }
   ],
   "source": [
    "Multiplication_two_Matrix(root1,root2)"
   ]
  },
  {
   "cell_type": "code",
   "execution_count": null,
   "metadata": {},
   "outputs": [],
   "source": [
    "def scalar_multiply(root,k):\n",
    "    rows = len(root)\n",
    "    cols = len(root[0])\n",
    "    # Result = [[0 for _ in range(cols)] for _ in range(rows)]\n",
    "    i = 0\n",
    "    while i < rows:\n",
    "        j = 0\n",
    "        while j < cols:\n",
    "            root[i][j] *= k\n",
    "            j += 1\n",
    "        i += 1\n",
    "    return root"
   ]
  },
  {
   "cell_type": "code",
   "execution_count": null,
   "metadata": {},
   "outputs": [
    {
     "data": {
      "text/plain": [
       "[[3, 6, 9], [12, 15, 18]]"
      ]
     },
     "execution_count": 213,
     "metadata": {},
     "output_type": "execute_result"
    }
   ],
   "source": [
    "scalar_multiply(root1,3)"
   ]
  },
  {
   "cell_type": "code",
   "execution_count": null,
   "metadata": {},
   "outputs": [],
   "source": [
    "def spiral_Matrix_Traverse(root):\n",
    "    rows = len(root)\n",
    "    cols = len(root[0])\n",
    "    Left_col , Right_col = 0,cols - 1\n",
    "    Top_row,Bottom_row = 0,rows - 1\n",
    "    Result = []\n",
    "    while Left_col <= Right_col and Top_row <= Bottom_row:\n",
    "        for col in range(Left_col ,Right_col + 1):\n",
    "            Result.append(root[Top_row][col])\n",
    "        Top_row += 1\n",
    "        \n",
    "        for row in range(Top_row,Bottom_row+1):\n",
    "            Result.append(root[row][Right_col])\n",
    "        Right_col -= 1\n",
    "\n",
    "        if Top_row <= Bottom_row:\n",
    "            for col in range(Right_col,Left_col-1,-1):\n",
    "                Result.append(root[Bottom_row][col])\n",
    "            Bottom_row -= 1\n",
    "        if Left_col <= Right_col:\n",
    "            for row in range(Bottom_row ,Top_row-1,-1):\n",
    "                Result.append(root[row][Left_col])\n",
    "            Left_col += 1\n",
    "    return Result"
   ]
  },
  {
   "cell_type": "code",
   "execution_count": null,
   "metadata": {},
   "outputs": [
    {
     "data": {
      "text/plain": [
       "[1, 2, 3, 4, 8, 12, 16, 15, 14, 13, 9, 5, 6, 7, 11, 10]"
      ]
     },
     "execution_count": 256,
     "metadata": {},
     "output_type": "execute_result"
    }
   ],
   "source": [
    "spiral_Matrix_Traverse(root)"
   ]
  },
  {
   "cell_type": "code",
   "execution_count": null,
   "metadata": {},
   "outputs": [],
   "source": [
    "def Spiral_reverse_Matrix(root):\n",
    "    rows = len(root)\n",
    "    cols = len(root[0])\n",
    "    Left_col,Right_col = 0,cols - 1\n",
    "    Top_row ,Bottom_row = 0,rows - 1\n",
    "    Result = []\n",
    "    while Left_col <= Right_col and Top_row <= Bottom_row:\n",
    "        for col in range(Right_col,Left_col - 1,-1):\n",
    "            Result.append(root[Top_row][col])\n",
    "        Top_row += 1\n",
    "\n",
    "        for row in range(Top_row,Bottom_row +1):\n",
    "            Result.append(root[row][Right_col])\n",
    "        Right_col -= 1\n",
    "\n",
    "        if Top_row <= Bottom_row:\n",
    "            for row in range(Left_col , Right_col +1):\n",
    "                Result.append(root[row][Bottom_row])\n",
    "            Bottom_row -= 1\n",
    "\n",
    "        if Left_col <= Right_col:\n",
    "            for col in range(Bottom_row,Top_row-1,-1):\n",
    "                Result.append(root[col][Left_col])\n",
    "            Left_col -= 1\n",
    "        return Result\n"
   ]
  },
  {
   "cell_type": "code",
   "execution_count": null,
   "metadata": {},
   "outputs": [
    {
     "data": {
      "text/plain": [
       "[4, 3, 2, 1, 8, 12, 16, 4, 8, 12, 9, 5]"
      ]
     },
     "execution_count": 356,
     "metadata": {},
     "output_type": "execute_result"
    }
   ],
   "source": [
    "Spiral_reverse_Matrix(root)"
   ]
  },
  {
   "cell_type": "code",
   "execution_count": null,
   "metadata": {},
   "outputs": [],
   "source": []
  },
  {
   "cell_type": "code",
   "execution_count": 43,
   "metadata": {},
   "outputs": [],
   "source": [
    "def spiral(root):\n",
    "    rows = len(root)\n",
    "    cols = len(root[0])\n",
    "    element = rows * cols\n",
    "    return element\n"
   ]
  },
  {
   "cell_type": "code",
   "execution_count": 44,
   "metadata": {},
   "outputs": [
    {
     "data": {
      "text/plain": [
       "16"
      ]
     },
     "execution_count": 44,
     "metadata": {},
     "output_type": "execute_result"
    }
   ],
   "source": [
    "spiral(root)"
   ]
  },
  {
   "cell_type": "code",
   "execution_count": null,
   "metadata": {},
   "outputs": [],
   "source": []
  },
  {
   "cell_type": "code",
   "execution_count": null,
   "metadata": {},
   "outputs": [],
   "source": []
  }
 ],
 "metadata": {
  "kernelspec": {
   "display_name": "Python 3",
   "language": "python",
   "name": "python3"
  },
  "language_info": {
   "codemirror_mode": {
    "name": "ipython",
    "version": 3
   },
   "file_extension": ".py",
   "mimetype": "text/x-python",
   "name": "python",
   "nbconvert_exporter": "python",
   "pygments_lexer": "ipython3",
   "version": "3.11.5"
  },
  "orig_nbformat": 4
 },
 "nbformat": 4,
 "nbformat_minor": 2
}
