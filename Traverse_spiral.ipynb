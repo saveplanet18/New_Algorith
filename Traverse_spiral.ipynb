{
 "cells": [
  {
   "cell_type": "code",
   "execution_count": 317,
   "metadata": {},
   "outputs": [],
   "source": [
    "def Create_Matrix_element(rows,cols):\n",
    "    new_Matrix = []\n",
    "    for row in range(rows):\n",
    "        matrix = []\n",
    "        for col in range(cols):\n",
    "            col = int(input(f\"{row} and {col}\"))\n",
    "            matrix.append(col)\n",
    "        new_Matrix.append(matrix)\n",
    "    return new_Matrix"
   ]
  },
  {
   "cell_type": "code",
   "execution_count": 318,
   "metadata": {},
   "outputs": [],
   "source": [
    "root = Create_Matrix_element(4,4)"
   ]
  },
  {
   "cell_type": "code",
   "execution_count": 167,
   "metadata": {},
   "outputs": [],
   "source": [
    "def Search_Matrix_element(root,Target):\n",
    "    rows = len(root)\n",
    "    cols = len(root[0])\n",
    "    for row in range(rows):\n",
    "        for col in range(cols):\n",
    "            if root[row][col] == Target:\n",
    "                return True\n",
    "    return False"
   ]
  },
  {
   "cell_type": "code",
   "execution_count": 168,
   "metadata": {},
   "outputs": [
    {
     "data": {
      "text/plain": [
       "False"
      ]
     },
     "execution_count": 168,
     "metadata": {},
     "output_type": "execute_result"
    }
   ],
   "source": [
    "Search_Matrix_element(root,22)"
   ]
  },
  {
   "cell_type": "code",
   "execution_count": 169,
   "metadata": {},
   "outputs": [],
   "source": [
    "def Binary_Search_Travese_element(root,search):\n",
    "    rows = len(root)\n",
    "    cols = len(root[0])\n",
    "    Left,Right = 0,rows * cols -1\n",
    "    while Left <= Right:\n",
    "        mid = (Left + Right) // 2\n",
    "        mid_element = root[mid // cols][mid % cols]\n",
    "        if mid_element == search:\n",
    "            return True\n",
    "        elif mid_element < search:\n",
    "            Left = mid + 1\n",
    "        else:\n",
    "            Right = mid - 1\n",
    "    return False"
   ]
  },
  {
   "cell_type": "code",
   "execution_count": 170,
   "metadata": {},
   "outputs": [
    {
     "data": {
      "text/plain": [
       "True"
      ]
     },
     "execution_count": 170,
     "metadata": {},
     "output_type": "execute_result"
    }
   ],
   "source": [
    "Binary_Search_Travese_element(root,14)"
   ]
  },
  {
   "cell_type": "code",
   "execution_count": 176,
   "metadata": {},
   "outputs": [],
   "source": [
    "def Transpose_Traverse_element(root):\n",
    "    rows = len(root)\n",
    "    cols = len(root[0])\n",
    "    Transpose = [[0] * rows for __ in range(cols)]\n",
    "    for row in range(rows):\n",
    "        for col in range(cols):\n",
    "            Transpose[col][row] = root[row][col]\n",
    "    return Transpose"
   ]
  },
  {
   "cell_type": "code",
   "execution_count": 177,
   "metadata": {},
   "outputs": [
    {
     "data": {
      "text/plain": [
       "[[1, 5, 9, 13], [2, 6, 10, 14], [3, 7, 11, 15], [4, 8, 12, 16]]"
      ]
     },
     "execution_count": 177,
     "metadata": {},
     "output_type": "execute_result"
    }
   ],
   "source": [
    "Transpose_Traverse_element(root)"
   ]
  },
  {
   "cell_type": "code",
   "execution_count": 184,
   "metadata": {},
   "outputs": [],
   "source": [
    "def Reverse_column_element(root):\n",
    "    rows = len(root)\n",
    "    cols = len(root[0])\n",
    "    for col in range(cols):\n",
    "        Left,Right = 0,rows - 1\n",
    "        while Left < Right:\n",
    "            root[Left][col],root[Right][col] = root[Right][col],root[Left][col]\n",
    "            Left += 1\n",
    "            Right -= 1"
   ]
  },
  {
   "cell_type": "code",
   "execution_count": 185,
   "metadata": {},
   "outputs": [],
   "source": [
    "Reverse_column_element(root)"
   ]
  },
  {
   "cell_type": "code",
   "execution_count": 186,
   "metadata": {},
   "outputs": [
    {
     "data": {
      "text/plain": [
       "[[1, 2, 3, 4], [5, 6, 7, 8], [9, 10, 11, 12], [13, 14, 15, 16]]"
      ]
     },
     "execution_count": 186,
     "metadata": {},
     "output_type": "execute_result"
    }
   ],
   "source": [
    "root"
   ]
  },
  {
   "cell_type": "code",
   "execution_count": 187,
   "metadata": {},
   "outputs": [],
   "source": [
    "def rev(root):\n",
    "    for row in root:\n",
    "        row.reverse()"
   ]
  },
  {
   "cell_type": "code",
   "execution_count": 188,
   "metadata": {},
   "outputs": [],
   "source": [
    "rev(root)"
   ]
  },
  {
   "cell_type": "code",
   "execution_count": 189,
   "metadata": {},
   "outputs": [
    {
     "data": {
      "text/plain": [
       "[[4, 3, 2, 1], [8, 7, 6, 5], [12, 11, 10, 9], [16, 15, 14, 13]]"
      ]
     },
     "execution_count": 189,
     "metadata": {},
     "output_type": "execute_result"
    }
   ],
   "source": [
    "root"
   ]
  },
  {
   "cell_type": "code",
   "execution_count": 210,
   "metadata": {},
   "outputs": [],
   "source": [
    "def Rotate_180_Degree(root):\n",
    "    rows = len(root)\n",
    "    cols = len(root[0])\n",
    "    Rotated = [[0] * cols for _ in range(rows)]\n",
    "    for row in range(rows):\n",
    "        for col in range(cols):\n",
    "            Rotated[rows-row-1][cols-col-1] = root[row][col]\n",
    "    return Rotated"
   ]
  },
  {
   "cell_type": "code",
   "execution_count": 211,
   "metadata": {},
   "outputs": [
    {
     "data": {
      "text/plain": [
       "[[13, 14, 15, 16], [9, 10, 11, 12], [5, 6, 7, 8], [1, 2, 3, 4]]"
      ]
     },
     "execution_count": 211,
     "metadata": {},
     "output_type": "execute_result"
    }
   ],
   "source": [
    "Rotate_180_Degree(root)"
   ]
  },
  {
   "cell_type": "code",
   "execution_count": 289,
   "metadata": {},
   "outputs": [],
   "source": [
    "root = [\n",
    "    [1, 2, 3],\n",
    "    [4, 0, 6],\n",
    "    [7, 8, 9]\n",
    "]"
   ]
  },
  {
   "cell_type": "code",
   "execution_count": 290,
   "metadata": {},
   "outputs": [],
   "source": [
    "def set_zeros_matrix(root):\n",
    "    rows = len(root)\n",
    "    cols = len(root[0])\n",
    "    zero_rows = set()\n",
    "    zero_cols = set()\n",
    "    for row in range(rows):\n",
    "        for col in range(cols):\n",
    "            if root[row][col] == 0:\n",
    "                zero_rows.add(row)\n",
    "                zero_cols.add(col)\n",
    "\n",
    "    for row in zero_rows:\n",
    "        for col in range(cols):\n",
    "            root[row][col] = 0\n",
    "    \n",
    "    for row in zero_cols:\n",
    "        for col in range(rows):\n",
    "            root[col][row] = 0\n",
    "    return root\n",
    "\n",
    "    # for row in range(rows):\n",
    "    #     for col in range(cols):\n",
    "    #         if root[row][col] == 0:\n",
    "    #             if root[row] == 0:\n",
    "    #                 first_row_finaly == False\n",
    "    #             if root[col] == 0:\n",
    "    #                 first_col_finaly == False\n",
    "    #             root[row][0] = 0\n",
    "    #             root[0][col] = 0\n",
    "    # for row in range(1,rows):\n",
    "    #     for col in range(1,cols):\n",
    "    #         if root[row][0] or root[0][col]:\n",
    "    #             root[row][col] = 0\n",
    "    # if first_row_finaly:\n",
    "    #     for row in range(rows):\n",
    "    #         root[row][0] == 0\n",
    "\n",
    "    # if first_col_finaly:\n",
    "    #     for col in range(cols):\n",
    "    #         root[0][col] == 0\n",
    "\n",
    "\n",
    "    # return root"
   ]
  },
  {
   "cell_type": "code",
   "execution_count": 291,
   "metadata": {},
   "outputs": [
    {
     "data": {
      "text/plain": [
       "[[1, 0, 3], [0, 0, 0], [7, 0, 9]]"
      ]
     },
     "execution_count": 291,
     "metadata": {},
     "output_type": "execute_result"
    }
   ],
   "source": [
    "set_zeros_matrix(root)"
   ]
  },
  {
   "cell_type": "code",
   "execution_count": 293,
   "metadata": {},
   "outputs": [],
   "source": [
    "root = [\n",
    "    [1, 0, 0, 1],\n",
    "    [0, 1, 1, 0],\n",
    "    [1, 0, 0, 1],\n",
    "    [0, 1, 1, 0],\n",
    "    [1, 0, 0, 1]\n",
    "]"
   ]
  },
  {
   "cell_type": "code",
   "execution_count": 314,
   "metadata": {},
   "outputs": [],
   "source": [
    "def duplicat_Remove(root):\n",
    "    rows = len(root)\n",
    "    cols = len(root[0])\n",
    "    seen_row = set()\n",
    "    duplicate_row = []\n",
    "    for row in root:\n",
    "        new_tuple = tuple()\n",
    "        if new_tuple in seen_row:\n",
    "            duplicate_row.append(row)\n",
    "        else:\n",
    "            seen_row.add(new_tuple)\n",
    "    return duplicate_row"
   ]
  },
  {
   "cell_type": "code",
   "execution_count": 315,
   "metadata": {},
   "outputs": [
    {
     "data": {
      "text/plain": [
       "[[0, 1, 1, 0], [1, 0, 0, 1], [0, 1, 1, 0], [1, 0, 0, 1]]"
      ]
     },
     "execution_count": 315,
     "metadata": {},
     "output_type": "execute_result"
    }
   ],
   "source": [
    "duplicat_Remove(root)"
   ]
  },
  {
   "cell_type": "code",
   "execution_count": 351,
   "metadata": {},
   "outputs": [],
   "source": [
    "def Rotate_90_Degree(root):\n",
    "    rows = len(root)\n",
    "    cols = len(root[0])\n",
    "    Result = [[0] * rows for _ in range(cols)]\n",
    "    for row in range(rows):\n",
    "        for col in range(cols):\n",
    "            Result[col][row] = root[row][col]\n",
    "    return Result"
   ]
  },
  {
   "cell_type": "code",
   "execution_count": 352,
   "metadata": {},
   "outputs": [
    {
     "data": {
      "text/plain": [
       "[[1, 5, 9, 13], [2, 6, 10, 14], [3, 7, 11, 15], [4, 8, 12, 16]]"
      ]
     },
     "execution_count": 352,
     "metadata": {},
     "output_type": "execute_result"
    }
   ],
   "source": [
    "Rotate_90_Degree(root)"
   ]
  },
  {
   "cell_type": "code",
   "execution_count": 357,
   "metadata": {},
   "outputs": [],
   "source": [
    "def Rotate_90_Degree_clockwise(root):\n",
    "    rows = len(root)\n",
    "    cols = len(root[0])\n",
    "    Result = [[0]*rows for _ in range(cols)]\n",
    "    for row in range(rows):\n",
    "        for col in range(cols):\n",
    "            Result[cols-col-1][rows-row-1] = root[row][col]\n",
    "    return Result"
   ]
  },
  {
   "cell_type": "code",
   "execution_count": 358,
   "metadata": {},
   "outputs": [
    {
     "data": {
      "text/plain": [
       "[[16, 12, 8, 4], [15, 11, 7, 3], [14, 10, 6, 2], [13, 9, 5, 1]]"
      ]
     },
     "execution_count": 358,
     "metadata": {},
     "output_type": "execute_result"
    }
   ],
   "source": [
    "Rotate_90_Degree_clockwise(root)"
   ]
  },
  {
   "cell_type": "code",
   "execution_count": 361,
   "metadata": {},
   "outputs": [],
   "source": [
    "def Left_To_Right_Left(root):\n",
    "    rows = len(root)\n",
    "    cols = len(root[0])\n",
    "    Result = []\n",
    "    for row in range(rows):\n",
    "        if row % 2 == 0:\n",
    "            for col in range(cols):\n",
    "                Result.append(root[row][col])\n",
    "        else:\n",
    "            for col in range(cols-1,-1,-1):\n",
    "                Result.append(root[row][col])\n",
    "    return Result"
   ]
  },
  {
   "cell_type": "code",
   "execution_count": 362,
   "metadata": {},
   "outputs": [
    {
     "data": {
      "text/plain": [
       "[1, 2, 3, 4, 8, 7, 6, 5, 9, 10, 11, 12, 16, 15, 14, 13]"
      ]
     },
     "execution_count": 362,
     "metadata": {},
     "output_type": "execute_result"
    }
   ],
   "source": [
    "Left_To_Right_Left(root)"
   ]
  },
  {
   "cell_type": "code",
   "execution_count": 371,
   "metadata": {},
   "outputs": [],
   "source": [
    "def Rotate_Left_Right_Left(root):\n",
    "    rows = len(root)\n",
    "    cols = len(root[0])\n",
    "    for i,row in enumerate(root):\n",
    "        if i % 2 == 0:\n",
    "            print(\"\".join(map(str,row)))\n",
    "        else:\n",
    "            print(\"\".join(map(str,reversed(row))))"
   ]
  },
  {
   "cell_type": "code",
   "execution_count": 372,
   "metadata": {},
   "outputs": [
    {
     "name": "stdout",
     "output_type": "stream",
     "text": [
      "1234\n",
      "8765\n",
      "9101112\n",
      "16151413\n"
     ]
    }
   ],
   "source": [
    "Rotate_Left_Right_Left(root)"
   ]
  },
  {
   "cell_type": "code",
   "execution_count": 389,
   "metadata": {},
   "outputs": [],
   "source": [
    "def Daigonal_Traverse_element(root):\n",
    "    rows = len(root)\n",
    "    cols = len(root[0])\n",
    "    Result = []\n",
    "    for row in range(rows + cols -1):\n",
    "        if row % 2 == 0:\n",
    "            i = min(row,rows-1)\n",
    "            j = row - i\n",
    "            return j\n",
    "        else:\n",
    "            j = min(row,cols-1)\n",
    "            i = row - j\n",
    "            return i\n",
    "        while i >= 0 and j >= 0:\n",
    "            Result.append(root[i][j])\n",
    "            i -= 1\n",
    "            j -= 1\n",
    "    return Result\n",
    "        "
   ]
  },
  {
   "cell_type": "code",
   "execution_count": 390,
   "metadata": {},
   "outputs": [
    {
     "data": {
      "text/plain": [
       "0"
      ]
     },
     "execution_count": 390,
     "metadata": {},
     "output_type": "execute_result"
    }
   ],
   "source": [
    "Daigonal_Traverse_element(root)"
   ]
  },
  {
   "cell_type": "code",
   "execution_count": null,
   "metadata": {},
   "outputs": [],
   "source": []
  },
  {
   "cell_type": "code",
   "execution_count": null,
   "metadata": {},
   "outputs": [],
   "source": []
  }
 ],
 "metadata": {
  "kernelspec": {
   "display_name": "Python 3",
   "language": "python",
   "name": "python3"
  },
  "language_info": {
   "codemirror_mode": {
    "name": "ipython",
    "version": 3
   },
   "file_extension": ".py",
   "mimetype": "text/x-python",
   "name": "python",
   "nbconvert_exporter": "python",
   "pygments_lexer": "ipython3",
   "version": "3.11.-1"
  },
  "orig_nbformat": 4
 },
 "nbformat": 4,
 "nbformat_minor": 2
}
