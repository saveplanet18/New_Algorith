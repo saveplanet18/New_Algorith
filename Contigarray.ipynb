{
 "cells": [
  {
   "cell_type": "code",
   "execution_count": 11,
   "metadata": {},
   "outputs": [
    {
     "data": {
      "text/plain": [
       "[0, 1, 4, 10, 20, 35, 56, 84]"
      ]
     },
     "execution_count": 11,
     "metadata": {},
     "output_type": "execute_result"
    }
   ],
   "source": [
    "def Contigous_subarray(root):\n",
    "    Result = []\n",
    "    Count_sum = 0\n",
    "    for i in range(len(root)):\n",
    "        for j in range(i):\n",
    "            Count_sum += root[j]\n",
    "        Result.append(Count_sum)\n",
    "    return Result\n",
    "root = [1, 2, 3, 4, 5, 6, 7, 8]\n",
    "Contigous_subarray(root)\n"
   ]
  },
  {
   "cell_type": "code",
   "execution_count": 54,
   "metadata": {},
   "outputs": [
    {
     "data": {
      "text/plain": [
       "([1, 3, 6, 10, 15, 21, 28, 36], 36)"
      ]
     },
     "execution_count": 54,
     "metadata": {},
     "output_type": "execute_result"
    }
   ],
   "source": [
    "def naive_Max_subarray(root):\n",
    "    current_sum = 0\n",
    "    Max_sum = 0\n",
    "    Result = []\n",
    "    for i in range(len(root)):\n",
    "        current_sum += root[i]\n",
    "        if current_sum > Max_sum:\n",
    "            Max_sum = current_sum\n",
    "            Result.append(current_sum)\n",
    "    return Result,Max_sum\n",
    "naive_Max_subarray(root)"
   ]
  },
  {
   "cell_type": "code",
   "execution_count": 61,
   "metadata": {},
   "outputs": [
    {
     "data": {
      "text/plain": [
       "(36, [3, 6, 10, 15, 21, 28, 36])"
      ]
     },
     "execution_count": 61,
     "metadata": {},
     "output_type": "execute_result"
    }
   ],
   "source": [
    "def kadanes_Max_algorithm(root):\n",
    "    current_sum = root[0]\n",
    "    Max_sum = root[0]\n",
    "    Result = []\n",
    "    for i in range(1,len(root)):\n",
    "        current_sum = max(root[i],current_sum + root[i])\n",
    "        Max_sum = max(current_sum,Max_sum)\n",
    "        Result.append(current_sum)\n",
    "    return Max_sum,Result\n",
    "kadanes_Max_algorithm(root)\n"
   ]
  },
  {
   "cell_type": "code",
   "execution_count": 60,
   "metadata": {},
   "outputs": [
    {
     "data": {
      "text/plain": [
       "[1, 3, 6, 10, 15, 21, 28, 36]"
      ]
     },
     "execution_count": 60,
     "metadata": {},
     "output_type": "execute_result"
    }
   ],
   "source": [
    "def Max_Method(root):\n",
    "    current_sum = 0\n",
    "    Result = []\n",
    "    for i in range(len(root)):\n",
    "        current_sum += root[i]\n",
    "        Result.append(current_sum)\n",
    "    return Result\n",
    "Max_Method(root)\n"
   ]
  },
  {
   "cell_type": "code",
   "execution_count": 93,
   "metadata": {},
   "outputs": [
    {
     "data": {
      "text/plain": [
       "1"
      ]
     },
     "execution_count": 93,
     "metadata": {},
     "output_type": "execute_result"
    }
   ],
   "source": [
    "def kadanes_Min_algorithm(root):\n",
    "    current_sum = root[0]\n",
    "    Min_sum = root[0]\n",
    "    Result = []\n",
    "    for i in range(1,len(root)):\n",
    "        current_sum = min(i,current_sum + i)\n",
    "        Min_sum = min(current_sum,Min_sum)\n",
    "    return Min_sum\n",
    "        \n",
    "kadanes_Min_algorithm(root)\n"
   ]
  },
  {
   "cell_type": "code",
   "execution_count": 86,
   "metadata": {},
   "outputs": [
    {
     "data": {
      "text/plain": [
       "([1, 3, 6, 10, 15, 21, 28, 36], 0)"
      ]
     },
     "execution_count": 86,
     "metadata": {},
     "output_type": "execute_result"
    }
   ],
   "source": [
    "def naive_min_subarray(root):\n",
    "    current_sum = 0\n",
    "    Min_sum = 0\n",
    "    Result = []\n",
    "    for i in range(len(root)):\n",
    "        current_sum += root[i]\n",
    "        if current_sum < Min_sum:\n",
    "            Min_sum = current_sum\n",
    "        Result.append(current_sum)\n",
    "    return Result,Min_sum\n",
    "naive_min_subarray(root)\n"
   ]
  },
  {
   "cell_type": "code",
   "execution_count": 149,
   "metadata": {},
   "outputs": [
    {
     "data": {
      "text/plain": [
       "[5, 4]"
      ]
     },
     "execution_count": 149,
     "metadata": {},
     "output_type": "execute_result"
    }
   ],
   "source": [
    "def longest_increasing_subarray(root):\n",
    "    current_length = 1\n",
    "    Max_lenght = 1\n",
    "    current_start = 0\n",
    "    Max_start = 0\n",
    "    for i in range(len(root)):\n",
    "        if root[i] > root[i - 1]:\n",
    "            current_length += 1\n",
    "        else:\n",
    "            current_length = 1\n",
    "            current_start = i\n",
    "        if current_length > Max_lenght:\n",
    "            Max_lenght = current_length\n",
    "            Max_start = current_start\n",
    "    longest_subarray = root[Max_start:Max_start + Max_lenght]\n",
    "    return longest_subarray\n",
    "root = [1, 2, 3, 1, 2, 3, 4, 5, 6, 2, 3]\n",
    "longest_increasing_subarray(root) "
   ]
  },
  {
   "cell_type": "code",
   "execution_count": 156,
   "metadata": {},
   "outputs": [
    {
     "data": {
      "text/plain": [
       "[6, 5, 4, 3, 2, 1]"
      ]
     },
     "execution_count": 156,
     "metadata": {},
     "output_type": "execute_result"
    }
   ],
   "source": [
    "def longest_Decreasing_subarray(root):\n",
    "    current_lenth = 1\n",
    "    Max_length = 1\n",
    "    current_start = 0\n",
    "    Max_start = 0\n",
    "    for i in range(1,len(root)):\n",
    "        if root[i] < root[i - 1]:\n",
    "            current_lenth += 1\n",
    "        else:\n",
    "            current_lenth = 1\n",
    "            current_start = i\n",
    "        if current_lenth > Max_length:\n",
    "            Max_length = current_lenth\n",
    "            Max_start = current_start\n",
    "    longest_subarray = root[Max_start : Max_start + Max_length]\n",
    "    return longest_subarray\n",
    "longest_Decreasing_subarray(root)"
   ]
  },
  {
   "cell_type": "code",
   "execution_count": 166,
   "metadata": {},
   "outputs": [
    {
     "data": {
      "text/plain": [
       "[1, 1, 1, 1, 1, 2, 2, 2, 2, 2, 1]"
      ]
     },
     "execution_count": 166,
     "metadata": {},
     "output_type": "execute_result"
    }
   ],
   "source": [
    "def longest_bitonic_subarray(root):\n",
    "    n = len(root)\n",
    "    Increasing = [1] * n\n",
    "    Decreasing = [1] * n\n",
    "    \n",
    "    for i in range(1,n):\n",
    "        for j in range(i):\n",
    "            if root[i] > root[j] and Increasing[i] < Increasing[j] + 1:\n",
    "                Increasing[i] = Increasing[j] + 1\n",
    "    return Increasing\n",
    "longest_bitonic_subarray(root)"
   ]
  },
  {
   "cell_type": "code",
   "execution_count": 173,
   "metadata": {},
   "outputs": [
    {
     "data": {
      "text/plain": [
       "1"
      ]
     },
     "execution_count": 173,
     "metadata": {},
     "output_type": "execute_result"
    }
   ],
   "source": [
    "def longest_increasing_subsequence_length(root):\n",
    "    n = len(root)\n",
    "    if n == 0:\n",
    "        return 0\n",
    "    Increasing = [1] * n\n",
    "    for i in range(1,len(root)):\n",
    "        for j in range(i):\n",
    "            if Increasing[i] > Increasing[j] and Increasing[i] < Increasing[j]+1:\n",
    "                Increasing[i] = Increasing[j] + 1\n",
    "    Max_lenght = max(Increasing)\n",
    "    return Max_lenght\n",
    "longest_increasing_subsequence_length(root)"
   ]
  },
  {
   "cell_type": "code",
   "execution_count": 5,
   "metadata": {},
   "outputs": [
    {
     "data": {
      "text/plain": [
       "2"
      ]
     },
     "execution_count": 5,
     "metadata": {},
     "output_type": "execute_result"
    }
   ],
   "source": [
    "def longest_increasing_subsequence_length(root):\n",
    "    n = len(root)\n",
    "    longest = [1] * n\n",
    "    for i in range(1,n):\n",
    "        for j in range(1):\n",
    "            if root[i] > root[j] and longest[i] < longest[j] + 1:\n",
    "                longest[i] = longest[j] + 1\n",
    "    max_lenght = max(longest)\n",
    "    return max_lenght\n",
    "root = [10, 22, 9, 33, 21, 50, 41, 60, 80]\n",
    "longest_increasing_subsequence_length(root)\n"
   ]
  },
  {
   "cell_type": "code",
   "execution_count": 17,
   "metadata": {},
   "outputs": [
    {
     "data": {
      "text/plain": [
       "(6, [2, 3, 5, -7, -3, 0, 6, -9, -5])"
      ]
     },
     "execution_count": 17,
     "metadata": {},
     "output_type": "execute_result"
    }
   ],
   "source": [
    "def Maximum_Sum_Subarray(root):\n",
    "    current_sum = 0\n",
    "    Max_sum = 0\n",
    "    Result = []\n",
    "    for i in range(len(root)):\n",
    "        current_sum += root[i]\n",
    "        Result.append(current_sum)\n",
    "        if current_sum > Max_sum:\n",
    "            Max_sum = current_sum\n",
    "        if current_sum > 0:\n",
    "            current_sum = 0\n",
    "    return Max_sum,Result\n",
    "root = [2, 3, 5, -7, 4, 3, 6, -9, 4]\n",
    "Maximum_Sum_Subarray(root)\n"
   ]
  },
  {
   "cell_type": "code",
   "execution_count": 16,
   "metadata": {},
   "outputs": [
    {
     "data": {
      "text/plain": [
       "-9"
      ]
     },
     "execution_count": 16,
     "metadata": {},
     "output_type": "execute_result"
    }
   ],
   "source": [
    "def Manimum_Sum_Subarray(root):\n",
    "    current_sum = root[0]\n",
    "    Manimum_sum = root[0]\n",
    "    for i in range(1,len(root)):\n",
    "        current_sum = min(root[i],current_sum + root[i])\n",
    "        Manimum_sum = min(current_sum,Manimum_sum)\n",
    "    return Manimum_sum\n",
    "Manimum_Sum_Subarray(root)"
   ]
  },
  {
   "cell_type": "code",
   "execution_count": 26,
   "metadata": {},
   "outputs": [
    {
     "data": {
      "text/plain": [
       "(4, [[1, 2, 3, 1, 3, 2, 4, 1, 3]])"
      ]
     },
     "execution_count": 26,
     "metadata": {},
     "output_type": "execute_result"
    }
   ],
   "source": [
    "def longest_increasing_subarray(root):\n",
    "    n = len(root)\n",
    "    longest_increasing = [1] * len(root)\n",
    "    Result = []\n",
    "    for i in range(len(root)):\n",
    "        for j in range(i):\n",
    "            if root[i] > root[j]:\n",
    "                if longest_increasing[i] < longest_increasing[j] + 1:\n",
    "                    longest_increasing[i] = longest_increasing[j] + 1\n",
    "    # Result.append(longest_increasing)\n",
    "    max_lenght = max(longest_increasing)\n",
    "    return max_lenght,Result\n",
    "longest_increasing_subarray(root)"
   ]
  },
  {
   "cell_type": "code",
   "execution_count": 34,
   "metadata": {},
   "outputs": [
    {
     "data": {
      "text/plain": [
       "(6, [1, 2, 3, 4, 5, 6])"
      ]
     },
     "execution_count": 34,
     "metadata": {},
     "output_type": "execute_result"
    }
   ],
   "source": [
    "def longest_increasing_subarray(root):\n",
    "    longest = root[0]\n",
    "    Max_lenght = 0\n",
    "    current_start = 0\n",
    "    Max_start = 0\n",
    "    for i in range(1,len(root)):\n",
    "        if root[i] > root[i-1]:\n",
    "            longest += 1\n",
    "        else:\n",
    "            longest = 1\n",
    "            current_start = i\n",
    "        if longest > Max_lenght:\n",
    "            Max_lenght = longest\n",
    "            Max_start = current_start\n",
    "    longest_subarray = root[Max_start:Max_start+Max_lenght]\n",
    "    return Max_lenght,longest_subarray\n",
    "root = [1, 2, 3, 1, 2, 3, 4, 5, 6, 2, 3]\n",
    "longest_increasing_subarray(root)\n"
   ]
  },
  {
   "cell_type": "code",
   "execution_count": 49,
   "metadata": {},
   "outputs": [
    {
     "data": {
      "text/plain": [
       "([5, 4, 3, 2, 1, 6, 5, 4, 3], 9)"
      ]
     },
     "execution_count": 49,
     "metadata": {},
     "output_type": "execute_result"
    }
   ],
   "source": [
    "def longest_Decreasing_subarray(root):\n",
    "    current_longe = root[0]\n",
    "    Max_lenght = 0\n",
    "    current_start = 0\n",
    "    Max_start = 0\n",
    "    for i in range(1,len(root)):\n",
    "        if root[i] < root[i - 1]:\n",
    "            current_longe += 1\n",
    "        else:\n",
    "            current_longe = 1\n",
    "            current_start = i\n",
    "        if current_longe > Max_lenght:\n",
    "            Max_lenght = current_longe\n",
    "            Max_start = current_start\n",
    "    decrloge = root[Max_start:Max_start+Max_lenght]\n",
    "    return decrloge,Max_lenght\n",
    "root = [5, 4, 3, 2, 1, 6, 5, 4, 3, 2, 1]\n",
    "longest_Decreasing_subarray(root)\n",
    "\n"
   ]
  },
  {
   "cell_type": "code",
   "execution_count": null,
   "metadata": {},
   "outputs": [],
   "source": []
  }
 ],
 "metadata": {
  "kernelspec": {
   "display_name": "Python 3",
   "language": "python",
   "name": "python3"
  },
  "language_info": {
   "codemirror_mode": {
    "name": "ipython",
    "version": 3
   },
   "file_extension": ".py",
   "mimetype": "text/x-python",
   "name": "python",
   "nbconvert_exporter": "python",
   "pygments_lexer": "ipython3",
   "version": "3.11.6"
  }
 },
 "nbformat": 4,
 "nbformat_minor": 2
}
