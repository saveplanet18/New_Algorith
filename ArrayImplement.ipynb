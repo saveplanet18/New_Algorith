{
 "cells": [
  {
   "cell_type": "code",
   "execution_count": 7,
   "metadata": {},
   "outputs": [
    {
     "data": {
      "text/plain": [
       "[0, 0, 0, 0, 1, 1, 1, 1]"
      ]
     },
     "execution_count": 7,
     "metadata": {},
     "output_type": "execute_result"
    }
   ],
   "source": [
    "def Segregate_0s1s(nums):\n",
    "    left = 0\n",
    "    for i in range(len(nums)):\n",
    "        if nums[i] == 0:\n",
    "            nums[i],nums[left] = nums[left],nums[i]\n",
    "            left += 1\n",
    "    return nums\n",
    "nums = [0, 1, 0, 1, 1, 0, 1, 0]\n",
    "Segregate_0s1s(nums)\n",
    "\n"
   ]
  },
  {
   "cell_type": "code",
   "execution_count": 34,
   "metadata": {},
   "outputs": [
    {
     "data": {
      "text/plain": [
       "[0, 0, 0, 0, 0, 0, 1, 1, 1, 1, 2, 2, 2, 2, 2]"
      ]
     },
     "execution_count": 34,
     "metadata": {},
     "output_type": "execute_result"
    }
   ],
   "source": [
    "def Sort_an_array(nums):\n",
    "    left = 0\n",
    "    right = len(nums) - 1\n",
    "    mid = 0\n",
    "    while mid <= right:\n",
    "        if nums[mid] == 0:\n",
    "            nums[mid],nums[left] = nums[left],nums[mid]\n",
    "            mid += 1\n",
    "            left += 1\n",
    "        elif nums[mid] == 1:\n",
    "            mid += 1\n",
    "        else:\n",
    "            nums[mid],nums[right] = nums[right],nums[mid]\n",
    "            right -= 1\n",
    "    return nums\n",
    "nums = [0, 1, 0, 2, 2, 1, 2, 0, 0, 2, 0, 1, 1, 0, 2]\n",
    "Sort_an_array(nums)"
   ]
  },
  {
   "cell_type": "code",
   "execution_count": 39,
   "metadata": {},
   "outputs": [
    {
     "data": {
      "text/plain": [
       "[1, 3, 2, 11, 6, -5, -1, -7]"
      ]
     },
     "execution_count": 39,
     "metadata": {},
     "output_type": "execute_result"
    }
   ],
   "source": [
    "def Move_all_negative(nums):\n",
    "    left = 0\n",
    "    for i in range(len(nums)):\n",
    "        if nums[i] >= 0:\n",
    "            nums[i],nums[left] = nums[left],nums[i]\n",
    "            left += 1\n",
    "    return nums\n",
    "nums = [1, -1, 3, 2, -7, -5, 11, 6]\n",
    "Move_all_negative(nums)"
   ]
  },
  {
   "cell_type": "code",
   "execution_count": 49,
   "metadata": {},
   "outputs": [
    {
     "name": "stdout",
     "output_type": "stream",
     "text": [
      "\n",
      "0 1,\n",
      "0 2,1 2,\n",
      "0 3,1 3,2 3,\n",
      "0 4,1 4,2 4,3 4,\n",
      "0 5,1 5,2 5,3 5,4 5,\n",
      "0 6,1 6,2 6,3 6,4 6,5 6,\n"
     ]
    }
   ],
   "source": [
    "def Inversions_pairs(nums):\n",
    "    for i in range(len(nums)):\n",
    "        for j in range(i):\n",
    "            print(j,i,end =',')\n",
    "        print()\n",
    "nums = [1, 7, 6, 4, 5, 9, 8]\n",
    "Inversions_pairs(nums)"
   ]
  },
  {
   "cell_type": "code",
   "execution_count": 74,
   "metadata": {},
   "outputs": [
    {
     "data": {
      "text/plain": [
       "[8, 4, 2, 10, 9, 1, 7, 5, 3]"
      ]
     },
     "execution_count": 74,
     "metadata": {},
     "output_type": "execute_result"
    }
   ],
   "source": [
    "def Segregate_even_and_odd(nums):\n",
    "    left = 0\n",
    "    for i in range(len(nums)):\n",
    "        if nums[i] % 2 == 0:\n",
    "            nums[left],nums[i] = nums[i],nums[left]\n",
    "            left += 1\n",
    "            i += 1\n",
    "    return nums\n",
    "nums = [1, 8, 7, 3, 9, 4, 2, 5, 10]\n",
    "Segregate_even_and_odd(nums)"
   ]
  },
  {
   "cell_type": "code",
   "execution_count": 77,
   "metadata": {},
   "outputs": [
    {
     "data": {
      "text/plain": [
       "[1, 4, 7, 2, 2, 1, 2, 6, 1, 1, 0, 0, 0, 0, 0]"
      ]
     },
     "execution_count": 77,
     "metadata": {},
     "output_type": "execute_result"
    }
   ],
   "source": [
    "def Move_all_zeroes(nums):\n",
    "    left = 0\n",
    "    for i in range(len(nums)):\n",
    "        if nums[i] != 0:\n",
    "            nums[left],nums[i] = nums[i],nums[left]\n",
    "            left += 1\n",
    "    return nums\n",
    "nums = [0, 1, 4, 7, 2, 2, 1, 2, 0, 0, 6, 0, 1, 1, 0]\n",
    "Move_all_zeroes(nums)\n",
    "def Move_all_zeroes(nums):\n",
    "    left,right = 0,len(nums) - 1\n",
    "    while left < right:\n",
    "        if nums[right] == 0:\n",
    "            right -= 1\n",
    "        elif nums[left] == 0:\n",
    "            nums[left],nums[right] = nums[right],nums[left]\n",
    "            left += 1\n",
    "            right -= 1\n",
    "        else:\n",
    "            left += 1\n",
    "    return nums\n",
    "Move_all_zeroes(nums)\n"
   ]
  },
  {
   "cell_type": "code",
   "execution_count": 80,
   "metadata": {},
   "outputs": [
    {
     "data": {
      "text/plain": [
       "[1, 2, 3, 4, 5, 6, 7, 8]"
      ]
     },
     "execution_count": 80,
     "metadata": {},
     "output_type": "execute_result"
    }
   ],
   "source": [
    "def Alternative_Sorting(nums):\n",
    "    nums.sort()\n",
    "    n = len(nums)\n",
    "    result = [None] * n\n",
    "    left,right = 0,n - 1\n",
    "    for i in range(n):\n",
    "        if i % 2 == 0:\n",
    "            result[i] = nums[right]\n",
    "            right -= 1\n",
    "        else:\n",
    "            result[i] = nums[left]\n",
    "            left += 1\n",
    "    return nums\n",
    "nums = [5, 8, 6, 3, 2, 7, 4, 1]\n",
    "Alternative_Sorting(nums)"
   ]
  },
  {
   "cell_type": "code",
   "execution_count": 88,
   "metadata": {},
   "outputs": [
    {
     "data": {
      "text/plain": [
       "1"
      ]
     },
     "execution_count": 88,
     "metadata": {},
     "output_type": "execute_result"
    }
   ],
   "source": [
    "def Find_smallest_element(nums):\n",
    "    smallest = nums[0]\n",
    "    for i in range(1,len(nums)):\n",
    "        if i < smallest:\n",
    "            smallest = i\n",
    "    return smallest\n",
    "nums = [9, 4, 6, 2, 7, 1]\n",
    "Find_smallest_element(nums)       "
   ]
  },
  {
   "cell_type": "code",
   "execution_count": 115,
   "metadata": {},
   "outputs": [
    {
     "data": {
      "text/plain": [
       "17"
      ]
     },
     "execution_count": 115,
     "metadata": {},
     "output_type": "execute_result"
    }
   ],
   "source": [
    "def Find_largest_pair_sum(nums):\n",
    "    first_largest = max(nums[0],nums[1])\n",
    "    second_largest = min(nums[0],nums[1])\n",
    "    for i in range(2,len(nums)):\n",
    "        if nums[i] > first_largest:\n",
    "            second_largest = first_largest\n",
    "            first_largest = nums[i]\n",
    "        elif nums[i] > second_largest:\n",
    "            second_largest = nums[i]\n",
    "    longest_pair = first_largest + second_largest\n",
    "    return longest_pair\n",
    "nums = [3, 8, 1, 9, 4, 6]\n",
    "Find_largest_pair_sum(nums)"
   ]
  },
  {
   "cell_type": "code",
   "execution_count": 119,
   "metadata": {},
   "outputs": [
    {
     "data": {
      "text/plain": [
       "88"
      ]
     },
     "execution_count": 119,
     "metadata": {},
     "output_type": "execute_result"
    }
   ],
   "source": [
    "def find_largest_pair_sum(nums):\n",
    "    result  = -1\n",
    "    for i in range(len(nums)):\n",
    "        for  j in range(i+1,len(nums)):\n",
    "            max_i = max(str(nums[i]))\n",
    "            max_j = max(str(nums[j]))\n",
    "            if max_i ==  max_j:\n",
    "                max_digit = nums[i] + nums[j]\n",
    "                result = max(result,max_digit)\n",
    "    return result\n",
    "nums = [51,71,17,24,42]\n",
    "find_largest_pair_sum(nums)"
   ]
  },
  {
   "cell_type": "code",
   "execution_count": 121,
   "metadata": {},
   "outputs": [
    {
     "data": {
      "text/plain": [
       "51"
      ]
     },
     "execution_count": 121,
     "metadata": {},
     "output_type": "execute_result"
    }
   ],
   "source": [
    "def second_largest_pair(nums):\n",
    "    first_largest = max(nums[0],nums[1])\n",
    "    second_largest = min(nums[0],nums[1])\n",
    "    for i in range(2,len(nums)):\n",
    "        if nums[i] > first_largest:\n",
    "            second_largest = first_largest\n",
    "            first_largest = nums[i]\n",
    "        elif nums[i] > second_largest:\n",
    "            second_largest = nums[i]\n",
    "    return second_largest\n",
    "second_largest_pair(nums)"
   ]
  },
  {
   "cell_type": "code",
   "execution_count": 122,
   "metadata": {},
   "outputs": [
    {
     "data": {
      "text/plain": [
       "(71, 17)"
      ]
     },
     "execution_count": 122,
     "metadata": {},
     "output_type": "execute_result"
    }
   ],
   "source": [
    "def Find_largest_smallest(nums):\n",
    "    largest = max(nums[0],nums[1])\n",
    "    smallest = min(nums[0],nums[1])\n",
    "    for i in range(2,len(nums)):\n",
    "        if nums[i] > largest:\n",
    "            largest = nums[i]\n",
    "        elif nums[i] < smallest:\n",
    "            smallest = nums[i]\n",
    "    return largest,smallest\n",
    "Find_largest_smallest(nums)"
   ]
  },
  {
   "cell_type": "code",
   "execution_count": 130,
   "metadata": {},
   "outputs": [
    {
     "data": {
      "text/plain": [
       "(4, 5)"
      ]
     },
     "execution_count": 130,
     "metadata": {},
     "output_type": "execute_result"
    }
   ],
   "source": [
    "def Find_the_smallest(nums):\n",
    "    first_smallest = max(nums[0],nums[1])\n",
    "    second_smallest = max(nums[0],nums[1])\n",
    "    for i in range(2,len(nums)):\n",
    "        if nums[i] < first_smallest:\n",
    "            second_smallest = first_smallest\n",
    "            first_smallest = nums[i]\n",
    "        elif nums[i] < second_smallest:\n",
    "            second_smallest = nums[i]\n",
    "    return (first_smallest,second_smallest)\n",
    "nums = [10, 3, 44, 86, 8, 9, 4, 5, 7]\n",
    "Find_the_smallest(nums)"
   ]
  },
  {
   "cell_type": "code",
   "execution_count": 135,
   "metadata": {},
   "outputs": [
    {
     "data": {
      "text/plain": [
       "4"
      ]
     },
     "execution_count": 135,
     "metadata": {},
     "output_type": "execute_result"
    }
   ],
   "source": [
    "def closest_value(nums, K):\n",
    "    closset = float('inf')\n",
    "    min_closist = float('inf')\n",
    "    for num in nums:\n",
    "        diff = abs(num-K)\n",
    "        if diff < min_closist:\n",
    "            min_closist = diff\n",
    "            closset = num\n",
    "    return closset\n",
    "nums = [10, 2, 14, 4, 7, 6]\n",
    "closest_value(nums,5)\n"
   ]
  },
  {
   "cell_type": "code",
   "execution_count": 143,
   "metadata": {},
   "outputs": [
    {
     "data": {
      "text/plain": [
       "[8, 8, 8, 3, 3, 2, 2, 4, 4, 1]"
      ]
     },
     "execution_count": 143,
     "metadata": {},
     "output_type": "execute_result"
    }
   ],
   "source": [
    "def sort_by_frequency(nums):\n",
    "    set_frequency = {}\n",
    "    for num in nums:\n",
    "        if num in set_frequency:\n",
    "            set_frequency[num] += 1\n",
    "        else:\n",
    "            set_frequency[num] = 1\n",
    "    sorted_nums = sorted(nums, key=lambda x: (set_frequency[x], nums.index(x)), reverse=True)\n",
    "    return sorted_nums\n",
    "nums = [4, 2, 4, 8, 3, 3, 1, 2, 8, 8]\n",
    "sort_by_frequency(nums)"
   ]
  },
  {
   "cell_type": "code",
   "execution_count": 14,
   "metadata": {},
   "outputs": [
    {
     "data": {
      "text/plain": [
       "2"
      ]
     },
     "execution_count": 14,
     "metadata": {},
     "output_type": "execute_result"
    }
   ],
   "source": [
    "def find_missing_elements(nums):\n",
    "    min_element = min(nums)\n",
    "    max_element = max(nums)\n",
    "\n",
    "    missing_element = []\n",
    "    for num in range(min_element,max_element+1):\n",
    "        if num not in nums:\n",
    "            missing_element.append(num)\n",
    "    return missing_element\n",
    "nums = nums = [3,0,1]\n",
    "find_missing_elements(nums)\n",
    "\n",
    "def find_missing_elements(nums):\n",
    "    n = len(nums)\n",
    "    expected = n * (n + 1) // 2\n",
    "    result = sum(nums)\n",
    "    return expected-result\n",
    "find_missing_elements(nums)"
   ]
  },
  {
   "cell_type": "code",
   "execution_count": 19,
   "metadata": {},
   "outputs": [
    {
     "data": {
      "text/plain": [
       "[-3, -7, -2, -8, -6, -1, 6, 5, 2, 1, 1, 3, 8]"
      ]
     },
     "execution_count": 19,
     "metadata": {},
     "output_type": "execute_result"
    }
   ],
   "source": [
    "def Segregate_positive_negative(nums):\n",
    "    left = 0\n",
    "    for i in range(len(nums)):\n",
    "        if nums[i] <= 0:\n",
    "            nums[i],nums[left] = nums[left],nums[i]\n",
    "            left += 1\n",
    "    return nums\n",
    "nums = [6, -3, 5, 2, 1, 8, -7, -2, -8, -6, 1, 3, -1]\n",
    "Segregate_positive_negative(nums)\n"
   ]
  },
  {
   "cell_type": "code",
   "execution_count": 23,
   "metadata": {},
   "outputs": [
    {
     "data": {
      "text/plain": [
       "True"
      ]
     },
     "execution_count": 23,
     "metadata": {},
     "output_type": "execute_result"
    }
   ],
   "source": [
    "def is_pairwise_sorted(nums):\n",
    "    for i in range(len(nums)):\n",
    "        if nums[i] > nums[i-1]:\n",
    "            return True\n",
    "    return False\n",
    "nums = [1, 2, 3, 4]\n",
    "is_pairwise_sorted(nums)"
   ]
  },
  {
   "cell_type": "code",
   "execution_count": 28,
   "metadata": {},
   "outputs": [
    {
     "data": {
      "text/plain": [
       "False"
      ]
     },
     "execution_count": 28,
     "metadata": {},
     "output_type": "execute_result"
    }
   ],
   "source": [
    "def is_rotated_sorted(nums):\n",
    "    for i in range(len(nums)- 1):\n",
    "        if nums[i] > nums[i+1]:\n",
    "             return True\n",
    "    return False\n",
    "is_rotated_sorted(nums)"
   ]
  },
  {
   "cell_type": "code",
   "execution_count": 34,
   "metadata": {},
   "outputs": [
    {
     "data": {
      "text/plain": [
       "[1, 2, 3, 4]"
      ]
     },
     "execution_count": 34,
     "metadata": {},
     "output_type": "execute_result"
    }
   ],
   "source": [
    "def divisible_pair(nums):\n",
    "    count = 0\n",
    "    for i in range(len(nums)):\n",
    "        for j in range(i+1,len(nums)):\n",
    "            if nums[i] % nums[j] == 0 or nums[j] % nums[i] == 0:\n",
    "                count += 1\n",
    "    return nums\n",
    "\n",
    "divisible_pair(nums)"
   ]
  },
  {
   "cell_type": "code",
   "execution_count": 44,
   "metadata": {},
   "outputs": [
    {
     "data": {
      "text/plain": [
       "3"
      ]
     },
     "execution_count": 44,
     "metadata": {},
     "output_type": "execute_result"
    }
   ],
   "source": [
    "def subarray_sum(nums,k):\n",
    "    current_sum = 0\n",
    "    for i in range(len(nums)):\n",
    "        sum_i = 0\n",
    "        for j in range(i,len(nums)):\n",
    "            sum_i += nums[j]\n",
    "            if sum_i == k:\n",
    "                current_sum += 1\n",
    "    return current_sum\n",
    "nums = [10, 2, -2, -20, 10]\n",
    "k = -10\n",
    "subarray_sum(nums,k)"
   ]
  },
  {
   "cell_type": "code",
   "execution_count": 47,
   "metadata": {},
   "outputs": [
    {
     "data": {
      "text/plain": [
       "3"
      ]
     },
     "execution_count": 47,
     "metadata": {},
     "output_type": "execute_result"
    }
   ],
   "source": [
    "def binary_search(nums,element):\n",
    "    left = 0\n",
    "    right = len(nums) - 1\n",
    "    while left <= right:\n",
    "        mid = (left + right) // 2\n",
    "        if mid > element:\n",
    "            right = mid - 1\n",
    "        elif mid < element:\n",
    "            left = mid + 1\n",
    "        else:\n",
    "            return mid\n",
    "    return -1\n",
    "nums = [-2, -1, 2, 3, 3, 3, 3, 5, 5]\n",
    "k = 3\n",
    "binary_search(nums,k)"
   ]
  },
  {
   "cell_type": "code",
   "execution_count": 49,
   "metadata": {},
   "outputs": [
    {
     "data": {
      "text/plain": [
       "{-2: 1, -1: 1, 2: 1, 3: 4, 5: 2}"
      ]
     },
     "execution_count": 49,
     "metadata": {},
     "output_type": "execute_result"
    }
   ],
   "source": [
    "def Count_number_occurrences(nums):\n",
    "    count_dict = {}\n",
    "    for num in nums:\n",
    "        if num in count_dict:\n",
    "            count_dict[num] += 1\n",
    "        else:\n",
    "            count_dict[num] = 1\n",
    "    return count_dict\n",
    "Count_number_occurrences(nums)\n"
   ]
  },
  {
   "cell_type": "code",
   "execution_count": 13,
   "metadata": {},
   "outputs": [
    {
     "data": {
      "text/plain": [
       "16"
      ]
     },
     "execution_count": 13,
     "metadata": {},
     "output_type": "execute_result"
    }
   ],
   "source": [
    "def max_product(nums):\n",
    "    first_largest = 0\n",
    "    second_largest = 0\n",
    "    for i in range(len(nums)):\n",
    "        if nums[i] > first_largest:\n",
    "            second_largest = first_largest\n",
    "            first_largest = nums[i]\n",
    "        elif nums[i] > second_largest:\n",
    "            second_largest = nums[i]\n",
    "    Result = (first_largest - 1) * (second_largest - 1)\n",
    "    return Result\n",
    "nums = [1,5,4,5]\n",
    "max_product(nums)"
   ]
  },
  {
   "cell_type": "code",
   "execution_count": 23,
   "metadata": {},
   "outputs": [
    {
     "data": {
      "text/plain": [
       "3"
      ]
     },
     "execution_count": 23,
     "metadata": {},
     "output_type": "execute_result"
    }
   ],
   "source": [
    "def rotation_count(nums):\n",
    "    left = float('inf')\n",
    "    right = len(nums) - 1\n",
    "    while left < right:\n",
    "        mid = (left + right) // 2\n",
    "        if nums[mid] > nums[right]:\n",
    "            left = mid + 1\n",
    "        else:\n",
    "            right = mid\n",
    "    return right\n",
    "rotation_count(nums)"
   ]
  },
  {
   "cell_type": "code",
   "execution_count": 25,
   "metadata": {},
   "outputs": [
    {
     "data": {
      "text/plain": [
       "[-1, 0, -2, -7, -5, -9, 2, 3, 5, 9, 4, 2, 1, 10, 8]"
      ]
     },
     "execution_count": 25,
     "metadata": {},
     "output_type": "execute_result"
    }
   ],
   "source": [
    "nums = [2, -1, 0, -2, 1, 8, -7, 3, 5, 9, 4, 2, -5, 10, -9]\n",
    "def swap_element(nums):\n",
    "    left = 0\n",
    "    for i in range(len(nums)):\n",
    "        if nums[i] <= 0:\n",
    "            nums[left],nums[i] = nums[i],nums[left]\n",
    "            left += 1\n",
    "    return nums\n",
    "swap_element(nums)\n"
   ]
  },
  {
   "cell_type": "code",
   "execution_count": 7,
   "metadata": {},
   "outputs": [
    {
     "data": {
      "text/plain": [
       "-1"
      ]
     },
     "execution_count": 7,
     "metadata": {},
     "output_type": "execute_result"
    }
   ],
   "source": [
    "def pivotIndex(nums):\n",
    "    total_sum = sum(nums)\n",
    "    left_sum = 0\n",
    "    for i,num in enumerate(nums):\n",
    "        total_sum -= num\n",
    "        if left_sum == total_sum:\n",
    "            return i \n",
    "        total_sum += num\n",
    "    return -1\n",
    "nums = [1,7,3,6,5,6]\n",
    "pivotIndex(nums)"
   ]
  },
  {
   "cell_type": "code",
   "execution_count": 17,
   "metadata": {},
   "outputs": [
    {
     "data": {
      "text/plain": [
       "8"
      ]
     },
     "execution_count": 17,
     "metadata": {},
     "output_type": "execute_result"
    }
   ],
   "source": [
    "def find_leaders(nums):\n",
    "    max_right = len(nums) - 1\n",
    "    for i in range(len(nums)):\n",
    "        if nums[i] > max_right:\n",
    "            max_right = nums[i]\n",
    "    return max_right\n",
    "nums = [3, 5, 8, 7, 3, 6, 2, 1, 4]\n",
    "find_leaders(nums)"
   ]
  },
  {
   "cell_type": "code",
   "execution_count": 25,
   "metadata": {},
   "outputs": [
    {
     "data": {
      "text/plain": [
       "4"
      ]
     },
     "execution_count": 25,
     "metadata": {},
     "output_type": "execute_result"
    }
   ],
   "source": [
    "def max_length_subarray(nums,target):\n",
    "    max_lenght = 0\n",
    "    for i in range(len(nums)):\n",
    "        current_sum = 0\n",
    "        for j in range(i,len(nums)):\n",
    "            current_sum += nums[j]\n",
    "            if current_sum == target:\n",
    "                max_lenght = max(max_lenght,j - i + 1)\n",
    "    return max_lenght\n",
    "nums = [5, 6, -5, 5, 3, 5, 3, -2, 0]\n",
    "k = 8\n",
    "max_length_subarray(nums,k)"
   ]
  },
  {
   "cell_type": "code",
   "execution_count": 27,
   "metadata": {},
   "outputs": [
    {
     "data": {
      "text/plain": [
       "8"
      ]
     },
     "execution_count": 27,
     "metadata": {},
     "output_type": "execute_result"
    }
   ],
   "source": [
    "def max_sum_subarray(nums):\n",
    "    max_lenght = 0\n",
    "    for i in range(len(nums)):\n",
    "        current_sum = 0\n",
    "        for j in range(i,len(nums)):\n",
    "            current_sum += nums[j]\n",
    "            if current_sum > max_lenght:\n",
    "                max_lenght = current_sum\n",
    "    return max_lenght\n",
    "nums = [2, 4, -2, -5, 6, -3, -2, 7, -2, 2]\n",
    "max_sum_subarray(nums)"
   ]
  },
  {
   "cell_type": "code",
   "execution_count": 35,
   "metadata": {},
   "outputs": [
    {
     "data": {
      "text/plain": [
       "1"
      ]
     },
     "execution_count": 35,
     "metadata": {},
     "output_type": "execute_result"
    }
   ],
   "source": [
    "def longest_bitonic_subarray(nums):\n",
    "    longest_incr = 1\n",
    "    max_lenght = 1\n",
    "    longest_Dncr = 1\n",
    "    for i in range(2,len(nums)):\n",
    "        if nums[i] > nums[i - 1]:\n",
    "            longest_incr += 1\n",
    "            if longest_incr > max_lenght:\n",
    "                max_lenght = longest_incr\n",
    "    for i in range(2,len(nums)):\n",
    "        if nums[i] > nums[i - 1]:\n",
    "            longest_Dncr += 1\n",
    "            if longest_Dncr < max_lenght:\n",
    "                longest_incr = max_lenght\n",
    "    return longest_Dncr\n",
    "\n",
    "nums = [1,3,1]\n",
    "longest_bitonic_subarray(nums)"
   ]
  },
  {
   "cell_type": "code",
   "execution_count": 38,
   "metadata": {},
   "outputs": [
    {
     "name": "stdout",
     "output_type": "stream",
     "text": [
      "0\n",
      "0\n"
     ]
    },
    {
     "data": {
      "text/plain": [
       "0"
      ]
     },
     "execution_count": 38,
     "metadata": {},
     "output_type": "execute_result"
    }
   ],
   "source": [
    "def zero_sum_triplet(nums):\n",
    "    status = 0\n",
    "    for i in range(len(nums)):\n",
    "        for j in range(i + 1,len(nums)):\n",
    "            for k in range(j + 1,len(nums)):\n",
    "                if (nums[i] + nums[j] + nums[k] == 0):\n",
    "                    print (nums[i] + nums[j] + nums[k])\n",
    "                status == 1\n",
    "    if status == 0:\n",
    "        return 0\n",
    "nums = [8, 2, 0, 6, -2, 6, -1, 9, 4, 3]\n",
    "zero_sum_triplet(nums)\n"
   ]
  },
  {
   "cell_type": "code",
   "execution_count": 6,
   "metadata": {},
   "outputs": [
    {
     "data": {
      "text/plain": [
       "0"
      ]
     },
     "execution_count": 6,
     "metadata": {},
     "output_type": "execute_result"
    }
   ],
   "source": [
    "def zero_sum_triplet(nums):\n",
    "    status = 0\n",
    "    for i in range(len(nums)):\n",
    "        for j in range(i + 1 ,len(nums) - 2):\n",
    "            for k in range(j + 1,len(nums)):\n",
    "                if (nums[i] + nums[j] + nums[k] == 0):\n",
    "                    print(nums[i],nums[j],nums[k])\n",
    "                    status = 1\n",
    "        if status == 0:\n",
    "            return 0\n",
    "\n",
    "nums = [8, 2, 0, 6, -2, 6, -1, 9, 4, 3]\n",
    "zero_sum_triplet(nums)"
   ]
  },
  {
   "cell_type": "code",
   "execution_count": 15,
   "metadata": {},
   "outputs": [
    {
     "data": {
      "text/plain": [
       "[6, 8, 9]"
      ]
     },
     "execution_count": 15,
     "metadata": {},
     "output_type": "execute_result"
    }
   ],
   "source": [
    "def find_triplets(nums):\n",
    "    nums.sort()\n",
    "    return nums[-3:]\n",
    "nums = [8, 2, 0, 6, -2, 6, -1, 9, 4, 3]\n",
    "find_triplets(nums)"
   ]
  },
  {
   "cell_type": "code",
   "execution_count": 18,
   "metadata": {},
   "outputs": [
    {
     "data": {
      "text/plain": [
       "[9, 8, 6]"
      ]
     },
     "execution_count": 18,
     "metadata": {},
     "output_type": "execute_result"
    }
   ],
   "source": [
    "def find_triplets(nums):\n",
    "    first = float('-inf')\n",
    "    second = float('-inf')\n",
    "    third = float('-inf')\n",
    "    for num in nums:\n",
    "        if num > first:\n",
    "            third = second\n",
    "            second = first\n",
    "            first = num\n",
    "        elif num > second:\n",
    "            third = second\n",
    "            second = num\n",
    "        elif num > third:\n",
    "            third = num\n",
    "    return [first,second,third]\n",
    "find_triplets(nums)\n"
   ]
  },
  {
   "cell_type": "code",
   "execution_count": 30,
   "metadata": {},
   "outputs": [
    {
     "data": {
      "text/plain": [
       "[3, 4, 7]"
      ]
     },
     "execution_count": 30,
     "metadata": {},
     "output_type": "execute_result"
    }
   ],
   "source": [
    "def three_smallest(nums):\n",
    "    first = float('inf')\n",
    "    second = float('inf')\n",
    "    third = float('inf')\n",
    "    for i in range(len(nums)):\n",
    "        if nums[i] < first:\n",
    "            third = second\n",
    "            second = first\n",
    "            first = nums[i]\n",
    "        elif nums[i] < second:\n",
    "            third = second\n",
    "            second = nums[i]\n",
    "        elif nums[i] < third:\n",
    "            third = nums[i]\n",
    "    return [first,second,third]\n",
    "nums = [10, 4, 7, 3, 8, 15]\n",
    "three_smallest(nums)"
   ]
  },
  {
   "cell_type": "code",
   "execution_count": 32,
   "metadata": {},
   "outputs": [
    {
     "data": {
      "text/plain": [
       "[1, 2, 3, 4, 5, 6, 7, 8]"
      ]
     },
     "execution_count": 32,
     "metadata": {},
     "output_type": "execute_result"
    }
   ],
   "source": [
    "def Reverse_array(nums):\n",
    "    left,right = 0,len(nums) - 1\n",
    "    for i in range(left,right):\n",
    "        if left < right:\n",
    "            nums[left],nums[right] = nums[right],nums[left]\n",
    "            left += 1\n",
    "            right -= 1\n",
    "    return nums\n",
    "nums = [8, 7, 6, 5, 4, 3, 2, 1]\n",
    "Reverse_array(nums)"
   ]
  },
  {
   "cell_type": "code",
   "execution_count": 35,
   "metadata": {},
   "outputs": [
    {
     "data": {
      "text/plain": [
       "4.5"
      ]
     },
     "execution_count": 35,
     "metadata": {},
     "output_type": "execute_result"
    }
   ],
   "source": [
    "def print_array(nums):\n",
    "    current_sum = 0\n",
    "    for i in range(len(nums)):\n",
    "        current_sum += nums[i]\n",
    "        avg = current_sum / len(nums)\n",
    "    return avg\n",
    "print_array(nums)"
   ]
  },
  {
   "cell_type": "code",
   "execution_count": 40,
   "metadata": {},
   "outputs": [
    {
     "data": {
      "text/plain": [
       "3"
      ]
     },
     "execution_count": 40,
     "metadata": {},
     "output_type": "execute_result"
    }
   ],
   "source": [
    "def find_fixed_point(nums):\n",
    "    for i in range(len(nums)):\n",
    "        if (nums[i] == i):\n",
    "            return i\n",
    "    return - 1\n",
    "nums = [-10, -5, 0, 3, 7, 9, 12, 13]\n",
    "find_fixed_point(nums)\n"
   ]
  },
  {
   "cell_type": "code",
   "execution_count": 76,
   "metadata": {},
   "outputs": [
    {
     "data": {
      "text/plain": [
       "15"
      ]
     },
     "execution_count": 76,
     "metadata": {},
     "output_type": "execute_result"
    }
   ],
   "source": [
    "def max_sum_subarray(nums,k):\n",
    "    current_sum = 0\n",
    "    max_sum = 0\n",
    "    unique_element = set()\n",
    "    for i in range(len(nums)):\n",
    "        current_sum += nums[i]\n",
    "        unique_element.add(nums[i])\n",
    "        if i >= k - 1:\n",
    "            if len(unique_element) == k:\n",
    "                max_sum = max(current_sum,max_sum)\n",
    "            left_element = nums[i-k+1]\n",
    "            current_sum -= left_element \n",
    "            unique_element.remove(left_element)\n",
    "    return max_sum\n",
    "nums = [1,5,4,2,9,9,9]\n",
    "k = 3\n",
    "max_sum_subarray(nums,k)"
   ]
  },
  {
   "cell_type": "code",
   "execution_count": 92,
   "metadata": {},
   "outputs": [
    {
     "data": {
      "text/plain": [
       "2"
      ]
     },
     "execution_count": 92,
     "metadata": {},
     "output_type": "execute_result"
    }
   ],
   "source": [
    "def missing_element(nums):\n",
    "    n = len(nums)+ 1\n",
    "    num_set = set(nums)\n",
    "    for i in range(n):\n",
    "        if i not in  num_set:\n",
    "            return i\n",
    "nums = [3,0,1]\n",
    "missing_element(nums)\n"
   ]
  },
  {
   "cell_type": "code",
   "execution_count": 97,
   "metadata": {},
   "outputs": [
    {
     "name": "stdout",
     "output_type": "stream",
     "text": [
      "Smallest pair [ 10 , -7 ]: 3\n"
     ]
    }
   ],
   "source": [
    "def smallest_pair(nums):\n",
    "    first = 0\n",
    "    second = 1\n",
    "    min_sum = nums[0] + nums[1]\n",
    "    for i in range(len(nums)):\n",
    "        for j in range(i + 1,len(nums)):\n",
    "            current_sum = nums[i] + nums[j]\n",
    "            if current_sum < min_sum:\n",
    "                min_sum = current_sum\n",
    "                first = i\n",
    "                second = j\n",
    "    print(\"Smallest pair [\", nums[first], \",\", nums[second], \"]:\", min_sum)\n",
    "nums = [10, 15, -7, 31, 33]\n",
    "smallest_pair(nums)"
   ]
  },
  {
   "cell_type": "code",
   "execution_count": 98,
   "metadata": {},
   "outputs": [
    {
     "data": {
      "text/plain": [
       "4"
      ]
     },
     "execution_count": 98,
     "metadata": {},
     "output_type": "execute_result"
    }
   ],
   "source": [
    "def find_peak_element(nums):\n",
    "    left,right = 0,len(nums) - 1\n",
    "    while left < right:\n",
    "        mid = (left + right) // 2\n",
    "        if nums[mid] < nums[mid + 1]:\n",
    "            left = mid + 1\n",
    "        else:\n",
    "            right = mid\n",
    "    return left\n",
    "find_peak_element(nums)"
   ]
  },
  {
   "cell_type": "code",
   "execution_count": 100,
   "metadata": {},
   "outputs": [
    {
     "data": {
      "text/plain": [
       "[1, 9, 14]"
      ]
     },
     "execution_count": 100,
     "metadata": {},
     "output_type": "execute_result"
    }
   ],
   "source": [
    "def find_common_elements(nums1,nums2,nums3):\n",
    "    ptr1 = ptr2 = ptr3 = 0\n",
    "    common_elements = []\n",
    "    while ptr1 < len(nums1) and ptr2 < len(nums2) and ptr3 < len(nums3):\n",
    "        if nums1[ptr1] == nums2[ptr2] == nums3[ptr3]:\n",
    "            common_elements.append(nums1[ptr1])\n",
    "            ptr1 += 1\n",
    "            ptr2 += 1\n",
    "            ptr3 += 1\n",
    "        elif nums1[ptr1] < nums2[ptr2]:\n",
    "            ptr1 += 1\n",
    "        elif nums2[ptr2] < nums3[ptr3]:\n",
    "            ptr2 += 1\n",
    "        else:\n",
    "            ptr3 += 1\n",
    "    return common_elements\n",
    "nums1 = [1, 9, 13, 14]\n",
    "nums2 = [-5, 0, 1, 8, 9, 13, 14, 21]\n",
    "nums3 = [0, 1, 8, 9, 12, 14, 21]\n",
    "find_common_elements(nums1,nums2,nums3)\n"
   ]
  },
  {
   "cell_type": "code",
   "execution_count": 101,
   "metadata": {},
   "outputs": [
    {
     "data": {
      "text/plain": [
       "[1, 2, 3, 4, 5, 6]"
      ]
     },
     "execution_count": 101,
     "metadata": {},
     "output_type": "execute_result"
    }
   ],
   "source": [
    "def unique_elements_sorted_array(nums):\n",
    "    unique_ele = [nums[0]]\n",
    "    for i in range(1,len(nums)):\n",
    "        if nums[i] != nums[i - 1]:\n",
    "            unique_ele.append(nums[i])\n",
    "    return unique_ele\n",
    "nums = [1, 1, 2, 3, 3, 4, 5, 5, 6]\n",
    "unique_elements_sorted_array(nums)\n"
   ]
  },
  {
   "cell_type": "code",
   "execution_count": 105,
   "metadata": {},
   "outputs": [
    {
     "name": "stdout",
     "output_type": "stream",
     "text": [
      "1\n",
      "4\n",
      "6\n",
      "7\n",
      "9\n"
     ]
    }
   ],
   "source": [
    "def unique_elements_sorted_array(nums):\n",
    "    for i in range(len(nums)):\n",
    "        if nums[i] != nums[i -1]:\n",
    "            print(nums[i])\n",
    "nums = [1, 1, 4, 6, 7, 7, 9, 9, 9]\n",
    "unique_elements_sorted_array(nums)"
   ]
  },
  {
   "cell_type": "code",
   "execution_count": 106,
   "metadata": {},
   "outputs": [
    {
     "name": "stdout",
     "output_type": "stream",
     "text": [
      "1"
     ]
    }
   ],
   "source": [
    "def unique_elements_sorted_array(nums):\n",
    "    for i in range(len(nums)):\n",
    "        if i == 0 :\n",
    "            print(nums[i],end = '')\n",
    "unique_elements_sorted_array(nums)"
   ]
  },
  {
   "cell_type": "code",
   "execution_count": 107,
   "metadata": {},
   "outputs": [
    {
     "name": "stdout",
     "output_type": "stream",
     "text": [
      "1\n",
      "1\n",
      "4\n",
      "6\n",
      "7\n",
      "7\n",
      "9\n",
      "9\n"
     ]
    }
   ],
   "source": [
    "def unique_elements_sorted_array(nums):\n",
    "    for i in range(len(nums)):\n",
    "        if (i + 1) < len(nums):\n",
    "            print(nums[i])\n",
    "unique_elements_sorted_array(nums)"
   ]
  },
  {
   "cell_type": "code",
   "execution_count": 108,
   "metadata": {},
   "outputs": [
    {
     "name": "stdout",
     "output_type": "stream",
     "text": [
      "9\n"
     ]
    }
   ],
   "source": [
    "def unique_elements_sorted_array(nums):\n",
    "    for i in range(len(nums)):\n",
    "        if i == len(nums) - 1 and i > 0:\n",
    "            print(nums[i])\n",
    "unique_elements_sorted_array(nums)"
   ]
  },
  {
   "cell_type": "code",
   "execution_count": 111,
   "metadata": {},
   "outputs": [
    {
     "name": "stdout",
     "output_type": "stream",
     "text": [
      "1\n",
      "4\n",
      "6\n",
      "7\n"
     ]
    },
    {
     "ename": "IndexError",
     "evalue": "list index out of range",
     "output_type": "error",
     "traceback": [
      "\u001b[1;31m---------------------------------------------------------------------------\u001b[0m",
      "\u001b[1;31mIndexError\u001b[0m                                Traceback (most recent call last)",
      "Cell \u001b[1;32mIn[111], line 6\u001b[0m\n\u001b[0;32m      3\u001b[0m         \u001b[38;5;28;01mif\u001b[39;00m nums[i] \u001b[38;5;241m!=\u001b[39m nums[ i \u001b[38;5;241m+\u001b[39m \u001b[38;5;241m1\u001b[39m]:\n\u001b[0;32m      4\u001b[0m             \u001b[38;5;28mprint\u001b[39m(nums[i])\n\u001b[1;32m----> 6\u001b[0m \u001b[43munique_elements_sorted_array\u001b[49m\u001b[43m(\u001b[49m\u001b[43mnums\u001b[49m\u001b[43m)\u001b[49m\n",
      "Cell \u001b[1;32mIn[111], line 3\u001b[0m, in \u001b[0;36munique_elements_sorted_array\u001b[1;34m(nums)\u001b[0m\n\u001b[0;32m      1\u001b[0m \u001b[38;5;28;01mdef\u001b[39;00m \u001b[38;5;21munique_elements_sorted_array\u001b[39m(nums):\n\u001b[0;32m      2\u001b[0m     \u001b[38;5;28;01mfor\u001b[39;00m i \u001b[38;5;129;01min\u001b[39;00m \u001b[38;5;28mrange\u001b[39m(\u001b[38;5;28mlen\u001b[39m(nums)):\n\u001b[1;32m----> 3\u001b[0m         \u001b[38;5;28;01mif\u001b[39;00m nums[i] \u001b[38;5;241m!=\u001b[39m \u001b[43mnums\u001b[49m\u001b[43m[\u001b[49m\u001b[43m \u001b[49m\u001b[43mi\u001b[49m\u001b[43m \u001b[49m\u001b[38;5;241;43m+\u001b[39;49m\u001b[43m \u001b[49m\u001b[38;5;241;43m1\u001b[39;49m\u001b[43m]\u001b[49m:\n\u001b[0;32m      4\u001b[0m             \u001b[38;5;28mprint\u001b[39m(nums[i])\n",
      "\u001b[1;31mIndexError\u001b[0m: list index out of range"
     ]
    }
   ],
   "source": [
    "def unique_elements_sorted_array(nums):\n",
    "    for i in range(len(nums)):\n",
    "        if nums[i] != nums[ i + 1]:\n",
    "            print(nums[i])\n",
    "\n",
    "unique_elements_sorted_array(nums)"
   ]
  },
  {
   "cell_type": "code",
   "execution_count": 115,
   "metadata": {},
   "outputs": [
    {
     "data": {
      "text/plain": [
       "1"
      ]
     },
     "execution_count": 115,
     "metadata": {},
     "output_type": "execute_result"
    }
   ],
   "source": [
    "def find_floor(nums,number):\n",
    "    left,right = 0,len(nums) - 1\n",
    "    result =    -1\n",
    "    while left <= right:\n",
    "        mid = (left + right) // 2\n",
    "        if nums[mid] > number:\n",
    "            right = mid - 1\n",
    "        elif nums1[mid] < number:\n",
    "            result = mid\n",
    "            left = mid + 1\n",
    "        else:\n",
    "            result = mid\n",
    "            break\n",
    "    return result\n",
    "find_floor(nums,2)"
   ]
  },
  {
   "cell_type": "code",
   "execution_count": 123,
   "metadata": {},
   "outputs": [
    {
     "data": {
      "text/plain": [
       "6"
      ]
     },
     "execution_count": 123,
     "metadata": {},
     "output_type": "execute_result"
    }
   ],
   "source": [
    "def count_inversions(nums):\n",
    "    count = 0\n",
    "    for i in range(len(nums)):\n",
    "        for j in range(i,len(nums)):\n",
    "            if nums[i] > nums[j]:\n",
    "                count += 1\n",
    "    return count\n",
    "nums = 1, -4, 7, 6, 4, 5, 8\n",
    "count_inversions(nums)\n"
   ]
  },
  {
   "cell_type": "code",
   "execution_count": 127,
   "metadata": {},
   "outputs": [
    {
     "name": "stdout",
     "output_type": "stream",
     "text": [
      ": 1 : (1, -4, 7, 6, 4, 5, 8)\n"
     ]
    },
    {
     "ename": "AttributeError",
     "evalue": "'tuple' object has no attribute 'pop'",
     "output_type": "error",
     "traceback": [
      "\u001b[1;31m---------------------------------------------------------------------------\u001b[0m",
      "\u001b[1;31mAttributeError\u001b[0m                            Traceback (most recent call last)",
      "Cell \u001b[1;32mIn[127], line 7\u001b[0m\n\u001b[0;32m      5\u001b[0m         last_element \u001b[38;5;241m=\u001b[39m nums\u001b[38;5;241m.\u001b[39mpop()\n\u001b[0;32m      6\u001b[0m         nums \u001b[38;5;241m=\u001b[39m [last_element] \u001b[38;5;241m+\u001b[39m nums\n\u001b[1;32m----> 7\u001b[0m \u001b[43mprint_rotations\u001b[49m\u001b[43m(\u001b[49m\u001b[43mnums\u001b[49m\u001b[43m)\u001b[49m\n",
      "Cell \u001b[1;32mIn[127], line 5\u001b[0m, in \u001b[0;36mprint_rotations\u001b[1;34m(nums)\u001b[0m\n\u001b[0;32m      3\u001b[0m \u001b[38;5;28;01mfor\u001b[39;00m i \u001b[38;5;129;01min\u001b[39;00m \u001b[38;5;28mrange\u001b[39m(n):\n\u001b[0;32m      4\u001b[0m     \u001b[38;5;28mprint\u001b[39m(\u001b[38;5;124m\"\u001b[39m\u001b[38;5;124m:\u001b[39m\u001b[38;5;124m\"\u001b[39m, i \u001b[38;5;241m+\u001b[39m \u001b[38;5;241m1\u001b[39m,\u001b[38;5;124m\"\u001b[39m\u001b[38;5;124m:\u001b[39m\u001b[38;5;124m\"\u001b[39m,nums)\n\u001b[1;32m----> 5\u001b[0m     last_element \u001b[38;5;241m=\u001b[39m \u001b[43mnums\u001b[49m\u001b[38;5;241;43m.\u001b[39;49m\u001b[43mpop\u001b[49m()\n\u001b[0;32m      6\u001b[0m     nums \u001b[38;5;241m=\u001b[39m [last_element] \u001b[38;5;241m+\u001b[39m nums\n",
      "\u001b[1;31mAttributeError\u001b[0m: 'tuple' object has no attribute 'pop'"
     ]
    }
   ],
   "source": [
    "def print_rotations(nums):\n",
    "    n = len(nums)\n",
    "    for i in range(n):\n",
    "        print(\":\", i + 1,\":\",nums)\n",
    "        last_element = nums.pop()\n",
    "        nums = [last_element] + nums\n",
    "print_rotations(nums)"
   ]
  },
  {
   "cell_type": "code",
   "execution_count": 130,
   "metadata": {},
   "outputs": [
    {
     "name": "stdout",
     "output_type": "stream",
     "text": [
      " 0  [1, 2, 3, 4, 5]\n",
      " 1  [2, 3, 4, 5, 1]\n",
      " 2  [3, 4, 5, 1, 2]\n",
      " 3  [4, 5, 1, 2, 3]\n",
      " 4  [5, 1, 2, 3, 4]\n"
     ]
    }
   ],
   "source": [
    "def left_rotate(nums):\n",
    "    n = len(nums)\n",
    "    for i in range(n):\n",
    "        roted = nums[i:] + nums[:i]\n",
    "        print(\"\",i,'',roted)\n",
    "nums = [1, 2, 3, 4, 5]\n",
    "left_rotate(nums)"
   ]
  },
  {
   "cell_type": "code",
   "execution_count": 133,
   "metadata": {},
   "outputs": [
    {
     "data": {
      "text/plain": [
       "42"
      ]
     },
     "execution_count": 133,
     "metadata": {},
     "output_type": "execute_result"
    }
   ],
   "source": [
    "def max_triplet(nums):\n",
    "    first = second = third = float('-inf')\n",
    "    for i in range(len(nums)):\n",
    "        if nums[i] > first:\n",
    "            third = second\n",
    "            second = first\n",
    "            first = nums[i]\n",
    "        elif nums[i] > second:\n",
    "            third = second\n",
    "            second = first\n",
    "            first = nums[i]\n",
    "        elif nums[i] > third:\n",
    "            third = nums[i]\n",
    "    return first+second+third\n",
    "nums = [6, 11, 1, 3, 6, 19, 8, 4, 2, 5, 7, 12]\n",
    "max_triplet(nums)"
   ]
  },
  {
   "cell_type": "code",
   "execution_count": 134,
   "metadata": {},
   "outputs": [
    {
     "data": {
      "text/plain": [
       "4"
      ]
     },
     "execution_count": 134,
     "metadata": {},
     "output_type": "execute_result"
    }
   ],
   "source": [
    "def find_duplicate(nums):\n",
    "    remove = set()\n",
    "    for i in nums:\n",
    "        if i in remove:\n",
    "            return i\n",
    "        else:\n",
    "            remove.add(i)\n",
    "    return None\n",
    "nums = [1, 2, 3, 4, 4, 5]\n",
    "find_duplicate(nums)\n"
   ]
  },
  {
   "cell_type": "code",
   "execution_count": 141,
   "metadata": {},
   "outputs": [
    {
     "data": {
      "text/plain": [
       "[2, 3]"
      ]
     },
     "execution_count": 141,
     "metadata": {},
     "output_type": "execute_result"
    }
   ],
   "source": [
    "def find_duplicate(nums):\n",
    "    seen = set()\n",
    "    duplicate = set()\n",
    "    for num in nums:\n",
    "        if num in seen:\n",
    "            duplicate.add(num)\n",
    "        else:\n",
    "            seen.add(num)\n",
    "    return list(duplicate)\n",
    "nums = [4,3,2,7,8,2,3,1]\n",
    "find_duplicate(nums)"
   ]
  },
  {
   "cell_type": "code",
   "execution_count": 2,
   "metadata": {},
   "outputs": [
    {
     "data": {
      "text/plain": [
       "35"
      ]
     },
     "execution_count": 2,
     "metadata": {},
     "output_type": "execute_result"
    }
   ],
   "source": [
    "def countElement(nums):\n",
    "    count = 0\n",
    "    for i in range(len(nums)):\n",
    "        for j in range(i+1,len(nums)):\n",
    "            if nums[i] > nums[j]:\n",
    "                count += 1\n",
    "    return count\n",
    "nums = [7, 2, 6, 9, 13, 5, 11, 12, 6, 3, 1, 8]\n",
    "countElement(nums)"
   ]
  },
  {
   "cell_type": "code",
   "execution_count": null,
   "metadata": {},
   "outputs": [],
   "source": []
  }
 ],
 "metadata": {
  "kernelspec": {
   "display_name": "Python 3",
   "language": "python",
   "name": "python3"
  },
  "language_info": {
   "codemirror_mode": {
    "name": "ipython",
    "version": 3
   },
   "file_extension": ".py",
   "mimetype": "text/x-python",
   "name": "python",
   "nbconvert_exporter": "python",
   "pygments_lexer": "ipython3",
   "version": "3.11.7"
  }
 },
 "nbformat": 4,
 "nbformat_minor": 2
}
