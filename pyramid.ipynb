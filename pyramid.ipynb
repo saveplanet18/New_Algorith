{
 "cells": [
  {
   "cell_type": "code",
   "execution_count": 1,
   "metadata": {},
   "outputs": [
    {
     "name": "stdout",
     "output_type": "stream",
     "text": [
      "1\n",
      "12\n",
      "123\n",
      "1234\n",
      "12345\n",
      "123456\n"
     ]
    }
   ],
   "source": [
    "n = 6\n",
    "# for i in range(1,n+1):\n",
    "#     for j in range(1,i+1):\n",
    "#         print(j,end = '')\n",
    "#     print()\n",
    "i = 1\n",
    "while i <= n:\n",
    "    j = 1\n",
    "    while j < i+1:\n",
    "        print(j,end = '')\n",
    "        j += 1\n",
    "    print()\n",
    "    i += 1"
   ]
  },
  {
   "cell_type": "code",
   "execution_count": 2,
   "metadata": {},
   "outputs": [
    {
     "name": "stdout",
     "output_type": "stream",
     "text": [
      "123456\n",
      "12345\n",
      "1234\n",
      "123\n",
      "12\n",
      "1\n"
     ]
    }
   ],
   "source": [
    "n = 6\n",
    "for i in range(n ,0, -1):\n",
    "    for j in range(1,i+1):\n",
    "        print(j,end = \"\")\n",
    "    print()\n"
   ]
  },
  {
   "cell_type": "code",
   "execution_count": 28,
   "metadata": {},
   "outputs": [
    {
     "name": "stdout",
     "output_type": "stream",
     "text": [
      "* \n",
      "* * \n",
      "*   * \n",
      "*     * \n",
      "* * * * * \n"
     ]
    }
   ],
   "source": [
    "rows = 5  # Adjust the number of rows as needed\n",
    "\n",
    "# for i in range(1,rows + 1):\n",
    "#     for j in range(1,i + 1):\n",
    "#         if j == 1 or j == i or i == rows:\n",
    "#             print(j,end = '')\n",
    "#         else:\n",
    "#             print(\"\",end = '')\n",
    "#     print()\n",
    "\n",
    "# i = 1\n",
    "# while i <= rows:\n",
    "#     j = 1 \n",
    "#     while j <= i + 1:\n",
    "#         if j == 1 or j == i or i == rows:\n",
    "#             print(j,end = '')\n",
    "#         else:\n",
    "#             print(\"\",end = '')\n",
    "#         j += 1\n",
    "#     print()\n",
    "#     i += 1\n",
    "rows = 5  # Adjust the number of rows as needed\n",
    "i = 1\n",
    "\n",
    "while i <= rows:\n",
    "    j = 1\n",
    "    while j <= i:\n",
    "        if j == 1 or j == i or i == rows:\n",
    "            print(\"*\", end=\" \")\n",
    "        else:\n",
    "            print(\" \", end=\" \")\n",
    "        j += 1\n",
    "    print()\n",
    "    i += 1\n"
   ]
  },
  {
   "cell_type": "code",
   "execution_count": 35,
   "metadata": {},
   "outputs": [
    {
     "name": "stdout",
     "output_type": "stream",
     "text": [
      "1\n",
      "12\n",
      "13\n",
      "14\n",
      "15\n"
     ]
    }
   ],
   "source": [
    "rows = 5\n",
    "for i in range(1 , rows + 1):\n",
    "    for j in range(1,i + 1):\n",
    "        if j == 1 or j == i:\n",
    "            print(j,end = '')\n",
    "    print()"
   ]
  },
  {
   "cell_type": "code",
   "execution_count": 52,
   "metadata": {},
   "outputs": [
    {
     "name": "stdout",
     "output_type": "stream",
     "text": [
      "69184536\n",
      "691845\n",
      "6918\n",
      "69\n",
      "6\n",
      "\n",
      "\n",
      "\n"
     ]
    }
   ],
   "source": [
    "root = [3,6,9,18,45,36,81,54]\n",
    "for i in range(1,len(root) + 1):\n",
    "    for j in range(1,len(root)-i-1):\n",
    "        print(root[j],end = '')\n",
    "    print()\n",
    "    "
   ]
  },
  {
   "cell_type": "code",
   "execution_count": 54,
   "metadata": {},
   "outputs": [
    {
     "data": {
      "text/plain": [
       "['False',\n",
       " 'None',\n",
       " 'True',\n",
       " 'and',\n",
       " 'as',\n",
       " 'assert',\n",
       " 'async',\n",
       " 'await',\n",
       " 'break',\n",
       " 'class',\n",
       " 'continue',\n",
       " 'def',\n",
       " 'del',\n",
       " 'elif',\n",
       " 'else',\n",
       " 'except',\n",
       " 'finally',\n",
       " 'for',\n",
       " 'from',\n",
       " 'global',\n",
       " 'if',\n",
       " 'import',\n",
       " 'in',\n",
       " 'is',\n",
       " 'lambda',\n",
       " 'nonlocal',\n",
       " 'not',\n",
       " 'or',\n",
       " 'pass',\n",
       " 'raise',\n",
       " 'return',\n",
       " 'try',\n",
       " 'while',\n",
       " 'with',\n",
       " 'yield']"
      ]
     },
     "execution_count": 54,
     "metadata": {},
     "output_type": "execute_result"
    }
   ],
   "source": [
    "import keyword\n",
    "keyword.kwlist"
   ]
  },
  {
   "cell_type": "code",
   "execution_count": 12,
   "metadata": {},
   "outputs": [
    {
     "name": "stdout",
     "output_type": "stream",
     "text": [
      "3,6,9,18,36,45,24,9,2,7,8,55,"
     ]
    }
   ],
   "source": [
    "root = [3,6,9,18,36,45,24,9,2,7,8,55]\n",
    "left , right = 0,len(root) - 1\n",
    "# while right >= 0:\n",
    "#     print(root[right],end = ',')\n",
    "#     right -= 1\n",
    "# while left <= right:\n",
    "#     print(root[right])\n",
    "#     right -= 1\n",
    "while left <= right:\n",
    "    print(root[left],end = ',')\n",
    "    left += 1\n",
    "\n"
   ]
  },
  {
   "cell_type": "code",
   "execution_count": 14,
   "metadata": {},
   "outputs": [
    {
     "data": {
      "text/plain": [
       "'red'"
      ]
     },
     "execution_count": 14,
     "metadata": {},
     "output_type": "execute_result"
    }
   ],
   "source": [
    "color=['red','blue','green','yellow','pink']\n",
    "color[0]"
   ]
  },
  {
   "cell_type": "code",
   "execution_count": 25,
   "metadata": {},
   "outputs": [
    {
     "name": "stdout",
     "output_type": "stream",
     "text": [
      "1,\n",
      "1,2,3,\n",
      "1,2,3,4,5,\n",
      "1,2,3,4,5,6,7,\n",
      "1,2,3,4,5,6,7,8,9,\n",
      "1,2,3,4,5,6,7,8,9,10,11,\n"
     ]
    }
   ],
   "source": [
    "rows = 6\n",
    "for i in range(1,rows + 1):\n",
    "    for j in range(1,rows-i):\n",
    "        print(\"\",end = '')\n",
    "    for k in range(1,2 * i):\n",
    "        print(k,end =',')\n",
    "    print()"
   ]
  },
  {
   "cell_type": "code",
   "execution_count": 42,
   "metadata": {},
   "outputs": [
    {
     "name": "stdout",
     "output_type": "stream",
     "text": [
      "0,1,2,3,4,5,6,7,8,9,10,\n",
      "0,1,2,3,4,5,6,7,8,\n",
      "0,1,2,3,4,5,6,\n",
      "0,1,2,3,4,\n",
      "0,1,2,\n",
      "0,\n"
     ]
    }
   ],
   "source": [
    "rows = 6\n",
    "for i in range(rows,0,-1):\n",
    "    for j in range(1,rows - i):\n",
    "        print(\"\",end = '')\n",
    "    for k in range(2 * i-1):\n",
    "        print(k,end =',')\n",
    "    print()"
   ]
  },
  {
   "cell_type": "code",
   "execution_count": 44,
   "metadata": {},
   "outputs": [
    {
     "name": "stdout",
     "output_type": "stream",
     "text": [
      "1\n",
      "12\n",
      "123\n",
      "1234\n",
      "12345\n",
      "123456\n"
     ]
    }
   ],
   "source": [
    "rows = 6\n",
    "for i in range(1,rows + 1):\n",
    "    for j in range(1,i+1):\n",
    "        print(j,end = '')\n",
    "    print()"
   ]
  },
  {
   "cell_type": "code",
   "execution_count": 54,
   "metadata": {},
   "outputs": [
    {
     "name": "stdout",
     "output_type": "stream",
     "text": [
      "012345678910\n",
      "012345678\n",
      "0123456\n",
      "01234\n",
      "012\n",
      "0\n"
     ]
    }
   ],
   "source": [
    "rows = 6\n",
    "for i in range(rows,0,-1):\n",
    "    for j in range(rows - i):\n",
    "        print(\"\",end ='')\n",
    "    for k in range(2*i-1):\n",
    "        print(k,end = '')\n",
    "    print()"
   ]
  },
  {
   "cell_type": "code",
   "execution_count": 55,
   "metadata": {},
   "outputs": [
    {
     "name": "stdout",
     "output_type": "stream",
     "text": [
      "*********\n",
      " *******\n",
      "  *****\n",
      "   ***\n",
      "    *\n"
     ]
    }
   ],
   "source": [
    "def inverted_pyramid(height):\n",
    "    for i in range(height, 0, -1):\n",
    "        # Print leading spaces to center the pyramid\n",
    "        for j in range(height - i):\n",
    "            print(\" \", end=\"\")\n",
    "        # Print asterisks for the current row\n",
    "        for k in range(2 * i - 1):\n",
    "            print(\"*\", end=\"\")\n",
    "        # Move to the next line for the next row\n",
    "        print()\n",
    "\n",
    "# Set the desired height of the inverted pyramid\n",
    "height = 5\n",
    "inverted_pyramid(height)\n"
   ]
  },
  {
   "cell_type": "code",
   "execution_count": 63,
   "metadata": {},
   "outputs": [
    {
     "name": "stdout",
     "output_type": "stream",
     "text": [
      "0\n",
      "2\n",
      "24\n",
      "26\n",
      "28\n",
      "012345678910\n"
     ]
    }
   ],
   "source": [
    "rows = 6\n",
    "for i in range(1,rows + 1):\n",
    "    for j in range(rows - i):\n",
    "        print(\"\",end = '')\n",
    "    for k in range(2*i-1):\n",
    "        if k == 2 or k == 2 * i -2 or i == rows:\n",
    "            print(k,end ='')\n",
    "        else:\n",
    "            print(\"\",end ='')\n",
    "    print()\n"
   ]
  },
  {
   "cell_type": "code",
   "execution_count": null,
   "metadata": {},
   "outputs": [],
   "source": [
    "number = 36\n",
    "number_2 = 45\n"
   ]
  }
 ],
 "metadata": {
  "kernelspec": {
   "display_name": "Python 3",
   "language": "python",
   "name": "python3"
  },
  "language_info": {
   "codemirror_mode": {
    "name": "ipython",
    "version": 3
   },
   "file_extension": ".py",
   "mimetype": "text/x-python",
   "name": "python",
   "nbconvert_exporter": "python",
   "pygments_lexer": "ipython3",
   "version": "3.11.6"
  }
 },
 "nbformat": 4,
 "nbformat_minor": 2
}
