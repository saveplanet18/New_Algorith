{
 "cells": [
  {
   "cell_type": "code",
   "execution_count": 2,
   "metadata": {},
   "outputs": [],
   "source": [
    "root = [\n",
    "    [1,2,3],\n",
    "    [4,5,6],\n",
    "    [7,8,9],\n",
    "]"
   ]
  },
  {
   "cell_type": "code",
   "execution_count": 3,
   "metadata": {},
   "outputs": [
    {
     "data": {
      "text/plain": [
       "[[1, 2, 3], [4, 5, 6], [7, 8, 9]]"
      ]
     },
     "execution_count": 3,
     "metadata": {},
     "output_type": "execute_result"
    }
   ],
   "source": [
    "root"
   ]
  },
  {
   "cell_type": "code",
   "execution_count": 4,
   "metadata": {},
   "outputs": [],
   "source": [
    "def row_Traversal_element(root):\n",
    "    result = []\n",
    "    for row in root:\n",
    "        for col in row:\n",
    "            result.append(col)\n",
    "    return result"
   ]
  },
  {
   "cell_type": "code",
   "execution_count": 5,
   "metadata": {},
   "outputs": [
    {
     "data": {
      "text/plain": [
       "[1, 2, 3, 4, 5, 6, 7, 8, 9]"
      ]
     },
     "execution_count": 5,
     "metadata": {},
     "output_type": "execute_result"
    }
   ],
   "source": [
    "row_Traversal_element(root)"
   ]
  },
  {
   "cell_type": "code",
   "execution_count": 6,
   "metadata": {},
   "outputs": [],
   "source": [
    "def row_Traversal_element_another(root):\n",
    "    rows = len(root)\n",
    "    cols = len(root[0])\n",
    "    left = 0\n",
    "    top = 0\n",
    "    Right = cols - 1\n",
    "    bottom = rows - 1\n",
    "    result = []\n",
    "    while left <= Right and top <= bottom:\n",
    "        for col in range(left ,Right + 1):\n",
    "            result.append(root[top][col])\n",
    "        top += 1\n",
    "    return result\n"
   ]
  },
  {
   "cell_type": "code",
   "execution_count": 7,
   "metadata": {},
   "outputs": [
    {
     "data": {
      "text/plain": [
       "[1, 2, 3, 4, 5, 6, 7, 8, 9]"
      ]
     },
     "execution_count": 7,
     "metadata": {},
     "output_type": "execute_result"
    }
   ],
   "source": [
    "row_Traversal_element_another(root)"
   ]
  },
  {
   "cell_type": "code",
   "execution_count": 8,
   "metadata": {},
   "outputs": [],
   "source": [
    "def row_Traversal_element_reverse(root):\n",
    "    rows = len(root)\n",
    "    cols = len(root[0])\n",
    "    left = 0\n",
    "    top = 0\n",
    "    right = cols - 1\n",
    "    bottom = rows - 1\n",
    "    result = []\n",
    "    while left <= right and top <= bottom:\n",
    "        if left < right:\n",
    "            for col in range(right,left - 1,-1):\n",
    "                result.append(root[col][bottom])\n",
    "            bottom -= 1\n",
    "    return result"
   ]
  },
  {
   "cell_type": "code",
   "execution_count": 9,
   "metadata": {},
   "outputs": [
    {
     "data": {
      "text/plain": [
       "[9, 6, 3, 8, 5, 2, 7, 4, 1]"
      ]
     },
     "execution_count": 9,
     "metadata": {},
     "output_type": "execute_result"
    }
   ],
   "source": [
    "row_Traversal_element_reverse(root)"
   ]
  },
  {
   "cell_type": "code",
   "execution_count": 10,
   "metadata": {},
   "outputs": [],
   "source": [
    "def col_Traversal_element(root):\n",
    "    left = 0\n",
    "    top = 0\n",
    "    right = len(root[0]) - 1\n",
    "    bottom = len(root) - 1\n",
    "    result = []\n",
    "    while left <= right and top <= bottom:\n",
    "        for row in range(top,bottom+1):\n",
    "            result.append(root[row][left])\n",
    "        left += 1\n",
    "    return result"
   ]
  },
  {
   "cell_type": "code",
   "execution_count": 11,
   "metadata": {},
   "outputs": [
    {
     "data": {
      "text/plain": [
       "[1, 4, 7, 2, 5, 8, 3, 6, 9]"
      ]
     },
     "execution_count": 11,
     "metadata": {},
     "output_type": "execute_result"
    }
   ],
   "source": [
    "col_Traversal_element(root)"
   ]
  },
  {
   "cell_type": "code",
   "execution_count": 12,
   "metadata": {},
   "outputs": [
    {
     "data": {
      "text/plain": [
       "[[1, 2, 3], [4, 5, 6], [7, 8, 9]]"
      ]
     },
     "execution_count": 12,
     "metadata": {},
     "output_type": "execute_result"
    }
   ],
   "source": [
    "root"
   ]
  },
  {
   "cell_type": "code",
   "execution_count": 13,
   "metadata": {},
   "outputs": [],
   "source": [
    "def col_Traversal_element_another(root):\n",
    "    rows = len(root)\n",
    "    cols = len(root[0])\n",
    "    result = []\n",
    "    for col in range(cols):\n",
    "        for row in range(rows):\n",
    "            result.append(root[row][col])\n",
    "    return result"
   ]
  },
  {
   "cell_type": "code",
   "execution_count": 14,
   "metadata": {},
   "outputs": [
    {
     "data": {
      "text/plain": [
       "[1, 4, 7, 2, 5, 8, 3, 6, 9]"
      ]
     },
     "execution_count": 14,
     "metadata": {},
     "output_type": "execute_result"
    }
   ],
   "source": [
    "col_Traversal_element_another(root)"
   ]
  },
  {
   "cell_type": "code",
   "execution_count": 15,
   "metadata": {},
   "outputs": [],
   "source": [
    "def col_Traversal_element_reverse(root):\n",
    "    left = 0\n",
    "    top = 0\n",
    "    right = len(root[0]) - 1\n",
    "    botoom = len(root[0]) - 1\n",
    "    result = []\n",
    "    while left <= right and top <= botoom:\n",
    "        if top < botoom:\n",
    "            for row in range(botoom,top - 1,-1):\n",
    "                result.append(root[row][right])\n",
    "            right -= 1\n",
    "    return result\n",
    "                "
   ]
  },
  {
   "cell_type": "code",
   "execution_count": 16,
   "metadata": {},
   "outputs": [
    {
     "data": {
      "text/plain": [
       "[9, 6, 3, 8, 5, 2, 7, 4, 1]"
      ]
     },
     "execution_count": 16,
     "metadata": {},
     "output_type": "execute_result"
    }
   ],
   "source": [
    "col_Traversal_element_reverse(root)"
   ]
  },
  {
   "cell_type": "code",
   "execution_count": 17,
   "metadata": {},
   "outputs": [],
   "source": [
    "def Brute_Force_Search(root ,target):\n",
    "    for row in root:\n",
    "        if target in row:\n",
    "            return True\n",
    "    return False"
   ]
  },
  {
   "cell_type": "code",
   "execution_count": 20,
   "metadata": {},
   "outputs": [
    {
     "data": {
      "text/plain": [
       "False"
      ]
     },
     "execution_count": 20,
     "metadata": {},
     "output_type": "execute_result"
    }
   ],
   "source": [
    "Brute_Force_Search(root,99)"
   ]
  },
  {
   "cell_type": "code",
   "execution_count": 37,
   "metadata": {},
   "outputs": [],
   "source": [
    "def Binary_Search_Matrix(root,target):\n",
    "    rows = len(root)\n",
    "    cols = len(root[0])\n",
    "    Left ,right = 0,rows * cols - 1\n",
    "    while Left <= right:\n",
    "        mid = (Left + right)//2\n",
    "        mid_element = root[mid // cols][mid % cols]\n",
    "        # return mid_element\n",
    "        if mid_element == target:\n",
    "            return True\n",
    "        elif mid_element < target:\n",
    "            Left = mid + 1\n",
    "        else:\n",
    "            right = mid - 1"
   ]
  },
  {
   "cell_type": "code",
   "execution_count": 38,
   "metadata": {},
   "outputs": [
    {
     "data": {
      "text/plain": [
       "True"
      ]
     },
     "execution_count": 38,
     "metadata": {},
     "output_type": "execute_result"
    }
   ],
   "source": [
    "Binary_Search_Matrix(root,8)"
   ]
  },
  {
   "cell_type": "code",
   "execution_count": 53,
   "metadata": {},
   "outputs": [],
   "source": [
    "def Optimal_Search(root,target):\n",
    "    if not root:\n",
    "        return False\n",
    "    \n",
    "    row = 0\n",
    "    cols = len(root[0])-1\n",
    "    while row < len(root) and cols >= 0:\n",
    "        if root[row][cols] == target:\n",
    "            return True\n",
    "        elif root[row][cols] < target:\n",
    "            row += 1\n",
    "        else:\n",
    "            cols -= 1\n",
    "    return False"
   ]
  },
  {
   "cell_type": "code",
   "execution_count": 54,
   "metadata": {},
   "outputs": [
    {
     "data": {
      "text/plain": [
       "True"
      ]
     },
     "execution_count": 54,
     "metadata": {},
     "output_type": "execute_result"
    }
   ],
   "source": [
    "Optimal_Search(root,8)"
   ]
  },
  {
   "cell_type": "code",
   "execution_count": 55,
   "metadata": {},
   "outputs": [],
   "source": [
    "def Linear_Search_Matrix(root,Target):\n",
    "    for row in range(len(root)):\n",
    "        for col in range(len(root[0])):\n",
    "            if root[row][col] == Target:\n",
    "                return True\n",
    "    return False"
   ]
  },
  {
   "cell_type": "code",
   "execution_count": 56,
   "metadata": {},
   "outputs": [
    {
     "data": {
      "text/plain": [
       "True"
      ]
     },
     "execution_count": 56,
     "metadata": {},
     "output_type": "execute_result"
    }
   ],
   "source": [
    "Linear_Search_Matrix(root,5)"
   ]
  },
  {
   "cell_type": "code",
   "execution_count": 12,
   "metadata": {},
   "outputs": [],
   "source": [
    "def Create_Matrix_element():\n",
    "    rows = int(input(\"Enter the row\"))\n",
    "    cols = int(input(\"Enter the column\"))\n",
    "    result = []\n",
    "    for row in range(rows):\n",
    "        new_row = []\n",
    "        for col in range(cols):\n",
    "            col = int(input(\"enter the pocket\"+str(row)+\"col\"+str(col)+\"\"))\n",
    "            new_row.append(col)\n",
    "        result.append(new_row)\n",
    "    return result"
   ]
  },
  {
   "cell_type": "code",
   "execution_count": 13,
   "metadata": {},
   "outputs": [],
   "source": [
    "root = Create_Matrix_element()"
   ]
  },
  {
   "cell_type": "code",
   "execution_count": 14,
   "metadata": {},
   "outputs": [
    {
     "data": {
      "text/plain": [
       "[[1, 2, 3], [4, 5, 6], [7, 8, 9], [10, 11, 12]]"
      ]
     },
     "execution_count": 14,
     "metadata": {},
     "output_type": "execute_result"
    }
   ],
   "source": [
    "root"
   ]
  },
  {
   "cell_type": "code",
   "execution_count": 80,
   "metadata": {},
   "outputs": [],
   "source": [
    "def Rotate_180_Degree(root):\n",
    "    Left = 0\n",
    "    Top = 0\n",
    "    Right = len(root[0]) - 1\n",
    "    Bottom = len(root[0]) - 1\n",
    "    result = []\n",
    "    while Left <= Right and Top <= Bottom:\n",
    "        for col in range(Left,Right+1):\n",
    "            result.append(root[Top][col])\n",
    "        Top += 1\n",
    "        for row in range(Top ,Bottom+1):\n",
    "            result.append(root[row][Right])\n",
    "        Right -= 1\n",
    "        if Left < Right:\n",
    "            for col in range(Right,Left-1,-1):\n",
    "                result.append(root[Bottom][col])\n",
    "            Bottom -= 1\n",
    "\n",
    "        if Top < Bottom:\n",
    "            for row in range(Top,Bottom+1):\n",
    "                result.append(root[row][Left])\n",
    "            Left += 1\n",
    "    return result"
   ]
  },
  {
   "cell_type": "code",
   "execution_count": 81,
   "metadata": {},
   "outputs": [
    {
     "data": {
      "text/plain": [
       "[1, 2, 3, 6, 9, 8, 7, 4, 5]"
      ]
     },
     "execution_count": 81,
     "metadata": {},
     "output_type": "execute_result"
    }
   ],
   "source": [
    "Rotate_180_Degree(root)"
   ]
  },
  {
   "cell_type": "code",
   "execution_count": null,
   "metadata": {},
   "outputs": [],
   "source": []
  }
 ],
 "metadata": {
  "kernelspec": {
   "display_name": "base",
   "language": "python",
   "name": "python3"
  },
  "language_info": {
   "codemirror_mode": {
    "name": "ipython",
    "version": 3
   },
   "file_extension": ".py",
   "mimetype": "text/x-python",
   "name": "python",
   "nbconvert_exporter": "python",
   "pygments_lexer": "ipython3",
   "version": "3.10.9"
  },
  "orig_nbformat": 4
 },
 "nbformat": 4,
 "nbformat_minor": 2
}
