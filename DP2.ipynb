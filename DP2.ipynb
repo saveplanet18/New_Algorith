{
 "cells": [
  {
   "cell_type": "code",
   "execution_count": 2,
   "metadata": {},
   "outputs": [
    {
     "data": {
      "text/plain": [
       "[16, 12, 10, 6, 4]"
      ]
     },
     "execution_count": 2,
     "metadata": {},
     "output_type": "execute_result"
    }
   ],
   "source": [
    "def Maximum_Sum_Subarray(nums):\n",
    "    Result = []\n",
    "    for i in range(len(nums)):\n",
    "        current_sum = 0\n",
    "        for j in range(i,len(nums)):\n",
    "            current_sum += nums[j]\n",
    "        Result.append(current_sum)\n",
    "    return Result\n",
    "nums = [4,2,4,2,4]\n",
    "Maximum_Sum_Subarray(nums)"
   ]
  },
  {
   "cell_type": "code",
   "execution_count": 8,
   "metadata": {},
   "outputs": [
    {
     "data": {
      "text/plain": [
       "[4, 6, 10, 12, 16]"
      ]
     },
     "execution_count": 8,
     "metadata": {},
     "output_type": "execute_result"
    }
   ],
   "source": [
    "def Maximum_Sum_Subarray_2(nums):\n",
    "    Result = []\n",
    "    for i in range(len(nums)):\n",
    "        current_sum = 0\n",
    "        for j in range(i+1):\n",
    "            current_sum += nums[j]\n",
    "        Result.append(current_sum)\n",
    "    return Result\n",
    "Maximum_Sum_Subarray_2(nums)"
   ]
  },
  {
   "cell_type": "code",
   "execution_count": 7,
   "metadata": {},
   "outputs": [
    {
     "data": {
      "text/plain": [
       "[4, 10, 20, 32, 48]"
      ]
     },
     "execution_count": 7,
     "metadata": {},
     "output_type": "execute_result"
    }
   ],
   "source": [
    "def Maximum_Sum_Subarray_3(nums):\n",
    "    Result = []\n",
    "    current_sum = 0\n",
    "    for i in range(len(nums)):\n",
    "        for j in range(i+1):\n",
    "            current_sum += nums[j]\n",
    "        Result.append(current_sum)\n",
    "    return Result\n",
    "Maximum_Sum_Subarray_3(nums)"
   ]
  },
  {
   "cell_type": "code",
   "execution_count": 14,
   "metadata": {},
   "outputs": [
    {
     "data": {
      "text/plain": [
       "(16, [4, 6, 10, 12, 16])"
      ]
     },
     "execution_count": 14,
     "metadata": {},
     "output_type": "execute_result"
    }
   ],
   "source": [
    "def Maximum_Sum_Subarray_4(nums):\n",
    "    Max_sum = 0\n",
    "    Result = []\n",
    "    for i in range(len(nums)):\n",
    "        current_sum = 0\n",
    "        for j in range(i+1):\n",
    "            current_sum += nums[j]\n",
    "            if current_sum > Max_sum:\n",
    "                Max_sum = current_sum\n",
    "        Result.append(current_sum)\n",
    "    return Max_sum,Result\n",
    "Maximum_Sum_Subarray_4(nums)\n",
    "        "
   ]
  },
  {
   "cell_type": "code",
   "execution_count": 15,
   "metadata": {},
   "outputs": [
    {
     "data": {
      "text/plain": [
       "16"
      ]
     },
     "execution_count": 15,
     "metadata": {},
     "output_type": "execute_result"
    }
   ],
   "source": [
    "def Kadane_Algorithm(nums):\n",
    "    current_sum = nums[0]\n",
    "    Max_sum = nums[0]\n",
    "    for i in range(1,len(nums)):\n",
    "        current_sum = max(nums[i],current_sum+nums[i])\n",
    "        Max_sum = max(current_sum,Max_sum)\n",
    "    return Max_sum\n",
    "Kadane_Algorithm(nums)"
   ]
  },
  {
   "cell_type": "code",
   "execution_count": 20,
   "metadata": {},
   "outputs": [
    {
     "data": {
      "text/plain": [
       "(2, [2, 4, 2, 4])"
      ]
     },
     "execution_count": 20,
     "metadata": {},
     "output_type": "execute_result"
    }
   ],
   "source": [
    "def Kadane_Algorithm_Minimum(nums):\n",
    "    current_sum = nums[0]\n",
    "    Max_sum = nums[0]\n",
    "    Result = []\n",
    "    for i in range(1,len(nums)):\n",
    "        current_sum = min(nums[i],current_sum+nums[i])\n",
    "        Result.append(current_sum)\n",
    "        Max_sum = min(current_sum,Max_sum)\n",
    "    return Max_sum,Result\n",
    "Kadane_Algorithm_Minimum(nums)"
   ]
  },
  {
   "cell_type": "code",
   "execution_count": 24,
   "metadata": {},
   "outputs": [
    {
     "data": {
      "text/plain": [
       "([4, 6, 10, 12, 16], 4)"
      ]
     },
     "execution_count": 24,
     "metadata": {},
     "output_type": "execute_result"
    }
   ],
   "source": [
    "def Minimum_Sum_Subarray(nums):\n",
    "    Result = []\n",
    "    minimum = 0\n",
    "    for i in range(len(nums)):\n",
    "        current_sum = 0\n",
    "        for j in range(i+1):\n",
    "            current_sum += nums[j]\n",
    "            if current_sum < minimum:\n",
    "                minimum = current_sum\n",
    "        Result.append(current_sum)\n",
    "    return Result,nums[minimum]\n",
    "Minimum_Sum_Subarray(nums)"
   ]
  },
  {
   "cell_type": "code",
   "execution_count": 45,
   "metadata": {},
   "outputs": [
    {
     "data": {
      "text/plain": [
       "5"
      ]
     },
     "execution_count": 45,
     "metadata": {},
     "output_type": "execute_result"
    }
   ],
   "source": [
    "def Longest_Increasing_Subarray(nums):\n",
    "    longest_Incr = 1\n",
    "    count_Longes = 1\n",
    "    for i in range(len(nums)):\n",
    "        if nums[i] > nums[i-1]:\n",
    "            longest_Incr += 1\n",
    "        else:\n",
    "            longest_Incr = 1\n",
    "        count_Longes = max(longest_Incr,count_Longes)\n",
    "    return count_Longes\n",
    "nums = [5, 6, 3, 5, 7, 8, 9, 1, 2]\n",
    "Longest_Increasing_Subarray(nums)"
   ]
  },
  {
   "cell_type": "code",
   "execution_count": 50,
   "metadata": {},
   "outputs": [
    {
     "data": {
      "text/plain": [
       "2"
      ]
     },
     "execution_count": 50,
     "metadata": {},
     "output_type": "execute_result"
    }
   ],
   "source": [
    "def Longest_Decreasing_Subarray(nums):\n",
    "    current_lenght = 1\n",
    "    Max_lenth = 1\n",
    "    for i in range(1,len(nums)):\n",
    "        if nums[i] > nums[i-1]:\n",
    "            Max_lenth += 1\n",
    "        else:\n",
    "            Max_lenth = 1\n",
    "        Max_lenth = max(current_lenght,Max_lenth)\n",
    "    return Max_lenth\n",
    "nums = [5, 6, 3, 0, 7, 8, 9, 1, 2]\n",
    "Longest_Decreasing_Subarray(nums)"
   ]
  },
  {
   "cell_type": "code",
   "execution_count": 55,
   "metadata": {},
   "outputs": [
    {
     "data": {
      "text/plain": [
       "5"
      ]
     },
     "execution_count": 55,
     "metadata": {},
     "output_type": "execute_result"
    }
   ],
   "source": [
    "def Longest_Bitonic_Subarray(nums,LL_I,LL_D):\n",
    "    Bitonic = LL_I+LL_D-1\n",
    "    return len(nums) - Bitonic\n",
    "LL_I = Longest_Increasing_Subarray(nums)\n",
    "LL_D = Longest_Decreasing_Subarray(nums)\n",
    "nums = [2,1,1,5,6,2,3,1]\n",
    "Longest_Bitonic_Subarray(nums,LL_I,LL_D)\n",
    "\n",
    "    "
   ]
  },
  {
   "cell_type": "code",
   "execution_count": 89,
   "metadata": {},
   "outputs": [
    {
     "name": "stdout",
     "output_type": "stream",
     "text": [
      "sublist 1 3\n"
     ]
    }
   ],
   "source": [
    "def Zero_Sum_Subarray(nums):\n",
    "    Result = []\n",
    "    for i in range(len(nums)):\n",
    "        current_sum = 0\n",
    "        for j in range(i,len(nums)):\n",
    "            current_sum += nums[j]\n",
    "            if current_sum == 0:\n",
    "                print(\"sublist\",i,j)\n",
    "nums = [4, 2, -3, 1, 6]\n",
    "Zero_Sum_Subarray(nums)\n",
    "\n"
   ]
  },
  {
   "cell_type": "code",
   "execution_count": 108,
   "metadata": {},
   "outputs": [
    {
     "data": {
      "text/plain": [
       "(7, [-1, -2, 7])"
      ]
     },
     "execution_count": 108,
     "metadata": {},
     "output_type": "execute_result"
    }
   ],
   "source": [
    "def sliding_window_sum(nums,k):\n",
    "    sliding_window = sum(nums[:k])\n",
    "    Result = []\n",
    "    for i in range(k,len(nums)):\n",
    "        sliding_window += nums[i]-nums[i-k]\n",
    "        Result.append(sliding_window)\n",
    "    return sliding_window,Result\n",
    "sliding_window_sum(nums,2)\n"
   ]
  },
  {
   "cell_type": "code",
   "execution_count": 118,
   "metadata": {},
   "outputs": [
    {
     "data": {
      "text/plain": [
       "7"
      ]
     },
     "execution_count": 118,
     "metadata": {},
     "output_type": "execute_result"
    }
   ],
   "source": [
    "def sliding_window_sum_1(nums,k):\n",
    "    sliding_window = sum(nums[:k])\n",
    "    Max_window = sliding_window\n",
    "    for i in range(k,len(nums)):\n",
    "        sliding_window += nums[i]\n",
    "        sliding_window -= nums[i-k]\n",
    "    Max_window = max(sliding_window,Max_window)\n",
    "    return Max_window\n",
    "sliding_window_sum_1(nums,2)"
   ]
  },
  {
   "cell_type": "code",
   "execution_count": 128,
   "metadata": {},
   "outputs": [
    {
     "data": {
      "text/plain": [
       "{4: 1, 2: 1, -3: 1, 1: 1, 6: 1}"
      ]
     },
     "execution_count": 128,
     "metadata": {},
     "output_type": "execute_result"
    }
   ],
   "source": [
    "def count_Frequency_number(nums):\n",
    "    Frequency_count = {}\n",
    "    for num in nums:\n",
    "        if num in Frequency_count:\n",
    "            Frequency_count[num] += 1\n",
    "        else:\n",
    "            Frequency_count[num] = 1\n",
    "    return Frequency_count\n",
    "count_Frequency_number(nums)"
   ]
  },
  {
   "cell_type": "code",
   "execution_count": 141,
   "metadata": {},
   "outputs": [
    {
     "data": {
      "text/plain": [
       "({1: 1, 2: 1, 3: 1, 4: 1}, [6])"
      ]
     },
     "execution_count": 141,
     "metadata": {},
     "output_type": "execute_result"
    }
   ],
   "source": [
    "def Zero_Sum_Subarray(nums):\n",
    "    current_sum = 0\n",
    "    set_seen = {}\n",
    "    for i in range(1,len(nums)):\n",
    "        current_sum += nums[i]\n",
    "        if current_sum in set_seen:\n",
    "            set_seen[i] += 1\n",
    "        else:\n",
    "            set_seen[i] = 1\n",
    "            start = i\n",
    "            end = start\n",
    "            Result = nums[end:end+1]\n",
    "    return set_seen,Result\n",
    "\n",
    "Zero_Sum_Subarray(nums)"
   ]
  },
  {
   "cell_type": "code",
   "execution_count": 134,
   "metadata": {},
   "outputs": [
    {
     "data": {
      "text/plain": [
       "[4, 2, -3, 1, 6]"
      ]
     },
     "execution_count": 134,
     "metadata": {},
     "output_type": "execute_result"
    }
   ],
   "source": [
    "nums"
   ]
  },
  {
   "cell_type": "code",
   "execution_count": null,
   "metadata": {},
   "outputs": [],
   "source": []
  }
 ],
 "metadata": {
  "kernelspec": {
   "display_name": "Python 3",
   "language": "python",
   "name": "python3"
  },
  "language_info": {
   "codemirror_mode": {
    "name": "ipython",
    "version": 3
   },
   "file_extension": ".py",
   "mimetype": "text/x-python",
   "name": "python",
   "nbconvert_exporter": "python",
   "pygments_lexer": "ipython3",
   "version": "3.11.6"
  }
 },
 "nbformat": 4,
 "nbformat_minor": 2
}
