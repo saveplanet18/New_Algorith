{
 "cells": [
  {
   "cell_type": "code",
   "execution_count": 12,
   "metadata": {},
   "outputs": [],
   "source": [
    "def palindrome(string):\n",
    "    start,end = 0 , len(string) - 1\n",
    "    Status = True\n",
    "    while start < end:\n",
    "        if string[start] != string[end]:\n",
    "            Status = False\n",
    "            break\n",
    "        start += 1\n",
    "        end -= 1\n",
    "    return Status"
   ]
  },
  {
   "cell_type": "code",
   "execution_count": 14,
   "metadata": {},
   "outputs": [
    {
     "data": {
      "text/plain": [
       "True"
      ]
     },
     "execution_count": 14,
     "metadata": {},
     "output_type": "execute_result"
    }
   ],
   "source": [
    "string = \"Malingray prasanna\"\n",
    "palindrome(\"mam\")"
   ]
  },
  {
   "cell_type": "code",
   "execution_count": 37,
   "metadata": {},
   "outputs": [
    {
     "data": {
      "text/plain": [
       "'e'"
      ]
     },
     "execution_count": 37,
     "metadata": {},
     "output_type": "execute_result"
    }
   ],
   "source": [
    "type(\"dogs are love\")\n",
    "string = 'dogs are love'\n",
    "# string = 'dogs are love\"\n",
    "strin = \"dogs are 'love'\"\n",
    "# string = \"dogs are \"love\"\"\n",
    "string = 'dogs are \"love\"'\n",
    "a = \"'dogs' are 'love'\"\n",
    "a = \"\"\"hello my name is \n",
    "Malingray\"\"\"\n",
    "a = \"\"\"hello \\ my name is maligray\"\"\"\n",
    "a[0]\n",
    "a[1]"
   ]
  },
  {
   "cell_type": "code",
   "execution_count": 50,
   "metadata": {},
   "outputs": [
    {
     "data": {
      "text/plain": [
       "'junat'"
      ]
     },
     "execution_count": 50,
     "metadata": {},
     "output_type": "execute_result"
    }
   ],
   "source": [
    "string = \"\"\"manjunathkannur\"\"\"\n",
    "start , end = 0 , len(string)\n",
    "mid = (start + end) // 2\n",
    "string[2:mid]\n",
    "string[3:8]\n"
   ]
  },
  {
   "cell_type": "code",
   "execution_count": 83,
   "metadata": {},
   "outputs": [
    {
     "data": {
      "text/plain": [
       "'a'"
      ]
     },
     "execution_count": 83,
     "metadata": {},
     "output_type": "execute_result"
    }
   ],
   "source": [
    "string = \"\"\"Malingray prasanna\"\"\"\n",
    "string[3:9]\n",
    "string[2:8]\n",
    "string[:]\n",
    "string[5:]\n",
    "string[:9]\n",
    "string[9::]\n",
    "string[14:18]\n",
    "string[1::6]\n",
    "string[1::5]\n",
    "string[2::3]\n",
    "string[2::9]\n",
    "string[::9]\n",
    "string[:-2]\n",
    "string[::-2]\n",
    "string[-2:]\n",
    "string[-2:-2]\n",
    "string[-2::]\n",
    "string[::-1]\n",
    "string[-1::]"
   ]
  },
  {
   "cell_type": "code",
   "execution_count": 87,
   "metadata": {},
   "outputs": [
    {
     "name": "stdout",
     "output_type": "stream",
     "text": [
      "181818181818181818\n"
     ]
    }
   ],
   "source": [
    "string\n",
    "number = \"18\"\n",
    "strin + number\n",
    "a = '18'\n",
    "print(a*9)"
   ]
  },
  {
   "cell_type": "code",
   "execution_count": 96,
   "metadata": {},
   "outputs": [
    {
     "name": "stdout",
     "output_type": "stream",
     "text": [
      "My name isMalingray prasannamy age is18years old\n",
      "My name is Malingray prasanna and my age 18 years old\n",
      "my name is Malingray prasanna and my age 18 years old\n",
      "my name my Malingray prasanna and my age is 18 years old\n",
      "my name is Malingray prasanna and my age is 18 years old\n"
     ]
    },
    {
     "data": {
      "text/plain": [
       "'apple,banana,cherry'"
      ]
     },
     "execution_count": 96,
     "metadata": {},
     "output_type": "execute_result"
    }
   ],
   "source": [
    "# Python String Formatters\n",
    "Name = \"Malingray prasanna\"\n",
    "Age = 18\n",
    "print(\"My name is\" + Name + \"my age is\" + str(Age) + \"years old\")\n",
    "\n",
    "print(f\"My name is {Name} and my age {Age} years old\")\n",
    "\n",
    "print(\"my name is {} and my age {} years old\".format(Name,Age))\n",
    "\n",
    "print(\"my name my {0} and my age is {1} years old\".format(Name,Age))\n",
    "\n",
    "print(\"my name is %s and my age is %d years old\" % (Name,Age))\n",
    "\n",
    "fruits = [\"apple\", \"banana\", \"cherry\"]\n",
    "string = \",\".join(fruits)\n",
    "string"
   ]
  },
  {
   "cell_type": "code",
   "execution_count": 101,
   "metadata": {},
   "outputs": [
    {
     "data": {
      "text/plain": [
       "11"
      ]
     },
     "execution_count": 101,
     "metadata": {},
     "output_type": "execute_result"
    }
   ],
   "source": [
    "# Python String Functions\n",
    "\n",
    "text = \"hello word!\"\n",
    "legnth = len(text)\n",
    "\n",
    "def Length_function(text):\n",
    "    count = 0\n",
    "    for i in range(len(text)):\n",
    "        count += 1\n",
    "    return count\n",
    "Length_function(text)"
   ]
  },
  {
   "cell_type": "code",
   "execution_count": 106,
   "metadata": {},
   "outputs": [
    {
     "data": {
      "text/plain": [
       "'HELLO WORD'"
      ]
     },
     "execution_count": 106,
     "metadata": {},
     "output_type": "execute_result"
    }
   ],
   "source": [
    "text = \"hello word\"\n",
    "upper_text = text.upper()\n",
    "\n",
    "def convert_to_uppercase(upper_text):\n",
    "    Result = \"\"\n",
    "    for char in upper_text:\n",
    "        if 'a' <= char <= 'z':\n",
    "            Result += chr(ord(char)-32)\n",
    "        else:\n",
    "            Result += char\n",
    "    return Result\n",
    "convert_to_uppercase(upper_text)"
   ]
  },
  {
   "cell_type": "code",
   "execution_count": 112,
   "metadata": {},
   "outputs": [
    {
     "data": {
      "text/plain": [
       "' hello word'"
      ]
     },
     "execution_count": 112,
     "metadata": {},
     "output_type": "execute_result"
    }
   ],
   "source": [
    "text = \"hello word\"\n",
    "upper_text = text.upper()\n",
    "\n",
    "\n",
    "def convert_to_lowercase(text):\n",
    "    Result = \" \"\n",
    "    for char in text:\n",
    "        if 'A' <= char <= 'Z':\n",
    "            Result += chr(ord(char) +32)\n",
    "        else:\n",
    "            Result += char\n",
    "    return Result\n",
    "\n",
    "convert_to_lowercase(upper_text)"
   ]
  },
  {
   "cell_type": "code",
   "execution_count": 130,
   "metadata": {},
   "outputs": [
    {
     "data": {
      "text/plain": [
       "'Some text with spaces'"
      ]
     },
     "execution_count": 130,
     "metadata": {},
     "output_type": "execute_result"
    }
   ],
   "source": [
    "text = \"   Some text with spaces   \"\n",
    "remove_whitespace = text.strip()\n",
    "\n",
    "def remove_whitespace_18(txt):\n",
    "    Left ,Right = 0,len(txt) - 1\n",
    "    while Left < Right and txt[Left].isspace():\n",
    "        Left += 1\n",
    "    while Right >= 0 and txt[Right].isspace():\n",
    "        Right -= 1\n",
    "    Result = txt[Left:Right+1]\n",
    "    return Result\n",
    "remove_whitespace_18(text)"
   ]
  },
  {
   "cell_type": "code",
   "execution_count": 137,
   "metadata": {},
   "outputs": [
    {
     "data": {
      "text/plain": [
       "'Hello, Malingray'"
      ]
     },
     "execution_count": 137,
     "metadata": {},
     "output_type": "execute_result"
    }
   ],
   "source": [
    "text = \"Hello, World\"\n",
    "new_text = text.replace(\"World\", \"Malingray\")  # \"Hello, Python\"\n",
    "new_text"
   ]
  },
  {
   "cell_type": "code",
   "execution_count": 148,
   "metadata": {},
   "outputs": [],
   "source": [
    "text = \"apple,Banana,Cherry\"\n",
    "new_text = text.split()\n",
    "\n",
    "def split_string(text,delimiter):\n",
    "    Result = []\n",
    "    delimiter_string = \" \"\n",
    "    for char in text:\n",
    "        if char == delimiter:\n",
    "            Result.append(delimiter_string)\n",
    "        else:\n",
    "            delimiter_string += char\n",
    "    Result.append(delimiter_string)\n",
    "    return Result\n",
    "new_list = split_string(text,\",\")"
   ]
  },
  {
   "cell_type": "code",
   "execution_count": 155,
   "metadata": {},
   "outputs": [
    {
     "data": {
      "text/plain": [
       "' apple, appleBanana, appleBananaCherry'"
      ]
     },
     "execution_count": 155,
     "metadata": {},
     "output_type": "execute_result"
    }
   ],
   "source": [
    "new_text\n",
    "\n",
    "def join_strings(new_list,delimeter):\n",
    "    Result = new_list[0]\n",
    "    for i in range(1,len(new_list)):\n",
    "        Result += delimeter + new_list[i]\n",
    "    return Result\n",
    "join_strings(new_list,\",\")"
   ]
  },
  {
   "cell_type": "code",
   "execution_count": 165,
   "metadata": {},
   "outputs": [
    {
     "data": {
      "text/plain": [
       "True"
      ]
     },
     "execution_count": 165,
     "metadata": {},
     "output_type": "execute_result"
    }
   ],
   "source": [
    "text = \"hello word\"\n",
    "new_text = text.startswith(\"hello\")\n",
    "new_text\n",
    "\n",
    "def starts_with_prefix(string,prifix):\n",
    "    for char in range(len(prifix)):\n",
    "        if string[char] != prifix[char]:\n",
    "            return False\n",
    "    return True\n",
    "starts_with_prefix(text,\"hello\")"
   ]
  },
  {
   "cell_type": "code",
   "execution_count": 178,
   "metadata": {},
   "outputs": [
    {
     "data": {
      "text/plain": [
       "True"
      ]
     },
     "execution_count": 178,
     "metadata": {},
     "output_type": "execute_result"
    }
   ],
   "source": [
    "def Ends_with_prefix(string,prefix):\n",
    "    Left,Right = 0,len(string) - 1\n",
    "    for char in range(len(prefix)):\n",
    "        if string[char] == prefix:\n",
    "            return False\n",
    "    return True\n",
    "text = \"hello word\"\n",
    "Ends_with_prefix(text,\"wordjdk\")"
   ]
  },
  {
   "cell_type": "code",
   "execution_count": 180,
   "metadata": {},
   "outputs": [
    {
     "data": {
      "text/plain": [
       "9"
      ]
     },
     "execution_count": 180,
     "metadata": {},
     "output_type": "execute_result"
    }
   ],
   "source": [
    "text = \"hello word\"\n",
    "find = text.find('d')\n",
    "find"
   ]
  },
  {
   "cell_type": "code",
   "execution_count": 195,
   "metadata": {},
   "outputs": [
    {
     "name": "stdout",
     "output_type": "stream",
     "text": [
      "11\n"
     ]
    },
    {
     "data": {
      "text/plain": [
       "11"
      ]
     },
     "execution_count": 195,
     "metadata": {},
     "output_type": "execute_result"
    }
   ],
   "source": [
    "def custom_find(string,finditem):\n",
    "    for i in range(len(string)):\n",
    "        if string[i:i+len(finditem)] == finditem:\n",
    "            return i\n",
    "    return -1\n",
    "input_string = \"Hello, World! How are you doing today?\"\n",
    "target = \"d\"\n",
    "index = custom_find(input_string, target)\n",
    "print(index)\n",
    "new_text = input_string.find('d')\n",
    "new_text"
   ]
  },
  {
   "cell_type": "code",
   "execution_count": 199,
   "metadata": {},
   "outputs": [
    {
     "data": {
      "text/plain": [
       "4"
      ]
     },
     "execution_count": 199,
     "metadata": {},
     "output_type": "execute_result"
    }
   ],
   "source": [
    "text = \"She sells seashells by the seashore.\"\n",
    "new_text = text.count('s')\n",
    "\n",
    "def count_non_overlapping_occurrences(string,finditem):\n",
    "    Count = 0\n",
    "    for i in range(len(string)):\n",
    "        if string[i] == finditem:\n",
    "            Count += 1\n",
    "    return Count\n",
    "count_non_overlapping_occurrences(text,'l')"
   ]
  },
  {
   "cell_type": "code",
   "execution_count": 209,
   "metadata": {},
   "outputs": [
    {
     "data": {
      "text/plain": [
       "True"
      ]
     },
     "execution_count": 209,
     "metadata": {},
     "output_type": "execute_result"
    }
   ],
   "source": [
    "new_text = \"She sells seashells by the seashore.\"\n",
    "nn = new_text.isdigit()\n",
    "mm = new_text.isalnum()\n",
    "kk = new_text.isalpha()\n",
    "kk\n",
    "mm\n",
    "nn\n",
    "numeric = \"123456\".isdigit()\n",
    "numeric\n",
    "is_alpha = \"abc\".isalpha()\n",
    "is_alpha\n",
    "is_alpha_numeric = \"12345abc\".isalnum()\n",
    "is_alpha_numeric"
   ]
  },
  {
   "cell_type": "code",
   "execution_count": 210,
   "metadata": {},
   "outputs": [
    {
     "data": {
      "text/plain": [
       "63"
      ]
     },
     "execution_count": 210,
     "metadata": {},
     "output_type": "execute_result"
    }
   ],
   "source": [
    "valu_1 = 18\n",
    "value_2 = 45\n",
    "valu_1 + value_2 "
   ]
  },
  {
   "cell_type": "code",
   "execution_count": 211,
   "metadata": {},
   "outputs": [
    {
     "data": {
      "text/plain": [
       "18"
      ]
     },
     "execution_count": 211,
     "metadata": {},
     "output_type": "execute_result"
    }
   ],
   "source": [
    "def Local_Variables():\n",
    "    local_var = 18\n",
    "    return local_var\n",
    "Local_Variables()"
   ]
  },
  {
   "cell_type": "code",
   "execution_count": 213,
   "metadata": {},
   "outputs": [
    {
     "name": "stdout",
     "output_type": "stream",
     "text": [
      "45\n"
     ]
    }
   ],
   "source": [
    "global_val = 45\n",
    "def global_variable():\n",
    "    # global global_val\n",
    "    print(global_val)\n",
    "global_variable()"
   ]
  },
  {
   "cell_type": "code",
   "execution_count": 214,
   "metadata": {},
   "outputs": [
    {
     "data": {
      "text/plain": [
       "18"
      ]
     },
     "execution_count": 214,
     "metadata": {},
     "output_type": "execute_result"
    }
   ],
   "source": [
    "global_val = 25\n",
    "def global_variable_18():\n",
    "    global global_val\n",
    "    global_val = 18\n",
    "    return global_val\n",
    "global_variable_18()"
   ]
  },
  {
   "cell_type": "code",
   "execution_count": 216,
   "metadata": {},
   "outputs": [
    {
     "data": {
      "text/plain": [
       "18"
      ]
     },
     "execution_count": 216,
     "metadata": {},
     "output_type": "execute_result"
    }
   ],
   "source": [
    "global_val"
   ]
  },
  {
   "cell_type": "code",
   "execution_count": 219,
   "metadata": {},
   "outputs": [
    {
     "name": "stdout",
     "output_type": "stream",
     "text": [
      "45\n"
     ]
    }
   ],
   "source": [
    "def outer_function():\n",
    "    outer_var = 18\n",
    "    def inner_function():\n",
    "        nonlocal outer_var\n",
    "        outer_var = 45\n",
    "        return outer_var\n",
    "    inner_function()\n",
    "    print(outer_var)\n",
    "outer_function()"
   ]
  },
  {
   "cell_type": "code",
   "execution_count": 223,
   "metadata": {},
   "outputs": [
    {
     "name": "stdout",
     "output_type": "stream",
     "text": [
      "none is here\n"
     ]
    }
   ],
   "source": [
    "x = 18\n",
    "if x < 15:\n",
    "    print(\"x is greater than 15\")\n",
    "    if x == 36:\n",
    "        print(\"x is equal to 36 \")\n",
    "    elif x > 14:\n",
    "        print(\"x less than 15\")\n",
    "else:\n",
    "    print(\"none is here\")\n"
   ]
  },
  {
   "cell_type": "code",
   "execution_count": 9,
   "metadata": {},
   "outputs": [
    {
     "name": "stdout",
     "output_type": "stream",
     "text": [
      "001012012301234012345012345601234567"
     ]
    }
   ],
   "source": [
    "for i in range(9):\n",
    "    for j in range(i):\n",
    "        print(j,end = '')"
   ]
  },
  {
   "cell_type": "code",
   "execution_count": 16,
   "metadata": {},
   "outputs": [
    {
     "name": "stdout",
     "output_type": "stream",
     "text": [
      "1234\n",
      "234\n",
      "34\n",
      "4\n",
      "\n"
     ]
    }
   ],
   "source": [
    "n = 5\n",
    "for i in range(0,n):\n",
    "    for j in range(i+1,n):\n",
    "        print(j,end = '')\n",
    "    print()"
   ]
  },
  {
   "cell_type": "code",
   "execution_count": 17,
   "metadata": {},
   "outputs": [
    {
     "name": "stdout",
     "output_type": "stream",
     "text": [
      "012345678001234567810123456782012345678301234567840123456785012345678601234567870123456788"
     ]
    }
   ],
   "source": [
    "for i in range(9):\n",
    "    for j in range(9):\n",
    "        print(j,end = '')\n",
    "    print(i,end = '')"
   ]
  },
  {
   "cell_type": "code",
   "execution_count": 25,
   "metadata": {},
   "outputs": [
    {
     "name": "stdout",
     "output_type": "stream",
     "text": [
      "99999999\n",
      "6666666\n",
      "333333\n",
      "44444\n",
      "8888\n",
      "777\n",
      "22\n",
      "1\n",
      "\n"
     ]
    }
   ],
   "source": [
    "root = [9,6,3,4,8,7,2,1,5]\n",
    "for i in range(len(root)):\n",
    "    for j in range(i+1,len(root)):\n",
    "        print(root[i],end = '')\n",
    "    print()"
   ]
  },
  {
   "cell_type": "code",
   "execution_count": 34,
   "metadata": {},
   "outputs": [
    {
     "name": "stdout",
     "output_type": "stream",
     "text": [
      "1\n",
      "12\n",
      "123\n",
      "1234\n",
      "12345\n",
      "123456\n",
      "1234567\n",
      "12345678\n",
      "123456789\n"
     ]
    }
   ],
   "source": [
    "root = 9\n",
    "def half_pyramid(n):\n",
    "    for i in range(1,n+1):\n",
    "        for j in range(1,i+1):\n",
    "            print(j,end = '')\n",
    "        print()\n",
    "half_pyramid(9)"
   ]
  },
  {
   "cell_type": "code",
   "execution_count": 36,
   "metadata": {},
   "outputs": [
    {
     "name": "stdout",
     "output_type": "stream",
     "text": [
      "1\n",
      "12\n",
      "123\n",
      "1234\n",
      "12345\n"
     ]
    }
   ],
   "source": [
    "n = 5\n",
    "for i in range(1,n+1):\n",
    "    for j in range(1,i+1):\n",
    "        print(j,end = '')\n",
    "    print()"
   ]
  },
  {
   "cell_type": "code",
   "execution_count": 41,
   "metadata": {},
   "outputs": [
    {
     "name": "stdout",
     "output_type": "stream",
     "text": [
      "1\n",
      "12\n",
      "123\n",
      "1234\n",
      "12345\n",
      "123456\n"
     ]
    }
   ],
   "source": [
    "n = 6\n",
    "for i in range(1,n+1):\n",
    "    for j in range(1,i+1):\n",
    "        print(j,end = '')\n",
    "    print()"
   ]
  },
  {
   "cell_type": "code",
   "execution_count": 42,
   "metadata": {},
   "outputs": [
    {
     "name": "stdout",
     "output_type": "stream",
     "text": [
      "12345\n",
      "2345\n",
      "345\n",
      "45\n",
      "5\n",
      "\n"
     ]
    }
   ],
   "source": [
    "for i in range(n):\n",
    "    for j in range(i+1,n):\n",
    "        print(j,end = '')\n",
    "    print()"
   ]
  },
  {
   "cell_type": "code",
   "execution_count": null,
   "metadata": {},
   "outputs": [],
   "source": []
  },
  {
   "cell_type": "code",
   "execution_count": null,
   "metadata": {},
   "outputs": [],
   "source": []
  }
 ],
 "metadata": {
  "kernelspec": {
   "display_name": "Python 3",
   "language": "python",
   "name": "python3"
  },
  "language_info": {
   "codemirror_mode": {
    "name": "ipython",
    "version": 3
   },
   "file_extension": ".py",
   "mimetype": "text/x-python",
   "name": "python",
   "nbconvert_exporter": "python",
   "pygments_lexer": "ipython3",
   "version": "3.11.6"
  }
 },
 "nbformat": 4,
 "nbformat_minor": 2
}
